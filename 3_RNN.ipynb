{
 "cells": [
  {
   "cell_type": "markdown",
   "metadata": {
    "colab_type": "text",
    "id": "A7x7ZELoyUll"
   },
   "source": [
    "# data import"
   ]
  },
  {
   "cell_type": "code",
   "execution_count": 58,
   "metadata": {
    "ExecuteTime": {
     "end_time": "2020-04-29T07:47:03.349887Z",
     "start_time": "2020-04-29T07:47:03.329883Z"
    },
    "colab": {
     "base_uri": "https://localhost:8080/",
     "height": 51
    },
    "colab_type": "code",
    "id": "Thp2SqAunFgd",
    "outputId": "62f2f7de-a38e-4d91-9184-c3b679eaa3ec"
   },
   "outputs": [],
   "source": [
    "import pandas as pd\n",
    "import numpy as np\n",
    "import seaborn as sns\n",
    "import matplotlib.pyplot as plt\n",
    "import math as math\n",
    "#import s3fs\n",
    "import io\n",
    "import scikitplot as skplt\n",
    "\n",
    "\n",
    "sns.set(style=\"white\", palette=\"pastel\",font_scale=1.5, rc={\"lines.linewidth\": 2.5,'figure.figsize':(11.7,8.27)})\n",
    "pd.options.display.max_columns = None"
   ]
  },
  {
   "cell_type": "code",
   "execution_count": 2,
   "metadata": {
    "ExecuteTime": {
     "end_time": "2020-04-29T07:15:36.845080Z",
     "start_time": "2020-04-29T07:15:36.186066Z"
    },
    "colab": {},
    "colab_type": "code",
    "id": "4gZPL98Cnm50"
   },
   "outputs": [],
   "source": [
    "df_combined = pd.read_csv('data/exported/df_combined.csv', index_col = 0)\n",
    "df_not_combined = pd.read_csv('data/exported/df_not_combined.csv', index_col = 0)\n",
    "#df_yeast_not_combined = pd.read_csv(io.BytesIO(uploaded['df_yeast_not_combined.csv']), index_col = 0)\n",
    "#df_yeast_combined = pd.read_csv(io.BytesIO(uploaded['df_yeast_combined.csv']), index_col = 0)"
   ]
  },
  {
   "cell_type": "markdown",
   "metadata": {
    "colab_type": "text",
    "id": "zPJRkXExygAw"
   },
   "source": [
    "# modelling packages"
   ]
  },
  {
   "cell_type": "code",
   "execution_count": 3,
   "metadata": {
    "ExecuteTime": {
     "end_time": "2020-04-29T07:15:41.924140Z",
     "start_time": "2020-04-29T07:15:36.846080Z"
    },
    "colab": {
     "base_uri": "https://localhost:8080/",
     "height": 105
    },
    "colab_type": "code",
    "id": "mQvhYig5tH5b",
    "outputId": "b5e61331-64b8-4e00-8832-ca6f2caa3fc3"
   },
   "outputs": [],
   "source": [
    "from sklearn.model_selection import GridSearchCV, train_test_split, RandomizedSearchCV, KFold, cross_val_score, cross_validate\n",
    "from sklearn.metrics import make_scorer, confusion_matrix, fbeta_score, classification_report, adjusted_rand_score, adjusted_mutual_info_score \n",
    "from sklearn.ensemble import AdaBoostClassifier, RandomForestClassifier,StackingClassifier, IsolationForest\n",
    "from sklearn.linear_model import LogisticRegression\n",
    "from sklearn.preprocessing import StandardScaler, OneHotEncoder, LabelEncoder, PolynomialFeatures\n",
    "from sklearn.pipeline import make_pipeline\n",
    "from sklearn.compose import ColumnTransformer\n",
    "from sklearn.impute import SimpleImputer\n",
    "from sklearn.neighbors import KNeighborsClassifier\n",
    "from sklearn.svm import SVC\n",
    "from sklearn.naive_bayes import GaussianNB\n",
    "from sklearn.utils.class_weight import compute_class_weight\n",
    "from xgboost import XGBClassifier\n",
    "from pprint import pprint\n",
    "from imblearn.over_sampling import SMOTE\n",
    "from imblearn.combine import SMOTETomek\n",
    "from imblearn.pipeline import Pipeline"
   ]
  },
  {
   "cell_type": "code",
   "execution_count": 4,
   "metadata": {
    "ExecuteTime": {
     "end_time": "2020-04-29T07:15:42.066883Z",
     "start_time": "2020-04-29T07:15:41.925140Z"
    },
    "colab": {},
    "colab_type": "code",
    "id": "0s2rA8rWxaln"
   },
   "outputs": [],
   "source": [
    "df_not_combined = df_not_combined.astype({\"base_1\":\"category\",\"base_2\":\"category\",\"base_3\":\"category\",\\\n",
    "                                          \"base_4\":\"category\",\"base_5\":\"category\",\"modified_status\":\"category\"})\n",
    "df_not_combined = df_not_combined.astype({\"ref_number\":\"object\", \"ref_pos\":\"object\"})"
   ]
  },
  {
   "cell_type": "code",
   "execution_count": 5,
   "metadata": {
    "ExecuteTime": {
     "end_time": "2020-04-29T07:15:42.086431Z",
     "start_time": "2020-04-29T07:15:42.068883Z"
    },
    "colab": {
     "base_uri": "https://localhost:8080/",
     "height": 200
    },
    "colab_type": "code",
    "id": "kDm8smoIx4m0",
    "outputId": "fa20e882-44b4-4dd2-e0bf-f7bd3716aeda"
   },
   "outputs": [],
   "source": [
    "df_combined = df_combined.astype({\"base_1\":\"category\",\"base_2\":\"category\",\"base_3\":\"category\",\\\n",
    "                                          \"base_4\":\"category\",\"base_5\":\"category\",\"modified_status\":\"category\"})\n",
    "df_combined = df_combined.astype({\"ref_number\":\"object\", \"ref_pos\":\"object\"})"
   ]
  },
  {
   "cell_type": "code",
   "execution_count": 6,
   "metadata": {
    "ExecuteTime": {
     "end_time": "2020-04-29T07:15:42.089431Z",
     "start_time": "2020-04-29T07:15:42.087430Z"
    },
    "colab": {},
    "colab_type": "code",
    "id": "QjGHeIOwyC7C"
   },
   "outputs": [],
   "source": [
    "seed = 7"
   ]
  },
  {
   "cell_type": "markdown",
   "metadata": {
    "colab_type": "text",
    "id": "eIlCLrYVykLe"
   },
   "source": [
    "## train test split"
   ]
  },
  {
   "cell_type": "code",
   "execution_count": 9,
   "metadata": {
    "ExecuteTime": {
     "end_time": "2020-04-29T07:15:43.255841Z",
     "start_time": "2020-04-29T07:15:43.252840Z"
    }
   },
   "outputs": [],
   "source": [
    "# manual train test split according to ref_num to preserve sequence sequence identity\n",
    "# maybe do it according to read_num to increase variability?\n",
    "\n",
    "final_ref = [\"ref_0000\",\"ref_0001\",\"ref_0002\",\"ref_0003\"]\n",
    "val_ref = [\"ref_0004\"]\n",
    "train_ref = [\"ref_0000\",\"ref_0001\",\"ref_0002\"]\n",
    "test_ref = [\"ref_0003\"]"
   ]
  },
  {
   "cell_type": "code",
   "execution_count": 10,
   "metadata": {
    "ExecuteTime": {
     "end_time": "2020-04-29T07:15:44.454875Z",
     "start_time": "2020-04-29T07:15:44.356946Z"
    }
   },
   "outputs": [],
   "source": [
    "# prepare whole dataframe subsets according to train test split\n",
    "\n",
    "df_finaltest_not_combined = df_not_combined[df_not_combined[\"ref_number\"].isin(final_ref)]\n",
    "df_val_not_combined = df_not_combined[df_not_combined[\"ref_number\"].isin(val_ref)]\n",
    "df_train_not_combined = df_not_combined[df_not_combined[\"ref_number\"].isin(train_ref)]\n",
    "df_test_not_combined = df_not_combined[df_not_combined[\"ref_number\"].isin(test_ref)]"
   ]
  },
  {
   "cell_type": "code",
   "execution_count": 205,
   "metadata": {
    "ExecuteTime": {
     "end_time": "2020-04-29T12:13:05.007265Z",
     "start_time": "2020-04-29T12:13:04.998264Z"
    }
   },
   "outputs": [],
   "source": [
    "# function to get dataframe into x and y array with format (reads, ref_pos, features) to be able use ref_pos\n",
    "# as time step in rnn\n",
    "\n",
    "def prepare_rnn_data (df):\n",
    "     \n",
    "    # dummify base sequence and concatenate into temp dataframe with numeric values from source dataframe\n",
    "    \n",
    "    df_dum = pd.get_dummies(df[[\"base_1\",\"base_2\",\"base_3\",\"base_4\",\"base_5\"]])\n",
    "    df_dum = pd.concat([df, df_dum], axis = 1)\n",
    "    df_dum = df_dum.drop([\"base_1\",\"base_2\",\"base_3\",\"base_4\",\"base_5\"], axis = 1)\n",
    "    \n",
    "    df_dum_num = df_dum[df_dum.select_dtypes(include=[np.number]).columns.values]\n",
    "    \n",
    "    # feature 3d array:\n",
    "    # nested for loop over file name, ref_num and read_num to iterate over every unique possible read and concatenate\n",
    "    # x and y values into a list of lists\n",
    "    \n",
    "    X = []\n",
    "    y= []\n",
    "    \n",
    "    for file_name in df_dum.file_name.unique():\n",
    "        msk1 = df_dum[df_dum.file_name == file_name]\n",
    "        for ref_num in msk1.ref_number.unique():\n",
    "            msk2 = msk1[msk1.ref_number == ref_num]\n",
    "            for read_num in msk2.read_num.unique():\n",
    "                msk3 = (df_dum.file_name == file_name) & (df_dum.ref_number == ref_num) & (df_dum.read_num == read_num)\n",
    "                X.append(df_dum_num[msk3])\n",
    "                y.append(df_dum[msk3].modified_status.astype(int))\n",
    "  \n",
    "    #stack resulting lists into a 3d numpy array\n",
    "    \n",
    "    X = np.stack(X)\n",
    "    y = np.stack(y)\n",
    "    \n",
    "    return X, y"
   ]
  },
  {
   "cell_type": "code",
   "execution_count": 214,
   "metadata": {
    "ExecuteTime": {
     "end_time": "2020-04-29T12:17:15.828430Z",
     "start_time": "2020-04-29T12:16:21.882014Z"
    }
   },
   "outputs": [],
   "source": [
    "# prepare each dataframe combination with function\n",
    "\n",
    "X_3d_train, y_3d_train = prepare_rnn_data(df_train_not_combined)\n",
    "X_3d_test, y_3d_test = prepare_rnn_data(df_test_not_combined)\n",
    "X_3d_finaltest, y_3d_finaltest = prepare_rnn_data(df_finaltest_not_combined)\n",
    "X_3d_val, y_3d_val = prepare_rnn_data(df_val_not_combined)"
   ]
  },
  {
   "cell_type": "markdown",
   "metadata": {
    "colab_type": "text",
    "id": "GvD8u7tRy0Z9"
   },
   "source": [
    "# rnn"
   ]
  },
  {
   "cell_type": "code",
   "execution_count": 215,
   "metadata": {
    "ExecuteTime": {
     "end_time": "2020-04-29T12:17:15.832431Z",
     "start_time": "2020-04-29T12:17:15.829431Z"
    },
    "colab": {},
    "colab_type": "code",
    "id": "50C4qwAuy1AG"
   },
   "outputs": [],
   "source": [
    "import tensorflow as tf\n",
    "\n",
    "from tensorflow.keras import layers\n",
    "from tensorflow.keras import regularizers"
   ]
  },
  {
   "cell_type": "code",
   "execution_count": 216,
   "metadata": {
    "ExecuteTime": {
     "end_time": "2020-04-29T12:17:15.837432Z",
     "start_time": "2020-04-29T12:17:15.833431Z"
    },
    "colab": {},
    "colab_type": "code",
    "id": "I6qDItsOy3AN"
   },
   "outputs": [],
   "source": [
    "import tensorflow_docs as tfdocs\n",
    "import tensorflow_docs.modeling\n",
    "import tensorflow_docs.plots"
   ]
  },
  {
   "cell_type": "code",
   "execution_count": 217,
   "metadata": {
    "ExecuteTime": {
     "end_time": "2020-04-29T12:17:15.842436Z",
     "start_time": "2020-04-29T12:17:15.839434Z"
    },
    "colab": {},
    "colab_type": "code",
    "id": "zXSJmX9TzTFN"
   },
   "outputs": [],
   "source": [
    "from  IPython import display\n",
    "from matplotlib import pyplot as plt\n",
    "\n",
    "import numpy as np\n",
    "\n",
    "import pathlib\n",
    "import shutil\n",
    "import tempfile"
   ]
  },
  {
   "cell_type": "code",
   "execution_count": 218,
   "metadata": {
    "ExecuteTime": {
     "end_time": "2020-04-29T12:17:15.875442Z",
     "start_time": "2020-04-29T12:17:15.844434Z"
    }
   },
   "outputs": [
    {
     "data": {
      "text/plain": [
       "{1: 15.473684210526315, 0: 0.5166959578207382}"
      ]
     },
     "execution_count": 218,
     "metadata": {},
     "output_type": "execute_result"
    }
   ],
   "source": [
    "# compute class weights\n",
    "\n",
    "class_weight_list = compute_class_weight(\"balanced\", df_train_not_combined.modified_status.unique(), \n",
    "                                         df_train_not_combined.modified_status)\n",
    "class_weight = dict(zip([1,0], class_weight_list))\n",
    "class_weight"
   ]
  },
  {
   "cell_type": "code",
   "execution_count": 219,
   "metadata": {
    "ExecuteTime": {
     "end_time": "2020-04-29T12:17:15.887444Z",
     "start_time": "2020-04-29T12:17:15.877442Z"
    }
   },
   "outputs": [],
   "source": [
    "# rnn function (not final)\n",
    "\n",
    "def rnn(X,y, model):\n",
    "\n",
    "    VALIDATION_SPLIT = 0.2\n",
    "    FEATURES = X.shape[2]\n",
    "    N_TRAIN = len(X) * (1-VALIDATION_SPLIT)\n",
    "    BUFFER_SIZE = len(X)\n",
    "    BATCH_SIZE = 20\n",
    "    STEPS_PER_EPOCH = N_TRAIN//BATCH_SIZE\n",
    "    METRICS = [\"sparse_categorical_accuracy\"]\n",
    "    \n",
    "    lr_schedule = tf.keras.optimizers.schedules.InverseTimeDecay(\n",
    "      0.001,\n",
    "      decay_steps=STEPS_PER_EPOCH*1000,\n",
    "      decay_rate=1,\n",
    "      staircase=False)\n",
    "    \n",
    "    def get_callbacks(name):\n",
    "        return [\n",
    "            tfdocs.modeling.EpochDots(),\n",
    "            tf.keras.callbacks.EarlyStopping(monitor='loss', patience=200),\n",
    "        ]\n",
    "\n",
    "    def get_optimizer():\n",
    "        return tf.keras.optimizers.Adam(lr_schedule)\n",
    "    \n",
    "    optimizer = get_optimizer()\n",
    "    model.compile(optimizer=optimizer,\n",
    "                loss=tf.keras.losses.BinaryCrossentropy(from_logits=True),\n",
    "                metrics=[tf.keras.losses.BinaryCrossentropy(\n",
    "                          from_logits=True, name='binary_crossentropy')],\n",
    "                 )\n",
    "\n",
    "    model.summary()\n",
    "\n",
    "\n",
    "    history = model.fit(\n",
    "        x=X,\n",
    "        y=y,\n",
    "        batch_size=BATCH_SIZE,\n",
    "        steps_per_epoch = STEPS_PER_EPOCH,\n",
    "        epochs=10000,\n",
    "        #validation_data=(X_3d_val, y_3d_val),\n",
    "        callbacks=get_callbacks(\"tiny model\"),\n",
    "        verbose=0,\n",
    "        workers = 8,\n",
    "        class_weight = class_weight,\n",
    "        use_multiprocessing = True,\n",
    "        shuffle=True,\n",
    "        validation_split=VALIDATION_SPLIT\n",
    "    )\n",
    "    \n",
    "    return history"
   ]
  },
  {
   "cell_type": "code",
   "execution_count": 226,
   "metadata": {
    "ExecuteTime": {
     "end_time": "2020-04-29T12:20:01.545445Z",
     "start_time": "2020-04-29T12:20:00.976318Z"
    },
    "colab": {},
    "colab_type": "code",
    "id": "EifZlqoh2UsL"
   },
   "outputs": [],
   "source": [
    "# rnn model\n",
    "\n",
    "first_model = tf.keras.Sequential([\n",
    "    tf.keras.layers.LSTM(64, input_shape=(196,26),return_sequences=True),\n",
    "    tf.keras.layers.Dropout(0.5,seed = seed),\n",
    "    tf.keras.layers.LSTM(64,return_sequences=True),\n",
    "    #tf.keras.layers.LSTM(64,return_sequences=False),\n",
    "    #tf.keras.layers.Dense(64, activation='relu'),\n",
    "    #tf.keras.layers.Dense(196, activation ='sigmoid'),\n",
    "    #tf.keras.layers.Flatten(),\n",
    "    tf.keras.layers.Dense(1)\n",
    "])"
   ]
  },
  {
   "cell_type": "code",
   "execution_count": null,
   "metadata": {
    "ExecuteTime": {
     "start_time": "2020-04-29T12:20:02.090Z"
    }
   },
   "outputs": [
    {
     "name": "stdout",
     "output_type": "stream",
     "text": [
      "Model: \"sequential_19\"\n",
      "_________________________________________________________________\n",
      "Layer (type)                 Output Shape              Param #   \n",
      "=================================================================\n",
      "lstm_28 (LSTM)               (None, 196, 64)           23296     \n",
      "_________________________________________________________________\n",
      "dropout_5 (Dropout)          (None, 196, 64)           0         \n",
      "_________________________________________________________________\n",
      "lstm_29 (LSTM)               (None, 196, 64)           33024     \n",
      "_________________________________________________________________\n",
      "dense_22 (Dense)             (None, 196, 1)            65        \n",
      "=================================================================\n",
      "Total params: 56,385\n",
      "Trainable params: 56,385\n",
      "Non-trainable params: 0\n",
      "_________________________________________________________________\n",
      "WARNING:tensorflow:sample_weight modes were coerced from\n",
      "  ...\n",
      "    to  \n",
      "  ['...']\n",
      "WARNING:tensorflow:sample_weight modes were coerced from\n",
      "  ...\n",
      "    to  \n",
      "  ['...']\n",
      "\n",
      "Epoch: 0, binary_crossentropy:0.2351,  loss:1.8062,  val_binary_crossentropy:0.0432,  val_loss:0.0223,  \n",
      ".."
     ]
    }
   ],
   "source": [
    "model_history[\"blub\"] = rnn(X_3d_train, y_3d_train, first_model)"
   ]
  },
  {
   "cell_type": "code",
   "execution_count": 179,
   "metadata": {
    "ExecuteTime": {
     "end_time": "2020-04-29T12:01:59.603210Z",
     "start_time": "2020-04-29T12:01:59.319147Z"
    },
    "colab": {},
    "colab_type": "code",
    "id": "PJcRgWZM3JKa"
   },
   "outputs": [
    {
     "data": {
      "image/png": "[encoded data removed]",
      "text/plain": [
       "<Figure size 842.4x595.44 with 1 Axes>"
      ]
     },
     "metadata": {},
     "output_type": "display_data"
    }
   ],
   "source": [
    "plotter = tfdocs.plots.HistoryPlotter(metric = 'binary_crossentropy', smoothing_std=10)\n",
    "plotter.plot(model_history)"
   ]
  },
  {
   "cell_type": "code",
   "execution_count": 183,
   "metadata": {
    "ExecuteTime": {
     "end_time": "2020-04-29T12:02:25.442589Z",
     "start_time": "2020-04-29T12:02:24.363036Z"
    },
    "colab": {},
    "colab_type": "code",
    "id": "tJmBG70K5xbS"
   },
   "outputs": [],
   "source": [
    "y_pred = first_model.predict_classes(X_3d_train)"
   ]
  },
  {
   "cell_type": "code",
   "execution_count": 181,
   "metadata": {
    "ExecuteTime": {
     "end_time": "2020-04-29T12:02:04.194221Z",
     "start_time": "2020-04-29T12:02:04.189220Z"
    }
   },
   "outputs": [
    {
     "data": {
      "text/plain": [
       "4.1543367e-06"
      ]
     },
     "execution_count": 181,
     "metadata": {},
     "output_type": "execute_result"
    }
   ],
   "source": [
    "np.max(y_pred)"
   ]
  },
  {
   "cell_type": "code",
   "execution_count": 111,
   "metadata": {
    "ExecuteTime": {
     "end_time": "2020-04-29T09:11:28.782917Z",
     "start_time": "2020-04-29T09:11:28.699898Z"
    }
   },
   "outputs": [],
   "source": [
    "cum_res = []\n",
    "for a in range(y_pred.shape[0]):\n",
    "    y_trans = []\n",
    "    y_trans = [0 if i <= 0.5 else 1 for i in y_pred[a]]\n",
    "    #print(y_trans)\n",
    "    cum_res.append(y_trans)"
   ]
  },
  {
   "cell_type": "code",
   "execution_count": 184,
   "metadata": {
    "ExecuteTime": {
     "end_time": "2020-04-29T12:02:28.141059Z",
     "start_time": "2020-04-29T12:02:27.819979Z"
    }
   },
   "outputs": [
    {
     "data": {
      "text/plain": [
       "<matplotlib.axes._subplots.AxesSubplot at 0x1d01b1991c8>"
      ]
     },
     "execution_count": 184,
     "metadata": {},
     "output_type": "execute_result"
    },
    {
     "data": {
      "image/png": "[encoded data removed]",
      "text/plain": [
       "<Figure size 720x720 with 2 Axes>"
      ]
     },
     "metadata": {},
     "output_type": "display_data"
    }
   ],
   "source": [
    "skplt.metrics.plot_confusion_matrix(y_3d_train.flatten(),y_pred.flatten(), figsize=(10,10), text_fontsize=20)"
   ]
  },
  {
   "cell_type": "code",
   "execution_count": 56,
   "metadata": {
    "ExecuteTime": {
     "end_time": "2020-04-29T07:46:02.167482Z",
     "start_time": "2020-04-29T07:46:02.160480Z"
    }
   },
   "outputs": [
    {
     "name": "stdout",
     "output_type": "stream",
     "text": [
      "              precision    recall  f1-score   support\n",
      "\n",
      "         0.0       0.93      0.95      0.94       182\n",
      "         1.0       0.09      0.07      0.08        14\n",
      "\n",
      "    accuracy                           0.88       196\n",
      "   macro avg       0.51      0.51      0.51       196\n",
      "weighted avg       0.87      0.88      0.88       196\n",
      "\n"
     ]
    }
   ],
   "source": [
    "print(classification_report(y_3d_test[0],cum_res[0]))"
   ]
  },
  {
   "cell_type": "code",
   "execution_count": null,
   "metadata": {},
   "outputs": [],
   "source": []
  }
 ],
 "metadata": {
  "accelerator": "GPU",
  "colab": {
   "name": "3_RNN.ipynb",
   "provenance": [],
   "toc_visible": true
  },
  "kernelspec": {
   "display_name": "Python 3",
   "language": "python",
   "name": "python3"
  },
  "language_info": {
   "codemirror_mode": {
    "name": "ipython",
    "version": 3
   },
   "file_extension": ".py",
   "mimetype": "text/x-python",
   "name": "python",
   "nbconvert_exporter": "python",
   "pygments_lexer": "ipython3",
   "version": "3.7.7"
  },
  "toc": {
   "base_numbering": 1,
   "nav_menu": {},
   "number_sections": true,
   "sideBar": true,
   "skip_h1_title": false,
   "title_cell": "Table of Contents",
   "title_sidebar": "Contents",
   "toc_cell": false,
   "toc_position": {
    "height": "calc(100% - 180px)",
    "left": "10px",
    "top": "150px",
    "width": "384px"
   },
   "toc_section_display": true,
   "toc_window_display": true
  }
 },
 "nbformat": 4,
 "nbformat_minor": 1
}
