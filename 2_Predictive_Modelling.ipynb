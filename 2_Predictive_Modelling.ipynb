{
 "cells": [
  {
   "cell_type": "markdown",
   "metadata": {},
   "source": [
    "# Import Data"
   ]
  },
  {
   "cell_type": "code",
   "execution_count": 77,
   "metadata": {
    "ExecuteTime": {
     "end_time": "2020-04-23T13:46:36.159957Z",
     "start_time": "2020-04-23T13:46:36.150952Z"
    }
   },
   "outputs": [],
   "source": [
    "import pandas as pd\n",
    "import numpy as np\n",
    "import seaborn as sns\n",
    "import matplotlib.pyplot as plt\n",
    "import math as math\n",
    "import scikitplot as skplt\n",
    "\n",
    "sns.set(style=\"white\", palette=\"pastel\",font_scale=1.5, rc={\"lines.linewidth\": 2.5,'figure.figsize':(11.7,8.27)})\n",
    "pd.options.display.max_columns = None"
   ]
  },
  {
   "cell_type": "code",
   "execution_count": 78,
   "metadata": {
    "ExecuteTime": {
     "end_time": "2020-04-23T13:46:36.980098Z",
     "start_time": "2020-04-23T13:46:36.363427Z"
    }
   },
   "outputs": [],
   "source": [
    "df_combined = pd.read_csv(\"data/exported/df_combined.csv\", index_col = 0)\n",
    "df_not_combined = pd.read_csv(\"data/exported/df_not_combined.csv\", index_col = 0)"
   ]
  },
  {
   "cell_type": "code",
   "execution_count": 79,
   "metadata": {
    "ExecuteTime": {
     "end_time": "2020-04-23T13:46:37.012105Z",
     "start_time": "2020-04-23T13:46:36.982098Z"
    }
   },
   "outputs": [
    {
     "data": {
      "text/html": [
       "<div>\n",
       "<style scoped>\n",
       "    .dataframe tbody tr th:only-of-type {\n",
       "        vertical-align: middle;\n",
       "    }\n",
       "\n",
       "    .dataframe tbody tr th {\n",
       "        vertical-align: top;\n",
       "    }\n",
       "\n",
       "    .dataframe thead th {\n",
       "        text-align: right;\n",
       "    }\n",
       "</style>\n",
       "<table border=\"1\" class=\"dataframe\">\n",
       "  <thead>\n",
       "    <tr style=\"text-align: right;\">\n",
       "      <th></th>\n",
       "      <th>ref_pos</th>\n",
       "      <th>ref_kmer</th>\n",
       "      <th>dwell_time</th>\n",
       "      <th>median_value</th>\n",
       "      <th>ref_number</th>\n",
       "      <th>file_name</th>\n",
       "      <th>read_num</th>\n",
       "      <th>modified_status</th>\n",
       "      <th>base_1</th>\n",
       "      <th>base_2</th>\n",
       "      <th>base_3</th>\n",
       "      <th>base_4</th>\n",
       "      <th>base_5</th>\n",
       "      <th>file_type</th>\n",
       "      <th>dwell_time_rolling_median</th>\n",
       "      <th>median_value_rolling_median</th>\n",
       "      <th>dwell_time_rolling_min</th>\n",
       "      <th>median_value_rolling_min</th>\n",
       "    </tr>\n",
       "  </thead>\n",
       "  <tbody>\n",
       "    <tr>\n",
       "      <th>0</th>\n",
       "      <td>0</td>\n",
       "      <td>AATGG</td>\n",
       "      <td>0.074466</td>\n",
       "      <td>108.450395</td>\n",
       "      <td>ref_0000</td>\n",
       "      <td>modified_rep_1.tsv</td>\n",
       "      <td>#0_0</td>\n",
       "      <td>1.0</td>\n",
       "      <td>A</td>\n",
       "      <td>A</td>\n",
       "      <td>T</td>\n",
       "      <td>G</td>\n",
       "      <td>G</td>\n",
       "      <td>modified</td>\n",
       "      <td>0.033993</td>\n",
       "      <td>108.450395</td>\n",
       "      <td>0.021499</td>\n",
       "      <td>108.417694</td>\n",
       "    </tr>\n",
       "    <tr>\n",
       "      <th>1</th>\n",
       "      <td>1</td>\n",
       "      <td>ATGGG</td>\n",
       "      <td>0.021499</td>\n",
       "      <td>110.385196</td>\n",
       "      <td>ref_0000</td>\n",
       "      <td>modified_rep_1.tsv</td>\n",
       "      <td>#0_0</td>\n",
       "      <td>0.0</td>\n",
       "      <td>A</td>\n",
       "      <td>T</td>\n",
       "      <td>G</td>\n",
       "      <td>G</td>\n",
       "      <td>G</td>\n",
       "      <td>modified</td>\n",
       "      <td>0.027746</td>\n",
       "      <td>109.417796</td>\n",
       "      <td>0.005762</td>\n",
       "      <td>108.417694</td>\n",
       "    </tr>\n",
       "    <tr>\n",
       "      <th>2</th>\n",
       "      <td>2</td>\n",
       "      <td>TGGGC</td>\n",
       "      <td>0.033993</td>\n",
       "      <td>108.417694</td>\n",
       "      <td>ref_0000</td>\n",
       "      <td>modified_rep_1.tsv</td>\n",
       "      <td>#0_0</td>\n",
       "      <td>0.0</td>\n",
       "      <td>T</td>\n",
       "      <td>G</td>\n",
       "      <td>G</td>\n",
       "      <td>G</td>\n",
       "      <td>C</td>\n",
       "      <td>modified</td>\n",
       "      <td>0.026592</td>\n",
       "      <td>110.385196</td>\n",
       "      <td>0.005762</td>\n",
       "      <td>108.417694</td>\n",
       "    </tr>\n",
       "    <tr>\n",
       "      <th>3</th>\n",
       "      <td>3</td>\n",
       "      <td>GGGCT</td>\n",
       "      <td>0.005762</td>\n",
       "      <td>110.508778</td>\n",
       "      <td>ref_0000</td>\n",
       "      <td>modified_rep_1.tsv</td>\n",
       "      <td>#0_0</td>\n",
       "      <td>0.0</td>\n",
       "      <td>G</td>\n",
       "      <td>G</td>\n",
       "      <td>G</td>\n",
       "      <td>C</td>\n",
       "      <td>T</td>\n",
       "      <td>modified</td>\n",
       "      <td>0.021499</td>\n",
       "      <td>110.385196</td>\n",
       "      <td>0.005762</td>\n",
       "      <td>79.882353</td>\n",
       "    </tr>\n",
       "    <tr>\n",
       "      <th>4</th>\n",
       "      <td>4</td>\n",
       "      <td>GGCTT</td>\n",
       "      <td>0.026592</td>\n",
       "      <td>112.052889</td>\n",
       "      <td>ref_0000</td>\n",
       "      <td>modified_rep_1.tsv</td>\n",
       "      <td>#0_0</td>\n",
       "      <td>0.0</td>\n",
       "      <td>G</td>\n",
       "      <td>G</td>\n",
       "      <td>C</td>\n",
       "      <td>T</td>\n",
       "      <td>T</td>\n",
       "      <td>modified</td>\n",
       "      <td>0.008281</td>\n",
       "      <td>108.417694</td>\n",
       "      <td>0.005762</td>\n",
       "      <td>79.882353</td>\n",
       "    </tr>\n",
       "    <tr>\n",
       "      <th>...</th>\n",
       "      <td>...</td>\n",
       "      <td>...</td>\n",
       "      <td>...</td>\n",
       "      <td>...</td>\n",
       "      <td>...</td>\n",
       "      <td>...</td>\n",
       "      <td>...</td>\n",
       "      <td>...</td>\n",
       "      <td>...</td>\n",
       "      <td>...</td>\n",
       "      <td>...</td>\n",
       "      <td>...</td>\n",
       "      <td>...</td>\n",
       "      <td>...</td>\n",
       "      <td>...</td>\n",
       "      <td>...</td>\n",
       "      <td>...</td>\n",
       "      <td>...</td>\n",
       "    </tr>\n",
       "    <tr>\n",
       "      <th>225395</th>\n",
       "      <td>191</td>\n",
       "      <td>CGTGC</td>\n",
       "      <td>0.006416</td>\n",
       "      <td>91.601589</td>\n",
       "      <td>ref_0004</td>\n",
       "      <td>unmodified_rep_2.tsv</td>\n",
       "      <td>#4_59</td>\n",
       "      <td>0.0</td>\n",
       "      <td>C</td>\n",
       "      <td>G</td>\n",
       "      <td>T</td>\n",
       "      <td>G</td>\n",
       "      <td>C</td>\n",
       "      <td>unmodified</td>\n",
       "      <td>0.006416</td>\n",
       "      <td>91.601589</td>\n",
       "      <td>0.002183</td>\n",
       "      <td>79.453407</td>\n",
       "    </tr>\n",
       "    <tr>\n",
       "      <th>225396</th>\n",
       "      <td>192</td>\n",
       "      <td>GTGCC</td>\n",
       "      <td>0.030970</td>\n",
       "      <td>82.289917</td>\n",
       "      <td>ref_0004</td>\n",
       "      <td>unmodified_rep_2.tsv</td>\n",
       "      <td>#4_59</td>\n",
       "      <td>0.0</td>\n",
       "      <td>G</td>\n",
       "      <td>T</td>\n",
       "      <td>G</td>\n",
       "      <td>C</td>\n",
       "      <td>C</td>\n",
       "      <td>unmodified</td>\n",
       "      <td>0.006948</td>\n",
       "      <td>82.289917</td>\n",
       "      <td>0.002183</td>\n",
       "      <td>72.236485</td>\n",
       "    </tr>\n",
       "    <tr>\n",
       "      <th>225397</th>\n",
       "      <td>193</td>\n",
       "      <td>TGCCT</td>\n",
       "      <td>0.002183</td>\n",
       "      <td>102.220231</td>\n",
       "      <td>ref_0004</td>\n",
       "      <td>unmodified_rep_2.tsv</td>\n",
       "      <td>#4_59</td>\n",
       "      <td>0.0</td>\n",
       "      <td>T</td>\n",
       "      <td>G</td>\n",
       "      <td>C</td>\n",
       "      <td>C</td>\n",
       "      <td>T</td>\n",
       "      <td>unmodified</td>\n",
       "      <td>0.006416</td>\n",
       "      <td>91.601589</td>\n",
       "      <td>0.002183</td>\n",
       "      <td>72.236485</td>\n",
       "    </tr>\n",
       "    <tr>\n",
       "      <th>225398</th>\n",
       "      <td>194</td>\n",
       "      <td>GCCTG</td>\n",
       "      <td>0.019195</td>\n",
       "      <td>72.236485</td>\n",
       "      <td>ref_0004</td>\n",
       "      <td>unmodified_rep_2.tsv</td>\n",
       "      <td>#4_59</td>\n",
       "      <td>0.0</td>\n",
       "      <td>G</td>\n",
       "      <td>C</td>\n",
       "      <td>C</td>\n",
       "      <td>T</td>\n",
       "      <td>G</td>\n",
       "      <td>unmodified</td>\n",
       "      <td>0.012435</td>\n",
       "      <td>88.040754</td>\n",
       "      <td>0.002183</td>\n",
       "      <td>72.236485</td>\n",
       "    </tr>\n",
       "    <tr>\n",
       "      <th>225399</th>\n",
       "      <td>195</td>\n",
       "      <td>CCTGA</td>\n",
       "      <td>0.005675</td>\n",
       "      <td>93.791590</td>\n",
       "      <td>ref_0004</td>\n",
       "      <td>unmodified_rep_2.tsv</td>\n",
       "      <td>#4_59</td>\n",
       "      <td>0.0</td>\n",
       "      <td>C</td>\n",
       "      <td>C</td>\n",
       "      <td>T</td>\n",
       "      <td>G</td>\n",
       "      <td>A</td>\n",
       "      <td>unmodified</td>\n",
       "      <td>0.005675</td>\n",
       "      <td>93.791590</td>\n",
       "      <td>0.002183</td>\n",
       "      <td>72.236485</td>\n",
       "    </tr>\n",
       "  </tbody>\n",
       "</table>\n",
       "<p>225400 rows × 18 columns</p>\n",
       "</div>"
      ],
      "text/plain": [
       "        ref_pos ref_kmer  dwell_time  median_value ref_number  \\\n",
       "0             0    AATGG    0.074466    108.450395   ref_0000   \n",
       "1             1    ATGGG    0.021499    110.385196   ref_0000   \n",
       "2             2    TGGGC    0.033993    108.417694   ref_0000   \n",
       "3             3    GGGCT    0.005762    110.508778   ref_0000   \n",
       "4             4    GGCTT    0.026592    112.052889   ref_0000   \n",
       "...         ...      ...         ...           ...        ...   \n",
       "225395      191    CGTGC    0.006416     91.601589   ref_0004   \n",
       "225396      192    GTGCC    0.030970     82.289917   ref_0004   \n",
       "225397      193    TGCCT    0.002183    102.220231   ref_0004   \n",
       "225398      194    GCCTG    0.019195     72.236485   ref_0004   \n",
       "225399      195    CCTGA    0.005675     93.791590   ref_0004   \n",
       "\n",
       "                   file_name read_num  modified_status base_1 base_2 base_3  \\\n",
       "0         modified_rep_1.tsv     #0_0              1.0      A      A      T   \n",
       "1         modified_rep_1.tsv     #0_0              0.0      A      T      G   \n",
       "2         modified_rep_1.tsv     #0_0              0.0      T      G      G   \n",
       "3         modified_rep_1.tsv     #0_0              0.0      G      G      G   \n",
       "4         modified_rep_1.tsv     #0_0              0.0      G      G      C   \n",
       "...                      ...      ...              ...    ...    ...    ...   \n",
       "225395  unmodified_rep_2.tsv    #4_59              0.0      C      G      T   \n",
       "225396  unmodified_rep_2.tsv    #4_59              0.0      G      T      G   \n",
       "225397  unmodified_rep_2.tsv    #4_59              0.0      T      G      C   \n",
       "225398  unmodified_rep_2.tsv    #4_59              0.0      G      C      C   \n",
       "225399  unmodified_rep_2.tsv    #4_59              0.0      C      C      T   \n",
       "\n",
       "       base_4 base_5   file_type  dwell_time_rolling_median  \\\n",
       "0           G      G    modified                   0.033993   \n",
       "1           G      G    modified                   0.027746   \n",
       "2           G      C    modified                   0.026592   \n",
       "3           C      T    modified                   0.021499   \n",
       "4           T      T    modified                   0.008281   \n",
       "...       ...    ...         ...                        ...   \n",
       "225395      G      C  unmodified                   0.006416   \n",
       "225396      C      C  unmodified                   0.006948   \n",
       "225397      C      T  unmodified                   0.006416   \n",
       "225398      T      G  unmodified                   0.012435   \n",
       "225399      G      A  unmodified                   0.005675   \n",
       "\n",
       "        median_value_rolling_median  dwell_time_rolling_min  \\\n",
       "0                        108.450395                0.021499   \n",
       "1                        109.417796                0.005762   \n",
       "2                        110.385196                0.005762   \n",
       "3                        110.385196                0.005762   \n",
       "4                        108.417694                0.005762   \n",
       "...                             ...                     ...   \n",
       "225395                    91.601589                0.002183   \n",
       "225396                    82.289917                0.002183   \n",
       "225397                    91.601589                0.002183   \n",
       "225398                    88.040754                0.002183   \n",
       "225399                    93.791590                0.002183   \n",
       "\n",
       "        median_value_rolling_min  \n",
       "0                     108.417694  \n",
       "1                     108.417694  \n",
       "2                     108.417694  \n",
       "3                      79.882353  \n",
       "4                      79.882353  \n",
       "...                          ...  \n",
       "225395                 79.453407  \n",
       "225396                 72.236485  \n",
       "225397                 72.236485  \n",
       "225398                 72.236485  \n",
       "225399                 72.236485  \n",
       "\n",
       "[225400 rows x 18 columns]"
      ]
     },
     "execution_count": 79,
     "metadata": {},
     "output_type": "execute_result"
    }
   ],
   "source": [
    "df_not_combined"
   ]
  },
  {
   "cell_type": "code",
   "execution_count": 80,
   "metadata": {
    "ExecuteTime": {
     "end_time": "2020-04-23T13:46:37.138134Z",
     "start_time": "2020-04-23T13:46:37.014106Z"
    }
   },
   "outputs": [],
   "source": [
    "df_not_combined = df_not_combined.astype({\"base_1\":\"category\",\"base_2\":\"category\",\"base_3\":\"category\",\\\n",
    "                                          \"base_4\":\"category\",\"base_5\":\"category\",\"modified_status\":\"category\"})\n",
    "df_not_combined = df_not_combined.astype({\"ref_number\":\"object\"})"
   ]
  },
  {
   "cell_type": "code",
   "execution_count": 81,
   "metadata": {
    "ExecuteTime": {
     "end_time": "2020-04-23T13:46:37.231155Z",
     "start_time": "2020-04-23T13:46:37.214150Z"
    }
   },
   "outputs": [],
   "source": [
    "df_combined = df_combined.astype({\"base_1\":\"category\",\"base_2\":\"category\",\"base_3\":\"category\",\\\n",
    "                                          \"base_4\":\"category\",\"base_5\":\"category\",\"modified_status\":\"category\"})\n",
    "df_combined = df_combined.astype({\"ref_number\":\"object\"})"
   ]
  },
  {
   "cell_type": "markdown",
   "metadata": {},
   "source": [
    "# modeling"
   ]
  },
  {
   "cell_type": "code",
   "execution_count": 82,
   "metadata": {
    "ExecuteTime": {
     "end_time": "2020-04-23T13:46:37.913108Z",
     "start_time": "2020-04-23T13:46:37.906106Z"
    }
   },
   "outputs": [],
   "source": [
    "from sklearn.model_selection import GridSearchCV, train_test_split, RandomizedSearchCV, KFold, cross_val_score, cross_validate\n",
    "from sklearn.metrics import make_scorer, confusion_matrix, fbeta_score, classification_report, adjusted_rand_score, adjusted_mutual_info_score \n",
    "from sklearn.ensemble import AdaBoostClassifier, RandomForestClassifier,StackingClassifier, IsolationForest\n",
    "from sklearn.linear_model import LogisticRegression\n",
    "from sklearn.preprocessing import StandardScaler, OneHotEncoder, LabelEncoder\n",
    "from sklearn.pipeline import make_pipeline\n",
    "from sklearn.compose import ColumnTransformer\n",
    "from sklearn.impute import SimpleImputer\n",
    "from sklearn.neighbors import KNeighborsClassifier\n",
    "from sklearn.svm import SVC\n",
    "from sklearn.naive_bayes import GaussianNB\n",
    "from xgboost import XGBClassifier\n",
    "from pprint import pprint\n",
    "from imblearn.over_sampling import SMOTE\n",
    "from imblearn.combine import SMOTETomek\n",
    "from imblearn.pipeline import Pipeline"
   ]
  },
  {
   "cell_type": "markdown",
   "metadata": {},
   "source": [
    "## train test split"
   ]
  },
  {
   "cell_type": "code",
   "execution_count": 83,
   "metadata": {
    "ExecuteTime": {
     "end_time": "2020-04-23T13:46:38.271190Z",
     "start_time": "2020-04-23T13:46:38.267188Z"
    }
   },
   "outputs": [],
   "source": [
    "# manual train test split according to ref_num to preserve sequence sequence identity\n",
    "# maybe do it according to read_num to increase variability?\n",
    "\n",
    "final_ref = [\"ref_0000\",\"ref_0001\",\"ref_0002\",\"ref_0003\"]\n",
    "val_ref = [\"ref_0004\"]\n",
    "train_ref = [\"ref_0000\",\"ref_0001\",\"ref_0002\"]\n",
    "test_ref = [\"ref_0003\"]"
   ]
  },
  {
   "cell_type": "code",
   "execution_count": 84,
   "metadata": {
    "ExecuteTime": {
     "end_time": "2020-04-23T13:46:38.461878Z",
     "start_time": "2020-04-23T13:46:38.458878Z"
    }
   },
   "outputs": [],
   "source": [
    "seed = 7"
   ]
  },
  {
   "cell_type": "markdown",
   "metadata": {},
   "source": [
    "### not_combined"
   ]
  },
  {
   "cell_type": "code",
   "execution_count": 85,
   "metadata": {
    "ExecuteTime": {
     "end_time": "2020-04-23T13:46:38.940074Z",
     "start_time": "2020-04-23T13:46:38.842065Z"
    }
   },
   "outputs": [],
   "source": [
    "X_finaltest_not_combined = df_not_combined[df_not_combined[\"ref_number\"].isin(final_ref)]\n",
    "y_finaltest_not_combined = X_finaltest_not_combined.pop(\"modified_status\")\n",
    "X_val_not_combined = df_not_combined[df_not_combined[\"ref_number\"].isin(val_ref)]\n",
    "y_val_not_combined = X_val_not_combined.pop(\"modified_status\")\n",
    "X_train_not_combined = df_not_combined[df_not_combined[\"ref_number\"].isin(train_ref)]\n",
    "y_train_not_combined = X_train_not_combined.pop(\"modified_status\")\n",
    "X_test_not_combined = df_not_combined[df_not_combined[\"ref_number\"].isin(test_ref)]\n",
    "y_test_not_combined = X_test_not_combined.pop(\"modified_status\")"
   ]
  },
  {
   "cell_type": "code",
   "execution_count": 86,
   "metadata": {
    "ExecuteTime": {
     "end_time": "2020-04-23T13:46:39.070105Z",
     "start_time": "2020-04-23T13:46:39.067105Z"
    }
   },
   "outputs": [],
   "source": [
    "numeric_features_not_combined = list(X_train_not_combined.columns[X_train_not_combined.dtypes ==  \"float\"])"
   ]
  },
  {
   "cell_type": "code",
   "execution_count": 87,
   "metadata": {
    "ExecuteTime": {
     "end_time": "2020-04-23T13:46:39.646218Z",
     "start_time": "2020-04-23T13:46:39.643216Z"
    }
   },
   "outputs": [
    {
     "data": {
      "text/plain": [
       "['dwell_time',\n",
       " 'median_value',\n",
       " 'dwell_time_rolling_median',\n",
       " 'median_value_rolling_median',\n",
       " 'dwell_time_rolling_min',\n",
       " 'median_value_rolling_min']"
      ]
     },
     "execution_count": 87,
     "metadata": {},
     "output_type": "execute_result"
    }
   ],
   "source": [
    "numeric_features_not_combined"
   ]
  },
  {
   "cell_type": "code",
   "execution_count": 88,
   "metadata": {
    "ExecuteTime": {
     "end_time": "2020-04-23T13:46:39.926243Z",
     "start_time": "2020-04-23T13:46:39.923258Z"
    }
   },
   "outputs": [],
   "source": [
    "cat_features_not_combined = list(X_train_not_combined.columns[X_train_not_combined.dtypes ==  \"category\"])"
   ]
  },
  {
   "cell_type": "code",
   "execution_count": 89,
   "metadata": {
    "ExecuteTime": {
     "end_time": "2020-04-23T13:46:44.814875Z",
     "start_time": "2020-04-23T13:46:44.810874Z"
    }
   },
   "outputs": [
    {
     "data": {
      "text/plain": [
       "['base_1', 'base_2', 'base_3', 'base_4', 'base_5']"
      ]
     },
     "execution_count": 89,
     "metadata": {},
     "output_type": "execute_result"
    }
   ],
   "source": [
    "cat_features_not_combined"
   ]
  },
  {
   "cell_type": "code",
   "execution_count": 90,
   "metadata": {
    "ExecuteTime": {
     "end_time": "2020-04-23T13:46:45.327990Z",
     "start_time": "2020-04-23T13:46:45.322989Z"
    }
   },
   "outputs": [],
   "source": [
    "#preprocessing pipeline to scale numeric and onehot encode categorical values\n",
    "imputer1_not_combined = SimpleImputer(strategy=\"median\")\n",
    "scaler1_not_combined = StandardScaler()\n",
    "numeric_transformer_not_combined = make_pipeline(imputer1_not_combined,scaler1_not_combined)\n",
    "\n",
    "\n",
    "imputer2_not_combined = SimpleImputer(strategy='constant', fill_value='missing')\n",
    "encoder_not_combined = OneHotEncoder(handle_unknown='error')\n",
    "cat_transformer_not_combined = make_pipeline(imputer2_not_combined,encoder_not_combined)\n",
    "\n",
    "preprocessor_not_combined = ColumnTransformer(\n",
    "    transformers=[\n",
    "        ('num', numeric_transformer_not_combined, numeric_features_not_combined),\n",
    "        ('cat', cat_transformer_not_combined, cat_features_not_combined)\n",
    "    ])"
   ]
  },
  {
   "cell_type": "markdown",
   "metadata": {},
   "source": [
    "### combined"
   ]
  },
  {
   "cell_type": "code",
   "execution_count": 91,
   "metadata": {
    "ExecuteTime": {
     "end_time": "2020-04-23T13:46:46.385225Z",
     "start_time": "2020-04-23T13:46:46.370223Z"
    }
   },
   "outputs": [],
   "source": [
    "X_finaltest_combined = df_combined[df_combined[\"ref_number\"].isin(final_ref)]\n",
    "y_finaltest_combined = X_finaltest_combined.pop(\"modified_status\")\n",
    "X_val_combined = df_combined[df_combined[\"ref_number\"].isin(val_ref)]\n",
    "y_val_combined = X_val_combined.pop(\"modified_status\")\n",
    "X_train_combined = df_combined[df_combined[\"ref_number\"].isin(train_ref)]\n",
    "y_train_combined = X_train_combined.pop(\"modified_status\")\n",
    "X_test_combined = df_combined[df_combined[\"ref_number\"].isin(test_ref)]\n",
    "y_test_combined = X_test_combined.pop(\"modified_status\")"
   ]
  },
  {
   "cell_type": "code",
   "execution_count": 92,
   "metadata": {
    "ExecuteTime": {
     "end_time": "2020-04-23T13:46:47.030295Z",
     "start_time": "2020-04-23T13:46:47.027296Z"
    }
   },
   "outputs": [],
   "source": [
    "numeric_features_combined = list(X_train_combined .columns[X_train_combined .dtypes ==  \"float\"])"
   ]
  },
  {
   "cell_type": "code",
   "execution_count": 93,
   "metadata": {
    "ExecuteTime": {
     "end_time": "2020-04-23T13:46:47.552182Z",
     "start_time": "2020-04-23T13:46:47.547183Z"
    }
   },
   "outputs": [
    {
     "data": {
      "text/plain": [
       "['dwell_time_median',\n",
       " 'dwell_time_std',\n",
       " 'dwell_time_min',\n",
       " 'dwell_time_max',\n",
       " 'median_value_median',\n",
       " 'median_value_std',\n",
       " 'median_value_min',\n",
       " 'median_value_max',\n",
       " 'dwell_time_rolling_median',\n",
       " 'median_value_rolling_median',\n",
       " 'dwell_time_rolling_min',\n",
       " 'median_value_rolling_min']"
      ]
     },
     "execution_count": 93,
     "metadata": {},
     "output_type": "execute_result"
    }
   ],
   "source": [
    "numeric_features_combined"
   ]
  },
  {
   "cell_type": "code",
   "execution_count": 94,
   "metadata": {
    "ExecuteTime": {
     "end_time": "2020-04-23T13:46:51.423762Z",
     "start_time": "2020-04-23T13:46:51.418761Z"
    }
   },
   "outputs": [],
   "source": [
    "cat_features_combined = list(X_train_combined.columns[X_train_combined.dtypes ==  \"category\"])"
   ]
  },
  {
   "cell_type": "code",
   "execution_count": 95,
   "metadata": {
    "ExecuteTime": {
     "end_time": "2020-04-23T13:46:51.648665Z",
     "start_time": "2020-04-23T13:46:51.644667Z"
    }
   },
   "outputs": [
    {
     "data": {
      "text/plain": [
       "['base_1', 'base_2', 'base_3', 'base_4', 'base_5']"
      ]
     },
     "execution_count": 95,
     "metadata": {},
     "output_type": "execute_result"
    }
   ],
   "source": [
    "cat_features_combined"
   ]
  },
  {
   "cell_type": "code",
   "execution_count": 96,
   "metadata": {
    "ExecuteTime": {
     "end_time": "2020-04-23T13:46:51.848981Z",
     "start_time": "2020-04-23T13:46:51.844980Z"
    }
   },
   "outputs": [],
   "source": [
    "imputer1_combined = SimpleImputer(strategy=\"median\")\n",
    "scaler1_combined = StandardScaler()\n",
    "numeric_transformer_combined = make_pipeline(imputer1_combined,scaler1_combined)\n",
    "\n",
    "\n",
    "imputer2_combined = SimpleImputer(strategy='constant', fill_value='missing')\n",
    "encoder_combined = OneHotEncoder(handle_unknown='error')\n",
    "cat_transformer_combined = make_pipeline(imputer2_combined,encoder_combined)\n",
    "\n",
    "preprocessor_combined = ColumnTransformer(\n",
    "    transformers=[\n",
    "        ('num', numeric_transformer_combined, numeric_features_combined),\n",
    "        ('cat', cat_transformer_combined, cat_features_combined)\n",
    "    ])"
   ]
  },
  {
   "cell_type": "markdown",
   "metadata": {},
   "source": [
    "## supervised"
   ]
  },
  {
   "cell_type": "code",
   "execution_count": 97,
   "metadata": {
    "ExecuteTime": {
     "end_time": "2020-04-23T13:46:52.813499Z",
     "start_time": "2020-04-23T13:46:52.794495Z"
    }
   },
   "outputs": [],
   "source": [
    "# model selector class to choose models\n",
    "\n",
    "class ModelSelector():\n",
    "    \n",
    "    def __init__(self, preprocessor, sampler=None):\n",
    "        # initialise class with predetrmined models and tests, maybe add functions to add/change them afterwards?\n",
    "        # add option to use a sampler (default = none)\n",
    "        self.results = []\n",
    "        self.name = []\n",
    "        self.preprocessor = preprocessor\n",
    "        self.sampler = sampler\n",
    "        self.cv = []\n",
    "        self.labels = []\n",
    "        self.cv_state = True\n",
    "        self.scoring = {'precision':'precision',\n",
    "                        'recall': 'recall',\n",
    "                        'f1score':'f1',\n",
    "                        'roc auc':'roc_auc'}\n",
    "        self.models = [\n",
    "                        ('LR', LogisticRegression(random_state=seed, max_iter = 1000, n_jobs=-1)),\n",
    "                        ('KNN', KNeighborsClassifier(n_jobs = -1)),\n",
    "                        ('RF', RandomForestClassifier(random_state=seed, n_jobs = -1)),\n",
    "                        ('ADAB', AdaBoostClassifier(random_state=seed)),\n",
    "                        ('XGB',  XGBClassifier(random_state=seed, n_jobs = -1)),\n",
    "                        ('SVC', SVC(random_state=seed)),\n",
    "                        ('GNB', GaussianNB())\n",
    "                    ]\n",
    "\n",
    "\n",
    "    # function for determining the cvs, if True do cv for each ref_num\n",
    "    def __cv__(self, X):\n",
    "        if self.cv_state == True:\n",
    "            self.labels = X.ref_number.values\n",
    "            self.cv = [(np.where(self.labels != label)[0], np.where(self.labels == label)[0]) for label in np.unique(self.labels)]\n",
    "        else:\n",
    "            self.cv = 5\n",
    "   \n",
    "\n",
    "    # fit each model and do cv and record cvs and names\n",
    "    def __model_selection__(self, X, y, state):\n",
    "        self.cv_state = state\n",
    "        self.__cv__(X)\n",
    "        results = []\n",
    "        names = []\n",
    "        val = []\n",
    "        for name, model in self.models:\n",
    "            model_pipe = Pipeline([(self.preprocessor.__class__.__name__,self.preprocessor),\n",
    "                                   (self.sampler.__class__.__name__,self.sampler),(\"name\",model)])\n",
    "            cv_results = cross_validate(model_pipe, X, y, cv=self.cv, scoring=self.scoring, n_jobs=-1, return_train_score=True)\n",
    "            self.results.append(cv_results)\n",
    "            self.name.append(name)\n",
    "    \n",
    "    def select_model(self,X,y,state):\n",
    "        # plot the test scores for each test and each model\n",
    "        self.__model_selection__(X,y,state)\n",
    "        tests = [\"test_\"+elm for elm in self.scoring.keys()]\n",
    "        plt.figure(figsize = (15,8))\n",
    "        plt.suptitle('Algorithm Comparison')\n",
    "        for idx, test in enumerate(tests):\n",
    "            temp_results = [self.results[i][test] for i in range(len(self.results))]\n",
    "            plt.subplot(1,len(tests),idx+1)\n",
    "            sns.boxplot(y = temp_results, x = self.name)\n",
    "            plt.title(test)\n",
    "            plt.xticks(rotation = 90)\n",
    "            plt.ylim(0,1.05)\n",
    "        plt.tight_layout()\n",
    "        plt.subplots_adjust(top=0.85)\n"
   ]
  },
  {
   "cell_type": "markdown",
   "metadata": {},
   "source": [
    "### baseline"
   ]
  },
  {
   "cell_type": "code",
   "execution_count": 98,
   "metadata": {
    "ExecuteTime": {
     "end_time": "2020-04-23T13:46:53.750282Z",
     "start_time": "2020-04-23T13:46:53.746283Z"
    }
   },
   "outputs": [],
   "source": [
    "y_pred = np.zeros(len(X_val_not_combined))"
   ]
  },
  {
   "cell_type": "code",
   "execution_count": 99,
   "metadata": {
    "ExecuteTime": {
     "end_time": "2020-04-23T13:46:54.424081Z",
     "start_time": "2020-04-23T13:46:54.147084Z"
    }
   },
   "outputs": [
    {
     "data": {
      "text/plain": [
       "<matplotlib.axes._subplots.AxesSubplot at 0x24e9a1d8a88>"
      ]
     },
     "execution_count": 99,
     "metadata": {},
     "output_type": "execute_result"
    },
    {
     "data": {
      "image/png": "[encoded data removed]",
      "text/plain": [
       "<Figure size 720x720 with 2 Axes>"
      ]
     },
     "metadata": {},
     "output_type": "display_data"
    }
   ],
   "source": [
    "skplt.metrics.plot_confusion_matrix(y_val_not_combined, y_pred, figsize=(10,10), text_fontsize=20)"
   ]
  },
  {
   "cell_type": "code",
   "execution_count": 100,
   "metadata": {
    "ExecuteTime": {
     "end_time": "2020-04-23T13:46:54.896700Z",
     "start_time": "2020-04-23T13:46:54.827684Z"
    }
   },
   "outputs": [
    {
     "name": "stdout",
     "output_type": "stream",
     "text": [
      "              precision    recall  f1-score   support\n",
      "\n",
      "         0.0       0.97      1.00      0.98     43585\n",
      "         1.0       0.00      0.00      0.00      1495\n",
      "\n",
      "    accuracy                           0.97     45080\n",
      "   macro avg       0.48      0.50      0.49     45080\n",
      "weighted avg       0.93      0.97      0.95     45080\n",
      "\n"
     ]
    },
    {
     "name": "stderr",
     "output_type": "stream",
     "text": [
      "C:\\Users\\neomo\\anaconda3\\lib\\site-packages\\sklearn\\metrics\\_classification.py:1272: UndefinedMetricWarning: Precision and F-score are ill-defined and being set to 0.0 in labels with no predicted samples. Use `zero_division` parameter to control this behavior.\n",
      "  _warn_prf(average, modifier, msg_start, len(result))\n"
     ]
    }
   ],
   "source": [
    "print(classification_report(y_val_not_combined,y_pred))"
   ]
  },
  {
   "cell_type": "markdown",
   "metadata": {},
   "source": [
    "### classical ml models"
   ]
  },
  {
   "cell_type": "markdown",
   "metadata": {},
   "source": [
    "#### model selection"
   ]
  },
  {
   "cell_type": "code",
   "execution_count": 101,
   "metadata": {
    "ExecuteTime": {
     "end_time": "2020-04-23T13:46:55.878103Z",
     "start_time": "2020-04-23T13:46:55.875103Z"
    }
   },
   "outputs": [],
   "source": [
    "sel = ModelSelector(preprocessor_not_combined)"
   ]
  },
  {
   "cell_type": "code",
   "execution_count": 102,
   "metadata": {
    "ExecuteTime": {
     "end_time": "2020-04-23T13:58:37.372023Z",
     "start_time": "2020-04-23T13:46:56.851254Z"
    }
   },
   "outputs": [
    {
     "data": {
      "image/png": "[encoded data removed]",
      "text/plain": [
       "<Figure size 1080x576 with 4 Axes>"
      ]
     },
     "metadata": {},
     "output_type": "display_data"
    }
   ],
   "source": [
    "sel.select_model(X_finaltest_not_combined, y_finaltest_not_combined, True)"
   ]
  },
  {
   "cell_type": "markdown",
   "metadata": {},
   "source": [
    "#### xgb gridsearch"
   ]
  },
  {
   "cell_type": "code",
   "execution_count": 121,
   "metadata": {
    "ExecuteTime": {
     "end_time": "2020-04-23T14:14:09.572377Z",
     "start_time": "2020-04-23T14:14:09.568385Z"
    }
   },
   "outputs": [],
   "source": [
    "param_grid_xgb = {'xgbclassifier__max_depth':[1],\n",
    "                 'xgbclassifier__learning_rate':[0.2],\n",
    "                 'xgbclassifier__n_estimators':[500],\n",
    "                 'xgbclassifier__booster':[\"gbtree\"],\n",
    "                 'xgbclassifier__gamma':[0]}"
   ]
  },
  {
   "cell_type": "code",
   "execution_count": 122,
   "metadata": {
    "ExecuteTime": {
     "end_time": "2020-04-23T14:14:09.937852Z",
     "start_time": "2020-04-23T14:14:09.933855Z"
    }
   },
   "outputs": [],
   "source": [
    "xgb_clf = XGBClassifier(n_jobs=4,random_state=seed)\n",
    "model_xgb = make_pipeline(preprocessor_not_combined,xgb_clf)"
   ]
  },
  {
   "cell_type": "code",
   "execution_count": 123,
   "metadata": {
    "ExecuteTime": {
     "end_time": "2020-04-23T14:14:10.229912Z",
     "start_time": "2020-04-23T14:14:10.108892Z"
    }
   },
   "outputs": [],
   "source": [
    "labels = X_finaltest_not_combined.ref_number.values\n",
    "cv_by_hand = [(np.where(labels != label)[0], np.where(labels == label)[0])\n",
    "               for label in np.unique(labels)]"
   ]
  },
  {
   "cell_type": "code",
   "execution_count": 124,
   "metadata": {
    "ExecuteTime": {
     "end_time": "2020-04-23T14:14:51.161838Z",
     "start_time": "2020-04-23T14:14:10.285927Z"
    }
   },
   "outputs": [
    {
     "name": "stdout",
     "output_type": "stream",
     "text": [
      "{'xgbclassifier__booster': 'gbtree', 'xgbclassifier__gamma': 0, 'xgbclassifier__learning_rate': 0.2, 'xgbclassifier__max_depth': 1, 'xgbclassifier__n_estimators': 500}\n"
     ]
    }
   ],
   "source": [
    "grid_xgb = GridSearchCV(model_xgb, param_grid_xgb, scoring = \"f1\", return_train_score=False,n_jobs=-1,cv = cv_by_hand)\n",
    "grid_xgb.fit(X_finaltest_not_combined, y_finaltest_not_combined)\n",
    "print(grid_xgb.best_params_)"
   ]
  },
  {
   "cell_type": "code",
   "execution_count": 125,
   "metadata": {
    "ExecuteTime": {
     "end_time": "2020-04-23T14:14:51.300871Z",
     "start_time": "2020-04-23T14:14:51.162839Z"
    }
   },
   "outputs": [],
   "source": [
    "y_pred=grid_xgb.predict(X_val_not_combined)"
   ]
  },
  {
   "cell_type": "code",
   "execution_count": 126,
   "metadata": {
    "ExecuteTime": {
     "end_time": "2020-04-23T14:14:51.567931Z",
     "start_time": "2020-04-23T14:14:51.302871Z"
    },
    "scrolled": false
   },
   "outputs": [
    {
     "data": {
      "text/plain": [
       "<matplotlib.axes._subplots.AxesSubplot at 0x24e9aed0508>"
      ]
     },
     "execution_count": 126,
     "metadata": {},
     "output_type": "execute_result"
    },
    {
     "data": {
      "image/png": "[encoded data removed]",
      "text/plain": [
       "<Figure size 720x720 with 2 Axes>"
      ]
     },
     "metadata": {},
     "output_type": "display_data"
    }
   ],
   "source": [
    "skplt.metrics.plot_confusion_matrix(y_val_not_combined, y_pred, figsize=(10,10), text_fontsize=20)"
   ]
  },
  {
   "cell_type": "code",
   "execution_count": 127,
   "metadata": {
    "ExecuteTime": {
     "end_time": "2020-04-23T14:14:51.637946Z",
     "start_time": "2020-04-23T14:14:51.568931Z"
    },
    "scrolled": false
   },
   "outputs": [
    {
     "name": "stdout",
     "output_type": "stream",
     "text": [
      "              precision    recall  f1-score   support\n",
      "\n",
      "         0.0       1.00      1.00      1.00     43585\n",
      "         1.0       0.91      0.86      0.88      1495\n",
      "\n",
      "    accuracy                           0.99     45080\n",
      "   macro avg       0.95      0.93      0.94     45080\n",
      "weighted avg       0.99      0.99      0.99     45080\n",
      "\n"
     ]
    }
   ],
   "source": [
    "print(classification_report(y_val_not_combined,y_pred))"
   ]
  },
  {
   "cell_type": "code",
   "execution_count": 128,
   "metadata": {
    "ExecuteTime": {
     "end_time": "2020-04-23T14:14:51.643948Z",
     "start_time": "2020-04-23T14:14:51.638947Z"
    }
   },
   "outputs": [],
   "source": [
    "y_pred_ref_pos = X_val_not_combined.ref_pos.values\n",
    "ratio_df = pd.DataFrame(pd.concat([pd.Series(y_pred),pd.Series(y_pred_ref_pos)],axis=1))\n",
    "ratio_df.columns =[\"predicted\",\"ref_pos\"]"
   ]
  },
  {
   "cell_type": "code",
   "execution_count": 129,
   "metadata": {
    "ExecuteTime": {
     "end_time": "2020-04-23T14:14:51.892005Z",
     "start_time": "2020-04-23T14:14:51.644948Z"
    }
   },
   "outputs": [
    {
     "name": "stdout",
     "output_type": "stream",
     "text": [
      "Ratio of modified Reads for ref_pos 0 is :2.17\n",
      "Ratio of modified Reads for ref_pos 1 is :0.0\n",
      "Ratio of modified Reads for ref_pos 2 is :0.0\n",
      "Ratio of modified Reads for ref_pos 3 is :0.0\n",
      "Ratio of modified Reads for ref_pos 4 is :0.0\n",
      "Ratio of modified Reads for ref_pos 5 is :0.0\n",
      "Ratio of modified Reads for ref_pos 6 is :0.0\n",
      "Ratio of modified Reads for ref_pos 7 is :0.0\n",
      "Ratio of modified Reads for ref_pos 8 is :0.0\n",
      "Ratio of modified Reads for ref_pos 9 is :0.43\n",
      "Ratio of modified Reads for ref_pos 10 is :0.0\n",
      "Ratio of modified Reads for ref_pos 11 is :0.0\n",
      "Ratio of modified Reads for ref_pos 12 is :0.0\n",
      "Ratio of modified Reads for ref_pos 13 is :0.0\n",
      "Ratio of modified Reads for ref_pos 14 is :0.0\n",
      "Ratio of modified Reads for ref_pos 15 is :45.22\n",
      "Ratio of modified Reads for ref_pos 16 is :0.0\n",
      "Ratio of modified Reads for ref_pos 17 is :0.0\n",
      "Ratio of modified Reads for ref_pos 18 is :0.0\n",
      "Ratio of modified Reads for ref_pos 19 is :0.0\n",
      "Ratio of modified Reads for ref_pos 20 is :0.0\n",
      "Ratio of modified Reads for ref_pos 21 is :0.0\n",
      "Ratio of modified Reads for ref_pos 22 is :0.0\n",
      "Ratio of modified Reads for ref_pos 23 is :0.0\n",
      "Ratio of modified Reads for ref_pos 24 is :0.0\n",
      "Ratio of modified Reads for ref_pos 25 is :0.0\n",
      "Ratio of modified Reads for ref_pos 26 is :45.22\n",
      "Ratio of modified Reads for ref_pos 27 is :0.0\n",
      "Ratio of modified Reads for ref_pos 28 is :0.0\n",
      "Ratio of modified Reads for ref_pos 29 is :0.0\n",
      "Ratio of modified Reads for ref_pos 30 is :0.0\n",
      "Ratio of modified Reads for ref_pos 31 is :0.0\n",
      "Ratio of modified Reads for ref_pos 32 is :0.0\n",
      "Ratio of modified Reads for ref_pos 33 is :0.0\n",
      "Ratio of modified Reads for ref_pos 34 is :0.0\n",
      "Ratio of modified Reads for ref_pos 35 is :0.0\n",
      "Ratio of modified Reads for ref_pos 36 is :0.0\n",
      "Ratio of modified Reads for ref_pos 37 is :0.43\n",
      "Ratio of modified Reads for ref_pos 38 is :0.0\n",
      "Ratio of modified Reads for ref_pos 39 is :0.0\n",
      "Ratio of modified Reads for ref_pos 40 is :0.0\n",
      "Ratio of modified Reads for ref_pos 41 is :0.0\n",
      "Ratio of modified Reads for ref_pos 42 is :0.0\n",
      "Ratio of modified Reads for ref_pos 43 is :45.22\n",
      "Ratio of modified Reads for ref_pos 44 is :0.0\n",
      "Ratio of modified Reads for ref_pos 45 is :0.0\n",
      "Ratio of modified Reads for ref_pos 46 is :0.87\n",
      "Ratio of modified Reads for ref_pos 47 is :0.0\n",
      "Ratio of modified Reads for ref_pos 48 is :0.0\n",
      "Ratio of modified Reads for ref_pos 49 is :0.0\n",
      "Ratio of modified Reads for ref_pos 50 is :0.0\n",
      "Ratio of modified Reads for ref_pos 51 is :0.0\n",
      "Ratio of modified Reads for ref_pos 52 is :0.0\n",
      "Ratio of modified Reads for ref_pos 53 is :0.0\n",
      "Ratio of modified Reads for ref_pos 54 is :0.0\n",
      "Ratio of modified Reads for ref_pos 55 is :0.43\n",
      "Ratio of modified Reads for ref_pos 56 is :0.0\n",
      "Ratio of modified Reads for ref_pos 57 is :5.65\n",
      "Ratio of modified Reads for ref_pos 58 is :45.22\n",
      "Ratio of modified Reads for ref_pos 59 is :0.0\n",
      "Ratio of modified Reads for ref_pos 60 is :0.0\n",
      "Ratio of modified Reads for ref_pos 61 is :0.0\n",
      "Ratio of modified Reads for ref_pos 62 is :0.0\n",
      "Ratio of modified Reads for ref_pos 63 is :0.0\n",
      "Ratio of modified Reads for ref_pos 64 is :0.0\n",
      "Ratio of modified Reads for ref_pos 65 is :30.43\n",
      "Ratio of modified Reads for ref_pos 66 is :0.0\n",
      "Ratio of modified Reads for ref_pos 67 is :0.0\n",
      "Ratio of modified Reads for ref_pos 68 is :0.0\n",
      "Ratio of modified Reads for ref_pos 69 is :0.43\n",
      "Ratio of modified Reads for ref_pos 70 is :0.0\n",
      "Ratio of modified Reads for ref_pos 71 is :0.43\n",
      "Ratio of modified Reads for ref_pos 72 is :0.0\n",
      "Ratio of modified Reads for ref_pos 73 is :0.0\n",
      "Ratio of modified Reads for ref_pos 74 is :0.0\n",
      "Ratio of modified Reads for ref_pos 75 is :45.22\n",
      "Ratio of modified Reads for ref_pos 76 is :0.0\n",
      "Ratio of modified Reads for ref_pos 77 is :0.0\n",
      "Ratio of modified Reads for ref_pos 78 is :0.0\n",
      "Ratio of modified Reads for ref_pos 79 is :0.0\n",
      "Ratio of modified Reads for ref_pos 80 is :4.35\n",
      "Ratio of modified Reads for ref_pos 81 is :45.22\n",
      "Ratio of modified Reads for ref_pos 82 is :0.0\n",
      "Ratio of modified Reads for ref_pos 83 is :0.0\n",
      "Ratio of modified Reads for ref_pos 84 is :0.0\n",
      "Ratio of modified Reads for ref_pos 85 is :0.0\n",
      "Ratio of modified Reads for ref_pos 86 is :0.0\n",
      "Ratio of modified Reads for ref_pos 87 is :0.0\n",
      "Ratio of modified Reads for ref_pos 88 is :0.0\n",
      "Ratio of modified Reads for ref_pos 89 is :0.0\n",
      "Ratio of modified Reads for ref_pos 90 is :0.0\n",
      "Ratio of modified Reads for ref_pos 91 is :0.0\n",
      "Ratio of modified Reads for ref_pos 92 is :0.87\n",
      "Ratio of modified Reads for ref_pos 93 is :0.0\n",
      "Ratio of modified Reads for ref_pos 94 is :0.0\n",
      "Ratio of modified Reads for ref_pos 95 is :0.0\n",
      "Ratio of modified Reads for ref_pos 96 is :0.0\n",
      "Ratio of modified Reads for ref_pos 97 is :0.0\n",
      "Ratio of modified Reads for ref_pos 98 is :0.0\n",
      "Ratio of modified Reads for ref_pos 99 is :0.0\n",
      "Ratio of modified Reads for ref_pos 100 is :0.0\n",
      "Ratio of modified Reads for ref_pos 101 is :0.0\n",
      "Ratio of modified Reads for ref_pos 102 is :0.0\n",
      "Ratio of modified Reads for ref_pos 103 is :2.61\n",
      "Ratio of modified Reads for ref_pos 104 is :45.22\n",
      "Ratio of modified Reads for ref_pos 105 is :0.0\n",
      "Ratio of modified Reads for ref_pos 106 is :0.0\n",
      "Ratio of modified Reads for ref_pos 107 is :0.43\n",
      "Ratio of modified Reads for ref_pos 108 is :0.0\n",
      "Ratio of modified Reads for ref_pos 109 is :0.0\n",
      "Ratio of modified Reads for ref_pos 110 is :0.0\n",
      "Ratio of modified Reads for ref_pos 111 is :0.0\n",
      "Ratio of modified Reads for ref_pos 112 is :0.0\n",
      "Ratio of modified Reads for ref_pos 113 is :0.0\n",
      "Ratio of modified Reads for ref_pos 114 is :0.0\n",
      "Ratio of modified Reads for ref_pos 115 is :0.0\n",
      "Ratio of modified Reads for ref_pos 116 is :0.0\n",
      "Ratio of modified Reads for ref_pos 117 is :0.0\n",
      "Ratio of modified Reads for ref_pos 118 is :0.0\n",
      "Ratio of modified Reads for ref_pos 119 is :0.0\n",
      "Ratio of modified Reads for ref_pos 120 is :0.0\n",
      "Ratio of modified Reads for ref_pos 121 is :0.0\n",
      "Ratio of modified Reads for ref_pos 122 is :0.0\n",
      "Ratio of modified Reads for ref_pos 123 is :44.78\n",
      "Ratio of modified Reads for ref_pos 124 is :14.78\n",
      "Ratio of modified Reads for ref_pos 125 is :0.0\n",
      "Ratio of modified Reads for ref_pos 126 is :0.43\n",
      "Ratio of modified Reads for ref_pos 127 is :0.0\n",
      "Ratio of modified Reads for ref_pos 128 is :0.0\n",
      "Ratio of modified Reads for ref_pos 129 is :0.0\n",
      "Ratio of modified Reads for ref_pos 130 is :0.0\n",
      "Ratio of modified Reads for ref_pos 131 is :0.0\n",
      "Ratio of modified Reads for ref_pos 132 is :0.0\n",
      "Ratio of modified Reads for ref_pos 133 is :0.0\n",
      "Ratio of modified Reads for ref_pos 134 is :0.0\n",
      "Ratio of modified Reads for ref_pos 135 is :0.0\n",
      "Ratio of modified Reads for ref_pos 136 is :0.0\n",
      "Ratio of modified Reads for ref_pos 137 is :0.0\n",
      "Ratio of modified Reads for ref_pos 138 is :0.0\n",
      "Ratio of modified Reads for ref_pos 139 is :0.0\n",
      "Ratio of modified Reads for ref_pos 140 is :0.0\n",
      "Ratio of modified Reads for ref_pos 141 is :0.0\n",
      "Ratio of modified Reads for ref_pos 142 is :0.0\n",
      "Ratio of modified Reads for ref_pos 143 is :0.0\n",
      "Ratio of modified Reads for ref_pos 144 is :0.0\n",
      "Ratio of modified Reads for ref_pos 145 is :0.0\n",
      "Ratio of modified Reads for ref_pos 146 is :0.0\n",
      "Ratio of modified Reads for ref_pos 147 is :0.0\n",
      "Ratio of modified Reads for ref_pos 148 is :0.0\n",
      "Ratio of modified Reads for ref_pos 149 is :0.0\n",
      "Ratio of modified Reads for ref_pos 150 is :0.87\n",
      "Ratio of modified Reads for ref_pos 151 is :0.0\n",
      "Ratio of modified Reads for ref_pos 152 is :0.0\n",
      "Ratio of modified Reads for ref_pos 153 is :0.0\n",
      "Ratio of modified Reads for ref_pos 154 is :0.0\n",
      "Ratio of modified Reads for ref_pos 155 is :0.0\n",
      "Ratio of modified Reads for ref_pos 156 is :0.0\n",
      "Ratio of modified Reads for ref_pos 157 is :0.0\n",
      "Ratio of modified Reads for ref_pos 158 is :0.0\n",
      "Ratio of modified Reads for ref_pos 159 is :0.43\n",
      "Ratio of modified Reads for ref_pos 160 is :0.0\n",
      "Ratio of modified Reads for ref_pos 161 is :2.61\n",
      "Ratio of modified Reads for ref_pos 162 is :0.0\n",
      "Ratio of modified Reads for ref_pos 163 is :45.22\n",
      "Ratio of modified Reads for ref_pos 164 is :0.0\n",
      "Ratio of modified Reads for ref_pos 165 is :3.91\n",
      "Ratio of modified Reads for ref_pos 166 is :0.0\n",
      "Ratio of modified Reads for ref_pos 167 is :0.0\n",
      "Ratio of modified Reads for ref_pos 168 is :0.0\n",
      "Ratio of modified Reads for ref_pos 169 is :32.61\n",
      "Ratio of modified Reads for ref_pos 170 is :3.04\n",
      "Ratio of modified Reads for ref_pos 171 is :1.3\n",
      "Ratio of modified Reads for ref_pos 172 is :0.0\n",
      "Ratio of modified Reads for ref_pos 173 is :0.0\n",
      "Ratio of modified Reads for ref_pos 174 is :0.0\n",
      "Ratio of modified Reads for ref_pos 175 is :0.0\n",
      "Ratio of modified Reads for ref_pos 176 is :0.0\n",
      "Ratio of modified Reads for ref_pos 177 is :0.43\n",
      "Ratio of modified Reads for ref_pos 178 is :0.0\n",
      "Ratio of modified Reads for ref_pos 179 is :45.22\n",
      "Ratio of modified Reads for ref_pos 180 is :0.0\n",
      "Ratio of modified Reads for ref_pos 181 is :0.0\n",
      "Ratio of modified Reads for ref_pos 182 is :0.43\n",
      "Ratio of modified Reads for ref_pos 183 is :0.87\n",
      "Ratio of modified Reads for ref_pos 184 is :0.0\n",
      "Ratio of modified Reads for ref_pos 185 is :41.74\n",
      "Ratio of modified Reads for ref_pos 186 is :0.0\n",
      "Ratio of modified Reads for ref_pos 187 is :5.22\n",
      "Ratio of modified Reads for ref_pos 188 is :0.0\n",
      "Ratio of modified Reads for ref_pos 189 is :0.0\n",
      "Ratio of modified Reads for ref_pos 190 is :0.0\n",
      "Ratio of modified Reads for ref_pos 191 is :0.0\n",
      "Ratio of modified Reads for ref_pos 192 is :0.0\n",
      "Ratio of modified Reads for ref_pos 193 is :0.0\n",
      "Ratio of modified Reads for ref_pos 194 is :0.0\n",
      "Ratio of modified Reads for ref_pos 195 is :0.0\n"
     ]
    }
   ],
   "source": [
    "for elm in ratio_df.ref_pos.unique():\n",
    "    msk = ratio_df[ratio_df.ref_pos == elm]\n",
    "    print(\"Ratio of modified Reads for ref_pos \" + str(elm) + \" is :\" + \n",
    "          str(round((len(msk[msk.predicted == 1])/len(msk))*100,2)))"
   ]
  },
  {
   "cell_type": "markdown",
   "metadata": {},
   "source": [
    "#### feature importances"
   ]
  },
  {
   "cell_type": "code",
   "execution_count": 132,
   "metadata": {
    "ExecuteTime": {
     "end_time": "2020-04-23T14:15:51.301180Z",
     "start_time": "2020-04-23T14:15:51.181162Z"
    }
   },
   "outputs": [],
   "source": [
    "labels = X_finaltest_not_combined.ref_number.values\n",
    "cv_by_hand = [(np.where(labels != label)[0], np.where(labels == label)[0])\n",
    "               for label in np.unique(labels)]"
   ]
  },
  {
   "cell_type": "code",
   "execution_count": 133,
   "metadata": {
    "ExecuteTime": {
     "end_time": "2020-04-23T14:15:52.001090Z",
     "start_time": "2020-04-23T14:15:51.493233Z"
    }
   },
   "outputs": [],
   "source": [
    "X_trans = preprocessor_not_combined.fit_transform(X_finaltest_not_combined)"
   ]
  },
  {
   "cell_type": "code",
   "execution_count": 134,
   "metadata": {
    "ExecuteTime": {
     "end_time": "2020-04-23T14:15:52.005091Z",
     "start_time": "2020-04-23T14:15:52.002089Z"
    }
   },
   "outputs": [],
   "source": [
    "xgb = XGBClassifier(n_jobs=4,random_state=seed, gamma= 0, learning_rate = 0.2,\n",
    "                        max_depth= 1, n_estimators = 500)"
   ]
  },
  {
   "cell_type": "code",
   "execution_count": 135,
   "metadata": {
    "ExecuteTime": {
     "end_time": "2020-04-23T14:16:00.526697Z",
     "start_time": "2020-04-23T14:15:52.557557Z"
    }
   },
   "outputs": [
    {
     "data": {
      "text/plain": [
       "XGBClassifier(base_score=0.5, booster='gbtree', colsample_bylevel=1,\n",
       "              colsample_bynode=1, colsample_bytree=1, gamma=0,\n",
       "              learning_rate=0.2, max_delta_step=0, max_depth=1,\n",
       "              min_child_weight=1, missing=None, n_estimators=500, n_jobs=4,\n",
       "              nthread=None, objective='binary:logistic', random_state=7,\n",
       "              reg_alpha=0, reg_lambda=1, scale_pos_weight=1, seed=None,\n",
       "              silent=None, subsample=1, verbosity=1)"
      ]
     },
     "execution_count": 135,
     "metadata": {},
     "output_type": "execute_result"
    }
   ],
   "source": [
    "xgb.fit(X_trans, y_finaltest_not_combined)"
   ]
  },
  {
   "cell_type": "code",
   "execution_count": 136,
   "metadata": {
    "ExecuteTime": {
     "end_time": "2020-04-23T14:16:00.532699Z",
     "start_time": "2020-04-23T14:16:00.528698Z"
    }
   },
   "outputs": [],
   "source": [
    "bases = [\"_A\",\"_C\",\"_T\",\"_G\"]\n",
    "cat = [elm + base for elm in cat_features_not_combined for base in bases ]"
   ]
  },
  {
   "cell_type": "code",
   "execution_count": 137,
   "metadata": {
    "ExecuteTime": {
     "end_time": "2020-04-23T14:16:00.536700Z",
     "start_time": "2020-04-23T14:16:00.534699Z"
    }
   },
   "outputs": [],
   "source": [
    "feature_names = numeric_features_not_combined + cat"
   ]
  },
  {
   "cell_type": "code",
   "execution_count": 138,
   "metadata": {
    "ExecuteTime": {
     "end_time": "2020-04-23T14:16:00.777755Z",
     "start_time": "2020-04-23T14:16:00.537700Z"
    },
    "scrolled": true
   },
   "outputs": [
    {
     "data": {
      "image/png": "[encoded data removed]",
      "text/plain": [
       "<Figure size 842.4x595.44 with 1 Axes>"
      ]
     },
     "metadata": {},
     "output_type": "display_data"
    }
   ],
   "source": [
    "skplt.estimators.plot_feature_importances(xgb, feature_names=feature_names, max_num_features=10)\n",
    "plt.xticks(rotation=90);"
   ]
  },
  {
   "cell_type": "markdown",
   "metadata": {},
   "source": [
    "### Classical ml models with Oversampling"
   ]
  },
  {
   "cell_type": "code",
   "execution_count": 139,
   "metadata": {
    "ExecuteTime": {
     "end_time": "2020-04-23T14:16:13.161160Z",
     "start_time": "2020-04-23T14:16:13.158163Z"
    }
   },
   "outputs": [],
   "source": [
    "smotet = SMOTETomek(sampling_strategy = 'minority', random_state = seed, n_jobs = -1)\n"
   ]
  },
  {
   "cell_type": "markdown",
   "metadata": {},
   "source": [
    "#### model selection"
   ]
  },
  {
   "cell_type": "code",
   "execution_count": null,
   "metadata": {
    "ExecuteTime": {
     "start_time": "2020-04-23T14:16:15.379Z"
    }
   },
   "outputs": [],
   "source": [
    "sel_os = ModelSelector(preprocessor_not_combined, smotet)\n",
    "\n",
    "sel_os.select_model(X_finaltest_not_combined, y_finaltest_not_combined, True)"
   ]
  },
  {
   "cell_type": "markdown",
   "metadata": {},
   "source": [
    "#### xgb gridsearch"
   ]
  },
  {
   "cell_type": "code",
   "execution_count": null,
   "metadata": {
    "ExecuteTime": {
     "start_time": "2020-04-23T14:17:30.212Z"
    }
   },
   "outputs": [],
   "source": [
    "param_grid_xgb = {'xgbclassifier__max_depth':[5,7,10],\n",
    "                 'xgbclassifier__learning_rate':[0.05,0.1,0.2],\n",
    "                 'xgbclassifier__n_estimators':[10,20,50,100],\n",
    "                 'xgbclassifier__booster':[\"gbtree\"],\n",
    "                 'xgbclassifier__gamma':[0,0.005,0.01,0.02]}"
   ]
  },
  {
   "cell_type": "code",
   "execution_count": null,
   "metadata": {
    "ExecuteTime": {
     "start_time": "2020-04-23T14:17:30.379Z"
    }
   },
   "outputs": [],
   "source": [
    "xgb_clf = XGBClassifier(n_jobs=4,random_state=seed)\n",
    "model_xgb = Pipeline([(\"transformer\",preprocessor_not_combined),(\"smt\",smotet),(\"xgbclassifier\",xgb_clf)])"
   ]
  },
  {
   "cell_type": "code",
   "execution_count": null,
   "metadata": {
    "ExecuteTime": {
     "start_time": "2020-04-23T14:17:30.547Z"
    }
   },
   "outputs": [],
   "source": [
    "labels = X_finaltest_not_combined.ref_number.values\n",
    "cv_by_hand = [(np.where(labels != label)[0], np.where(labels == label)[0])\n",
    "               for label in np.unique(labels)]"
   ]
  },
  {
   "cell_type": "code",
   "execution_count": null,
   "metadata": {
    "ExecuteTime": {
     "start_time": "2020-04-23T14:17:30.741Z"
    }
   },
   "outputs": [],
   "source": [
    "grid_xgb = GridSearchCV(model_xgb, param_grid_xgb, scoring = \"f1\", return_train_score=False,n_jobs=-1,cv = cv_by_hand)\n",
    "grid_xgb.fit(X_finaltest_not_combined, y_finaltest_not_combined)\n",
    "print(grid_xgb.best_params_)"
   ]
  },
  {
   "cell_type": "code",
   "execution_count": null,
   "metadata": {
    "ExecuteTime": {
     "start_time": "2020-04-23T14:17:30.972Z"
    }
   },
   "outputs": [],
   "source": [
    "y_pred=grid_xgb.predict(X_val_not_combined)"
   ]
  },
  {
   "cell_type": "code",
   "execution_count": null,
   "metadata": {
    "ExecuteTime": {
     "start_time": "2020-04-23T14:17:31.212Z"
    }
   },
   "outputs": [],
   "source": [
    "skplt.metrics.plot_confusion_matrix(y_val_not_combined, y_pred, figsize=(10,10), text_fontsize=20)"
   ]
  },
  {
   "cell_type": "code",
   "execution_count": null,
   "metadata": {
    "ExecuteTime": {
     "start_time": "2020-04-23T14:17:31.660Z"
    },
    "scrolled": true
   },
   "outputs": [],
   "source": [
    "print(classification_report(y_val_not_combined,y_pred))"
   ]
  },
  {
   "cell_type": "markdown",
   "metadata": {},
   "source": [
    "## supervised combined"
   ]
  },
  {
   "cell_type": "markdown",
   "metadata": {},
   "source": [
    "### baseline"
   ]
  },
  {
   "cell_type": "code",
   "execution_count": null,
   "metadata": {
    "ExecuteTime": {
     "start_time": "2020-04-23T14:17:33.755Z"
    }
   },
   "outputs": [],
   "source": [
    "y_pred = np.zeros(len(X_val_combined))"
   ]
  },
  {
   "cell_type": "code",
   "execution_count": null,
   "metadata": {
    "ExecuteTime": {
     "start_time": "2020-04-23T14:17:33.979Z"
    }
   },
   "outputs": [],
   "source": [
    "skplt.metrics.plot_confusion_matrix(y_val_combined, y_pred, figsize=(10,10), text_fontsize=20)"
   ]
  },
  {
   "cell_type": "code",
   "execution_count": null,
   "metadata": {
    "ExecuteTime": {
     "start_time": "2020-04-23T14:17:34.619Z"
    }
   },
   "outputs": [],
   "source": [
    "print(classification_report(y_val_combined,y_pred))"
   ]
  },
  {
   "cell_type": "markdown",
   "metadata": {},
   "source": [
    "### classical ml models"
   ]
  },
  {
   "cell_type": "markdown",
   "metadata": {},
   "source": [
    "#### model selection"
   ]
  },
  {
   "cell_type": "code",
   "execution_count": null,
   "metadata": {
    "ExecuteTime": {
     "start_time": "2020-04-23T14:17:35.723Z"
    }
   },
   "outputs": [],
   "source": [
    "sel = ModelSelector(preprocessor_combined)"
   ]
  },
  {
   "cell_type": "code",
   "execution_count": null,
   "metadata": {
    "ExecuteTime": {
     "start_time": "2020-04-23T14:17:35.915Z"
    }
   },
   "outputs": [],
   "source": [
    "sel.select_model(X_finaltest_combined, y_finaltest_combined, True)"
   ]
  },
  {
   "cell_type": "markdown",
   "metadata": {},
   "source": [
    "#### xgb gridsearch"
   ]
  },
  {
   "cell_type": "code",
   "execution_count": null,
   "metadata": {
    "ExecuteTime": {
     "start_time": "2020-04-23T14:17:36.315Z"
    }
   },
   "outputs": [],
   "source": [
    "param_grid_xgb = {'xgbclassifier__max_depth':[1,2,5],\n",
    "                 'xgbclassifier__learning_rate':[0.1,0.2,0.3],\n",
    "                 'xgbclassifier__n_estimators':[200,300,400],\n",
    "                 'xgbclassifier__booster':[\"gbtree\"],\n",
    "                 'xgbclassifier__gamma':[0,0.01]}"
   ]
  },
  {
   "cell_type": "code",
   "execution_count": null,
   "metadata": {
    "ExecuteTime": {
     "start_time": "2020-04-23T14:17:36.499Z"
    }
   },
   "outputs": [],
   "source": [
    "xgb_clf = XGBClassifier(n_jobs=4,random_state=seed)\n",
    "model_xgb = make_pipeline(preprocessor_combined,xgb_clf)"
   ]
  },
  {
   "cell_type": "code",
   "execution_count": null,
   "metadata": {
    "ExecuteTime": {
     "start_time": "2020-04-23T14:17:36.699Z"
    }
   },
   "outputs": [],
   "source": [
    "labels = X_finaltest_combined.ref_number.values\n",
    "cv_by_hand = [(np.where(labels != label)[0], np.where(labels == label)[0])\n",
    "               for label in np.unique(labels)]"
   ]
  },
  {
   "cell_type": "code",
   "execution_count": null,
   "metadata": {
    "ExecuteTime": {
     "start_time": "2020-04-23T14:17:36.875Z"
    }
   },
   "outputs": [],
   "source": [
    "grid_xgb = GridSearchCV(model_xgb, param_grid_xgb, scoring = \"f1\", return_train_score=False,n_jobs=-1,cv = cv_by_hand)\n",
    "grid_xgb.fit(X_finaltest_combined, y_finaltest_combined)\n",
    "print(grid_xgb.best_params_)"
   ]
  },
  {
   "cell_type": "code",
   "execution_count": null,
   "metadata": {
    "ExecuteTime": {
     "start_time": "2020-04-23T14:17:37.076Z"
    }
   },
   "outputs": [],
   "source": [
    "y_pred=grid_xgb.predict(X_val_combined)"
   ]
  },
  {
   "cell_type": "code",
   "execution_count": null,
   "metadata": {
    "ExecuteTime": {
     "start_time": "2020-04-23T14:17:37.291Z"
    }
   },
   "outputs": [],
   "source": [
    "skplt.metrics.plot_confusion_matrix(y_val_combined, y_pred, figsize=(10,10), text_fontsize=20)\n"
   ]
  },
  {
   "cell_type": "code",
   "execution_count": null,
   "metadata": {
    "ExecuteTime": {
     "start_time": "2020-04-23T14:17:37.491Z"
    },
    "scrolled": false
   },
   "outputs": [],
   "source": [
    "print(classification_report(y_val_combined,y_pred))"
   ]
  },
  {
   "cell_type": "code",
   "execution_count": null,
   "metadata": {
    "ExecuteTime": {
     "start_time": "2020-04-23T14:17:37.683Z"
    }
   },
   "outputs": [],
   "source": [
    "y_pred_ref_pos = X_val_combined.ref_pos.values\n",
    "ratio_df = pd.DataFrame(pd.concat([pd.Series(y_pred),pd.Series(y_pred_ref_pos)],axis=1))\n",
    "ratio_df.columns =[\"predicted\",\"ref_pos\"]"
   ]
  },
  {
   "cell_type": "code",
   "execution_count": null,
   "metadata": {
    "ExecuteTime": {
     "start_time": "2020-04-23T14:17:37.876Z"
    }
   },
   "outputs": [],
   "source": [
    "for elm in ratio_df.ref_pos.unique():\n",
    "    msk = ratio_df[ratio_df.ref_pos == elm]\n",
    "    print(\"Ratio of modified Reads for ref_pos \" + str(elm) + \" is :\" + \n",
    "          str(round((len(msk[msk.predicted == 1])/len(msk))*100,2)))"
   ]
  },
  {
   "cell_type": "markdown",
   "metadata": {},
   "source": [
    "#### feature importances"
   ]
  },
  {
   "cell_type": "code",
   "execution_count": null,
   "metadata": {
    "ExecuteTime": {
     "start_time": "2020-04-23T14:17:38.228Z"
    }
   },
   "outputs": [],
   "source": [
    "labels = X_finaltest_combined.ref_number.values\n",
    "cv_by_hand = [(np.where(labels != label)[0], np.where(labels == label)[0])\n",
    "               for label in np.unique(labels)]"
   ]
  },
  {
   "cell_type": "code",
   "execution_count": null,
   "metadata": {
    "ExecuteTime": {
     "start_time": "2020-04-23T14:17:38.403Z"
    }
   },
   "outputs": [],
   "source": [
    "X_trans = preprocessor_combined.fit_transform(X_finaltest_combined)"
   ]
  },
  {
   "cell_type": "code",
   "execution_count": null,
   "metadata": {
    "ExecuteTime": {
     "start_time": "2020-04-23T14:17:38.587Z"
    }
   },
   "outputs": [],
   "source": [
    "\n",
    "xgb = XGBClassifier(n_jobs=4,random_state=seed, gamma= 0, learning_rate = 0.2,\n",
    "                        max_depth= 1, n_estimators = 200)"
   ]
  },
  {
   "cell_type": "code",
   "execution_count": null,
   "metadata": {
    "ExecuteTime": {
     "start_time": "2020-04-23T14:17:38.779Z"
    }
   },
   "outputs": [],
   "source": [
    "xgb.fit(X_trans, y_finaltest_combined)"
   ]
  },
  {
   "cell_type": "code",
   "execution_count": null,
   "metadata": {
    "ExecuteTime": {
     "start_time": "2020-04-23T14:17:38.979Z"
    }
   },
   "outputs": [],
   "source": [
    "bases = [\"_A\",\"_C\",\"_T\",\"_G\"]\n",
    "cat = [elm + base for elm in cat_features_combined for base in bases ]"
   ]
  },
  {
   "cell_type": "code",
   "execution_count": null,
   "metadata": {
    "ExecuteTime": {
     "start_time": "2020-04-23T14:17:39.179Z"
    }
   },
   "outputs": [],
   "source": [
    "feature_names = numeric_features_combined + cat"
   ]
  },
  {
   "cell_type": "code",
   "execution_count": null,
   "metadata": {
    "ExecuteTime": {
     "start_time": "2020-04-23T14:17:39.403Z"
    },
    "scrolled": true
   },
   "outputs": [],
   "source": [
    "skplt.estimators.plot_feature_importances(xgb, feature_names=feature_names, max_num_features=10)\n",
    "plt.xticks(rotation=90);"
   ]
  },
  {
   "cell_type": "markdown",
   "metadata": {},
   "source": [
    "### classical ml models with oversampling"
   ]
  },
  {
   "cell_type": "code",
   "execution_count": null,
   "metadata": {
    "ExecuteTime": {
     "start_time": "2020-04-23T14:17:40.059Z"
    }
   },
   "outputs": [],
   "source": [
    "smotet = SMOTETomek(sampling_strategy = 'minority', random_state = seed, n_jobs = -1)\n"
   ]
  },
  {
   "cell_type": "markdown",
   "metadata": {},
   "source": [
    "#### model selection"
   ]
  },
  {
   "cell_type": "code",
   "execution_count": null,
   "metadata": {
    "ExecuteTime": {
     "start_time": "2020-04-23T14:17:40.484Z"
    }
   },
   "outputs": [],
   "source": [
    "sel_os = ModelSelector(preprocessor_combined, smotet)\n",
    "\n",
    "sel_os.select_model(X_finaltest_combined, y_finaltest_combined, True)"
   ]
  },
  {
   "cell_type": "markdown",
   "metadata": {},
   "source": [
    "#### xgb gridsearch"
   ]
  },
  {
   "cell_type": "code",
   "execution_count": null,
   "metadata": {
    "ExecuteTime": {
     "start_time": "2020-04-23T14:17:40.891Z"
    }
   },
   "outputs": [],
   "source": [
    "param_grid_xgb = {'xgbclassifier__max_depth':[5,7,10],\n",
    "                 'xgbclassifier__learning_rate':[0.05,0.1,0.2],\n",
    "                 'xgbclassifier__n_estimators':[10,20,50,100],\n",
    "                 'xgbclassifier__booster':[\"gbtree\"],\n",
    "                 'xgbclassifier__gamma':[0,0.005,0.01,0.02]}"
   ]
  },
  {
   "cell_type": "code",
   "execution_count": null,
   "metadata": {
    "ExecuteTime": {
     "start_time": "2020-04-23T14:17:41.083Z"
    }
   },
   "outputs": [],
   "source": [
    "xgb_clf = XGBClassifier(n_jobs=4,random_state=seed)\n",
    "model_xgb = Pipeline([(\"transformer\",preprocessor_combined),(\"smt\",smotet),(\"xgbclassifier\",xgb_clf)])"
   ]
  },
  {
   "cell_type": "code",
   "execution_count": null,
   "metadata": {
    "ExecuteTime": {
     "start_time": "2020-04-23T14:17:41.268Z"
    }
   },
   "outputs": [],
   "source": [
    "labels = X_finaltest_combined.ref_number.values\n",
    "cv_by_hand = [(np.where(labels != label)[0], np.where(labels == label)[0])\n",
    "               for label in np.unique(labels)]"
   ]
  },
  {
   "cell_type": "code",
   "execution_count": null,
   "metadata": {
    "ExecuteTime": {
     "start_time": "2020-04-23T14:17:41.468Z"
    }
   },
   "outputs": [],
   "source": [
    "grid_xgb = GridSearchCV(model_xgb, param_grid_xgb, scoring = \"f1\", return_train_score=False,n_jobs=-1,cv = cv_by_hand)\n",
    "grid_xgb.fit(X_finaltest_combined, y_finaltest_combined)\n",
    "print(grid_xgb.best_params_)"
   ]
  },
  {
   "cell_type": "code",
   "execution_count": null,
   "metadata": {
    "ExecuteTime": {
     "start_time": "2020-04-23T14:17:41.643Z"
    }
   },
   "outputs": [],
   "source": [
    "y_pred=grid_xgb.predict(X_val_combined)"
   ]
  },
  {
   "cell_type": "code",
   "execution_count": null,
   "metadata": {
    "ExecuteTime": {
     "start_time": "2020-04-23T14:17:41.844Z"
    }
   },
   "outputs": [],
   "source": [
    "skplt.metrics.plot_confusion_matrix(y_val_combined, y_pred, figsize=(10,10), text_fontsize=20)\n"
   ]
  },
  {
   "cell_type": "code",
   "execution_count": null,
   "metadata": {
    "ExecuteTime": {
     "start_time": "2020-04-23T14:17:42.045Z"
    },
    "scrolled": true
   },
   "outputs": [],
   "source": [
    "print(classification_report(y_val_combined,y_pred))"
   ]
  },
  {
   "cell_type": "markdown",
   "metadata": {},
   "source": [
    "## unsupervised"
   ]
  },
  {
   "cell_type": "markdown",
   "metadata": {},
   "source": [
    "### TSNE"
   ]
  },
  {
   "cell_type": "code",
   "execution_count": null,
   "metadata": {
    "ExecuteTime": {
     "start_time": "2020-04-23T14:17:44.651Z"
    }
   },
   "outputs": [],
   "source": [
    "from sklearn.manifold import TSNE"
   ]
  },
  {
   "cell_type": "code",
   "execution_count": null,
   "metadata": {
    "ExecuteTime": {
     "start_time": "2020-04-23T14:17:44.820Z"
    },
    "scrolled": true
   },
   "outputs": [],
   "source": [
    "plt.figure(figsize = (20,40))\n",
    "\n",
    "for perplexity in range (5,51,5):\n",
    "    tsne = TSNE(random_state=7, perplexity = perplexity)\n",
    "    tsne_combined = tsne.fit_transform(preprocessor_combined.fit_transform(df_combined))\n",
    "    df_combined_w_tsne = pd.concat([df_combined,pd.Series(tsne_combined[:,0]).rename(\"tsne_d1\"),\n",
    "                      pd.Series(tsne_combined[:,1]).rename(\"tsne_d2\")],axis=1, )\n",
    "    plt.subplot(5,2,int(perplexity/5))\n",
    "    sns.scatterplot(data = df_combined_w_tsne, x = \"tsne_d1\", y = \"tsne_d2\", hue = \"modified_status\")\n",
    "    "
   ]
  },
  {
   "cell_type": "markdown",
   "metadata": {},
   "source": [
    "### UMAP"
   ]
  },
  {
   "cell_type": "code",
   "execution_count": null,
   "metadata": {
    "ExecuteTime": {
     "start_time": "2020-04-23T14:17:45.171Z"
    }
   },
   "outputs": [],
   "source": [
    "import umap"
   ]
  },
  {
   "cell_type": "code",
   "execution_count": null,
   "metadata": {
    "ExecuteTime": {
     "start_time": "2020-04-23T14:17:45.587Z"
    }
   },
   "outputs": [],
   "source": [
    "umap = umap.UMAP()"
   ]
  },
  {
   "cell_type": "code",
   "execution_count": null,
   "metadata": {
    "ExecuteTime": {
     "start_time": "2020-04-23T14:17:45.739Z"
    }
   },
   "outputs": [],
   "source": [
    "embedding = umap.fit_transform(preprocessor_combined.fit_transform(df_combined))"
   ]
  },
  {
   "cell_type": "code",
   "execution_count": null,
   "metadata": {
    "ExecuteTime": {
     "start_time": "2020-04-23T14:17:45.915Z"
    }
   },
   "outputs": [],
   "source": [
    "umap_df = pd.DataFrame(embedding)"
   ]
  },
  {
   "cell_type": "code",
   "execution_count": null,
   "metadata": {
    "ExecuteTime": {
     "start_time": "2020-04-23T14:17:46.083Z"
    }
   },
   "outputs": [],
   "source": [
    "umap_df[\"modified_status\"] = df_combined[\"modified_status\"].values"
   ]
  },
  {
   "cell_type": "code",
   "execution_count": null,
   "metadata": {
    "ExecuteTime": {
     "start_time": "2020-04-23T14:17:46.619Z"
    }
   },
   "outputs": [],
   "source": [
    "umap_df.columns = [\"umap_dim_1\",\"umap_dim_2\",\"modified_status\"]"
   ]
  },
  {
   "cell_type": "code",
   "execution_count": null,
   "metadata": {
    "ExecuteTime": {
     "start_time": "2020-04-23T14:17:46.876Z"
    }
   },
   "outputs": [],
   "source": [
    "plt.figure(figsize=(10,10))\n",
    "sns.scatterplot(x=\"umap_dim_2\", y=\"umap_dim_1\", data = umap_df, hue=\"modified_status\")\n"
   ]
  },
  {
   "cell_type": "markdown",
   "metadata": {},
   "source": [
    "### kmeans"
   ]
  },
  {
   "cell_type": "code",
   "execution_count": 277,
   "metadata": {
    "ExecuteTime": {
     "end_time": "2020-04-22T14:18:42.041490Z",
     "start_time": "2020-04-22T14:18:42.039490Z"
    }
   },
   "outputs": [],
   "source": [
    "from sklearn.cluster import KMeans"
   ]
  },
  {
   "cell_type": "code",
   "execution_count": 278,
   "metadata": {
    "ExecuteTime": {
     "end_time": "2020-04-22T14:18:42.161563Z",
     "start_time": "2020-04-22T14:18:42.159573Z"
    }
   },
   "outputs": [],
   "source": [
    "kmeans = KMeans(2, n_jobs = -1, random_state = seed)"
   ]
  },
  {
   "cell_type": "code",
   "execution_count": 279,
   "metadata": {
    "ExecuteTime": {
     "end_time": "2020-04-22T14:18:42.375657Z",
     "start_time": "2020-04-22T14:18:42.303640Z"
    }
   },
   "outputs": [],
   "source": [
    "y_pred = kmeans.fit_predict(preprocessor_combined.fit_transform(df_combined))\n",
    "y_true = df_combined[\"modified_status\"].values"
   ]
  },
  {
   "cell_type": "code",
   "execution_count": 280,
   "metadata": {
    "ExecuteTime": {
     "end_time": "2020-04-22T14:18:42.461588Z",
     "start_time": "2020-04-22T14:18:42.455586Z"
    }
   },
   "outputs": [
    {
     "data": {
      "text/plain": [
       "0.016710851209749727"
      ]
     },
     "execution_count": 280,
     "metadata": {},
     "output_type": "execute_result"
    }
   ],
   "source": [
    "adjusted_rand_score(y_true, y_pred)"
   ]
  },
  {
   "cell_type": "code",
   "execution_count": 281,
   "metadata": {
    "ExecuteTime": {
     "end_time": "2020-04-22T14:18:42.582876Z",
     "start_time": "2020-04-22T14:18:42.575874Z"
    }
   },
   "outputs": [
    {
     "data": {
      "text/plain": [
       "0.05268926163111662"
      ]
     },
     "execution_count": 281,
     "metadata": {},
     "output_type": "execute_result"
    }
   ],
   "source": [
    "adjusted_mutual_info_score(y_true, y_pred)"
   ]
  },
  {
   "cell_type": "markdown",
   "metadata": {},
   "source": [
    "### gmm"
   ]
  },
  {
   "cell_type": "code",
   "execution_count": 282,
   "metadata": {
    "ExecuteTime": {
     "end_time": "2020-04-22T14:18:43.046380Z",
     "start_time": "2020-04-22T14:18:43.042379Z"
    }
   },
   "outputs": [],
   "source": [
    "from sklearn.mixture import GaussianMixture"
   ]
  },
  {
   "cell_type": "code",
   "execution_count": 283,
   "metadata": {
    "ExecuteTime": {
     "end_time": "2020-04-22T14:18:43.201386Z",
     "start_time": "2020-04-22T14:18:43.199386Z"
    }
   },
   "outputs": [],
   "source": [
    "gmm = GaussianMixture(2, covariance_type=\"full\")"
   ]
  },
  {
   "cell_type": "code",
   "execution_count": 284,
   "metadata": {
    "ExecuteTime": {
     "end_time": "2020-04-22T14:18:43.450438Z",
     "start_time": "2020-04-22T14:18:43.360422Z"
    }
   },
   "outputs": [],
   "source": [
    "y_pred = gmm.fit_predict(preprocessor_combined.fit_transform(df_combined))\n",
    "y_true = df_combined[\"modified_status\"].values"
   ]
  },
  {
   "cell_type": "code",
   "execution_count": 285,
   "metadata": {
    "ExecuteTime": {
     "end_time": "2020-04-22T14:18:43.541459Z",
     "start_time": "2020-04-22T14:18:43.535457Z"
    }
   },
   "outputs": [
    {
     "data": {
      "text/plain": [
       "0.0413810549406657"
      ]
     },
     "execution_count": 285,
     "metadata": {},
     "output_type": "execute_result"
    }
   ],
   "source": [
    "adjusted_rand_score(y_true, y_pred)\n"
   ]
  },
  {
   "cell_type": "code",
   "execution_count": 286,
   "metadata": {
    "ExecuteTime": {
     "end_time": "2020-04-22T14:18:43.725867Z",
     "start_time": "2020-04-22T14:18:43.719866Z"
    }
   },
   "outputs": [
    {
     "data": {
      "text/plain": [
       "0.07852420731897536"
      ]
     },
     "execution_count": 286,
     "metadata": {},
     "output_type": "execute_result"
    }
   ],
   "source": [
    "adjusted_mutual_info_score(y_true, y_pred)"
   ]
  },
  {
   "cell_type": "markdown",
   "metadata": {
    "ExecuteTime": {
     "end_time": "2020-04-20T12:42:34.496628Z",
     "start_time": "2020-04-20T12:42:34.493637Z"
    }
   },
   "source": [
    "### hierarchical clustering"
   ]
  },
  {
   "cell_type": "code",
   "execution_count": 287,
   "metadata": {
    "ExecuteTime": {
     "end_time": "2020-04-22T14:18:44.736975Z",
     "start_time": "2020-04-22T14:18:44.135865Z"
    }
   },
   "outputs": [],
   "source": [
    "from sklearn.cluster import AgglomerativeClustering\n",
    "hc = AgglomerativeClustering(n_clusters = 2, affinity = 'euclidean', linkage = 'ward')\n",
    "y_pred = hc.fit_predict(preprocessor_combined.fit_transform(df_combined))"
   ]
  },
  {
   "cell_type": "code",
   "execution_count": 288,
   "metadata": {
    "ExecuteTime": {
     "end_time": "2020-04-22T14:18:44.744858Z",
     "start_time": "2020-04-22T14:18:44.736975Z"
    }
   },
   "outputs": [
    {
     "data": {
      "text/plain": [
       "0.0018435228248239331"
      ]
     },
     "execution_count": 288,
     "metadata": {},
     "output_type": "execute_result"
    }
   ],
   "source": [
    "adjusted_rand_score(y_true, y_pred)"
   ]
  },
  {
   "cell_type": "code",
   "execution_count": 289,
   "metadata": {
    "ExecuteTime": {
     "end_time": "2020-04-22T14:18:45.678924Z",
     "start_time": "2020-04-22T14:18:45.671835Z"
    }
   },
   "outputs": [
    {
     "data": {
      "text/plain": [
       "0.054323864899668325"
      ]
     },
     "execution_count": 289,
     "metadata": {},
     "output_type": "execute_result"
    }
   ],
   "source": [
    "adjusted_mutual_info_score(y_true, y_pred)"
   ]
  }
 ],
 "metadata": {
  "kernelspec": {
   "display_name": "Python 3",
   "language": "python",
   "name": "python3"
  },
  "language_info": {
   "codemirror_mode": {
    "name": "ipython",
    "version": 3
   },
   "file_extension": ".py",
   "mimetype": "text/x-python",
   "name": "python",
   "nbconvert_exporter": "python",
   "pygments_lexer": "ipython3",
   "version": "3.7.7"
  },
  "toc": {
   "base_numbering": 1,
   "nav_menu": {},
   "number_sections": true,
   "sideBar": true,
   "skip_h1_title": false,
   "title_cell": "Table of Contents",
   "title_sidebar": "Contents",
   "toc_cell": false,
   "toc_position": {
    "height": "calc(100% - 180px)",
    "left": "10px",
    "top": "150px",
    "width": "383.984px"
   },
   "toc_section_display": true,
   "toc_window_display": true
  }
 },
 "nbformat": 4,
 "nbformat_minor": 4
}
