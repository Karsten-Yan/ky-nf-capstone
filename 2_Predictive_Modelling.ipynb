{
 "cells": [
  {
   "cell_type": "markdown",
   "metadata": {},
   "source": [
    "# Import Data"
   ]
  },
  {
   "cell_type": "code",
   "execution_count": 1,
   "metadata": {
    "ExecuteTime": {
     "end_time": "2020-04-26T13:45:39.535222Z",
     "start_time": "2020-04-26T13:45:38.274939Z"
    }
   },
   "outputs": [],
   "source": [
    "import pandas as pd\n",
    "import numpy as np\n",
    "import seaborn as sns\n",
    "import matplotlib.pyplot as plt\n",
    "import math as math\n",
    "import scikitplot as skplt\n",
    "\n",
    "sns.set(style=\"white\", palette=\"pastel\",font_scale=1.5, rc={\"lines.linewidth\": 2.5,'figure.figsize':(11.7,8.27)})\n",
    "pd.options.display.max_columns = None"
   ]
  },
  {
   "cell_type": "code",
   "execution_count": 2,
   "metadata": {
    "ExecuteTime": {
     "end_time": "2020-04-26T13:45:42.343374Z",
     "start_time": "2020-04-26T13:45:39.536222Z"
    }
   },
   "outputs": [],
   "source": [
    "from sklearn.model_selection import GridSearchCV, train_test_split, RandomizedSearchCV, KFold, cross_val_score, cross_validate\n",
    "from sklearn.metrics import make_scorer, confusion_matrix, fbeta_score, classification_report, adjusted_rand_score, adjusted_mutual_info_score \n",
    "from sklearn.ensemble import AdaBoostClassifier, RandomForestClassifier,StackingClassifier, IsolationForest\n",
    "from sklearn.linear_model import LogisticRegression\n",
    "from sklearn.preprocessing import StandardScaler, OneHotEncoder, LabelEncoder, PolynomialFeatures\n",
    "from sklearn.pipeline import make_pipeline\n",
    "from sklearn.compose import ColumnTransformer\n",
    "from sklearn.impute import SimpleImputer\n",
    "from sklearn.neighbors import KNeighborsClassifier\n",
    "from sklearn.svm import SVC\n",
    "from sklearn.naive_bayes import GaussianNB\n",
    "from xgboost import XGBClassifier\n",
    "from pprint import pprint\n",
    "from imblearn.over_sampling import SMOTE\n",
    "from imblearn.combine import SMOTETomek\n",
    "from imblearn.pipeline import Pipeline"
   ]
  },
  {
   "cell_type": "code",
   "execution_count": 3,
   "metadata": {
    "ExecuteTime": {
     "end_time": "2020-04-26T13:45:44.512620Z",
     "start_time": "2020-04-26T13:45:42.344374Z"
    }
   },
   "outputs": [
    {
     "name": "stderr",
     "output_type": "stream",
     "text": [
      "C:\\Users\\neomo\\anaconda3\\lib\\site-packages\\IPython\\core\\interactiveshell.py:3063: DtypeWarning: Columns (4,13,14,15,16,17,18) have mixed types.Specify dtype option on import or set low_memory=False.\n",
      "  interactivity=interactivity, compiler=compiler, result=result)\n"
     ]
    }
   ],
   "source": [
    "df_combined = pd.read_csv(\"data/exported/df_combined.csv\", index_col = 0)\n",
    "df_not_combined = pd.read_csv(\"data/exported/df_not_combined.csv\", index_col = 0)\n",
    "df_yeast_not_combined = pd.read_csv(\"data/exported/df_yeast_not_combined.csv\", index_col = 0)\n",
    "df_yeast_combined = pd.read_csv(\"data/exported/df_yeast_combined.csv\", index_col = 0)"
   ]
  },
  {
   "cell_type": "code",
   "execution_count": 4,
   "metadata": {
    "ExecuteTime": {
     "end_time": "2020-04-26T13:45:44.638648Z",
     "start_time": "2020-04-26T13:45:44.513620Z"
    }
   },
   "outputs": [],
   "source": [
    "df_not_combined = df_not_combined.astype({\"base_1\":\"category\",\"base_2\":\"category\",\"base_3\":\"category\",\\\n",
    "                                          \"base_4\":\"category\",\"base_5\":\"category\",\"modified_status\":\"category\"})\n",
    "df_not_combined = df_not_combined.astype({\"ref_number\":\"object\"})"
   ]
  },
  {
   "cell_type": "code",
   "execution_count": 5,
   "metadata": {
    "ExecuteTime": {
     "end_time": "2020-04-26T13:45:44.655652Z",
     "start_time": "2020-04-26T13:45:44.639648Z"
    }
   },
   "outputs": [],
   "source": [
    "df_combined = df_combined.astype({\"base_1\":\"category\",\"base_2\":\"category\",\"base_3\":\"category\",\\\n",
    "                                          \"base_4\":\"category\",\"base_5\":\"category\",\"modified_status\":\"category\"})\n",
    "df_combined = df_combined.astype({\"ref_number\":\"object\"})"
   ]
  },
  {
   "cell_type": "code",
   "execution_count": 6,
   "metadata": {
    "ExecuteTime": {
     "end_time": "2020-04-26T13:45:44.945724Z",
     "start_time": "2020-04-26T13:45:44.656652Z"
    }
   },
   "outputs": [],
   "source": [
    "df_yeast_not_combined = df_yeast_not_combined.astype({\"base_1\":\"category\",\"base_2\":\"category\",\"base_3\":\"category\",\\\n",
    "                                          \"base_4\":\"category\",\"base_5\":\"category\"})\n",
    "df_yeast_not_combined = df_yeast_not_combined.astype({\"ref_number\":\"object\"})"
   ]
  },
  {
   "cell_type": "code",
   "execution_count": 7,
   "metadata": {
    "ExecuteTime": {
     "end_time": "2020-04-26T13:45:45.072752Z",
     "start_time": "2020-04-26T13:45:44.946724Z"
    }
   },
   "outputs": [],
   "source": [
    "df_yeast_combined = df_yeast_combined.astype({\"base_1\":\"category\",\"base_2\":\"category\",\"base_3\":\"category\",\\\n",
    "                                          \"base_4\":\"category\",\"base_5\":\"category\"})\n",
    "df_yeast_combined = df_yeast_combined.astype({\"ref_number\":\"object\"})"
   ]
  },
  {
   "cell_type": "markdown",
   "metadata": {},
   "source": [
    "# train test split"
   ]
  },
  {
   "cell_type": "code",
   "execution_count": 8,
   "metadata": {
    "ExecuteTime": {
     "end_time": "2020-04-26T13:45:45.077755Z",
     "start_time": "2020-04-26T13:45:45.074753Z"
    }
   },
   "outputs": [],
   "source": [
    "# manual train test split according to ref_num to preserve sequence sequence identity\n",
    "# maybe do it according to read_num to increase variability?\n",
    "\n",
    "final_ref = [\"ref_0000\",\"ref_0001\",\"ref_0002\",\"ref_0003\"]\n",
    "val_ref = [\"ref_0004\"]\n",
    "train_ref = [\"ref_0000\",\"ref_0001\",\"ref_0002\"]\n",
    "test_ref = [\"ref_0003\"]"
   ]
  },
  {
   "cell_type": "code",
   "execution_count": 9,
   "metadata": {
    "ExecuteTime": {
     "end_time": "2020-04-26T13:45:45.081755Z",
     "start_time": "2020-04-26T13:45:45.079754Z"
    }
   },
   "outputs": [],
   "source": [
    "seed = 7"
   ]
  },
  {
   "cell_type": "markdown",
   "metadata": {},
   "source": [
    "## not_combined"
   ]
  },
  {
   "cell_type": "code",
   "execution_count": 10,
   "metadata": {
    "ExecuteTime": {
     "end_time": "2020-04-26T13:45:45.169775Z",
     "start_time": "2020-04-26T13:45:45.082754Z"
    }
   },
   "outputs": [],
   "source": [
    "X_finaltest_not_combined = df_not_combined[df_not_combined[\"ref_number\"].isin(final_ref)]\n",
    "y_finaltest_not_combined = X_finaltest_not_combined.pop(\"modified_status\")\n",
    "X_val_not_combined = df_not_combined[df_not_combined[\"ref_number\"].isin(val_ref)]\n",
    "y_val_not_combined = X_val_not_combined.pop(\"modified_status\")\n",
    "X_train_not_combined = df_not_combined[df_not_combined[\"ref_number\"].isin(train_ref)]\n",
    "y_train_not_combined = X_train_not_combined.pop(\"modified_status\")\n",
    "X_test_not_combined = df_not_combined[df_not_combined[\"ref_number\"].isin(test_ref)]\n",
    "y_test_not_combined = X_test_not_combined.pop(\"modified_status\")"
   ]
  },
  {
   "cell_type": "code",
   "execution_count": 11,
   "metadata": {
    "ExecuteTime": {
     "end_time": "2020-04-26T13:45:45.174776Z",
     "start_time": "2020-04-26T13:45:45.170774Z"
    }
   },
   "outputs": [],
   "source": [
    "numeric_features_not_combined = list(X_train_not_combined.columns[X_train_not_combined.dtypes ==  \"float\"])"
   ]
  },
  {
   "cell_type": "code",
   "execution_count": 12,
   "metadata": {
    "ExecuteTime": {
     "end_time": "2020-04-26T13:45:45.180777Z",
     "start_time": "2020-04-26T13:45:45.175776Z"
    }
   },
   "outputs": [
    {
     "data": {
      "text/plain": [
       "['dwell_time',\n",
       " 'median_value',\n",
       " 'dwell_time_rolling_median',\n",
       " 'median_value_rolling_median',\n",
       " 'dwell_time_rolling_min',\n",
       " 'median_value_rolling_min']"
      ]
     },
     "execution_count": 12,
     "metadata": {},
     "output_type": "execute_result"
    }
   ],
   "source": [
    "numeric_features_not_combined"
   ]
  },
  {
   "cell_type": "code",
   "execution_count": 13,
   "metadata": {
    "ExecuteTime": {
     "end_time": "2020-04-26T13:45:45.184779Z",
     "start_time": "2020-04-26T13:45:45.181778Z"
    }
   },
   "outputs": [],
   "source": [
    "cat_features_not_combined = list(X_train_not_combined.columns[X_train_not_combined.dtypes ==  \"category\"])"
   ]
  },
  {
   "cell_type": "code",
   "execution_count": 14,
   "metadata": {
    "ExecuteTime": {
     "end_time": "2020-04-26T13:45:45.190779Z",
     "start_time": "2020-04-26T13:45:45.185778Z"
    }
   },
   "outputs": [
    {
     "data": {
      "text/plain": [
       "['base_1', 'base_2', 'base_3', 'base_4', 'base_5']"
      ]
     },
     "execution_count": 14,
     "metadata": {},
     "output_type": "execute_result"
    }
   ],
   "source": [
    "cat_features_not_combined"
   ]
  },
  {
   "cell_type": "code",
   "execution_count": 15,
   "metadata": {
    "ExecuteTime": {
     "end_time": "2020-04-26T13:45:45.196781Z",
     "start_time": "2020-04-26T13:45:45.191779Z"
    }
   },
   "outputs": [],
   "source": [
    "#preprocessing pipeline to scale numeric and onehot encode categorical values\n",
    "imputer1_not_combined = SimpleImputer(strategy=\"median\")\n",
    "scaler1_not_combined = StandardScaler()\n",
    "numeric_transformer_not_combined = make_pipeline(imputer1_not_combined,scaler1_not_combined)\n",
    "\n",
    "\n",
    "imputer2_not_combined = SimpleImputer(strategy='constant', fill_value='missing')\n",
    "encoder_not_combined = OneHotEncoder(handle_unknown='error')\n",
    "cat_transformer_not_combined = make_pipeline(imputer2_not_combined,encoder_not_combined)\n",
    "\n",
    "preprocessor_not_combined = ColumnTransformer(\n",
    "    transformers=[\n",
    "        ('num', numeric_transformer_not_combined, numeric_features_not_combined),\n",
    "        ('cat', cat_transformer_not_combined, cat_features_not_combined)\n",
    "    ])"
   ]
  },
  {
   "cell_type": "markdown",
   "metadata": {},
   "source": [
    "## combined"
   ]
  },
  {
   "cell_type": "code",
   "execution_count": 16,
   "metadata": {
    "ExecuteTime": {
     "end_time": "2020-04-26T13:45:45.211784Z",
     "start_time": "2020-04-26T13:45:45.197781Z"
    }
   },
   "outputs": [],
   "source": [
    "X_finaltest_combined = df_combined[df_combined[\"ref_number\"].isin(final_ref)]\n",
    "y_finaltest_combined = X_finaltest_combined.pop(\"modified_status\")\n",
    "X_val_combined = df_combined[df_combined[\"ref_number\"].isin(val_ref)]\n",
    "y_val_combined = X_val_combined.pop(\"modified_status\")\n",
    "X_train_combined = df_combined[df_combined[\"ref_number\"].isin(train_ref)]\n",
    "y_train_combined = X_train_combined.pop(\"modified_status\")\n",
    "X_test_combined = df_combined[df_combined[\"ref_number\"].isin(test_ref)]\n",
    "y_test_combined = X_test_combined.pop(\"modified_status\")"
   ]
  },
  {
   "cell_type": "code",
   "execution_count": 17,
   "metadata": {
    "ExecuteTime": {
     "end_time": "2020-04-26T13:45:45.215787Z",
     "start_time": "2020-04-26T13:45:45.212784Z"
    }
   },
   "outputs": [],
   "source": [
    "numeric_features_combined = list(X_train_combined .columns[X_train_combined .dtypes ==  \"float\"])"
   ]
  },
  {
   "cell_type": "code",
   "execution_count": 18,
   "metadata": {
    "ExecuteTime": {
     "end_time": "2020-04-26T13:45:45.221786Z",
     "start_time": "2020-04-26T13:45:45.216785Z"
    }
   },
   "outputs": [
    {
     "data": {
      "text/plain": [
       "['dwell_time_median',\n",
       " 'dwell_time_std',\n",
       " 'dwell_time_min',\n",
       " 'dwell_time_max',\n",
       " 'median_value_median',\n",
       " 'median_value_std',\n",
       " 'median_value_min',\n",
       " 'median_value_max',\n",
       " 'dwell_time_rolling_median',\n",
       " 'median_value_rolling_median',\n",
       " 'dwell_time_rolling_min',\n",
       " 'median_value_rolling_min']"
      ]
     },
     "execution_count": 18,
     "metadata": {},
     "output_type": "execute_result"
    }
   ],
   "source": [
    "numeric_features_combined"
   ]
  },
  {
   "cell_type": "code",
   "execution_count": 19,
   "metadata": {
    "ExecuteTime": {
     "end_time": "2020-04-26T13:45:45.225788Z",
     "start_time": "2020-04-26T13:45:45.222786Z"
    }
   },
   "outputs": [],
   "source": [
    "cat_features_combined = list(X_train_combined.columns[X_train_combined.dtypes ==  \"category\"])"
   ]
  },
  {
   "cell_type": "code",
   "execution_count": 20,
   "metadata": {
    "ExecuteTime": {
     "end_time": "2020-04-26T13:45:45.231788Z",
     "start_time": "2020-04-26T13:45:45.226788Z"
    }
   },
   "outputs": [
    {
     "data": {
      "text/plain": [
       "['base_1', 'base_2', 'base_3', 'base_4', 'base_5']"
      ]
     },
     "execution_count": 20,
     "metadata": {},
     "output_type": "execute_result"
    }
   ],
   "source": [
    "cat_features_combined"
   ]
  },
  {
   "cell_type": "code",
   "execution_count": 21,
   "metadata": {
    "ExecuteTime": {
     "end_time": "2020-04-26T13:45:45.237791Z",
     "start_time": "2020-04-26T13:45:45.232789Z"
    }
   },
   "outputs": [],
   "source": [
    "imputer1_combined = SimpleImputer(strategy=\"median\")\n",
    "scaler1_combined = StandardScaler()\n",
    "numeric_transformer_combined = make_pipeline(imputer1_combined,scaler1_combined)\n",
    "\n",
    "\n",
    "imputer2_combined = SimpleImputer(strategy='constant', fill_value='missing')\n",
    "encoder_combined = OneHotEncoder(handle_unknown='error')\n",
    "cat_transformer_combined = make_pipeline(imputer2_combined,encoder_combined)\n",
    "\n",
    "preprocessor_combined = ColumnTransformer(\n",
    "    transformers=[\n",
    "        ('num', numeric_transformer_combined, numeric_features_combined),\n",
    "        ('cat', cat_transformer_combined, cat_features_combined)\n",
    "    ])"
   ]
  },
  {
   "cell_type": "markdown",
   "metadata": {},
   "source": [
    "# supervised"
   ]
  },
  {
   "cell_type": "code",
   "execution_count": 22,
   "metadata": {
    "ExecuteTime": {
     "end_time": "2020-04-26T13:45:45.261795Z",
     "start_time": "2020-04-26T13:45:45.238790Z"
    }
   },
   "outputs": [],
   "source": [
    "# model selector class to choose models\n",
    "\n",
    "class ModelSelector():\n",
    "    \n",
    "    def __init__(self, preprocessor, sampler=None, instance_name=None):\n",
    "        # initialise class with predetrmined models and tests, maybe add functions to add/change them afterwards?\n",
    "        # add option to use a sampler (default = none)\n",
    "        self.results = []\n",
    "        self.name = []\n",
    "        self.preprocessor = preprocessor\n",
    "        self.sampler = sampler\n",
    "        self.cv = []\n",
    "        self.labels = []\n",
    "        self.cv_state = True\n",
    "        self.scoring = {'precision':'precision',\n",
    "                        'recall': 'recall',\n",
    "                        'f1score':'f1',\n",
    "                        'roc auc':'roc_auc'}\n",
    "        self.models = [\n",
    "                        ('LR', LogisticRegression(random_state=seed, max_iter = 1000, n_jobs=-1)),\n",
    "                        ('KNN', KNeighborsClassifier(n_jobs = -1)),\n",
    "                        ('RF', RandomForestClassifier(random_state=seed, n_jobs = -1)),\n",
    "                        ('ADAB', AdaBoostClassifier(random_state=seed)),\n",
    "                        ('XGB',  XGBClassifier(random_state=seed, n_jobs = -1)),\n",
    "                        ('SVC', SVC(random_state=seed)),\n",
    "                        ('GNB', GaussianNB())\n",
    "                    ]\n",
    "        self.instance_name = instance_name\n",
    "        self.tests = [\"test_\"+elm for elm in self.scoring.keys()]\n",
    "        self.best_results= []\n",
    "\n",
    "\n",
    "    # function for determining the cvs, if True do cv for each ref_num\n",
    "    def __cv__(self, X):\n",
    "        if self.cv_state == True:\n",
    "            self.labels = X.ref_number.values\n",
    "            self.cv = [(np.where(self.labels != label)[0], np.where(self.labels == label)[0]) for label in np.unique(self.labels)]\n",
    "        else:\n",
    "            self.cv = 5\n",
    "   \n",
    "\n",
    "    # fit each model and do cv and record cvs and names\n",
    "    def select_model(self, X, y, state):\n",
    "        self.cv_state = state\n",
    "        self.__cv__(X)\n",
    "        for name, model in self.models:\n",
    "            model_pipe = Pipeline([(self.preprocessor.__class__.__name__,self.preprocessor),\n",
    "                                   (self.sampler.__class__.__name__,self.sampler),(\"name\",model)])\n",
    "            cv_results = cross_validate(model_pipe, X, y, cv=self.cv, scoring=self.scoring, n_jobs=-1, return_train_score=True)\n",
    "            self.results.append(cv_results)\n",
    "            self.name.append(name)\n",
    "    \n",
    "    def plot_selection(self):\n",
    "        # plot the test scores for each test and each model\n",
    "        plt.figure(figsize = (15,8))\n",
    "        plt.suptitle('Algorithm Comparison for ' + self.instance_name)\n",
    "        for idx, test in enumerate(self.tests):\n",
    "            temp_results = [self.results[i][test] for i in range(len(self.results))]\n",
    "            plt.subplot(1,len(self.tests),idx+1)\n",
    "            sns.boxplot(y = temp_results, x = self.name)\n",
    "            plt.title(test)\n",
    "            plt.xticks(rotation = 90)\n",
    "            plt.ylim(0,1.05)\n",
    "        plt.tight_layout()\n",
    "        plt.subplots_adjust(top=0.85)\n",
    "    \n",
    "    def get_scores(self, top = 3):\n",
    "        \n",
    "        for idx, test in enumerate(self.tests):\n",
    "            temp_results = [np.mean(self.results[i][test]) for i in range(len(self.results))]\n",
    "            test_name = [test for i in range(len(self.name))]\n",
    "            instance_name = [self.instance_name for i in range (len(self.name))]\n",
    "            temp_best = sorted(zip(temp_results,self.name,test_name, instance_name), reverse = True)[:top]\n",
    "            self.best_results.append(temp_best)\n",
    "            \n",
    "        test= pd.DataFrame()\n",
    "        for i in range(np.array(self.best_results).shape[0]): \n",
    "            test= pd.concat([test, pd.DataFrame(np.array(self.best_results)[i])], axis=0)\n",
    "        test.columns = [\"test_result\",\"model\",\"test\", \"instance_name\"]\n",
    "        test.test_result = test.test_result.astype(float)\n",
    "        test.set_index([\"instance_name\",\"test\",\"model\"], inplace = True)\n",
    "        return(test)"
   ]
  },
  {
   "cell_type": "code",
   "execution_count": 23,
   "metadata": {
    "ExecuteTime": {
     "end_time": "2020-04-26T13:45:45.267797Z",
     "start_time": "2020-04-26T13:45:45.265795Z"
    }
   },
   "outputs": [],
   "source": [
    "model_selection_results = pd.DataFrame()"
   ]
  },
  {
   "cell_type": "code",
   "execution_count": 360,
   "metadata": {
    "ExecuteTime": {
     "end_time": "2020-04-26T21:38:24.566106Z",
     "start_time": "2020-04-26T21:38:24.559105Z"
    }
   },
   "outputs": [],
   "source": [
    "def modified_ratio(X, y, threshold = 0):\n",
    "    \n",
    "    modified_pos = []\n",
    "    modified_pos_ratio = []\n",
    "    y_pred_ref_pos = X.ref_pos.values\n",
    "    ratio_df = pd.DataFrame(pd.concat([pd.Series(y),pd.Series(y_pred_ref_pos)],axis=1))\n",
    "    ratio_df.columns =[\"predicted\",\"ref_pos\"]\n",
    "    for elm in ratio_df.ref_pos.unique():\n",
    "        msk = ratio_df[ratio_df.ref_pos == elm]\n",
    "        ratio = round((len(msk[msk.predicted == 1])/len(msk))*100,2)\n",
    "        if ratio > threshold:\n",
    "            print(\"Ratio of modified Reads for ref_pos \" + str(elm) + \" is :\" + str(ratio))\n",
    "            modified_pos.append(elm)\n",
    "            modified_pos_ratio.append(ratio)\n",
    "    df = pd.DataFrame({\"ratio\":modified_pos_ratio}, index = modified_pos )\n",
    "    df.index.rename(\"ref_pos\",inplace=True)\n",
    "    return (df)"
   ]
  },
  {
   "cell_type": "markdown",
   "metadata": {},
   "source": [
    "## baseline"
   ]
  },
  {
   "cell_type": "code",
   "execution_count": 24,
   "metadata": {
    "ExecuteTime": {
     "end_time": "2020-04-26T13:45:45.272798Z",
     "start_time": "2020-04-26T13:45:45.269796Z"
    }
   },
   "outputs": [],
   "source": [
    "y_pred = np.zeros(len(X_val_not_combined))"
   ]
  },
  {
   "cell_type": "code",
   "execution_count": 25,
   "metadata": {
    "ExecuteTime": {
     "end_time": "2020-04-26T13:45:45.553860Z",
     "start_time": "2020-04-26T13:45:45.273797Z"
    }
   },
   "outputs": [
    {
     "data": {
      "text/plain": [
       "<matplotlib.axes._subplots.AxesSubplot at 0x17bda733f48>"
      ]
     },
     "execution_count": 25,
     "metadata": {},
     "output_type": "execute_result"
    },
    {
     "data": {
      "image/png": "[encoded data removed]",
      "text/plain": [
       "<Figure size 720x720 with 2 Axes>"
      ]
     },
     "metadata": {},
     "output_type": "display_data"
    }
   ],
   "source": [
    "skplt.metrics.plot_confusion_matrix(y_val_not_combined, y_pred, figsize=(10,10), text_fontsize=20)"
   ]
  },
  {
   "cell_type": "code",
   "execution_count": 26,
   "metadata": {
    "ExecuteTime": {
     "end_time": "2020-04-26T13:45:45.621876Z",
     "start_time": "2020-04-26T13:45:45.554861Z"
    }
   },
   "outputs": [
    {
     "name": "stdout",
     "output_type": "stream",
     "text": [
      "              precision    recall  f1-score   support\n",
      "\n",
      "         0.0       0.97      1.00      0.98     43585\n",
      "         1.0       0.00      0.00      0.00      1495\n",
      "\n",
      "    accuracy                           0.97     45080\n",
      "   macro avg       0.48      0.50      0.49     45080\n",
      "weighted avg       0.93      0.97      0.95     45080\n",
      "\n"
     ]
    },
    {
     "name": "stderr",
     "output_type": "stream",
     "text": [
      "C:\\Users\\neomo\\anaconda3\\lib\\site-packages\\sklearn\\metrics\\_classification.py:1272: UndefinedMetricWarning: Precision and F-score are ill-defined and being set to 0.0 in labels with no predicted samples. Use `zero_division` parameter to control this behavior.\n",
      "  _warn_prf(average, modifier, msg_start, len(result))\n"
     ]
    }
   ],
   "source": [
    "print(classification_report(y_val_not_combined,y_pred))"
   ]
  },
  {
   "cell_type": "markdown",
   "metadata": {},
   "source": [
    "## classical ml models"
   ]
  },
  {
   "cell_type": "markdown",
   "metadata": {},
   "source": [
    "### model selection"
   ]
  },
  {
   "cell_type": "code",
   "execution_count": 27,
   "metadata": {
    "ExecuteTime": {
     "end_time": "2020-04-26T13:45:45.624877Z",
     "start_time": "2020-04-26T13:45:45.622877Z"
    }
   },
   "outputs": [],
   "source": [
    "sel = ModelSelector(preprocessor_not_combined, instance_name = \"Uncombined Dataframe\")"
   ]
  },
  {
   "cell_type": "code",
   "execution_count": 28,
   "metadata": {
    "ExecuteTime": {
     "end_time": "2020-04-26T13:51:59.367125Z",
     "start_time": "2020-04-26T13:45:45.625876Z"
    },
    "scrolled": true
   },
   "outputs": [],
   "source": [
    "sel.select_model(X_finaltest_not_combined, y_finaltest_not_combined, True)"
   ]
  },
  {
   "cell_type": "code",
   "execution_count": 29,
   "metadata": {
    "ExecuteTime": {
     "end_time": "2020-04-26T13:52:00.406358Z",
     "start_time": "2020-04-26T13:51:59.368125Z"
    }
   },
   "outputs": [
    {
     "data": {
      "image/png": "[encoded data removed]",
      "text/plain": [
       "<Figure size 1080x576 with 4 Axes>"
      ]
     },
     "metadata": {},
     "output_type": "display_data"
    }
   ],
   "source": [
    "sel.plot_selection()"
   ]
  },
  {
   "cell_type": "code",
   "execution_count": 30,
   "metadata": {
    "ExecuteTime": {
     "end_time": "2020-04-26T13:52:00.419361Z",
     "start_time": "2020-04-26T13:52:00.407358Z"
    }
   },
   "outputs": [],
   "source": [
    "model_selection_results = pd.concat([model_selection_results,sel.get_scores()], axis=0)"
   ]
  },
  {
   "cell_type": "markdown",
   "metadata": {},
   "source": [
    "### xgb gridsearch"
   ]
  },
  {
   "cell_type": "code",
   "execution_count": 332,
   "metadata": {
    "ExecuteTime": {
     "end_time": "2020-04-26T21:31:00.313640Z",
     "start_time": "2020-04-26T21:31:00.309638Z"
    }
   },
   "outputs": [],
   "source": [
    "param_grid_xgb = {'xgbclassifier__max_depth':[1],\n",
    "                 'xgbclassifier__learning_rate':[0.2],\n",
    "                 'xgbclassifier__n_estimators':[500],\n",
    "                 'xgbclassifier__booster':[\"gbtree\"],\n",
    "                 'xgbclassifier__gamma':[0]}"
   ]
  },
  {
   "cell_type": "code",
   "execution_count": 333,
   "metadata": {
    "ExecuteTime": {
     "end_time": "2020-04-26T21:31:00.521688Z",
     "start_time": "2020-04-26T21:31:00.518685Z"
    }
   },
   "outputs": [],
   "source": [
    "xgb_clf = XGBClassifier(n_jobs=4,random_state=seed)\n",
    "model_xgb = make_pipeline(preprocessor_not_combined,xgb_clf)"
   ]
  },
  {
   "cell_type": "code",
   "execution_count": 334,
   "metadata": {
    "ExecuteTime": {
     "end_time": "2020-04-26T21:31:00.807751Z",
     "start_time": "2020-04-26T21:31:00.685723Z"
    }
   },
   "outputs": [],
   "source": [
    "labels = X_finaltest_not_combined.ref_number.values\n",
    "cv_by_hand = [(np.where(labels != label)[0], np.where(labels == label)[0])\n",
    "               for label in np.unique(labels)]"
   ]
  },
  {
   "cell_type": "code",
   "execution_count": 335,
   "metadata": {
    "ExecuteTime": {
     "end_time": "2020-04-26T21:31:22.643081Z",
     "start_time": "2020-04-26T21:31:00.869764Z"
    }
   },
   "outputs": [
    {
     "name": "stdout",
     "output_type": "stream",
     "text": [
      "Fitting 4 folds for each of 1 candidates, totalling 4 fits\n"
     ]
    },
    {
     "name": "stderr",
     "output_type": "stream",
     "text": [
      "[Parallel(n_jobs=-1)]: Using backend LokyBackend with 16 concurrent workers.\n",
      "[Parallel(n_jobs=-1)]: Done   4 out of   4 | elapsed:   12.7s finished\n"
     ]
    },
    {
     "name": "stdout",
     "output_type": "stream",
     "text": [
      "{'xgbclassifier__booster': 'gbtree', 'xgbclassifier__gamma': 0, 'xgbclassifier__learning_rate': 0.2, 'xgbclassifier__max_depth': 1, 'xgbclassifier__n_estimators': 500}\n"
     ]
    }
   ],
   "source": [
    "grid_xgb = GridSearchCV(model_xgb, param_grid_xgb, scoring = \"f1\", return_train_score=False,n_jobs=-1,cv = cv_by_hand, verbose=3)\n",
    "grid_xgb.fit(X_finaltest_not_combined, y_finaltest_not_combined)\n",
    "print(grid_xgb.best_params_)"
   ]
  },
  {
   "cell_type": "code",
   "execution_count": 336,
   "metadata": {
    "ExecuteTime": {
     "end_time": "2020-04-26T21:31:22.783112Z",
     "start_time": "2020-04-26T21:31:22.645081Z"
    }
   },
   "outputs": [],
   "source": [
    "y_pred=grid_xgb.predict(X_val_not_combined)"
   ]
  },
  {
   "cell_type": "code",
   "execution_count": 337,
   "metadata": {
    "ExecuteTime": {
     "end_time": "2020-04-26T21:31:23.050173Z",
     "start_time": "2020-04-26T21:31:22.785113Z"
    },
    "scrolled": false
   },
   "outputs": [
    {
     "data": {
      "text/plain": [
       "<matplotlib.axes._subplots.AxesSubplot at 0x17b86fa4788>"
      ]
     },
     "execution_count": 337,
     "metadata": {},
     "output_type": "execute_result"
    },
    {
     "data": {
      "image/png": "[encoded data removed]",
      "text/plain": [
       "<Figure size 720x720 with 2 Axes>"
      ]
     },
     "metadata": {},
     "output_type": "display_data"
    }
   ],
   "source": [
    "skplt.metrics.plot_confusion_matrix(y_val_not_combined, y_pred, figsize=(10,10), text_fontsize=20)"
   ]
  },
  {
   "cell_type": "code",
   "execution_count": 338,
   "metadata": {
    "ExecuteTime": {
     "end_time": "2020-04-26T21:31:23.122189Z",
     "start_time": "2020-04-26T21:31:23.051172Z"
    },
    "scrolled": false
   },
   "outputs": [
    {
     "name": "stdout",
     "output_type": "stream",
     "text": [
      "              precision    recall  f1-score   support\n",
      "\n",
      "         0.0       1.00      1.00      1.00     43585\n",
      "         1.0       0.91      0.86      0.88      1495\n",
      "\n",
      "    accuracy                           0.99     45080\n",
      "   macro avg       0.95      0.93      0.94     45080\n",
      "weighted avg       0.99      0.99      0.99     45080\n",
      "\n"
     ]
    }
   ],
   "source": [
    "print(classification_report(y_val_not_combined,y_pred))"
   ]
  },
  {
   "cell_type": "code",
   "execution_count": 361,
   "metadata": {
    "ExecuteTime": {
     "end_time": "2020-04-26T21:38:43.397206Z",
     "start_time": "2020-04-26T21:38:43.189238Z"
    }
   },
   "outputs": [
    {
     "name": "stdout",
     "output_type": "stream",
     "text": [
      "Ratio of modified Reads for ref_pos 15 is :45.22\n",
      "Ratio of modified Reads for ref_pos 26 is :45.22\n",
      "Ratio of modified Reads for ref_pos 43 is :45.22\n",
      "Ratio of modified Reads for ref_pos 58 is :45.22\n",
      "Ratio of modified Reads for ref_pos 65 is :30.43\n",
      "Ratio of modified Reads for ref_pos 75 is :45.22\n",
      "Ratio of modified Reads for ref_pos 81 is :45.22\n",
      "Ratio of modified Reads for ref_pos 104 is :45.22\n",
      "Ratio of modified Reads for ref_pos 123 is :44.78\n",
      "Ratio of modified Reads for ref_pos 163 is :45.22\n",
      "Ratio of modified Reads for ref_pos 169 is :32.61\n",
      "Ratio of modified Reads for ref_pos 179 is :45.22\n",
      "Ratio of modified Reads for ref_pos 185 is :41.74\n"
     ]
    },
    {
     "data": {
      "text/html": [
       "<div>\n",
       "<style scoped>\n",
       "    .dataframe tbody tr th:only-of-type {\n",
       "        vertical-align: middle;\n",
       "    }\n",
       "\n",
       "    .dataframe tbody tr th {\n",
       "        vertical-align: top;\n",
       "    }\n",
       "\n",
       "    .dataframe thead th {\n",
       "        text-align: right;\n",
       "    }\n",
       "</style>\n",
       "<table border=\"1\" class=\"dataframe\">\n",
       "  <thead>\n",
       "    <tr style=\"text-align: right;\">\n",
       "      <th></th>\n",
       "      <th>ratio</th>\n",
       "    </tr>\n",
       "    <tr>\n",
       "      <th>ref_pos</th>\n",
       "      <th></th>\n",
       "    </tr>\n",
       "  </thead>\n",
       "  <tbody>\n",
       "    <tr>\n",
       "      <th>15</th>\n",
       "      <td>45.22</td>\n",
       "    </tr>\n",
       "    <tr>\n",
       "      <th>26</th>\n",
       "      <td>45.22</td>\n",
       "    </tr>\n",
       "    <tr>\n",
       "      <th>43</th>\n",
       "      <td>45.22</td>\n",
       "    </tr>\n",
       "    <tr>\n",
       "      <th>58</th>\n",
       "      <td>45.22</td>\n",
       "    </tr>\n",
       "    <tr>\n",
       "      <th>65</th>\n",
       "      <td>30.43</td>\n",
       "    </tr>\n",
       "    <tr>\n",
       "      <th>75</th>\n",
       "      <td>45.22</td>\n",
       "    </tr>\n",
       "    <tr>\n",
       "      <th>81</th>\n",
       "      <td>45.22</td>\n",
       "    </tr>\n",
       "    <tr>\n",
       "      <th>104</th>\n",
       "      <td>45.22</td>\n",
       "    </tr>\n",
       "    <tr>\n",
       "      <th>123</th>\n",
       "      <td>44.78</td>\n",
       "    </tr>\n",
       "    <tr>\n",
       "      <th>163</th>\n",
       "      <td>45.22</td>\n",
       "    </tr>\n",
       "    <tr>\n",
       "      <th>169</th>\n",
       "      <td>32.61</td>\n",
       "    </tr>\n",
       "    <tr>\n",
       "      <th>179</th>\n",
       "      <td>45.22</td>\n",
       "    </tr>\n",
       "    <tr>\n",
       "      <th>185</th>\n",
       "      <td>41.74</td>\n",
       "    </tr>\n",
       "  </tbody>\n",
       "</table>\n",
       "</div>"
      ],
      "text/plain": [
       "         ratio\n",
       "ref_pos       \n",
       "15       45.22\n",
       "26       45.22\n",
       "43       45.22\n",
       "58       45.22\n",
       "65       30.43\n",
       "75       45.22\n",
       "81       45.22\n",
       "104      45.22\n",
       "123      44.78\n",
       "163      45.22\n",
       "169      32.61\n",
       "179      45.22\n",
       "185      41.74"
      ]
     },
     "execution_count": 361,
     "metadata": {},
     "output_type": "execute_result"
    }
   ],
   "source": [
    "modified_ratio(X_val_not_combined, y_pred, 30)"
   ]
  },
  {
   "cell_type": "markdown",
   "metadata": {},
   "source": [
    "### feature importances"
   ]
  },
  {
   "cell_type": "code",
   "execution_count": 264,
   "metadata": {
    "ExecuteTime": {
     "end_time": "2020-04-26T20:50:20.382739Z",
     "start_time": "2020-04-26T20:50:20.262722Z"
    }
   },
   "outputs": [],
   "source": [
    "labels = X_finaltest_not_combined.ref_number.values\n",
    "cv_by_hand = [(np.where(labels != label)[0], np.where(labels == label)[0])\n",
    "               for label in np.unique(labels)]"
   ]
  },
  {
   "cell_type": "code",
   "execution_count": 265,
   "metadata": {
    "ExecuteTime": {
     "end_time": "2020-04-26T20:50:21.001860Z",
     "start_time": "2020-04-26T20:50:20.482743Z"
    }
   },
   "outputs": [],
   "source": [
    "X_trans = preprocessor_not_combined.fit_transform(X_finaltest_not_combined)"
   ]
  },
  {
   "cell_type": "code",
   "execution_count": 266,
   "metadata": {
    "ExecuteTime": {
     "end_time": "2020-04-26T20:50:21.005862Z",
     "start_time": "2020-04-26T20:50:21.002860Z"
    }
   },
   "outputs": [],
   "source": [
    "xgb = XGBClassifier(n_jobs=4,random_state=seed, gamma= 0, learning_rate = 0.2,\n",
    "                        max_depth= 1, n_estimators = 500)"
   ]
  },
  {
   "cell_type": "code",
   "execution_count": 267,
   "metadata": {
    "ExecuteTime": {
     "end_time": "2020-04-26T20:50:29.698941Z",
     "start_time": "2020-04-26T20:50:21.007863Z"
    }
   },
   "outputs": [
    {
     "data": {
      "text/plain": [
       "XGBClassifier(base_score=0.5, booster='gbtree', colsample_bylevel=1,\n",
       "              colsample_bynode=1, colsample_bytree=1, gamma=0,\n",
       "              learning_rate=0.2, max_delta_step=0, max_depth=1,\n",
       "              min_child_weight=1, missing=None, n_estimators=500, n_jobs=4,\n",
       "              nthread=None, objective='binary:logistic', random_state=7,\n",
       "              reg_alpha=0, reg_lambda=1, scale_pos_weight=1, seed=None,\n",
       "              silent=None, subsample=1, verbosity=1)"
      ]
     },
     "execution_count": 267,
     "metadata": {},
     "output_type": "execute_result"
    }
   ],
   "source": [
    "xgb.fit(X_trans, y_finaltest_not_combined)"
   ]
  },
  {
   "cell_type": "code",
   "execution_count": 268,
   "metadata": {
    "ExecuteTime": {
     "end_time": "2020-04-26T20:50:29.702942Z",
     "start_time": "2020-04-26T20:50:29.699941Z"
    }
   },
   "outputs": [],
   "source": [
    "bases = [\"_A\",\"_C\",\"_T\",\"_G\"]\n",
    "cat = [elm + base for elm in cat_features_not_combined for base in bases ]"
   ]
  },
  {
   "cell_type": "code",
   "execution_count": 269,
   "metadata": {
    "ExecuteTime": {
     "end_time": "2020-04-26T20:50:29.706943Z",
     "start_time": "2020-04-26T20:50:29.704942Z"
    }
   },
   "outputs": [],
   "source": [
    "feature_names = numeric_features_not_combined + cat"
   ]
  },
  {
   "cell_type": "code",
   "execution_count": 270,
   "metadata": {
    "ExecuteTime": {
     "end_time": "2020-04-26T20:50:29.939052Z",
     "start_time": "2020-04-26T20:50:29.708944Z"
    },
    "scrolled": true
   },
   "outputs": [
    {
     "data": {
      "image/png": "[encoded data removed]",
      "text/plain": [
       "<Figure size 842.4x595.44 with 1 Axes>"
      ]
     },
     "metadata": {},
     "output_type": "display_data"
    }
   ],
   "source": [
    "skplt.estimators.plot_feature_importances(xgb, feature_names=feature_names, max_num_features=10)\n",
    "plt.xticks(rotation=90);"
   ]
  },
  {
   "cell_type": "markdown",
   "metadata": {},
   "source": [
    "### yeast dataset prediction"
   ]
  },
  {
   "cell_type": "code",
   "execution_count": 271,
   "metadata": {
    "ExecuteTime": {
     "end_time": "2020-04-26T20:50:29.974051Z",
     "start_time": "2020-04-26T20:50:29.940052Z"
    }
   },
   "outputs": [
    {
     "data": {
      "text/html": [
       "<div>\n",
       "<style scoped>\n",
       "    .dataframe tbody tr th:only-of-type {\n",
       "        vertical-align: middle;\n",
       "    }\n",
       "\n",
       "    .dataframe tbody tr th {\n",
       "        vertical-align: top;\n",
       "    }\n",
       "\n",
       "    .dataframe thead th {\n",
       "        text-align: right;\n",
       "    }\n",
       "</style>\n",
       "<table border=\"1\" class=\"dataframe\">\n",
       "  <thead>\n",
       "    <tr style=\"text-align: right;\">\n",
       "      <th></th>\n",
       "      <th>ref_pos</th>\n",
       "      <th>ref_kmer</th>\n",
       "      <th>dwell_time</th>\n",
       "      <th>median_value</th>\n",
       "      <th>ref_number</th>\n",
       "      <th>file_name</th>\n",
       "      <th>read_num</th>\n",
       "      <th>base_1</th>\n",
       "      <th>base_2</th>\n",
       "      <th>base_3</th>\n",
       "      <th>base_4</th>\n",
       "      <th>base_5</th>\n",
       "      <th>file_type</th>\n",
       "      <th>dwell_time_rolling_median</th>\n",
       "      <th>median_value_rolling_median</th>\n",
       "      <th>dwell_time_rolling_min</th>\n",
       "      <th>median_value_rolling_min</th>\n",
       "      <th>modified_status_predicted</th>\n",
       "    </tr>\n",
       "  </thead>\n",
       "  <tbody>\n",
       "    <tr>\n",
       "      <th>0</th>\n",
       "      <td>144</td>\n",
       "      <td>AGAGG</td>\n",
       "      <td>0.01428</td>\n",
       "      <td>124.223000</td>\n",
       "      <td>YJR094W-A</td>\n",
       "      <td>KO_1_eventalign_collapsed.tsv</td>\n",
       "      <td>#1</td>\n",
       "      <td>A</td>\n",
       "      <td>G</td>\n",
       "      <td>A</td>\n",
       "      <td>G</td>\n",
       "      <td>G</td>\n",
       "      <td>KO</td>\n",
       "      <td>0.011950</td>\n",
       "      <td>113.546997</td>\n",
       "      <td>0.00332</td>\n",
       "      <td>104.707001</td>\n",
       "      <td>0.0</td>\n",
       "    </tr>\n",
       "    <tr>\n",
       "      <th>1</th>\n",
       "      <td>145</td>\n",
       "      <td>GAGGT</td>\n",
       "      <td>0.01195</td>\n",
       "      <td>104.707001</td>\n",
       "      <td>YJR094W-A</td>\n",
       "      <td>KO_1_eventalign_collapsed.tsv</td>\n",
       "      <td>#1</td>\n",
       "      <td>G</td>\n",
       "      <td>A</td>\n",
       "      <td>G</td>\n",
       "      <td>G</td>\n",
       "      <td>T</td>\n",
       "      <td>KO</td>\n",
       "      <td>0.010620</td>\n",
       "      <td>111.370998</td>\n",
       "      <td>0.00332</td>\n",
       "      <td>104.707001</td>\n",
       "      <td>0.0</td>\n",
       "    </tr>\n",
       "    <tr>\n",
       "      <th>2</th>\n",
       "      <td>146</td>\n",
       "      <td>AGGTG</td>\n",
       "      <td>0.00332</td>\n",
       "      <td>113.546997</td>\n",
       "      <td>YJR094W-A</td>\n",
       "      <td>KO_1_eventalign_collapsed.tsv</td>\n",
       "      <td>#1</td>\n",
       "      <td>A</td>\n",
       "      <td>G</td>\n",
       "      <td>G</td>\n",
       "      <td>T</td>\n",
       "      <td>G</td>\n",
       "      <td>KO</td>\n",
       "      <td>0.011950</td>\n",
       "      <td>109.195000</td>\n",
       "      <td>0.00332</td>\n",
       "      <td>87.026100</td>\n",
       "      <td>0.0</td>\n",
       "    </tr>\n",
       "    <tr>\n",
       "      <th>3</th>\n",
       "      <td>147</td>\n",
       "      <td>GGTGC</td>\n",
       "      <td>0.00929</td>\n",
       "      <td>109.195000</td>\n",
       "      <td>YJR094W-A</td>\n",
       "      <td>KO_1_eventalign_collapsed.tsv</td>\n",
       "      <td>#1</td>\n",
       "      <td>G</td>\n",
       "      <td>G</td>\n",
       "      <td>T</td>\n",
       "      <td>G</td>\n",
       "      <td>C</td>\n",
       "      <td>KO</td>\n",
       "      <td>0.009290</td>\n",
       "      <td>107.495003</td>\n",
       "      <td>0.00332</td>\n",
       "      <td>87.026100</td>\n",
       "      <td>0.0</td>\n",
       "    </tr>\n",
       "    <tr>\n",
       "      <th>4</th>\n",
       "      <td>148</td>\n",
       "      <td>GTGCA</td>\n",
       "      <td>0.01859</td>\n",
       "      <td>87.026100</td>\n",
       "      <td>YJR094W-A</td>\n",
       "      <td>KO_1_eventalign_collapsed.tsv</td>\n",
       "      <td>#1</td>\n",
       "      <td>G</td>\n",
       "      <td>T</td>\n",
       "      <td>G</td>\n",
       "      <td>C</td>\n",
       "      <td>A</td>\n",
       "      <td>KO</td>\n",
       "      <td>0.009290</td>\n",
       "      <td>107.495003</td>\n",
       "      <td>0.00332</td>\n",
       "      <td>87.026100</td>\n",
       "      <td>0.0</td>\n",
       "    </tr>\n",
       "    <tr>\n",
       "      <th>...</th>\n",
       "      <td>...</td>\n",
       "      <td>...</td>\n",
       "      <td>...</td>\n",
       "      <td>...</td>\n",
       "      <td>...</td>\n",
       "      <td>...</td>\n",
       "      <td>...</td>\n",
       "      <td>...</td>\n",
       "      <td>...</td>\n",
       "      <td>...</td>\n",
       "      <td>...</td>\n",
       "      <td>...</td>\n",
       "      <td>...</td>\n",
       "      <td>...</td>\n",
       "      <td>...</td>\n",
       "      <td>...</td>\n",
       "      <td>...</td>\n",
       "      <td>...</td>\n",
       "    </tr>\n",
       "    <tr>\n",
       "      <th>572198</th>\n",
       "      <td>1920</td>\n",
       "      <td>GTTGA</td>\n",
       "      <td>0.01627</td>\n",
       "      <td>90.990997</td>\n",
       "      <td>YAL005C</td>\n",
       "      <td>WT_2_eventalign_collapsed.tsv</td>\n",
       "      <td>#170</td>\n",
       "      <td>G</td>\n",
       "      <td>T</td>\n",
       "      <td>T</td>\n",
       "      <td>G</td>\n",
       "      <td>A</td>\n",
       "      <td>WT</td>\n",
       "      <td>0.004650</td>\n",
       "      <td>115.274002</td>\n",
       "      <td>0.00299</td>\n",
       "      <td>90.990997</td>\n",
       "      <td>0.0</td>\n",
       "    </tr>\n",
       "    <tr>\n",
       "      <th>572199</th>\n",
       "      <td>1921</td>\n",
       "      <td>TTGAT</td>\n",
       "      <td>0.00299</td>\n",
       "      <td>115.274002</td>\n",
       "      <td>YAL005C</td>\n",
       "      <td>WT_2_eventalign_collapsed.tsv</td>\n",
       "      <td>#170</td>\n",
       "      <td>T</td>\n",
       "      <td>T</td>\n",
       "      <td>G</td>\n",
       "      <td>A</td>\n",
       "      <td>T</td>\n",
       "      <td>WT</td>\n",
       "      <td>0.008300</td>\n",
       "      <td>115.274002</td>\n",
       "      <td>0.00299</td>\n",
       "      <td>90.990997</td>\n",
       "      <td>0.0</td>\n",
       "    </tr>\n",
       "    <tr>\n",
       "      <th>572200</th>\n",
       "      <td>1922</td>\n",
       "      <td>TGATT</td>\n",
       "      <td>0.00830</td>\n",
       "      <td>117.613998</td>\n",
       "      <td>YAL005C</td>\n",
       "      <td>WT_2_eventalign_collapsed.tsv</td>\n",
       "      <td>#170</td>\n",
       "      <td>T</td>\n",
       "      <td>G</td>\n",
       "      <td>A</td>\n",
       "      <td>T</td>\n",
       "      <td>T</td>\n",
       "      <td>WT</td>\n",
       "      <td>0.008300</td>\n",
       "      <td>108.106003</td>\n",
       "      <td>0.00299</td>\n",
       "      <td>90.990997</td>\n",
       "      <td>0.0</td>\n",
       "    </tr>\n",
       "    <tr>\n",
       "      <th>572201</th>\n",
       "      <td>1923</td>\n",
       "      <td>GATTA</td>\n",
       "      <td>0.06309</td>\n",
       "      <td>91.868652</td>\n",
       "      <td>YAL005C</td>\n",
       "      <td>WT_2_eventalign_collapsed.tsv</td>\n",
       "      <td>#170</td>\n",
       "      <td>G</td>\n",
       "      <td>A</td>\n",
       "      <td>T</td>\n",
       "      <td>T</td>\n",
       "      <td>A</td>\n",
       "      <td>WT</td>\n",
       "      <td>0.007305</td>\n",
       "      <td>111.690002</td>\n",
       "      <td>0.00299</td>\n",
       "      <td>91.868652</td>\n",
       "      <td>0.0</td>\n",
       "    </tr>\n",
       "    <tr>\n",
       "      <th>572202</th>\n",
       "      <td>1924</td>\n",
       "      <td>ATTAA</td>\n",
       "      <td>0.00631</td>\n",
       "      <td>108.106003</td>\n",
       "      <td>YAL005C</td>\n",
       "      <td>WT_2_eventalign_collapsed.tsv</td>\n",
       "      <td>#170</td>\n",
       "      <td>A</td>\n",
       "      <td>T</td>\n",
       "      <td>T</td>\n",
       "      <td>A</td>\n",
       "      <td>A</td>\n",
       "      <td>WT</td>\n",
       "      <td>0.008300</td>\n",
       "      <td>108.106003</td>\n",
       "      <td>0.00631</td>\n",
       "      <td>91.868652</td>\n",
       "      <td>0.0</td>\n",
       "    </tr>\n",
       "  </tbody>\n",
       "</table>\n",
       "<p>572203 rows × 18 columns</p>\n",
       "</div>"
      ],
      "text/plain": [
       "        ref_pos ref_kmer  dwell_time  median_value ref_number  \\\n",
       "0           144    AGAGG     0.01428    124.223000  YJR094W-A   \n",
       "1           145    GAGGT     0.01195    104.707001  YJR094W-A   \n",
       "2           146    AGGTG     0.00332    113.546997  YJR094W-A   \n",
       "3           147    GGTGC     0.00929    109.195000  YJR094W-A   \n",
       "4           148    GTGCA     0.01859     87.026100  YJR094W-A   \n",
       "...         ...      ...         ...           ...        ...   \n",
       "572198     1920    GTTGA     0.01627     90.990997    YAL005C   \n",
       "572199     1921    TTGAT     0.00299    115.274002    YAL005C   \n",
       "572200     1922    TGATT     0.00830    117.613998    YAL005C   \n",
       "572201     1923    GATTA     0.06309     91.868652    YAL005C   \n",
       "572202     1924    ATTAA     0.00631    108.106003    YAL005C   \n",
       "\n",
       "                            file_name read_num base_1 base_2 base_3 base_4  \\\n",
       "0       KO_1_eventalign_collapsed.tsv       #1      A      G      A      G   \n",
       "1       KO_1_eventalign_collapsed.tsv       #1      G      A      G      G   \n",
       "2       KO_1_eventalign_collapsed.tsv       #1      A      G      G      T   \n",
       "3       KO_1_eventalign_collapsed.tsv       #1      G      G      T      G   \n",
       "4       KO_1_eventalign_collapsed.tsv       #1      G      T      G      C   \n",
       "...                               ...      ...    ...    ...    ...    ...   \n",
       "572198  WT_2_eventalign_collapsed.tsv     #170      G      T      T      G   \n",
       "572199  WT_2_eventalign_collapsed.tsv     #170      T      T      G      A   \n",
       "572200  WT_2_eventalign_collapsed.tsv     #170      T      G      A      T   \n",
       "572201  WT_2_eventalign_collapsed.tsv     #170      G      A      T      T   \n",
       "572202  WT_2_eventalign_collapsed.tsv     #170      A      T      T      A   \n",
       "\n",
       "       base_5 file_type  dwell_time_rolling_median  \\\n",
       "0           G        KO                   0.011950   \n",
       "1           T        KO                   0.010620   \n",
       "2           G        KO                   0.011950   \n",
       "3           C        KO                   0.009290   \n",
       "4           A        KO                   0.009290   \n",
       "...       ...       ...                        ...   \n",
       "572198      A        WT                   0.004650   \n",
       "572199      T        WT                   0.008300   \n",
       "572200      T        WT                   0.008300   \n",
       "572201      A        WT                   0.007305   \n",
       "572202      A        WT                   0.008300   \n",
       "\n",
       "        median_value_rolling_median  dwell_time_rolling_min  \\\n",
       "0                        113.546997                 0.00332   \n",
       "1                        111.370998                 0.00332   \n",
       "2                        109.195000                 0.00332   \n",
       "3                        107.495003                 0.00332   \n",
       "4                        107.495003                 0.00332   \n",
       "...                             ...                     ...   \n",
       "572198                   115.274002                 0.00299   \n",
       "572199                   115.274002                 0.00299   \n",
       "572200                   108.106003                 0.00299   \n",
       "572201                   111.690002                 0.00299   \n",
       "572202                   108.106003                 0.00631   \n",
       "\n",
       "        median_value_rolling_min  modified_status_predicted  \n",
       "0                     104.707001                        0.0  \n",
       "1                     104.707001                        0.0  \n",
       "2                      87.026100                        0.0  \n",
       "3                      87.026100                        0.0  \n",
       "4                      87.026100                        0.0  \n",
       "...                          ...                        ...  \n",
       "572198                 90.990997                        0.0  \n",
       "572199                 90.990997                        0.0  \n",
       "572200                 90.990997                        0.0  \n",
       "572201                 91.868652                        0.0  \n",
       "572202                 91.868652                        0.0  \n",
       "\n",
       "[572203 rows x 18 columns]"
      ]
     },
     "execution_count": 271,
     "metadata": {},
     "output_type": "execute_result"
    }
   ],
   "source": [
    "df_yeast_not_combined"
   ]
  },
  {
   "cell_type": "code",
   "execution_count": 272,
   "metadata": {
    "ExecuteTime": {
     "end_time": "2020-04-26T20:50:31.667875Z",
     "start_time": "2020-04-26T20:50:29.975051Z"
    }
   },
   "outputs": [],
   "source": [
    "X_yeast_trans = preprocessor_not_combined.fit_transform(df_yeast_not_combined)"
   ]
  },
  {
   "cell_type": "code",
   "execution_count": 273,
   "metadata": {
    "ExecuteTime": {
     "end_time": "2020-04-26T20:50:32.456759Z",
     "start_time": "2020-04-26T20:50:31.669876Z"
    }
   },
   "outputs": [],
   "source": [
    "y_yeast_pred = xgb.predict(X_yeast_trans)"
   ]
  },
  {
   "cell_type": "code",
   "execution_count": 274,
   "metadata": {
    "ExecuteTime": {
     "end_time": "2020-04-26T20:50:32.463760Z",
     "start_time": "2020-04-26T20:50:32.458758Z"
    }
   },
   "outputs": [],
   "source": [
    "df_yeast_not_combined[\"modified_status_predicted\"] = y_yeast_pred"
   ]
  },
  {
   "cell_type": "code",
   "execution_count": 275,
   "metadata": {
    "ExecuteTime": {
     "end_time": "2020-04-26T20:50:32.476763Z",
     "start_time": "2020-04-26T20:50:32.464760Z"
    }
   },
   "outputs": [
    {
     "data": {
      "text/plain": [
       "0.0    570745\n",
       "1.0      1458\n",
       "Name: modified_status_predicted, dtype: int64"
      ]
     },
     "execution_count": 275,
     "metadata": {},
     "output_type": "execute_result"
    }
   ],
   "source": [
    "df_yeast_not_combined.modified_status_predicted.value_counts()"
   ]
  },
  {
   "cell_type": "code",
   "execution_count": 276,
   "metadata": {
    "ExecuteTime": {
     "end_time": "2020-04-26T20:50:32.553780Z",
     "start_time": "2020-04-26T20:50:32.477763Z"
    }
   },
   "outputs": [],
   "source": [
    "df_yeast_group = df_yeast_not_combined.file_type.groupby(\n",
    "    df_yeast_not_combined[\"modified_status_predicted\"]).value_counts(normalize=True).rename(\"wt_ko_ratio\").reset_index()"
   ]
  },
  {
   "cell_type": "code",
   "execution_count": 277,
   "metadata": {
    "ExecuteTime": {
     "end_time": "2020-04-26T20:50:32.563782Z",
     "start_time": "2020-04-26T20:50:32.554780Z"
    }
   },
   "outputs": [
    {
     "data": {
      "text/html": [
       "<div>\n",
       "<style scoped>\n",
       "    .dataframe tbody tr th:only-of-type {\n",
       "        vertical-align: middle;\n",
       "    }\n",
       "\n",
       "    .dataframe tbody tr th {\n",
       "        vertical-align: top;\n",
       "    }\n",
       "\n",
       "    .dataframe thead th {\n",
       "        text-align: right;\n",
       "    }\n",
       "</style>\n",
       "<table border=\"1\" class=\"dataframe\">\n",
       "  <thead>\n",
       "    <tr style=\"text-align: right;\">\n",
       "      <th></th>\n",
       "      <th>modified_status_predicted</th>\n",
       "      <th>file_type</th>\n",
       "      <th>wt_ko_ratio</th>\n",
       "    </tr>\n",
       "  </thead>\n",
       "  <tbody>\n",
       "    <tr>\n",
       "      <th>0</th>\n",
       "      <td>0.0</td>\n",
       "      <td>WT</td>\n",
       "      <td>0.536529</td>\n",
       "    </tr>\n",
       "    <tr>\n",
       "      <th>1</th>\n",
       "      <td>0.0</td>\n",
       "      <td>KO</td>\n",
       "      <td>0.463471</td>\n",
       "    </tr>\n",
       "    <tr>\n",
       "      <th>2</th>\n",
       "      <td>1.0</td>\n",
       "      <td>WT</td>\n",
       "      <td>0.518519</td>\n",
       "    </tr>\n",
       "    <tr>\n",
       "      <th>3</th>\n",
       "      <td>1.0</td>\n",
       "      <td>KO</td>\n",
       "      <td>0.481481</td>\n",
       "    </tr>\n",
       "  </tbody>\n",
       "</table>\n",
       "</div>"
      ],
      "text/plain": [
       "   modified_status_predicted file_type  wt_ko_ratio\n",
       "0                        0.0        WT     0.536529\n",
       "1                        0.0        KO     0.463471\n",
       "2                        1.0        WT     0.518519\n",
       "3                        1.0        KO     0.481481"
      ]
     },
     "execution_count": 277,
     "metadata": {},
     "output_type": "execute_result"
    }
   ],
   "source": [
    "df_yeast_group"
   ]
  },
  {
   "cell_type": "code",
   "execution_count": 278,
   "metadata": {
    "ExecuteTime": {
     "end_time": "2020-04-26T20:50:32.756826Z",
     "start_time": "2020-04-26T20:50:32.564783Z"
    }
   },
   "outputs": [
    {
     "data": {
      "image/png": "[encoded data removed]",
      "text/plain": [
       "<Figure size 842.4x595.44 with 1 Axes>"
      ]
     },
     "metadata": {},
     "output_type": "display_data"
    }
   ],
   "source": [
    "sns.barplot(data = df_yeast_group, x = \"modified_status_predicted\",y = \"wt_ko_ratio\", hue = \"file_type\"\n",
    "            ,edgecolor=\"grey\" , linewidth = 2.5 );"
   ]
  },
  {
   "cell_type": "markdown",
   "metadata": {},
   "source": [
    "## Classical ml models with Oversampling"
   ]
  },
  {
   "cell_type": "code",
   "execution_count": 57,
   "metadata": {
    "ExecuteTime": {
     "end_time": "2020-04-26T14:39:48.546537Z",
     "start_time": "2020-04-26T14:39:48.542536Z"
    }
   },
   "outputs": [],
   "source": [
    "smotet = SMOTETomek(sampling_strategy = 'minority', random_state = seed, n_jobs = -1)\n"
   ]
  },
  {
   "cell_type": "markdown",
   "metadata": {},
   "source": [
    "### model selection"
   ]
  },
  {
   "cell_type": "code",
   "execution_count": 58,
   "metadata": {
    "ExecuteTime": {
     "end_time": "2020-04-26T15:03:06.782333Z",
     "start_time": "2020-04-26T14:39:48.547538Z"
    }
   },
   "outputs": [],
   "source": [
    "sel_os = ModelSelector(preprocessor_not_combined, smotet, instance_name = \"Uncombined Dataframe and Oversampling\")\n",
    "\n",
    "sel_os.select_model(X_finaltest_not_combined, y_finaltest_not_combined, True)"
   ]
  },
  {
   "cell_type": "code",
   "execution_count": 59,
   "metadata": {
    "ExecuteTime": {
     "end_time": "2020-04-26T15:03:07.833570Z",
     "start_time": "2020-04-26T15:03:06.783336Z"
    }
   },
   "outputs": [
    {
     "data": {
      "image/png": "[encoded data removed]",
      "text/plain": [
       "<Figure size 1080x576 with 4 Axes>"
      ]
     },
     "metadata": {},
     "output_type": "display_data"
    }
   ],
   "source": [
    "sel_os.plot_selection()"
   ]
  },
  {
   "cell_type": "code",
   "execution_count": 60,
   "metadata": {
    "ExecuteTime": {
     "end_time": "2020-04-26T15:03:07.847573Z",
     "start_time": "2020-04-26T15:03:07.834570Z"
    }
   },
   "outputs": [],
   "source": [
    "model_selection_results = pd.concat([model_selection_results,sel_os.get_scores()], axis=0)"
   ]
  },
  {
   "cell_type": "markdown",
   "metadata": {},
   "source": [
    "### xgb gridsearch"
   ]
  },
  {
   "cell_type": "code",
   "execution_count": 69,
   "metadata": {
    "ExecuteTime": {
     "end_time": "2020-04-26T16:53:40.638055Z",
     "start_time": "2020-04-26T16:53:40.635063Z"
    }
   },
   "outputs": [],
   "source": [
    "param_grid_xgb = {'xgbclassifier__max_depth':[5],\n",
    "                 'xgbclassifier__learning_rate':[0.1],\n",
    "                 'xgbclassifier__n_estimators':[5],\n",
    "                 'xgbclassifier__booster':[\"gbtree\"],\n",
    "                 'xgbclassifier__gamma':[0]}"
   ]
  },
  {
   "cell_type": "code",
   "execution_count": 70,
   "metadata": {
    "ExecuteTime": {
     "end_time": "2020-04-26T16:53:41.757970Z",
     "start_time": "2020-04-26T16:53:41.754979Z"
    }
   },
   "outputs": [],
   "source": [
    "xgb_clf = XGBClassifier(n_jobs = -1,random_state=seed)\n",
    "model_xgb = Pipeline([(\"transformer\",preprocessor_not_combined),(\"smt\",smotet),(\"xgbclassifier\",xgb_clf)])"
   ]
  },
  {
   "cell_type": "code",
   "execution_count": 71,
   "metadata": {
    "ExecuteTime": {
     "end_time": "2020-04-26T16:53:42.601097Z",
     "start_time": "2020-04-26T16:53:42.482072Z"
    }
   },
   "outputs": [],
   "source": [
    "labels = X_finaltest_not_combined.ref_number.values\n",
    "cv_by_hand = [(np.where(labels != label)[0], np.where(labels == label)[0])\n",
    "               for label in np.unique(labels)]"
   ]
  },
  {
   "cell_type": "code",
   "execution_count": 72,
   "metadata": {
    "ExecuteTime": {
     "end_time": "2020-04-26T16:57:39.289422Z",
     "start_time": "2020-04-26T16:53:43.610126Z"
    }
   },
   "outputs": [
    {
     "name": "stdout",
     "output_type": "stream",
     "text": [
      "Fitting 4 folds for each of 9 candidates, totalling 36 fits\n"
     ]
    },
    {
     "name": "stderr",
     "output_type": "stream",
     "text": [
      "[Parallel(n_jobs=-1)]: Using backend LokyBackend with 16 concurrent workers.\n",
      "[Parallel(n_jobs=-1)]: Done  18 out of  36 | elapsed:  3.0min remaining:  3.0min\n",
      "[Parallel(n_jobs=-1)]: Done  31 out of  36 | elapsed:  3.3min remaining:   31.4s\n",
      "[Parallel(n_jobs=-1)]: Done  36 out of  36 | elapsed:  3.6min finished\n"
     ]
    },
    {
     "name": "stdout",
     "output_type": "stream",
     "text": [
      "{'xgbclassifier__booster': 'gbtree', 'xgbclassifier__gamma': 0, 'xgbclassifier__learning_rate': 0.1, 'xgbclassifier__max_depth': 5, 'xgbclassifier__n_estimators': 5}\n"
     ]
    }
   ],
   "source": [
    "grid_xgb = GridSearchCV(model_xgb, param_grid_xgb, scoring = \"f1\", return_train_score=False,n_jobs=-1,cv = cv_by_hand, verbose=3)\n",
    "grid_xgb.fit(X_finaltest_not_combined, y_finaltest_not_combined)\n",
    "print(grid_xgb.best_params_)"
   ]
  },
  {
   "cell_type": "code",
   "execution_count": 73,
   "metadata": {
    "ExecuteTime": {
     "end_time": "2020-04-26T16:57:39.383445Z",
     "start_time": "2020-04-26T16:57:39.290422Z"
    }
   },
   "outputs": [],
   "source": [
    "y_pred=grid_xgb.predict(X_val_not_combined)"
   ]
  },
  {
   "cell_type": "code",
   "execution_count": 74,
   "metadata": {
    "ExecuteTime": {
     "end_time": "2020-04-26T16:57:39.646503Z",
     "start_time": "2020-04-26T16:57:39.385446Z"
    }
   },
   "outputs": [
    {
     "data": {
      "image/png": "[encoded data removed]",
      "text/plain": [
       "<Figure size 720x720 with 2 Axes>"
      ]
     },
     "metadata": {},
     "output_type": "display_data"
    }
   ],
   "source": [
    "skplt.metrics.plot_confusion_matrix(y_val_not_combined, y_pred, figsize=(10,10), text_fontsize=20);"
   ]
  },
  {
   "cell_type": "code",
   "execution_count": 75,
   "metadata": {
    "ExecuteTime": {
     "end_time": "2020-04-26T16:57:39.716518Z",
     "start_time": "2020-04-26T16:57:39.647502Z"
    },
    "scrolled": false
   },
   "outputs": [
    {
     "name": "stdout",
     "output_type": "stream",
     "text": [
      "              precision    recall  f1-score   support\n",
      "\n",
      "         0.0       1.00      1.00      1.00     43585\n",
      "         1.0       0.86      0.90      0.88      1495\n",
      "\n",
      "    accuracy                           0.99     45080\n",
      "   macro avg       0.93      0.95      0.94     45080\n",
      "weighted avg       0.99      0.99      0.99     45080\n",
      "\n"
     ]
    }
   ],
   "source": [
    "print(classification_report(y_val_not_combined,y_pred))"
   ]
  },
  {
   "cell_type": "markdown",
   "metadata": {},
   "source": [
    "## Classical ml models (dwell time polynomial)"
   ]
  },
  {
   "cell_type": "code",
   "execution_count": 165,
   "metadata": {
    "ExecuteTime": {
     "end_time": "2020-04-26T19:41:24.047044Z",
     "start_time": "2020-04-26T19:41:24.045043Z"
    }
   },
   "outputs": [],
   "source": [
    "poly = PolynomialFeatures(10)"
   ]
  },
  {
   "cell_type": "code",
   "execution_count": 166,
   "metadata": {
    "ExecuteTime": {
     "end_time": "2020-04-26T19:41:24.656176Z",
     "start_time": "2020-04-26T19:41:24.570157Z"
    }
   },
   "outputs": [],
   "source": [
    "X_poly = np.array(df_not_combined.dwell_time + 1)\n",
    "X_poly = pd.DataFrame(poly.fit_transform(X_poly.reshape(-1,1)))\n",
    "cols = [\"dwell_time_poly_\" + str(elm) for elm in list(X_poly.columns)]\n",
    "X_poly.columns = cols\n",
    "df_poly = pd.concat([df_not_combined, X_poly], axis = 1)"
   ]
  },
  {
   "cell_type": "code",
   "execution_count": 167,
   "metadata": {
    "ExecuteTime": {
     "end_time": "2020-04-26T19:41:25.261314Z",
     "start_time": "2020-04-26T19:41:25.106280Z"
    }
   },
   "outputs": [],
   "source": [
    "X_finaltest_poly = df_poly[df_poly[\"ref_number\"].isin(final_ref)]\n",
    "y_finaltest_poly = X_finaltest_poly.pop(\"modified_status\")\n",
    "X_val_poly = df_poly[df_poly[\"ref_number\"].isin(val_ref)]\n",
    "y_val_poly = X_val_poly.pop(\"modified_status\")\n",
    "X_train_poly = df_poly[df_poly[\"ref_number\"].isin(train_ref)]\n",
    "y_train_poly = X_train_poly.pop(\"modified_status\")\n",
    "X_test_poly = df_poly[df_poly[\"ref_number\"].isin(test_ref)]\n",
    "y_test_poly = X_test_poly.pop(\"modified_status\")"
   ]
  },
  {
   "cell_type": "code",
   "execution_count": 168,
   "metadata": {
    "ExecuteTime": {
     "end_time": "2020-04-26T19:41:25.766268Z",
     "start_time": "2020-04-26T19:41:25.763267Z"
    }
   },
   "outputs": [],
   "source": [
    "numeric_features_poly = list(X_train_poly.columns[X_train_poly.dtypes ==  \"float\"])"
   ]
  },
  {
   "cell_type": "code",
   "execution_count": 169,
   "metadata": {
    "ExecuteTime": {
     "end_time": "2020-04-26T19:41:26.278326Z",
     "start_time": "2020-04-26T19:41:26.274325Z"
    }
   },
   "outputs": [
    {
     "data": {
      "text/plain": [
       "['dwell_time',\n",
       " 'median_value',\n",
       " 'dwell_time_rolling_median',\n",
       " 'median_value_rolling_median',\n",
       " 'dwell_time_rolling_min',\n",
       " 'median_value_rolling_min',\n",
       " 'dwell_time_poly_0',\n",
       " 'dwell_time_poly_1',\n",
       " 'dwell_time_poly_2',\n",
       " 'dwell_time_poly_3',\n",
       " 'dwell_time_poly_4',\n",
       " 'dwell_time_poly_5',\n",
       " 'dwell_time_poly_6',\n",
       " 'dwell_time_poly_7',\n",
       " 'dwell_time_poly_8',\n",
       " 'dwell_time_poly_9',\n",
       " 'dwell_time_poly_10']"
      ]
     },
     "execution_count": 169,
     "metadata": {},
     "output_type": "execute_result"
    }
   ],
   "source": [
    "numeric_features_poly"
   ]
  },
  {
   "cell_type": "code",
   "execution_count": 170,
   "metadata": {
    "ExecuteTime": {
     "end_time": "2020-04-26T19:41:30.397451Z",
     "start_time": "2020-04-26T19:41:30.394451Z"
    }
   },
   "outputs": [],
   "source": [
    "cat_features_poly = list(X_train_poly.columns[X_train_poly.dtypes ==  \"category\"])"
   ]
  },
  {
   "cell_type": "code",
   "execution_count": 171,
   "metadata": {
    "ExecuteTime": {
     "end_time": "2020-04-26T19:41:30.822376Z",
     "start_time": "2020-04-26T19:41:30.818385Z"
    }
   },
   "outputs": [
    {
     "data": {
      "text/plain": [
       "['base_1', 'base_2', 'base_3', 'base_4', 'base_5']"
      ]
     },
     "execution_count": 171,
     "metadata": {},
     "output_type": "execute_result"
    }
   ],
   "source": [
    "cat_features_poly"
   ]
  },
  {
   "cell_type": "code",
   "execution_count": 172,
   "metadata": {
    "ExecuteTime": {
     "end_time": "2020-04-26T19:41:31.121431Z",
     "start_time": "2020-04-26T19:41:31.116430Z"
    }
   },
   "outputs": [],
   "source": [
    "#preprocessing pipeline to scale numeric and onehot encode categorical values\n",
    "imputer1_poly = SimpleImputer(strategy=\"median\")\n",
    "scaler1_poly = StandardScaler()\n",
    "numeric_transformer_poly = make_pipeline(imputer1_poly,scaler1_poly)\n",
    "\n",
    "\n",
    "imputer2_poly = SimpleImputer(strategy='constant', fill_value='missing')\n",
    "encoder_poly = OneHotEncoder(handle_unknown='error')\n",
    "cat_transformer_poly = make_pipeline(imputer2_poly,encoder_poly)\n",
    "\n",
    "preprocessor_poly = ColumnTransformer(\n",
    "    transformers=[\n",
    "        ('num', numeric_transformer_poly, numeric_features_poly),\n",
    "        ('cat', cat_transformer_poly, cat_features_poly)\n",
    "    ])"
   ]
  },
  {
   "cell_type": "markdown",
   "metadata": {},
   "source": [
    "### model selection"
   ]
  },
  {
   "cell_type": "code",
   "execution_count": 173,
   "metadata": {
    "ExecuteTime": {
     "end_time": "2020-04-26T19:49:29.938848Z",
     "start_time": "2020-04-26T19:41:32.465191Z"
    }
   },
   "outputs": [],
   "source": [
    "sel_poly = ModelSelector(preprocessor_poly, instance_name = \"Uncombined Dataframe and Polynomial Dwell Time\")\n",
    "\n",
    "sel_poly.select_model(X_finaltest_poly, y_finaltest_poly, True)"
   ]
  },
  {
   "cell_type": "code",
   "execution_count": 174,
   "metadata": {
    "ExecuteTime": {
     "end_time": "2020-04-26T19:49:30.935784Z",
     "start_time": "2020-04-26T19:49:29.939848Z"
    }
   },
   "outputs": [
    {
     "data": {
      "image/png": "[encoded data removed]",
      "text/plain": [
       "<Figure size 1080x576 with 4 Axes>"
      ]
     },
     "metadata": {},
     "output_type": "display_data"
    }
   ],
   "source": [
    "sel_poly.plot_selection()"
   ]
  },
  {
   "cell_type": "code",
   "execution_count": 175,
   "metadata": {
    "ExecuteTime": {
     "end_time": "2020-04-26T19:49:30.949785Z",
     "start_time": "2020-04-26T19:49:30.936781Z"
    }
   },
   "outputs": [],
   "source": [
    "model_selection_results = pd.concat([model_selection_results,sel_poly.get_scores()], axis=0)"
   ]
  },
  {
   "cell_type": "markdown",
   "metadata": {},
   "source": [
    "### xgb gridsearch"
   ]
  },
  {
   "cell_type": "code",
   "execution_count": 115,
   "metadata": {
    "ExecuteTime": {
     "end_time": "2020-04-26T17:18:14.149172Z",
     "start_time": "2020-04-26T17:18:14.145171Z"
    }
   },
   "outputs": [],
   "source": [
    "param_grid_xgb = {'xgbclassifier__max_depth':[1],\n",
    "                 'xgbclassifier__learning_rate':[0.2],\n",
    "                 'xgbclassifier__n_estimators':[500],\n",
    "                 'xgbclassifier__booster':[\"gbtree\"],\n",
    "                 'xgbclassifier__gamma':[0]}"
   ]
  },
  {
   "cell_type": "code",
   "execution_count": 116,
   "metadata": {
    "ExecuteTime": {
     "end_time": "2020-04-26T17:18:14.367232Z",
     "start_time": "2020-04-26T17:18:14.364232Z"
    }
   },
   "outputs": [],
   "source": [
    "xgb_clf = XGBClassifier(n_jobs = -1,random_state=seed)\n",
    "model_xgb = Pipeline([(\"transformer\",preprocessor_poly),(\"xgbclassifier\",xgb_clf)])"
   ]
  },
  {
   "cell_type": "code",
   "execution_count": 117,
   "metadata": {
    "ExecuteTime": {
     "end_time": "2020-04-26T17:18:14.651295Z",
     "start_time": "2020-04-26T17:18:14.531269Z"
    }
   },
   "outputs": [],
   "source": [
    "labels = X_finaltest_poly.ref_number.values\n",
    "cv_by_hand = [(np.where(labels != label)[0], np.where(labels == label)[0])\n",
    "               for label in np.unique(labels)]"
   ]
  },
  {
   "cell_type": "code",
   "execution_count": 118,
   "metadata": {
    "ExecuteTime": {
     "end_time": "2020-04-26T17:19:47.790645Z",
     "start_time": "2020-04-26T17:18:14.698307Z"
    }
   },
   "outputs": [
    {
     "name": "stdout",
     "output_type": "stream",
     "text": [
      "Fitting 4 folds for each of 3 candidates, totalling 12 fits\n"
     ]
    },
    {
     "name": "stderr",
     "output_type": "stream",
     "text": [
      "[Parallel(n_jobs=-1)]: Using backend LokyBackend with 16 concurrent workers.\n",
      "[Parallel(n_jobs=-1)]: Done   6 out of  12 | elapsed:  1.0min remaining:  1.0min\n",
      "[Parallel(n_jobs=-1)]: Done  12 out of  12 | elapsed:  1.4min finished\n"
     ]
    },
    {
     "name": "stdout",
     "output_type": "stream",
     "text": [
      "{'xgbclassifier__booster': 'gbtree', 'xgbclassifier__gamma': 0, 'xgbclassifier__learning_rate': 0.2, 'xgbclassifier__max_depth': 1, 'xgbclassifier__n_estimators': 500}\n"
     ]
    }
   ],
   "source": [
    "grid_xgb = GridSearchCV(model_xgb, param_grid_xgb, scoring = \"f1\", return_train_score=False,n_jobs=-1,cv = cv_by_hand, verbose=3)\n",
    "grid_xgb.fit(X_finaltest_poly, y_finaltest_poly)\n",
    "print(grid_xgb.best_params_)"
   ]
  },
  {
   "cell_type": "code",
   "execution_count": 119,
   "metadata": {
    "ExecuteTime": {
     "end_time": "2020-04-26T17:19:47.940678Z",
     "start_time": "2020-04-26T17:19:47.791646Z"
    }
   },
   "outputs": [],
   "source": [
    "y_pred=grid_xgb.predict(X_val_poly)"
   ]
  },
  {
   "cell_type": "code",
   "execution_count": 120,
   "metadata": {
    "ExecuteTime": {
     "end_time": "2020-04-26T17:19:48.203738Z",
     "start_time": "2020-04-26T17:19:47.942679Z"
    }
   },
   "outputs": [
    {
     "data": {
      "text/plain": [
       "<matplotlib.axes._subplots.AxesSubplot at 0x17b826f8e88>"
      ]
     },
     "execution_count": 120,
     "metadata": {},
     "output_type": "execute_result"
    },
    {
     "data": {
      "image/png": "[encoded data removed]",
      "text/plain": [
       "<Figure size 720x720 with 2 Axes>"
      ]
     },
     "metadata": {},
     "output_type": "display_data"
    }
   ],
   "source": [
    "skplt.metrics.plot_confusion_matrix(y_val_poly, y_pred, figsize=(10,10), text_fontsize=20)"
   ]
  },
  {
   "cell_type": "code",
   "execution_count": 121,
   "metadata": {
    "ExecuteTime": {
     "end_time": "2020-04-26T17:19:48.273753Z",
     "start_time": "2020-04-26T17:19:48.204739Z"
    },
    "scrolled": false
   },
   "outputs": [
    {
     "name": "stdout",
     "output_type": "stream",
     "text": [
      "              precision    recall  f1-score   support\n",
      "\n",
      "         0.0       1.00      1.00      1.00     43585\n",
      "         1.0       0.91      0.86      0.88      1495\n",
      "\n",
      "    accuracy                           0.99     45080\n",
      "   macro avg       0.95      0.93      0.94     45080\n",
      "weighted avg       0.99      0.99      0.99     45080\n",
      "\n"
     ]
    }
   ],
   "source": [
    "print(classification_report(y_val_poly,y_pred))"
   ]
  },
  {
   "cell_type": "markdown",
   "metadata": {},
   "source": [
    "### feature importances"
   ]
  },
  {
   "cell_type": "code",
   "execution_count": 204,
   "metadata": {
    "ExecuteTime": {
     "end_time": "2020-04-26T20:29:19.075808Z",
     "start_time": "2020-04-26T20:29:18.953274Z"
    }
   },
   "outputs": [],
   "source": [
    "labels = X_finaltest_poly.ref_number.values\n",
    "cv_by_hand = [(np.where(labels != label)[0], np.where(labels == label)[0])\n",
    "               for label in np.unique(labels)]"
   ]
  },
  {
   "cell_type": "code",
   "execution_count": 205,
   "metadata": {
    "ExecuteTime": {
     "end_time": "2020-04-26T20:29:22.895180Z",
     "start_time": "2020-04-26T20:29:21.969061Z"
    }
   },
   "outputs": [],
   "source": [
    "X_trans = preprocessor_poly.fit_transform(X_finaltest_poly)"
   ]
  },
  {
   "cell_type": "code",
   "execution_count": 207,
   "metadata": {
    "ExecuteTime": {
     "end_time": "2020-04-26T20:29:46.061008Z",
     "start_time": "2020-04-26T20:29:46.056008Z"
    }
   },
   "outputs": [],
   "source": [
    "xgb = XGBClassifier(n_jobs=4,random_state=seed, gamma= 0, learning_rate = 0.2,\n",
    "                        max_depth= 1, n_estimators = 500)"
   ]
  },
  {
   "cell_type": "code",
   "execution_count": 208,
   "metadata": {
    "ExecuteTime": {
     "end_time": "2020-04-26T20:29:59.408018Z",
     "start_time": "2020-04-26T20:29:46.672133Z"
    }
   },
   "outputs": [
    {
     "data": {
      "text/plain": [
       "XGBClassifier(base_score=0.5, booster='gbtree', colsample_bylevel=1,\n",
       "              colsample_bynode=1, colsample_bytree=1, gamma=0,\n",
       "              learning_rate=0.2, max_delta_step=0, max_depth=1,\n",
       "              min_child_weight=1, missing=None, n_estimators=500, n_jobs=4,\n",
       "              nthread=None, objective='binary:logistic', random_state=7,\n",
       "              reg_alpha=0, reg_lambda=1, scale_pos_weight=1, seed=None,\n",
       "              silent=None, subsample=1, verbosity=1)"
      ]
     },
     "execution_count": 208,
     "metadata": {},
     "output_type": "execute_result"
    }
   ],
   "source": [
    "xgb.fit(X_trans, y_finaltest_not_combined)"
   ]
  },
  {
   "cell_type": "code",
   "execution_count": 209,
   "metadata": {
    "ExecuteTime": {
     "end_time": "2020-04-26T20:29:59.414019Z",
     "start_time": "2020-04-26T20:29:59.410018Z"
    }
   },
   "outputs": [],
   "source": [
    "bases = [\"_A\",\"_C\",\"_T\",\"_G\"]\n",
    "cat = [elm + base for elm in cat_features_not_combined for base in bases ]"
   ]
  },
  {
   "cell_type": "code",
   "execution_count": 212,
   "metadata": {
    "ExecuteTime": {
     "end_time": "2020-04-26T20:30:29.860815Z",
     "start_time": "2020-04-26T20:30:29.857815Z"
    }
   },
   "outputs": [],
   "source": [
    "feature_names = numeric_features_poly + cat"
   ]
  },
  {
   "cell_type": "code",
   "execution_count": 213,
   "metadata": {
    "ExecuteTime": {
     "end_time": "2020-04-26T20:30:30.795397Z",
     "start_time": "2020-04-26T20:30:30.569346Z"
    },
    "scrolled": true
   },
   "outputs": [
    {
     "data": {
      "image/png": "[encoded data removed]",
      "text/plain": [
       "<Figure size 842.4x595.44 with 1 Axes>"
      ]
     },
     "metadata": {},
     "output_type": "display_data"
    }
   ],
   "source": [
    "skplt.estimators.plot_feature_importances(xgb, feature_names=feature_names, max_num_features=10)\n",
    "plt.xticks(rotation=90);"
   ]
  },
  {
   "cell_type": "markdown",
   "metadata": {},
   "source": [
    "# supervised combined"
   ]
  },
  {
   "cell_type": "markdown",
   "metadata": {},
   "source": [
    "## baseline"
   ]
  },
  {
   "cell_type": "code",
   "execution_count": 122,
   "metadata": {
    "ExecuteTime": {
     "end_time": "2020-04-26T17:20:24.458521Z",
     "start_time": "2020-04-26T17:20:24.456521Z"
    }
   },
   "outputs": [],
   "source": [
    "y_pred = np.zeros(len(X_val_combined))"
   ]
  },
  {
   "cell_type": "code",
   "execution_count": 123,
   "metadata": {
    "ExecuteTime": {
     "end_time": "2020-04-26T17:20:24.833609Z",
     "start_time": "2020-04-26T17:20:24.616561Z"
    }
   },
   "outputs": [
    {
     "data": {
      "text/plain": [
       "<matplotlib.axes._subplots.AxesSubplot at 0x17b82430708>"
      ]
     },
     "execution_count": 123,
     "metadata": {},
     "output_type": "execute_result"
    },
    {
     "data": {
      "image/png": "[encoded data removed]",
      "text/plain": [
       "<Figure size 720x720 with 2 Axes>"
      ]
     },
     "metadata": {},
     "output_type": "display_data"
    }
   ],
   "source": [
    "skplt.metrics.plot_confusion_matrix(y_val_combined, y_pred, figsize=(10,10), text_fontsize=20)"
   ]
  },
  {
   "cell_type": "code",
   "execution_count": 124,
   "metadata": {
    "ExecuteTime": {
     "end_time": "2020-04-26T17:20:24.843611Z",
     "start_time": "2020-04-26T17:20:24.834608Z"
    },
    "scrolled": true
   },
   "outputs": [
    {
     "name": "stdout",
     "output_type": "stream",
     "text": [
      "              precision    recall  f1-score   support\n",
      "\n",
      "         0.0       0.97      1.00      0.98       758\n",
      "         1.0       0.00      0.00      0.00        26\n",
      "\n",
      "    accuracy                           0.97       784\n",
      "   macro avg       0.48      0.50      0.49       784\n",
      "weighted avg       0.93      0.97      0.95       784\n",
      "\n"
     ]
    },
    {
     "name": "stderr",
     "output_type": "stream",
     "text": [
      "C:\\Users\\neomo\\anaconda3\\lib\\site-packages\\sklearn\\metrics\\_classification.py:1272: UndefinedMetricWarning: Precision and F-score are ill-defined and being set to 0.0 in labels with no predicted samples. Use `zero_division` parameter to control this behavior.\n",
      "  _warn_prf(average, modifier, msg_start, len(result))\n"
     ]
    }
   ],
   "source": [
    "print(classification_report(y_val_combined,y_pred))"
   ]
  },
  {
   "cell_type": "markdown",
   "metadata": {},
   "source": [
    "## classical ml models"
   ]
  },
  {
   "cell_type": "markdown",
   "metadata": {},
   "source": [
    "### model selection"
   ]
  },
  {
   "cell_type": "code",
   "execution_count": 125,
   "metadata": {
    "ExecuteTime": {
     "end_time": "2020-04-26T17:20:25.618270Z",
     "start_time": "2020-04-26T17:20:25.615268Z"
    }
   },
   "outputs": [],
   "source": [
    "sel_c = ModelSelector(preprocessor_combined, instance_name = \"Combined Dataframe\")"
   ]
  },
  {
   "cell_type": "code",
   "execution_count": 126,
   "metadata": {
    "ExecuteTime": {
     "end_time": "2020-04-26T17:20:28.729923Z",
     "start_time": "2020-04-26T17:20:25.960373Z"
    }
   },
   "outputs": [],
   "source": [
    "sel_c.select_model(X_finaltest_combined, y_finaltest_combined, True)"
   ]
  },
  {
   "cell_type": "code",
   "execution_count": 127,
   "metadata": {
    "ExecuteTime": {
     "end_time": "2020-04-26T17:20:29.941195Z",
     "start_time": "2020-04-26T17:20:28.730924Z"
    }
   },
   "outputs": [
    {
     "data": {
      "image/png": "[encoded data removed]",
      "text/plain": [
       "<Figure size 1080x576 with 4 Axes>"
      ]
     },
     "metadata": {},
     "output_type": "display_data"
    }
   ],
   "source": [
    "sel_c.plot_selection()"
   ]
  },
  {
   "cell_type": "code",
   "execution_count": 128,
   "metadata": {
    "ExecuteTime": {
     "end_time": "2020-04-26T17:20:29.953199Z",
     "start_time": "2020-04-26T17:20:29.942196Z"
    }
   },
   "outputs": [],
   "source": [
    "model_selection_results = pd.concat([model_selection_results,sel_c.get_scores()], axis=0)"
   ]
  },
  {
   "cell_type": "markdown",
   "metadata": {},
   "source": [
    "### xgb gridsearch"
   ]
  },
  {
   "cell_type": "code",
   "execution_count": 362,
   "metadata": {
    "ExecuteTime": {
     "end_time": "2020-04-26T21:39:28.593980Z",
     "start_time": "2020-04-26T21:39:28.588979Z"
    }
   },
   "outputs": [],
   "source": [
    "param_grid_xgb = {'xgbclassifier__max_depth':[5],\n",
    "                 'xgbclassifier__learning_rate':[0.3],\n",
    "                 'xgbclassifier__n_estimators':[150],\n",
    "                 'xgbclassifier__booster':[\"gbtree\"],\n",
    "                 'xgbclassifier__gamma':[0]}"
   ]
  },
  {
   "cell_type": "code",
   "execution_count": 363,
   "metadata": {
    "ExecuteTime": {
     "end_time": "2020-04-26T21:39:28.768723Z",
     "start_time": "2020-04-26T21:39:28.765722Z"
    }
   },
   "outputs": [],
   "source": [
    "xgb_clf = XGBClassifier(n_jobs = -1,random_state=seed)\n",
    "model_xgb = make_pipeline(preprocessor_combined,xgb_clf)"
   ]
  },
  {
   "cell_type": "code",
   "execution_count": 364,
   "metadata": {
    "ExecuteTime": {
     "end_time": "2020-04-26T21:39:28.924758Z",
     "start_time": "2020-04-26T21:39:28.919757Z"
    }
   },
   "outputs": [],
   "source": [
    "labels = X_finaltest_combined.ref_number.values\n",
    "cv_by_hand = [(np.where(labels != label)[0], np.where(labels == label)[0])\n",
    "               for label in np.unique(labels)]"
   ]
  },
  {
   "cell_type": "code",
   "execution_count": 365,
   "metadata": {
    "ExecuteTime": {
     "end_time": "2020-04-26T21:39:31.038216Z",
     "start_time": "2020-04-26T21:39:29.086777Z"
    }
   },
   "outputs": [
    {
     "name": "stdout",
     "output_type": "stream",
     "text": [
      "Fitting 4 folds for each of 1 candidates, totalling 4 fits\n"
     ]
    },
    {
     "name": "stderr",
     "output_type": "stream",
     "text": [
      "[Parallel(n_jobs=-1)]: Using backend LokyBackend with 16 concurrent workers.\n"
     ]
    },
    {
     "name": "stdout",
     "output_type": "stream",
     "text": [
      "{'xgbclassifier__booster': 'gbtree', 'xgbclassifier__gamma': 0, 'xgbclassifier__learning_rate': 0.3, 'xgbclassifier__max_depth': 5, 'xgbclassifier__n_estimators': 150}\n"
     ]
    },
    {
     "name": "stderr",
     "output_type": "stream",
     "text": [
      "[Parallel(n_jobs=-1)]: Done   4 out of   4 | elapsed:    1.7s finished\n"
     ]
    }
   ],
   "source": [
    "grid_xgb = GridSearchCV(model_xgb, param_grid_xgb, scoring = \"f1\", return_train_score=False,n_jobs = -1,cv = cv_by_hand, verbose=3)\n",
    "grid_xgb.fit(X_finaltest_combined, y_finaltest_combined)\n",
    "print(grid_xgb.best_params_)"
   ]
  },
  {
   "cell_type": "code",
   "execution_count": 366,
   "metadata": {
    "ExecuteTime": {
     "end_time": "2020-04-26T21:39:31.052219Z",
     "start_time": "2020-04-26T21:39:31.039215Z"
    }
   },
   "outputs": [],
   "source": [
    "y_pred=grid_xgb.predict(X_val_combined)"
   ]
  },
  {
   "cell_type": "code",
   "execution_count": 367,
   "metadata": {
    "ExecuteTime": {
     "end_time": "2020-04-26T21:39:31.274268Z",
     "start_time": "2020-04-26T21:39:31.054219Z"
    }
   },
   "outputs": [
    {
     "data": {
      "text/plain": [
       "<matplotlib.axes._subplots.AxesSubplot at 0x17b8a882388>"
      ]
     },
     "execution_count": 367,
     "metadata": {},
     "output_type": "execute_result"
    },
    {
     "data": {
      "image/png": "[encoded data removed]",
      "text/plain": [
       "<Figure size 720x720 with 2 Axes>"
      ]
     },
     "metadata": {},
     "output_type": "display_data"
    }
   ],
   "source": [
    "skplt.metrics.plot_confusion_matrix(y_val_combined, y_pred, figsize=(10,10), text_fontsize=20)\n"
   ]
  },
  {
   "cell_type": "code",
   "execution_count": 368,
   "metadata": {
    "ExecuteTime": {
     "end_time": "2020-04-26T21:39:31.284271Z",
     "start_time": "2020-04-26T21:39:31.275268Z"
    },
    "scrolled": false
   },
   "outputs": [
    {
     "name": "stdout",
     "output_type": "stream",
     "text": [
      "              precision    recall  f1-score   support\n",
      "\n",
      "         0.0       1.00      1.00      1.00       758\n",
      "         1.0       0.93      0.96      0.94        26\n",
      "\n",
      "    accuracy                           1.00       784\n",
      "   macro avg       0.96      0.98      0.97       784\n",
      "weighted avg       1.00      1.00      1.00       784\n",
      "\n"
     ]
    }
   ],
   "source": [
    "print(classification_report(y_val_combined,y_pred))"
   ]
  },
  {
   "cell_type": "code",
   "execution_count": 369,
   "metadata": {
    "ExecuteTime": {
     "end_time": "2020-04-26T21:39:31.481315Z",
     "start_time": "2020-04-26T21:39:31.285271Z"
    }
   },
   "outputs": [
    {
     "name": "stdout",
     "output_type": "stream",
     "text": [
      "Ratio of modified Reads for ref_pos 15 is :50.0\n",
      "Ratio of modified Reads for ref_pos 26 is :50.0\n",
      "Ratio of modified Reads for ref_pos 43 is :50.0\n",
      "Ratio of modified Reads for ref_pos 58 is :50.0\n",
      "Ratio of modified Reads for ref_pos 65 is :50.0\n",
      "Ratio of modified Reads for ref_pos 75 is :50.0\n",
      "Ratio of modified Reads for ref_pos 81 is :50.0\n",
      "Ratio of modified Reads for ref_pos 104 is :50.0\n",
      "Ratio of modified Reads for ref_pos 123 is :25.0\n",
      "Ratio of modified Reads for ref_pos 124 is :50.0\n",
      "Ratio of modified Reads for ref_pos 163 is :50.0\n",
      "Ratio of modified Reads for ref_pos 169 is :50.0\n",
      "Ratio of modified Reads for ref_pos 179 is :50.0\n",
      "Ratio of modified Reads for ref_pos 185 is :50.0\n"
     ]
    },
    {
     "data": {
      "text/html": [
       "<div>\n",
       "<style scoped>\n",
       "    .dataframe tbody tr th:only-of-type {\n",
       "        vertical-align: middle;\n",
       "    }\n",
       "\n",
       "    .dataframe tbody tr th {\n",
       "        vertical-align: top;\n",
       "    }\n",
       "\n",
       "    .dataframe thead th {\n",
       "        text-align: right;\n",
       "    }\n",
       "</style>\n",
       "<table border=\"1\" class=\"dataframe\">\n",
       "  <thead>\n",
       "    <tr style=\"text-align: right;\">\n",
       "      <th></th>\n",
       "      <th>ratio</th>\n",
       "    </tr>\n",
       "    <tr>\n",
       "      <th>ref_pos</th>\n",
       "      <th></th>\n",
       "    </tr>\n",
       "  </thead>\n",
       "  <tbody>\n",
       "    <tr>\n",
       "      <th>15</th>\n",
       "      <td>50.0</td>\n",
       "    </tr>\n",
       "    <tr>\n",
       "      <th>26</th>\n",
       "      <td>50.0</td>\n",
       "    </tr>\n",
       "    <tr>\n",
       "      <th>43</th>\n",
       "      <td>50.0</td>\n",
       "    </tr>\n",
       "    <tr>\n",
       "      <th>58</th>\n",
       "      <td>50.0</td>\n",
       "    </tr>\n",
       "    <tr>\n",
       "      <th>65</th>\n",
       "      <td>50.0</td>\n",
       "    </tr>\n",
       "    <tr>\n",
       "      <th>75</th>\n",
       "      <td>50.0</td>\n",
       "    </tr>\n",
       "    <tr>\n",
       "      <th>81</th>\n",
       "      <td>50.0</td>\n",
       "    </tr>\n",
       "    <tr>\n",
       "      <th>104</th>\n",
       "      <td>50.0</td>\n",
       "    </tr>\n",
       "    <tr>\n",
       "      <th>123</th>\n",
       "      <td>25.0</td>\n",
       "    </tr>\n",
       "    <tr>\n",
       "      <th>124</th>\n",
       "      <td>50.0</td>\n",
       "    </tr>\n",
       "    <tr>\n",
       "      <th>163</th>\n",
       "      <td>50.0</td>\n",
       "    </tr>\n",
       "    <tr>\n",
       "      <th>169</th>\n",
       "      <td>50.0</td>\n",
       "    </tr>\n",
       "    <tr>\n",
       "      <th>179</th>\n",
       "      <td>50.0</td>\n",
       "    </tr>\n",
       "    <tr>\n",
       "      <th>185</th>\n",
       "      <td>50.0</td>\n",
       "    </tr>\n",
       "  </tbody>\n",
       "</table>\n",
       "</div>"
      ],
      "text/plain": [
       "         ratio\n",
       "ref_pos       \n",
       "15        50.0\n",
       "26        50.0\n",
       "43        50.0\n",
       "58        50.0\n",
       "65        50.0\n",
       "75        50.0\n",
       "81        50.0\n",
       "104       50.0\n",
       "123       25.0\n",
       "124       50.0\n",
       "163       50.0\n",
       "169       50.0\n",
       "179       50.0\n",
       "185       50.0"
      ]
     },
     "execution_count": 369,
     "metadata": {},
     "output_type": "execute_result"
    }
   ],
   "source": [
    "modified_ratio(X_val_combined, y_pred)"
   ]
  },
  {
   "cell_type": "markdown",
   "metadata": {},
   "source": [
    "### feature importances"
   ]
  },
  {
   "cell_type": "code",
   "execution_count": 279,
   "metadata": {
    "ExecuteTime": {
     "end_time": "2020-04-26T20:50:51.933011Z",
     "start_time": "2020-04-26T20:50:51.927010Z"
    }
   },
   "outputs": [],
   "source": [
    "labels = X_finaltest_combined.ref_number.values\n",
    "cv_by_hand = [(np.where(labels != label)[0], np.where(labels == label)[0])\n",
    "               for label in np.unique(labels)]"
   ]
  },
  {
   "cell_type": "code",
   "execution_count": 280,
   "metadata": {
    "ExecuteTime": {
     "end_time": "2020-04-26T20:50:52.214008Z",
     "start_time": "2020-04-26T20:50:52.191003Z"
    }
   },
   "outputs": [],
   "source": [
    "X_trans = preprocessor_combined.fit_transform(X_finaltest_combined)"
   ]
  },
  {
   "cell_type": "code",
   "execution_count": 281,
   "metadata": {
    "ExecuteTime": {
     "end_time": "2020-04-26T20:50:52.722753Z",
     "start_time": "2020-04-26T20:50:52.718751Z"
    }
   },
   "outputs": [],
   "source": [
    "\n",
    "xgb = XGBClassifier(n_jobs=4,random_state=seed, gamma= 0, learning_rate = 0.2,\n",
    "                        max_depth= 1, n_estimators = 200)"
   ]
  },
  {
   "cell_type": "code",
   "execution_count": 282,
   "metadata": {
    "ExecuteTime": {
     "end_time": "2020-04-26T20:50:53.092850Z",
     "start_time": "2020-04-26T20:50:52.975822Z"
    }
   },
   "outputs": [
    {
     "data": {
      "text/plain": [
       "XGBClassifier(base_score=0.5, booster='gbtree', colsample_bylevel=1,\n",
       "              colsample_bynode=1, colsample_bytree=1, gamma=0,\n",
       "              learning_rate=0.2, max_delta_step=0, max_depth=1,\n",
       "              min_child_weight=1, missing=None, n_estimators=200, n_jobs=4,\n",
       "              nthread=None, objective='binary:logistic', random_state=7,\n",
       "              reg_alpha=0, reg_lambda=1, scale_pos_weight=1, seed=None,\n",
       "              silent=None, subsample=1, verbosity=1)"
      ]
     },
     "execution_count": 282,
     "metadata": {},
     "output_type": "execute_result"
    }
   ],
   "source": [
    "xgb.fit(X_trans, y_finaltest_combined)"
   ]
  },
  {
   "cell_type": "code",
   "execution_count": 283,
   "metadata": {
    "ExecuteTime": {
     "end_time": "2020-04-26T20:50:53.225847Z",
     "start_time": "2020-04-26T20:50:53.222846Z"
    }
   },
   "outputs": [],
   "source": [
    "bases = [\"_A\",\"_C\",\"_T\",\"_G\"]\n",
    "cat = [elm + base for elm in cat_features_combined for base in bases ]"
   ]
  },
  {
   "cell_type": "code",
   "execution_count": 284,
   "metadata": {
    "ExecuteTime": {
     "end_time": "2020-04-26T20:50:53.473037Z",
     "start_time": "2020-04-26T20:50:53.471035Z"
    }
   },
   "outputs": [],
   "source": [
    "feature_names = numeric_features_combined + cat"
   ]
  },
  {
   "cell_type": "code",
   "execution_count": 285,
   "metadata": {
    "ExecuteTime": {
     "end_time": "2020-04-26T20:50:54.100009Z",
     "start_time": "2020-04-26T20:50:53.871959Z"
    },
    "scrolled": true
   },
   "outputs": [
    {
     "data": {
      "image/png": "[encoded data removed]",
      "text/plain": [
       "<Figure size 842.4x595.44 with 1 Axes>"
      ]
     },
     "metadata": {},
     "output_type": "display_data"
    }
   ],
   "source": [
    "skplt.estimators.plot_feature_importances(xgb, feature_names=feature_names, max_num_features=10)\n",
    "plt.xticks(rotation=90);"
   ]
  },
  {
   "cell_type": "markdown",
   "metadata": {},
   "source": [
    "## classical ml models with oversampling"
   ]
  },
  {
   "cell_type": "code",
   "execution_count": 286,
   "metadata": {
    "ExecuteTime": {
     "end_time": "2020-04-26T20:50:54.889034Z",
     "start_time": "2020-04-26T20:50:54.886034Z"
    }
   },
   "outputs": [],
   "source": [
    "smotet = SMOTETomek(sampling_strategy = 'minority', random_state = seed, n_jobs = -1)\n"
   ]
  },
  {
   "cell_type": "markdown",
   "metadata": {},
   "source": [
    "### model selection"
   ]
  },
  {
   "cell_type": "code",
   "execution_count": 287,
   "metadata": {
    "ExecuteTime": {
     "end_time": "2020-04-26T20:51:31.115336Z",
     "start_time": "2020-04-26T20:50:58.462357Z"
    }
   },
   "outputs": [],
   "source": [
    "sel_c_os = ModelSelector(preprocessor_combined, smotet, instance_name = \"Combined Dataframe and Oversampling\")\n",
    "\n",
    "sel_c_os.select_model(X_finaltest_combined, y_finaltest_combined, True)"
   ]
  },
  {
   "cell_type": "code",
   "execution_count": 288,
   "metadata": {
    "ExecuteTime": {
     "end_time": "2020-04-26T20:51:32.144810Z",
     "start_time": "2020-04-26T20:51:31.116337Z"
    }
   },
   "outputs": [
    {
     "data": {
      "image/png": "[encoded data removed]",
      "text/plain": [
       "<Figure size 1080x576 with 4 Axes>"
      ]
     },
     "metadata": {},
     "output_type": "display_data"
    }
   ],
   "source": [
    "sel_c_os.plot_selection()"
   ]
  },
  {
   "cell_type": "code",
   "execution_count": 289,
   "metadata": {
    "ExecuteTime": {
     "end_time": "2020-04-26T20:51:32.156812Z",
     "start_time": "2020-04-26T20:51:32.145809Z"
    }
   },
   "outputs": [],
   "source": [
    "model_selection_results = pd.concat([model_selection_results,sel_c_os.get_scores()], axis=0)"
   ]
  },
  {
   "cell_type": "code",
   "execution_count": 290,
   "metadata": {
    "ExecuteTime": {
     "end_time": "2020-04-26T20:51:32.161813Z",
     "start_time": "2020-04-26T20:51:32.158812Z"
    }
   },
   "outputs": [],
   "source": [
    "model_selection_results = model_selection_results.reset_index()"
   ]
  },
  {
   "cell_type": "code",
   "execution_count": 291,
   "metadata": {
    "ExecuteTime": {
     "end_time": "2020-04-26T20:51:32.176840Z",
     "start_time": "2020-04-26T20:51:32.162813Z"
    }
   },
   "outputs": [
    {
     "data": {
      "text/html": [
       "<div>\n",
       "<style scoped>\n",
       "    .dataframe tbody tr th:only-of-type {\n",
       "        vertical-align: middle;\n",
       "    }\n",
       "\n",
       "    .dataframe tbody tr th {\n",
       "        vertical-align: top;\n",
       "    }\n",
       "\n",
       "    .dataframe thead th {\n",
       "        text-align: right;\n",
       "    }\n",
       "</style>\n",
       "<table border=\"1\" class=\"dataframe\">\n",
       "  <thead>\n",
       "    <tr style=\"text-align: right;\">\n",
       "      <th></th>\n",
       "      <th>index</th>\n",
       "      <th>instance_name</th>\n",
       "      <th>test</th>\n",
       "      <th>model</th>\n",
       "      <th>test_result</th>\n",
       "    </tr>\n",
       "  </thead>\n",
       "  <tbody>\n",
       "    <tr>\n",
       "      <th>0</th>\n",
       "      <td>0</td>\n",
       "      <td>Uncombined Dataframe</td>\n",
       "      <td>test_precision</td>\n",
       "      <td>RF</td>\n",
       "      <td>0.959791</td>\n",
       "    </tr>\n",
       "    <tr>\n",
       "      <th>1</th>\n",
       "      <td>1</td>\n",
       "      <td>Uncombined Dataframe</td>\n",
       "      <td>test_precision</td>\n",
       "      <td>SVC</td>\n",
       "      <td>0.947454</td>\n",
       "    </tr>\n",
       "    <tr>\n",
       "      <th>2</th>\n",
       "      <td>2</td>\n",
       "      <td>Uncombined Dataframe</td>\n",
       "      <td>test_precision</td>\n",
       "      <td>XGB</td>\n",
       "      <td>0.925391</td>\n",
       "    </tr>\n",
       "    <tr>\n",
       "      <th>3</th>\n",
       "      <td>3</td>\n",
       "      <td>Uncombined Dataframe</td>\n",
       "      <td>test_recall</td>\n",
       "      <td>GNB</td>\n",
       "      <td>1.000000</td>\n",
       "    </tr>\n",
       "    <tr>\n",
       "      <th>4</th>\n",
       "      <td>4</td>\n",
       "      <td>Uncombined Dataframe</td>\n",
       "      <td>test_recall</td>\n",
       "      <td>XGB</td>\n",
       "      <td>0.836000</td>\n",
       "    </tr>\n",
       "    <tr>\n",
       "      <th>...</th>\n",
       "      <td>...</td>\n",
       "      <td>...</td>\n",
       "      <td>...</td>\n",
       "      <td>...</td>\n",
       "      <td>...</td>\n",
       "    </tr>\n",
       "    <tr>\n",
       "      <th>79</th>\n",
       "      <td>(Combined Dataframe and Oversampling, test_f1s...</td>\n",
       "      <td>NaN</td>\n",
       "      <td>NaN</td>\n",
       "      <td>NaN</td>\n",
       "      <td>0.970653</td>\n",
       "    </tr>\n",
       "    <tr>\n",
       "      <th>80</th>\n",
       "      <td>(Combined Dataframe and Oversampling, test_f1s...</td>\n",
       "      <td>NaN</td>\n",
       "      <td>NaN</td>\n",
       "      <td>NaN</td>\n",
       "      <td>0.961519</td>\n",
       "    </tr>\n",
       "    <tr>\n",
       "      <th>81</th>\n",
       "      <td>(Combined Dataframe and Oversampling, test_roc...</td>\n",
       "      <td>NaN</td>\n",
       "      <td>NaN</td>\n",
       "      <td>NaN</td>\n",
       "      <td>0.999934</td>\n",
       "    </tr>\n",
       "    <tr>\n",
       "      <th>82</th>\n",
       "      <td>(Combined Dataframe and Oversampling, test_roc...</td>\n",
       "      <td>NaN</td>\n",
       "      <td>NaN</td>\n",
       "      <td>NaN</td>\n",
       "      <td>0.999923</td>\n",
       "    </tr>\n",
       "    <tr>\n",
       "      <th>83</th>\n",
       "      <td>(Combined Dataframe and Oversampling, test_roc...</td>\n",
       "      <td>NaN</td>\n",
       "      <td>NaN</td>\n",
       "      <td>NaN</td>\n",
       "      <td>0.999767</td>\n",
       "    </tr>\n",
       "  </tbody>\n",
       "</table>\n",
       "<p>84 rows × 5 columns</p>\n",
       "</div>"
      ],
      "text/plain": [
       "                                                index         instance_name  \\\n",
       "0                                                   0  Uncombined Dataframe   \n",
       "1                                                   1  Uncombined Dataframe   \n",
       "2                                                   2  Uncombined Dataframe   \n",
       "3                                                   3  Uncombined Dataframe   \n",
       "4                                                   4  Uncombined Dataframe   \n",
       "..                                                ...                   ...   \n",
       "79  (Combined Dataframe and Oversampling, test_f1s...                   NaN   \n",
       "80  (Combined Dataframe and Oversampling, test_f1s...                   NaN   \n",
       "81  (Combined Dataframe and Oversampling, test_roc...                   NaN   \n",
       "82  (Combined Dataframe and Oversampling, test_roc...                   NaN   \n",
       "83  (Combined Dataframe and Oversampling, test_roc...                   NaN   \n",
       "\n",
       "              test model  test_result  \n",
       "0   test_precision    RF     0.959791  \n",
       "1   test_precision   SVC     0.947454  \n",
       "2   test_precision   XGB     0.925391  \n",
       "3      test_recall   GNB     1.000000  \n",
       "4      test_recall   XGB     0.836000  \n",
       "..             ...   ...          ...  \n",
       "79             NaN   NaN     0.970653  \n",
       "80             NaN   NaN     0.961519  \n",
       "81             NaN   NaN     0.999934  \n",
       "82             NaN   NaN     0.999923  \n",
       "83             NaN   NaN     0.999767  \n",
       "\n",
       "[84 rows x 5 columns]"
      ]
     },
     "execution_count": 291,
     "metadata": {},
     "output_type": "execute_result"
    }
   ],
   "source": [
    "model_selection_results"
   ]
  },
  {
   "cell_type": "markdown",
   "metadata": {},
   "source": [
    "### xgb gridsearch"
   ]
  },
  {
   "cell_type": "code",
   "execution_count": 292,
   "metadata": {
    "ExecuteTime": {
     "end_time": "2020-04-26T20:52:45.162001Z",
     "start_time": "2020-04-26T20:52:45.159001Z"
    }
   },
   "outputs": [],
   "source": [
    "param_grid_xgb = {'xgbclassifier__max_depth':[1,2,5],\n",
    "                 'xgbclassifier__learning_rate':[0.1],\n",
    "                 'xgbclassifier__n_estimators':[100,200],\n",
    "                 'xgbclassifier__booster':[\"gbtree\"],\n",
    "                 'xgbclassifier__gamma':[0]}"
   ]
  },
  {
   "cell_type": "code",
   "execution_count": 293,
   "metadata": {
    "ExecuteTime": {
     "end_time": "2020-04-26T20:52:45.419040Z",
     "start_time": "2020-04-26T20:52:45.415040Z"
    }
   },
   "outputs": [],
   "source": [
    "xgb_clf = XGBClassifier(n_jobs=4,random_state=seed)\n",
    "model_xgb = Pipeline([(\"transformer\",preprocessor_combined),(\"smt\",smotet),(\"xgbclassifier\",xgb_clf)])"
   ]
  },
  {
   "cell_type": "code",
   "execution_count": 294,
   "metadata": {
    "ExecuteTime": {
     "end_time": "2020-04-26T20:52:45.701578Z",
     "start_time": "2020-04-26T20:52:45.694578Z"
    }
   },
   "outputs": [],
   "source": [
    "labels = X_finaltest_combined.ref_number.values\n",
    "cv_by_hand = [(np.where(labels != label)[0], np.where(labels == label)[0])\n",
    "               for label in np.unique(labels)]"
   ]
  },
  {
   "cell_type": "code",
   "execution_count": 295,
   "metadata": {
    "ExecuteTime": {
     "end_time": "2020-04-26T20:52:52.708045Z",
     "start_time": "2020-04-26T20:52:45.983650Z"
    }
   },
   "outputs": [
    {
     "name": "stdout",
     "output_type": "stream",
     "text": [
      "Fitting 4 folds for each of 6 candidates, totalling 24 fits\n"
     ]
    },
    {
     "name": "stderr",
     "output_type": "stream",
     "text": [
      "[Parallel(n_jobs=-1)]: Using backend LokyBackend with 16 concurrent workers.\n",
      "[Parallel(n_jobs=-1)]: Done   2 out of  24 | elapsed:    0.8s remaining:   10.1s\n",
      "[Parallel(n_jobs=-1)]: Done  11 out of  24 | elapsed:    2.0s remaining:    2.4s\n",
      "[Parallel(n_jobs=-1)]: Done  20 out of  24 | elapsed:    2.5s remaining:    0.4s\n",
      "[Parallel(n_jobs=-1)]: Done  24 out of  24 | elapsed:    5.9s finished\n"
     ]
    },
    {
     "name": "stdout",
     "output_type": "stream",
     "text": [
      "{'xgbclassifier__booster': 'gbtree', 'xgbclassifier__gamma': 0, 'xgbclassifier__learning_rate': 0.1, 'xgbclassifier__max_depth': 2, 'xgbclassifier__n_estimators': 200}\n"
     ]
    }
   ],
   "source": [
    "grid_xgb = GridSearchCV(model_xgb, param_grid_xgb, scoring = \"f1\", return_train_score=False,n_jobs=-1,cv = cv_by_hand, verbose=3)\n",
    "grid_xgb.fit(X_finaltest_combined, y_finaltest_combined)\n",
    "print(grid_xgb.best_params_)"
   ]
  },
  {
   "cell_type": "code",
   "execution_count": 296,
   "metadata": {
    "ExecuteTime": {
     "end_time": "2020-04-26T20:52:58.490962Z",
     "start_time": "2020-04-26T20:52:58.478969Z"
    }
   },
   "outputs": [],
   "source": [
    "y_pred=grid_xgb.predict(X_val_combined)"
   ]
  },
  {
   "cell_type": "code",
   "execution_count": 297,
   "metadata": {
    "ExecuteTime": {
     "end_time": "2020-04-26T20:52:59.228764Z",
     "start_time": "2020-04-26T20:52:59.006713Z"
    }
   },
   "outputs": [
    {
     "data": {
      "text/plain": [
       "<matplotlib.axes._subplots.AxesSubplot at 0x17bee203188>"
      ]
     },
     "execution_count": 297,
     "metadata": {},
     "output_type": "execute_result"
    },
    {
     "data": {
      "image/png": "[encoded data removed]",
      "text/plain": [
       "<Figure size 720x720 with 2 Axes>"
      ]
     },
     "metadata": {},
     "output_type": "display_data"
    }
   ],
   "source": [
    "skplt.metrics.plot_confusion_matrix(y_val_combined, y_pred, figsize=(10,10), text_fontsize=20)\n"
   ]
  },
  {
   "cell_type": "code",
   "execution_count": 164,
   "metadata": {
    "ExecuteTime": {
     "end_time": "2020-04-26T17:21:27.025205Z",
     "start_time": "2020-04-26T17:21:27.013362Z"
    },
    "scrolled": true
   },
   "outputs": [
    {
     "name": "stdout",
     "output_type": "stream",
     "text": [
      "              precision    recall  f1-score   support\n",
      "\n",
      "         0.0       1.00      1.00      1.00       758\n",
      "         1.0       0.93      1.00      0.96        26\n",
      "\n",
      "    accuracy                           1.00       784\n",
      "   macro avg       0.96      1.00      0.98       784\n",
      "weighted avg       1.00      1.00      1.00       784\n",
      "\n"
     ]
    }
   ],
   "source": [
    "print(classification_report(y_val_combined,y_pred))"
   ]
  },
  {
   "cell_type": "markdown",
   "metadata": {},
   "source": [
    "# unsupervised"
   ]
  },
  {
   "cell_type": "markdown",
   "metadata": {},
   "source": [
    "## TSNE"
   ]
  },
  {
   "cell_type": "code",
   "execution_count": null,
   "metadata": {
    "ExecuteTime": {
     "end_time": "2020-04-26T13:52:01.079509Z",
     "start_time": "2020-04-26T13:45:38.644Z"
    }
   },
   "outputs": [],
   "source": [
    "from sklearn.manifold import TSNE"
   ]
  },
  {
   "cell_type": "code",
   "execution_count": null,
   "metadata": {
    "ExecuteTime": {
     "end_time": "2020-04-26T13:52:01.080509Z",
     "start_time": "2020-04-26T13:45:38.647Z"
    },
    "scrolled": true
   },
   "outputs": [],
   "source": [
    "plt.figure(figsize = (20,40))\n",
    "\n",
    "for perplexity in range (5,51,5):\n",
    "    tsne = TSNE(random_state=7, perplexity = perplexity)\n",
    "    tsne_combined = tsne.fit_transform(preprocessor_combined.fit_transform(df_combined))\n",
    "    df_combined_w_tsne = pd.concat([df_combined,pd.Series(tsne_combined[:,0]).rename(\"tsne_d1\"),\n",
    "                      pd.Series(tsne_combined[:,1]).rename(\"tsne_d2\")],axis=1, )\n",
    "    plt.subplot(5,2,int(perplexity/5))\n",
    "    sns.scatterplot(data = df_combined_w_tsne, x = \"tsne_d1\", y = \"tsne_d2\", hue = \"modified_status\")\n",
    "    "
   ]
  },
  {
   "cell_type": "markdown",
   "metadata": {},
   "source": [
    "## UMAP"
   ]
  },
  {
   "cell_type": "code",
   "execution_count": null,
   "metadata": {
    "ExecuteTime": {
     "end_time": "2020-04-26T13:52:01.080509Z",
     "start_time": "2020-04-26T13:45:38.651Z"
    }
   },
   "outputs": [],
   "source": [
    "import umap"
   ]
  },
  {
   "cell_type": "code",
   "execution_count": null,
   "metadata": {
    "ExecuteTime": {
     "end_time": "2020-04-26T13:52:01.081510Z",
     "start_time": "2020-04-26T13:45:38.654Z"
    }
   },
   "outputs": [],
   "source": [
    "umap = umap.UMAP()"
   ]
  },
  {
   "cell_type": "code",
   "execution_count": null,
   "metadata": {
    "ExecuteTime": {
     "end_time": "2020-04-26T13:52:01.082510Z",
     "start_time": "2020-04-26T13:45:38.657Z"
    }
   },
   "outputs": [],
   "source": [
    "embedding = umap.fit_transform(preprocessor_combined.fit_transform(df_combined))"
   ]
  },
  {
   "cell_type": "code",
   "execution_count": null,
   "metadata": {
    "ExecuteTime": {
     "end_time": "2020-04-26T13:52:01.083510Z",
     "start_time": "2020-04-26T13:45:38.659Z"
    }
   },
   "outputs": [],
   "source": [
    "umap_df = pd.DataFrame(embedding)"
   ]
  },
  {
   "cell_type": "code",
   "execution_count": null,
   "metadata": {
    "ExecuteTime": {
     "end_time": "2020-04-26T13:52:01.084510Z",
     "start_time": "2020-04-26T13:45:38.662Z"
    }
   },
   "outputs": [],
   "source": [
    "umap_df[\"modified_status\"] = df_combined[\"modified_status\"].values"
   ]
  },
  {
   "cell_type": "code",
   "execution_count": null,
   "metadata": {
    "ExecuteTime": {
     "end_time": "2020-04-26T13:52:01.085510Z",
     "start_time": "2020-04-26T13:45:38.665Z"
    }
   },
   "outputs": [],
   "source": [
    "umap_df.columns = [\"umap_dim_1\",\"umap_dim_2\",\"modified_status\"]"
   ]
  },
  {
   "cell_type": "code",
   "execution_count": null,
   "metadata": {
    "ExecuteTime": {
     "end_time": "2020-04-26T13:52:01.085510Z",
     "start_time": "2020-04-26T13:45:38.668Z"
    }
   },
   "outputs": [],
   "source": [
    "plt.figure(figsize=(10,10))\n",
    "sns.scatterplot(x=\"umap_dim_2\", y=\"umap_dim_1\", data = umap_df, hue=\"modified_status\")\n"
   ]
  },
  {
   "cell_type": "markdown",
   "metadata": {},
   "source": [
    "## kmeans"
   ]
  },
  {
   "cell_type": "code",
   "execution_count": null,
   "metadata": {
    "ExecuteTime": {
     "end_time": "2020-04-26T13:52:01.086511Z",
     "start_time": "2020-04-26T13:45:38.671Z"
    }
   },
   "outputs": [],
   "source": [
    "from sklearn.cluster import KMeans"
   ]
  },
  {
   "cell_type": "code",
   "execution_count": null,
   "metadata": {
    "ExecuteTime": {
     "end_time": "2020-04-26T13:52:01.087511Z",
     "start_time": "2020-04-26T13:45:38.674Z"
    }
   },
   "outputs": [],
   "source": [
    "kmeans = KMeans(2, n_jobs = -1, random_state = seed)"
   ]
  },
  {
   "cell_type": "code",
   "execution_count": null,
   "metadata": {
    "ExecuteTime": {
     "end_time": "2020-04-26T13:52:01.088511Z",
     "start_time": "2020-04-26T13:45:38.676Z"
    }
   },
   "outputs": [],
   "source": [
    "y_pred = kmeans.fit_predict(preprocessor_combined.fit_transform(df_combined))\n",
    "y_true = df_combined[\"modified_status\"].values"
   ]
  },
  {
   "cell_type": "code",
   "execution_count": null,
   "metadata": {
    "ExecuteTime": {
     "end_time": "2020-04-26T13:52:01.089511Z",
     "start_time": "2020-04-26T13:45:38.679Z"
    }
   },
   "outputs": [],
   "source": [
    "adjusted_rand_score(y_true, y_pred)"
   ]
  },
  {
   "cell_type": "code",
   "execution_count": null,
   "metadata": {
    "ExecuteTime": {
     "end_time": "2020-04-26T13:52:01.089511Z",
     "start_time": "2020-04-26T13:45:38.682Z"
    }
   },
   "outputs": [],
   "source": [
    "adjusted_mutual_info_score(y_true, y_pred)"
   ]
  },
  {
   "cell_type": "markdown",
   "metadata": {},
   "source": [
    "## gmm"
   ]
  },
  {
   "cell_type": "code",
   "execution_count": null,
   "metadata": {
    "ExecuteTime": {
     "end_time": "2020-04-26T13:52:01.090512Z",
     "start_time": "2020-04-26T13:45:38.685Z"
    }
   },
   "outputs": [],
   "source": [
    "from sklearn.mixture import GaussianMixture"
   ]
  },
  {
   "cell_type": "code",
   "execution_count": null,
   "metadata": {
    "ExecuteTime": {
     "end_time": "2020-04-26T13:52:01.091512Z",
     "start_time": "2020-04-26T13:45:38.688Z"
    }
   },
   "outputs": [],
   "source": [
    "gmm = GaussianMixture(2, covariance_type=\"full\")"
   ]
  },
  {
   "cell_type": "code",
   "execution_count": null,
   "metadata": {
    "ExecuteTime": {
     "end_time": "2020-04-26T13:52:01.092512Z",
     "start_time": "2020-04-26T13:45:38.693Z"
    }
   },
   "outputs": [],
   "source": [
    "y_pred = gmm.fit_predict(preprocessor_combined.fit_transform(df_combined))\n",
    "y_true = df_combined[\"modified_status\"].values"
   ]
  },
  {
   "cell_type": "code",
   "execution_count": null,
   "metadata": {
    "ExecuteTime": {
     "end_time": "2020-04-26T13:52:01.093512Z",
     "start_time": "2020-04-26T13:45:38.696Z"
    }
   },
   "outputs": [],
   "source": [
    "adjusted_rand_score(y_true, y_pred)\n"
   ]
  },
  {
   "cell_type": "code",
   "execution_count": null,
   "metadata": {
    "ExecuteTime": {
     "end_time": "2020-04-26T13:52:01.093512Z",
     "start_time": "2020-04-26T13:45:38.699Z"
    }
   },
   "outputs": [],
   "source": [
    "adjusted_mutual_info_score(y_true, y_pred)"
   ]
  },
  {
   "cell_type": "markdown",
   "metadata": {
    "ExecuteTime": {
     "end_time": "2020-04-20T12:42:34.496628Z",
     "start_time": "2020-04-20T12:42:34.493637Z"
    }
   },
   "source": [
    "## hierarchical clustering"
   ]
  },
  {
   "cell_type": "code",
   "execution_count": null,
   "metadata": {
    "ExecuteTime": {
     "end_time": "2020-04-26T13:52:01.094513Z",
     "start_time": "2020-04-26T13:45:38.703Z"
    }
   },
   "outputs": [],
   "source": [
    "from sklearn.cluster import AgglomerativeClustering\n",
    "hc = AgglomerativeClustering(n_clusters = 2, affinity = 'euclidean', linkage = 'ward')\n",
    "y_pred = hc.fit_predict(preprocessor_combined.fit_transform(df_combined))"
   ]
  },
  {
   "cell_type": "code",
   "execution_count": null,
   "metadata": {
    "ExecuteTime": {
     "end_time": "2020-04-26T13:52:01.095513Z",
     "start_time": "2020-04-26T13:45:38.706Z"
    }
   },
   "outputs": [],
   "source": [
    "adjusted_rand_score(y_true, y_pred)"
   ]
  },
  {
   "cell_type": "code",
   "execution_count": null,
   "metadata": {
    "ExecuteTime": {
     "end_time": "2020-04-26T13:52:01.096513Z",
     "start_time": "2020-04-26T13:45:38.708Z"
    }
   },
   "outputs": [],
   "source": [
    "adjusted_mutual_info_score(y_true, y_pred)"
   ]
  }
 ],
 "metadata": {
  "kernelspec": {
   "display_name": "Python 3",
   "language": "python",
   "name": "python3"
  },
  "language_info": {
   "codemirror_mode": {
    "name": "ipython",
    "version": 3
   },
   "file_extension": ".py",
   "mimetype": "text/x-python",
   "name": "python",
   "nbconvert_exporter": "python",
   "pygments_lexer": "ipython3",
   "version": "3.7.7"
  },
  "toc": {
   "base_numbering": 1,
   "nav_menu": {},
   "number_sections": true,
   "sideBar": true,
   "skip_h1_title": false,
   "title_cell": "Table of Contents",
   "title_sidebar": "Contents",
   "toc_cell": false,
   "toc_position": {
    "height": "calc(100% - 180px)",
    "left": "10px",
    "top": "150px",
    "width": "383.969px"
   },
   "toc_section_display": true,
   "toc_window_display": true
  }
 },
 "nbformat": 4,
 "nbformat_minor": 4
}
