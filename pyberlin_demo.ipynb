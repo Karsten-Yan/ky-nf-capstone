{
 "cells": [
  {
   "cell_type": "markdown",
   "metadata": {},
   "source": [
    "https://github.com/Karsten-Yan/ky-nf-capstone"
   ]
  },
  {
   "cell_type": "markdown",
   "metadata": {},
   "source": [
    "# Setup"
   ]
  },
  {
   "cell_type": "code",
   "execution_count": null,
   "metadata": {
    "ExecuteTime": {
     "end_time": "2020-07-29T11:37:16.460280Z",
     "start_time": "2020-07-29T11:37:14.274399Z"
    },
    "code_folding": []
   },
   "outputs": [],
   "source": [
    "#packages for data handling and plotting\n",
    "import pandas as pd\n",
    "import numpy as np\n",
    "import seaborn as sns\n",
    "import matplotlib.pyplot as plt\n",
    "import matplotlib as mpl\n",
    "import matplotlib.patches as patches\n",
    "import matplotlib.image as mpimg\n",
    "from IPython.display import display\n",
    "import scikitplot as skplt\n",
    "\n",
    "sns.set(style=\"white\", palette=\"pastel\",font_scale=1.5, rc={\"lines.linewidth\": 2.5,'figure.figsize':(11.7,8.27)})\n",
    "pd.options.display.max_columns = None"
   ]
  },
  {
   "cell_type": "code",
   "execution_count": null,
   "metadata": {
    "ExecuteTime": {
     "end_time": "2020-07-29T11:37:23.422353Z",
     "start_time": "2020-07-29T11:37:23.417352Z"
    },
    "code_folding": [
     0
    ]
   },
   "outputs": [],
   "source": [
    "# some general parameters for plots\n",
    "mpl.rcParams['axes.linewidth'] = 2.5\n",
    "mpl.rcParams['axes.edgecolor'] = \"grey\"\n",
    "mpl.rcParams['figure.edgecolor'] = \"grey\"\n",
    "mpl.rcParams['lines.linewidth'] = 2.5\n",
    "mpl.rcParams['legend.edgecolor'] = \"grey\"\n",
    "mpl.rcParams['legend.shadow'] = False\n",
    "mpl.rcParams[\"legend.framealpha\"] = 1\n",
    "mpl.rcParams['font.weight'] = \"bold\"\n",
    "mpl.rcParams['axes.labelweight'] = \"bold\"\n",
    "mpl.rcParams['axes.titleweight'] = \"bold\""
   ]
  },
  {
   "cell_type": "code",
   "execution_count": null,
   "metadata": {
    "ExecuteTime": {
     "end_time": "2020-07-29T11:37:36.139506Z",
     "start_time": "2020-07-29T11:37:35.985471Z"
    },
    "code_folding": []
   },
   "outputs": [],
   "source": [
    "#modelling packages from sklearn\n",
    "from sklearn.model_selection import cross_validate\n",
    "\n",
    "from sklearn.ensemble import AdaBoostClassifier, RandomForestClassifier\n",
    "from sklearn.linear_model import LogisticRegression\n",
    "from sklearn.neighbors import KNeighborsClassifier\n",
    "from sklearn.naive_bayes import GaussianNB\n",
    "from sklearn.neural_network import MLPClassifier\n",
    "from sklearn.svm import SVC\n",
    "from xgboost import XGBClassifier\n",
    "\n",
    "from sklearn.metrics import f1_score"
   ]
  },
  {
   "cell_type": "markdown",
   "metadata": {},
   "source": [
    "# Load Data"
   ]
  },
  {
   "cell_type": "code",
   "execution_count": null,
   "metadata": {
    "ExecuteTime": {
     "end_time": "2020-07-29T11:37:46.052667Z",
     "start_time": "2020-07-29T11:37:46.001655Z"
    }
   },
   "outputs": [],
   "source": [
    "df_combined = pd.read_csv(\"data/exported/df_pyberlin_demo.csv\", index_col = 0)\n",
    "df_combined = df_combined.astype({\"base_1\":\"category\",\"base_2\":\"category\",\"base_3\":\"category\",\\\n",
    "                                          \"base_4\":\"category\",\"base_5\":\"category\",\"modified_status\":\"category\"})\n",
    "df_combined = df_combined.astype({\"ref_number\":\"object\"})"
   ]
  },
  {
   "cell_type": "code",
   "execution_count": null,
   "metadata": {
    "ExecuteTime": {
     "end_time": "2020-07-29T11:37:50.579201Z",
     "start_time": "2020-07-29T11:37:50.554196Z"
    }
   },
   "outputs": [],
   "source": [
    "df_combined.head()"
   ]
  },
  {
   "cell_type": "markdown",
   "metadata": {},
   "source": [
    "# Exploratory Data Analysis"
   ]
  },
  {
   "cell_type": "code",
   "execution_count": null,
   "metadata": {
    "ExecuteTime": {
     "end_time": "2020-07-29T11:38:34.754762Z",
     "start_time": "2020-07-29T11:38:34.585723Z"
    }
   },
   "outputs": [],
   "source": [
    "ax = df_combined.modified_status.value_counts(normalize=True).plot.bar(edgecolor = \"grey\", linewidth = 2.5)\n",
    "ax.set(ylabel = \"Percent\", xticklabels=[\"unmodified\", \"modified\"])\n",
    "plt.xticks(rotation=\"horizontal\")\n",
    "plt.title(\"target value distribution\");"
   ]
  },
  {
   "cell_type": "markdown",
   "metadata": {},
   "source": [
    "## Interactive Plot"
   ]
  },
  {
   "cell_type": "code",
   "execution_count": null,
   "metadata": {
    "ExecuteTime": {
     "end_time": "2020-07-29T11:39:23.140835Z",
     "start_time": "2020-07-29T11:39:23.137835Z"
    }
   },
   "outputs": [],
   "source": [
    "from ipywidgets import interact, interactive, fixed, interact_manual\n",
    "import ipywidgets as widgets"
   ]
  },
  {
   "cell_type": "code",
   "execution_count": null,
   "metadata": {
    "ExecuteTime": {
     "end_time": "2020-07-29T11:39:27.573191Z",
     "start_time": "2020-07-29T11:39:27.569189Z"
    }
   },
   "outputs": [],
   "source": [
    "df_dnaviewer = df_combined[[\"ref_number\",\"file_name\",\"base_3\",\"dwell_time_median\",\"dwell_time_rolling_min\",\n",
    "                            \"dwell_time_diff_to_median\",\"modified_status\",\"file_type\"]]"
   ]
  },
  {
   "cell_type": "code",
   "execution_count": null,
   "metadata": {
    "ExecuteTime": {
     "end_time": "2020-07-29T11:39:33.286482Z",
     "start_time": "2020-07-29T11:39:33.281481Z"
    },
    "code_folding": [
     0
    ]
   },
   "outputs": [],
   "source": [
    "def getIndexes(dfObj, value):\n",
    "    listOfPos = list()\n",
    "    # Get bool dataframe with True at positions where the given value exists\n",
    "    result = dfObj.isin([value])\n",
    "    # Get list of columns that contains the value\n",
    "    seriesObj = result.any()\n",
    "    if seriesObj.any():\n",
    "        columnNames = list(seriesObj[seriesObj == True].index)\n",
    "        # Iterate over list of columns and fetch the rows indexes where value exists\n",
    "        for col in columnNames:\n",
    "            rows = list(result[col][result[col] == True].index)\n",
    "        for row in rows:\n",
    "            listOfPos.append((row))\n",
    "        # Return a list of tuples indicating the positions of value in the dataframe\n",
    "    else:\n",
    "        listOfPos = False\n",
    "    return listOfPos"
   ]
  },
  {
   "cell_type": "code",
   "execution_count": null,
   "metadata": {
    "ExecuteTime": {
     "end_time": "2020-07-29T11:39:33.744586Z",
     "start_time": "2020-07-29T11:39:33.713578Z"
    },
    "code_folding": [
     0
    ]
   },
   "outputs": [],
   "source": [
    "def plot_dna(i, col, axs, ref, startpos, stoppos, df_temp):\n",
    "    start,stop = 0,15\n",
    "    font =  {'size': 24, \n",
    "             'weight':'bold'}\n",
    "    \n",
    "    \n",
    "    sequence = \"\".join(df_temp.base_3.values)\n",
    "    \n",
    "    modified_positions = getIndexes(df_temp[[\"base_3\",\"modified_status\"]], 1.0)\n",
    "    \n",
    "    if modified_positions:\n",
    "            for elm in modified_positions:\n",
    "\n",
    "                axs[0,col].axvspan(elm-0.5, elm+0.5, color='red', alpha=0.2,zorder=0)\n",
    "                axs[1,col].axvspan(elm-0.5, elm+0.5, color='red', alpha=0.2,zorder=1)\n",
    "                axs[2,col].axvspan(elm-0.5, elm+0.5, color='red', alpha=0.2,zorder=1)\n",
    "                axs[3,col].axvspan(elm-0.5, elm+0.5, color='red', alpha=0.2,zorder=1)\n",
    "\n",
    "\n",
    "            \n",
    "    box1 = patches.Rectangle (xy=(4.5,1), width = 5, height = 2, edgecolor=\"grey\",\n",
    "                             linewidth=2.5, facecolor = \"#FFB482\")\n",
    "    box2 = patches.FancyBboxPatch (xy=(6,5), width = 2, height = 2, edgecolor=\"grey\",\n",
    "                             linewidth=2.5, facecolor = \"#A1C9F4\", boxstyle = \"Round4\")\n",
    "    \n",
    "    axs[0,col].add_patch(box1)\n",
    "    axs[0,col].add_patch(box2)\n",
    "    axs[0,col].set_ylim(0,10)\n",
    "    axs[0,col].text(7,2,s=\"reading frame\", ha=\"center\", va=\"center\")\n",
    "    axs[0,col].text(7,6,s=\"center\", ha=\"center\", va=\"center\")\n",
    "    axs[0,col].text(-0.3,2, va=\"center\", ha=\"center\", s=\"3'\")\n",
    "    axs[0,col].text(14.3,2, va=\"center\", ha=\"center\", s=\"5'\")\n",
    "    temp_title = df_temp.file_type[0]\n",
    "    axs[0,col].text(7,9,s=temp_title, ha=\"center\", va=\"center\")\n",
    "    axs[0,col].plot(np.arange(start,stop),np.full(stop,2), color=\"grey\", zorder=0)\n",
    "    axs[0,col].plot([4.5,6.5],[3,5],color = \"grey\", zorder=0)\n",
    "    axs[0,col].plot([7.5,9.5],[5,3], color=\"grey\", zorder=0)\n",
    "    axs[0,col].axis(\"off\")\n",
    "    axs[0,col].set_yticklabels([\"\"])\n",
    "    \n",
    "    bl = \"#A1C9F4\"\n",
    "    gr = \"#8DE5A1\"\n",
    "    og = \"#FFB482\"\n",
    "    \n",
    "    bar_colors = [gr,gr,gr,gr,gr,og,og,bl,og,og,gr,gr,gr,gr,gr,]\n",
    "    \n",
    "    axs[1,col].bar(x=range(0,stop-start),height=df_temp.dwell_time_diff_to_median, linewidth=2.5,\n",
    "            edgecolor=\"grey\",zorder=2, color = bar_colors)\n",
    "    axs[1,col].set_ylabel(\"Dwell Time\\nDiff to Median\")\n",
    "    axs[1,col].set_ylim(0,0.1)\n",
    "    axs[1,col].set_yticklabels([\"\"])\n",
    "    \n",
    "    axs[2,col].bar(x=range(0,stop-start),height=df_temp.dwell_time_rolling_min, linewidth=2.5,\n",
    "            edgecolor=\"grey\",zorder=2, color = bar_colors)\n",
    "    axs[2,col].set_ylabel(\"Dwell Time\\nRolling Minimum\")\n",
    "    axs[2,col].set_ylim(0,0.03)\n",
    "    axs[2,col].set_yticklabels([\"\"])\n",
    "    \n",
    "    axs[3,col].bar(x=range(0,stop-start),height=df_temp.dwell_time_median, linewidth=2.5, \n",
    "            edgecolor=\"grey\",zorder=2, color = bar_colors)\n",
    "    axs[3,col].set_ylabel(\"Dwell Time\\nMedian\")\n",
    "    axs[3,col].set_ylim(0,0.1)\n",
    "    axs[3,col].set_yticklabels([\"\"])\n",
    "    axs[3,col].set_xticks(np.arange(start,stop))\n",
    "    axs[3,col].set_xticklabels(list(sequence), fontdict=font )\n",
    "    axs[3,col].set_xlim(-0.5,14.5)\n",
    "    \n",
    "    if df_temp.base_3.iloc[7] == \"A\":\n",
    "        img=mpimg.imread('base_img/adenosin.png')\n",
    "    elif df_temp.base_3.iloc[7] == \"C\":\n",
    "        img=mpimg.imread('base_img/cytidin.png')\n",
    "    elif df_temp.base_3.iloc[7] == \"G\":\n",
    "        img=mpimg.imread('base_img/guanosin.png')\n",
    "    elif df_temp.base_3.iloc[7] == \"T\":\n",
    "        img=mpimg.imread('base_img/uridin.png')\n",
    "    axs[1,2].imshow(img)\n",
    "    axs[1,2].set_xlim(-100,1200)\n",
    "    axs[1,2].set_ylim(1100,-100)\n",
    "    axs[1,2].set_yticklabels([\"\"])\n",
    "    axs[1,2].set_xticklabels([\"\"])\n",
    "    axs[1,2].axis(\"off\")\n",
    "    \n",
    "    if modified_positions:\n",
    "            for elm in modified_positions:\n",
    "                if elm == 7:\n",
    "                    img2=mpimg.imread('base_img/1m7.png')\n",
    "                    axs[2,2].imshow(img2)\n",
    "    axs[2,2].set_xlim(-100,1400)\n",
    "    axs[2,2].set_ylim(1100,-100)\n",
    "    axs[2,2].set_yticklabels([\"\"])\n",
    "    axs[2,2].set_xticklabels([\"\"])\n",
    "    axs[2,2].axis(\"off\")"
   ]
  },
  {
   "cell_type": "code",
   "execution_count": null,
   "metadata": {
    "ExecuteTime": {
     "end_time": "2020-07-29T11:39:34.933893Z",
     "start_time": "2020-07-29T11:39:34.921891Z"
    },
    "code_folding": [
     0
    ]
   },
   "outputs": [],
   "source": [
    "def sequencing_show(i,ref):\n",
    "    \n",
    "    start_i = i\n",
    "    stop_i =i+15\n",
    "    \n",
    "    df_temp_mod = df_dnaviewer[(df_dnaviewer[\"file_name\"]==\"modified_rep_1.tsv\") &\n",
    "                (df_dnaviewer[\"ref_number\"]==\"ref_000\"+ref)][start_i:stop_i].reset_index()\n",
    "    df_temp_unmod = df_dnaviewer[(df_dnaviewer[\"file_name\"]==\"unmodified_rep_1.tsv\") &\n",
    "                (df_dnaviewer[\"ref_number\"]==\"ref_000\"+ref)][start_i:stop_i].reset_index()\n",
    "    \n",
    "    fig, axs = plt.subplots(\n",
    "        4, 3,   figsize=(20, 10), \n",
    "        sharex='col', \n",
    "        gridspec_kw={\"width_ratios\": [2,2,1]}\n",
    "    )\n",
    "    \n",
    "   \n",
    "    plot_dna(i,0,axs,ref, start_i, stop_i, df_temp_mod)\n",
    "    plot_dna(i,1,axs,ref, start_i, stop_i, df_temp_unmod)\n",
    "    \n",
    "    \n",
    "    #plt.figure(edgecolor = \"grey\")\n",
    "    plt.suptitle(\"DNA-Nanoporesequencing readout\",weight=\"bold\")\n",
    "    #plt.tight_layout()\n",
    "    plt.subplots_adjust(top=0.95,hspace = 0)\n",
    "    axs[1,1].set_ylabel(\"\")\n",
    "    axs[2,1].set_ylabel(\"\")\n",
    "    axs[3,1].set_ylabel(\"\")\n",
    "    \n",
    "    axs[0,2].set_visible(False)\n",
    "    axs[3,2].bar(x = (400,900), \n",
    "                 height= (df_temp_mod.dwell_time_median.iloc[7],df_temp_unmod.dwell_time_median.iloc[7]),\n",
    "                 edgecolor=\"grey\",\n",
    "                 linewidth=2.5,\n",
    "                 width=400)\n",
    "    #axs[3,2].set_xlim(-0.5,1.5)\n",
    "    axs[3,2].set_xticks([400,900])\n",
    "    axs[3,2].set_xticklabels([\"Mod\",\"Unmod\"] )\n",
    "    axs[3,2].set_ylim(0,0.1)\n",
    "    axs[3,2].set_yticklabels([\"\"])\n",
    "    axs[3,2].set_ylabel(\"Dwell Time\\nMedian\")"
   ]
  },
  {
   "cell_type": "code",
   "execution_count": null,
   "metadata": {
    "ExecuteTime": {
     "end_time": "2020-07-29T11:41:42.060295Z",
     "start_time": "2020-07-29T11:41:40.746044Z"
    },
    "code_folding": []
   },
   "outputs": [],
   "source": [
    "play = widgets.Play(\n",
    "    value=0,\n",
    "    min=0,\n",
    "    max=181,\n",
    "    step=1,\n",
    "    interval=2500,\n",
    "    description=\"Press play\",\n",
    "    disabled=False)\n",
    "text = widgets.IntText()\n",
    "toggle = widgets.ToggleButtons(options=[\"0\",\"1\",\"2\",\"3\",\"4\"])\n",
    "\n",
    "playbox = widgets.HBox([play, text])\n",
    "\n",
    "widgets.jslink((play, 'value'), (text, 'value'))\n",
    "    \n",
    "out = widgets.interactive_output(sequencing_show, {\"i\":play, \"ref\":toggle})\n",
    "display(playbox,toggle,out)\n"
   ]
  },
  {
   "cell_type": "markdown",
   "metadata": {},
   "source": [
    "# Creating a Classifier"
   ]
  },
  {
   "cell_type": "markdown",
   "metadata": {},
   "source": [
    "![conf_matrix](conf_matrix2.png)"
   ]
  },
  {
   "cell_type": "markdown",
   "metadata": {},
   "source": [
    "## Manual Train Test Split"
   ]
  },
  {
   "cell_type": "code",
   "execution_count": null,
   "metadata": {
    "ExecuteTime": {
     "end_time": "2020-07-29T11:49:38.361983Z",
     "start_time": "2020-07-29T11:49:38.358983Z"
    }
   },
   "outputs": [],
   "source": [
    "# manual train test split according to ref_num to preserve sequence sequence identity\n",
    "final_ref = [\"ref_0000\",\"ref_0001\",\"ref_0002\",\"ref_0003\"]\n",
    "val_ref = [\"ref_0004\"]"
   ]
  },
  {
   "cell_type": "code",
   "execution_count": null,
   "metadata": {
    "ExecuteTime": {
     "end_time": "2020-07-29T11:49:44.747934Z",
     "start_time": "2020-07-29T11:49:44.745934Z"
    }
   },
   "outputs": [],
   "source": [
    "seed = 7"
   ]
  },
  {
   "cell_type": "code",
   "execution_count": null,
   "metadata": {
    "ExecuteTime": {
     "end_time": "2020-07-29T11:49:48.932972Z",
     "start_time": "2020-07-29T11:49:48.929972Z"
    }
   },
   "outputs": [],
   "source": [
    "numeric_features_combined = list(df_combined.columns[df_combined.dtypes ==  \"float\"])"
   ]
  },
  {
   "cell_type": "code",
   "execution_count": null,
   "metadata": {
    "ExecuteTime": {
     "end_time": "2020-07-29T11:49:51.508100Z",
     "start_time": "2020-07-29T11:49:51.506100Z"
    }
   },
   "outputs": [],
   "source": [
    "feature_list = numeric_features_combined\n",
    "feature_list.append(\"modified_status\")"
   ]
  },
  {
   "cell_type": "code",
   "execution_count": null,
   "metadata": {
    "ExecuteTime": {
     "end_time": "2020-07-29T11:50:02.123307Z",
     "start_time": "2020-07-29T11:50:02.113305Z"
    }
   },
   "outputs": [],
   "source": [
    "X_finaltest_combined = df_combined[df_combined[\"ref_number\"].isin(final_ref)][feature_list]\n",
    "y_finaltest_combined = X_finaltest_combined.pop(\"modified_status\")\n",
    "X_val_combined = df_combined[df_combined[\"ref_number\"].isin(val_ref)][feature_list]\n",
    "y_val_combined = X_val_combined.pop(\"modified_status\")"
   ]
  },
  {
   "cell_type": "code",
   "execution_count": null,
   "metadata": {
    "ExecuteTime": {
     "end_time": "2020-07-29T11:50:05.867153Z",
     "start_time": "2020-07-29T11:50:05.858151Z"
    }
   },
   "outputs": [],
   "source": [
    "labels = df_combined[df_combined[\"ref_number\"].isin(final_ref)].ref_number.values\n",
    "cv = [(np.where(labels != label)[0], np.where(labels == label)[0]) for label in np.unique(labels)]"
   ]
  },
  {
   "cell_type": "markdown",
   "metadata": {
    "ExecuteTime": {
     "end_time": "2020-07-20T12:09:41.900041Z",
     "start_time": "2020-07-20T12:09:41.898041Z"
    }
   },
   "source": [
    "## ML models"
   ]
  },
  {
   "cell_type": "markdown",
   "metadata": {},
   "source": [
    "### Baseline"
   ]
  },
  {
   "cell_type": "code",
   "execution_count": null,
   "metadata": {
    "ExecuteTime": {
     "end_time": "2020-07-29T11:50:47.765124Z",
     "start_time": "2020-07-29T11:50:47.762122Z"
    }
   },
   "outputs": [],
   "source": [
    "# baseline model with all zeros, as data is rather imbalanced\n",
    "y_pred = np.zeros(len(X_val_combined))"
   ]
  },
  {
   "cell_type": "code",
   "execution_count": null,
   "metadata": {
    "ExecuteTime": {
     "end_time": "2020-07-29T11:50:51.584007Z",
     "start_time": "2020-07-29T11:50:51.433971Z"
    }
   },
   "outputs": [],
   "source": [
    "ax1=skplt.metrics.plot_confusion_matrix(y_val_combined, y_pred, labels=[1,0], figsize=(10,10), text_fontsize=20)\n",
    "ax1.set_yticklabels([\"Modified\",\"Unmodified\"])\n",
    "ax1.set_xticklabels([\"Modified\",\"Unmodified\"])\n",
    "ax1.images[-1].colorbar.remove()"
   ]
  },
  {
   "cell_type": "code",
   "execution_count": null,
   "metadata": {
    "ExecuteTime": {
     "end_time": "2020-07-29T11:51:22.688308Z",
     "start_time": "2020-07-29T11:51:22.682306Z"
    }
   },
   "outputs": [],
   "source": [
    "f1_score(y_val_combined,y_pred)"
   ]
  },
  {
   "cell_type": "markdown",
   "metadata": {},
   "source": [
    "### Modelling with the Dataset"
   ]
  },
  {
   "cell_type": "markdown",
   "metadata": {},
   "source": [
    "#### Model Selector Class"
   ]
  },
  {
   "cell_type": "code",
   "execution_count": null,
   "metadata": {
    "ExecuteTime": {
     "end_time": "2020-07-29T11:54:07.964924Z",
     "start_time": "2020-07-29T11:54:07.946919Z"
    },
    "code_folding": []
   },
   "outputs": [],
   "source": [
    "class ModelSelector():\n",
    "\n",
    "    def __init__(self, preprocessor=None,cv = 5, instance_name=None):\n",
    "        self.results = []\n",
    "        self.name = []\n",
    "        self.cv = cv\n",
    "        self.labels = []\n",
    "        self.scoring = {\n",
    "                        #'precision':'precision',\n",
    "                        #'recall': 'recall',\n",
    "                        'f1score':'f1',\n",
    "                        #'roc auc':'roc_auc'\n",
    "                        }\n",
    "        self.models = [\n",
    "                        ('LR', LogisticRegression(random_state=seed, max_iter = 1000, n_jobs=-1)),\n",
    "                        #('KNN', KNeighborsClassifier(n_jobs = -1)),\n",
    "                        #('RF', RandomForestClassifier(random_state=seed, n_jobs = -1)),\n",
    "                        #('ADAB', AdaBoostClassifier(random_state=seed)),\n",
    "                        ('XGB',  XGBClassifier(random_state=seed, n_jobs = -1)),\n",
    "                        #('SVC', SVC(random_state=seed)),\n",
    "                        ('GNB', GaussianNB()),\n",
    "                        #('MLP', MLPClassifier(random_state=seed)),\n",
    "                        ]\n",
    "        self.instance_name = instance_name\n",
    "        self.tests = [\"test_\"+elm for elm in self.scoring.keys()]\n",
    "        self.best_results= []\n",
    "\n",
    "    # fit each model and do cv and record cvs and names\n",
    "    def select_model(self, X, y):\n",
    "        for name, model in self.models:\n",
    "            cv_results = cross_validate(model, X, y, cv=self.cv, scoring=self.scoring, n_jobs=-1, return_train_score=True)\n",
    "            self.results.append(cv_results)\n",
    "            self.name.append(name)\n",
    "    # plot the test scores for each test and each model\n",
    "    def plot_selection(self):\n",
    "       \n",
    "        plt.figure(figsize = (15,8))\n",
    "        plt.suptitle('Algorithm Comparison for ' + self.instance_name)\n",
    "        for idx, test in enumerate(self.tests):\n",
    "            temp_results = [self.results[i][test] for i in range(len(self.results))]\n",
    "            plt.subplot(1,len(self.tests),idx+1)\n",
    "            sns.boxplot(y = temp_results, x = self.name)\n",
    "            plt.title(test)\n",
    "            plt.xticks(rotation = 90)\n",
    "            plt.ylim(0,1.05)\n",
    "        plt.tight_layout()\n",
    "        plt.subplots_adjust(top=0.85)\n",
    "        \n",
    "    # get test scores for top 3 tests for each measure and return them as a dataframe\n",
    "    def get_scores(self, top = 3):\n",
    "        self.best_results = []\n",
    "        for idx, test in enumerate(self.tests):\n",
    "            temp_results = [np.mean(self.results[i][test]) for i in range(len(self.results))]\n",
    "            test_name = [test for i in range(len(self.name))]\n",
    "            instance_name = [self.instance_name for i in range (len(self.name))]\n",
    "            temp_best = sorted(zip(temp_results,self.name,test_name, instance_name), reverse = True)[:top]\n",
    "            self.best_results.append(temp_best)\n",
    "\n",
    "        test= pd.DataFrame()\n",
    "        for i in range(np.array(self.best_results).shape[0]):\n",
    "            test= pd.concat([test, pd.DataFrame(np.array(self.best_results)[i])], axis=0)\n",
    "        test.columns = [\"test_result\",\"model\",\"test\", \"instance_name\"]\n",
    "        test.test_result = test.test_result.astype(float)\n",
    "        test.set_index([\"instance_name\",\"test\",\"model\"], inplace = True)\n",
    "        return(test)\n"
   ]
  },
  {
   "cell_type": "markdown",
   "metadata": {},
   "source": [
    "#### Model Selection"
   ]
  },
  {
   "cell_type": "code",
   "execution_count": null,
   "metadata": {
    "ExecuteTime": {
     "end_time": "2020-07-29T11:54:11.012535Z",
     "start_time": "2020-07-29T11:54:11.009534Z"
    }
   },
   "outputs": [],
   "source": [
    "# first model selection on whole dataset using model selector class (found in utilities.py)\n",
    "sel_c = ModelSelector(instance_name = \"Combined Dataframe\", cv = cv)"
   ]
  },
  {
   "cell_type": "code",
   "execution_count": null,
   "metadata": {
    "ExecuteTime": {
     "end_time": "2020-07-29T11:54:13.827622Z",
     "start_time": "2020-07-29T11:54:12.026215Z"
    }
   },
   "outputs": [],
   "source": [
    "sel_c.select_model(X_finaltest_combined, y_finaltest_combined)"
   ]
  },
  {
   "cell_type": "code",
   "execution_count": null,
   "metadata": {
    "ExecuteTime": {
     "end_time": "2020-07-29T11:54:14.175702Z",
     "start_time": "2020-07-29T11:54:13.828623Z"
    }
   },
   "outputs": [],
   "source": [
    "sel_c.plot_selection()"
   ]
  },
  {
   "cell_type": "code",
   "execution_count": null,
   "metadata": {
    "ExecuteTime": {
     "end_time": "2020-07-29T11:54:39.204865Z",
     "start_time": "2020-07-29T11:54:39.192862Z"
    }
   },
   "outputs": [],
   "source": [
    "sel_c.get_scores()"
   ]
  },
  {
   "cell_type": "markdown",
   "metadata": {},
   "source": [
    "#### Evaluation"
   ]
  },
  {
   "cell_type": "code",
   "execution_count": null,
   "metadata": {
    "ExecuteTime": {
     "end_time": "2020-07-29T11:55:08.382449Z",
     "start_time": "2020-07-29T11:55:08.378448Z"
    }
   },
   "outputs": [],
   "source": [
    "xgb = XGBClassifier(n_jobs=4,random_state=seed, gamma= 0, learning_rate = 0.3,\n",
    "                        max_depth= 5, n_estimators = 150)"
   ]
  },
  {
   "cell_type": "code",
   "execution_count": null,
   "metadata": {
    "ExecuteTime": {
     "end_time": "2020-07-29T11:55:25.650963Z",
     "start_time": "2020-07-29T11:55:25.569945Z"
    }
   },
   "outputs": [],
   "source": [
    "xgb.fit(X_finaltest_combined, y_finaltest_combined)\n",
    "y_pred = xgb.predict(X_val_combined)"
   ]
  },
  {
   "cell_type": "code",
   "execution_count": null,
   "metadata": {
    "ExecuteTime": {
     "end_time": "2020-07-29T11:55:33.695047Z",
     "start_time": "2020-07-29T11:55:33.555015Z"
    }
   },
   "outputs": [],
   "source": [
    "ax1=skplt.metrics.plot_confusion_matrix(y_val_combined, y_pred, labels=[1,0], figsize=(10,10), text_fontsize=20)\n",
    "ax1.set_yticklabels([\"Modified\",\"Unmodified\"])\n",
    "ax1.set_xticklabels([\"Modified\",\"Unmodified\"])\n",
    "ax1.images[-1].colorbar.remove()"
   ]
  },
  {
   "cell_type": "code",
   "execution_count": null,
   "metadata": {
    "ExecuteTime": {
     "end_time": "2020-07-29T11:55:51.288230Z",
     "start_time": "2020-07-29T11:55:51.282228Z"
    }
   },
   "outputs": [],
   "source": [
    "f1_score(y_val_combined,y_pred)"
   ]
  },
  {
   "cell_type": "markdown",
   "metadata": {},
   "source": [
    "#### feature importances"
   ]
  },
  {
   "cell_type": "code",
   "execution_count": null,
   "metadata": {
    "ExecuteTime": {
     "end_time": "2020-07-29T11:56:31.904714Z",
     "start_time": "2020-07-29T11:56:31.697667Z"
    }
   },
   "outputs": [],
   "source": [
    "skplt.estimators.plot_feature_importances(xgb, feature_names=numeric_features_combined,max_num_features=10)\n",
    "plt.xticks(rotation=90);"
   ]
  },
  {
   "cell_type": "code",
   "execution_count": null,
   "metadata": {},
   "outputs": [],
   "source": []
  }
 ],
 "metadata": {
  "kernelspec": {
   "display_name": "Python 3",
   "language": "python",
   "name": "python3"
  },
  "language_info": {
   "codemirror_mode": {
    "name": "ipython",
    "version": 3
   },
   "file_extension": ".py",
   "mimetype": "text/x-python",
   "name": "python",
   "nbconvert_exporter": "python",
   "pygments_lexer": "ipython3",
   "version": "3.7.7"
  },
  "toc": {
   "base_numbering": 1,
   "nav_menu": {},
   "number_sections": true,
   "sideBar": true,
   "skip_h1_title": false,
   "title_cell": "Table of Contents",
   "title_sidebar": "Contents",
   "toc_cell": false,
   "toc_position": {
    "height": "calc(100% - 180px)",
    "left": "10px",
    "top": "150px",
    "width": "384px"
   },
   "toc_section_display": true,
   "toc_window_display": true
  }
 },
 "nbformat": 4,
 "nbformat_minor": 4
}
