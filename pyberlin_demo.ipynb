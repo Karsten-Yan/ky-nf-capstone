{
 "cells": [
  {
   "cell_type": "markdown",
   "metadata": {},
   "source": [
    "# Setup"
   ]
  },
  {
   "cell_type": "code",
   "execution_count": 1,
   "metadata": {
    "ExecuteTime": {
     "end_time": "2020-07-24T13:43:21.759312Z",
     "start_time": "2020-07-24T13:43:20.426013Z"
    }
   },
   "outputs": [],
   "source": [
    "import pandas as pd\n",
    "import numpy as np\n",
    "import seaborn as sns\n",
    "import matplotlib.pyplot as plt\n",
    "import matplotlib as mpl\n",
    "import matplotlib.patches as patches\n",
    "import matplotlib.image as mpimg\n",
    "from IPython.display import display\n",
    "import scikitplot as skplt\n",
    "\n",
    "sns.set(style=\"white\", palette=\"pastel\",font_scale=1.5, rc={\"lines.linewidth\": 2.5,'figure.figsize':(11.7,8.27)})\n",
    "pd.options.display.max_columns = None"
   ]
  },
  {
   "cell_type": "code",
   "execution_count": 2,
   "metadata": {
    "ExecuteTime": {
     "end_time": "2020-07-24T13:43:21.765316Z",
     "start_time": "2020-07-24T13:43:21.760314Z"
    },
    "code_folding": [
     0
    ]
   },
   "outputs": [],
   "source": [
    "# some general parameters for plots\n",
    "mpl.rcParams['axes.linewidth'] = 2.5\n",
    "mpl.rcParams['axes.edgecolor'] = \"grey\"\n",
    "mpl.rcParams['figure.edgecolor'] = \"grey\"\n",
    "mpl.rcParams['lines.linewidth'] = 2.5\n",
    "mpl.rcParams['legend.edgecolor'] = \"grey\"\n",
    "mpl.rcParams['legend.shadow'] = False\n",
    "mpl.rcParams[\"legend.framealpha\"] = 1\n",
    "mpl.rcParams['font.weight'] = \"bold\"\n",
    "mpl.rcParams['axes.labelweight'] = \"bold\"\n",
    "mpl.rcParams['axes.titleweight'] = \"bold\""
   ]
  },
  {
   "cell_type": "code",
   "execution_count": 3,
   "metadata": {
    "ExecuteTime": {
     "end_time": "2020-07-24T13:43:24.620708Z",
     "start_time": "2020-07-24T13:43:21.767315Z"
    }
   },
   "outputs": [],
   "source": [
    "from sklearn.model_selection import GridSearchCV, cross_validate\n",
    "\n",
    "from sklearn.ensemble import AdaBoostClassifier, RandomForestClassifier\n",
    "from sklearn.linear_model import LogisticRegression\n",
    "from sklearn.preprocessing import StandardScaler, OneHotEncoder\n",
    "from sklearn.neighbors import KNeighborsClassifier\n",
    "from sklearn.naive_bayes import GaussianNB\n",
    "from sklearn.neural_network import MLPClassifier\n",
    "from sklearn.svm import SVC\n",
    "from xgboost import XGBClassifier\n",
    "\n",
    "from sklearn.pipeline import make_pipeline\n",
    "from imblearn.pipeline import Pipeline\n",
    "from sklearn.compose import ColumnTransformer\n",
    "from sklearn.impute import SimpleImputer\n",
    "\n",
    "from sklearn.metrics import classification_report, f1_score"
   ]
  },
  {
   "cell_type": "markdown",
   "metadata": {},
   "source": [
    "# Load Data"
   ]
  },
  {
   "cell_type": "code",
   "execution_count": 4,
   "metadata": {
    "ExecuteTime": {
     "end_time": "2020-07-24T13:43:24.660717Z",
     "start_time": "2020-07-24T13:43:24.621708Z"
    }
   },
   "outputs": [],
   "source": [
    "df_combined = pd.read_csv(\"data/exported/df_combined.csv\", index_col = 0)\n",
    "df_combined = df_combined.astype({\"base_1\":\"category\",\"base_2\":\"category\",\"base_3\":\"category\",\\\n",
    "                                          \"base_4\":\"category\",\"base_5\":\"category\",\"modified_status\":\"category\",\n",
    "                                  \"modified_status_rolling_max\":\"object\"})\n",
    "df_combined = df_combined.astype({\"ref_number\":\"object\"})"
   ]
  },
  {
   "cell_type": "code",
   "execution_count": 5,
   "metadata": {
    "ExecuteTime": {
     "end_time": "2020-07-24T13:43:24.687723Z",
     "start_time": "2020-07-24T13:43:24.661718Z"
    }
   },
   "outputs": [
    {
     "data": {
      "text/html": [
       "<div>\n",
       "<style scoped>\n",
       "    .dataframe tbody tr th:only-of-type {\n",
       "        vertical-align: middle;\n",
       "    }\n",
       "\n",
       "    .dataframe tbody tr th {\n",
       "        vertical-align: top;\n",
       "    }\n",
       "\n",
       "    .dataframe thead th {\n",
       "        text-align: right;\n",
       "    }\n",
       "</style>\n",
       "<table border=\"1\" class=\"dataframe\">\n",
       "  <thead>\n",
       "    <tr style=\"text-align: right;\">\n",
       "      <th></th>\n",
       "      <th>file_name</th>\n",
       "      <th>ref_number</th>\n",
       "      <th>ref_pos</th>\n",
       "      <th>ref_kmer</th>\n",
       "      <th>dwell_time_median</th>\n",
       "      <th>dwell_time_min</th>\n",
       "      <th>dwell_time_max</th>\n",
       "      <th>median_value_median</th>\n",
       "      <th>median_value_min</th>\n",
       "      <th>median_value_max</th>\n",
       "      <th>modified_status</th>\n",
       "      <th>base_1</th>\n",
       "      <th>base_2</th>\n",
       "      <th>base_3</th>\n",
       "      <th>base_4</th>\n",
       "      <th>base_5</th>\n",
       "      <th>file_type</th>\n",
       "      <th>dwell_time_rolling_median</th>\n",
       "      <th>median_value_rolling_median</th>\n",
       "      <th>dwell_time_rolling_min</th>\n",
       "      <th>median_value_rolling_min</th>\n",
       "      <th>modified_status_rolling_max</th>\n",
       "      <th>dwell_time_diff_to_median</th>\n",
       "      <th>median_value_diff_to_median</th>\n",
       "    </tr>\n",
       "  </thead>\n",
       "  <tbody>\n",
       "    <tr>\n",
       "      <th>0</th>\n",
       "      <td>modified_rep_1.tsv</td>\n",
       "      <td>ref_0000</td>\n",
       "      <td>0</td>\n",
       "      <td>AATGG</td>\n",
       "      <td>0.049906</td>\n",
       "      <td>0.005113</td>\n",
       "      <td>0.094814</td>\n",
       "      <td>102.017702</td>\n",
       "      <td>87.318945</td>\n",
       "      <td>108.891074</td>\n",
       "      <td>1.0</td>\n",
       "      <td>A</td>\n",
       "      <td>A</td>\n",
       "      <td>T</td>\n",
       "      <td>G</td>\n",
       "      <td>G</td>\n",
       "      <td>modified</td>\n",
       "      <td>0.023089</td>\n",
       "      <td>102.017702</td>\n",
       "      <td>0.022861</td>\n",
       "      <td>100.448388</td>\n",
       "      <td>1</td>\n",
       "      <td>0.039380</td>\n",
       "      <td>7.926536</td>\n",
       "    </tr>\n",
       "    <tr>\n",
       "      <th>1</th>\n",
       "      <td>modified_rep_1.tsv</td>\n",
       "      <td>ref_0000</td>\n",
       "      <td>1</td>\n",
       "      <td>ATGGG</td>\n",
       "      <td>0.023089</td>\n",
       "      <td>0.008614</td>\n",
       "      <td>0.063580</td>\n",
       "      <td>100.448388</td>\n",
       "      <td>80.185500</td>\n",
       "      <td>119.615164</td>\n",
       "      <td>0.0</td>\n",
       "      <td>A</td>\n",
       "      <td>T</td>\n",
       "      <td>G</td>\n",
       "      <td>G</td>\n",
       "      <td>G</td>\n",
       "      <td>modified</td>\n",
       "      <td>0.022975</td>\n",
       "      <td>108.564081</td>\n",
       "      <td>0.006346</td>\n",
       "      <td>100.448388</td>\n",
       "      <td>1</td>\n",
       "      <td>0.012563</td>\n",
       "      <td>6.357222</td>\n",
       "    </tr>\n",
       "    <tr>\n",
       "      <th>2</th>\n",
       "      <td>modified_rep_1.tsv</td>\n",
       "      <td>ref_0000</td>\n",
       "      <td>2</td>\n",
       "      <td>TGGGC</td>\n",
       "      <td>0.022861</td>\n",
       "      <td>0.002792</td>\n",
       "      <td>0.089663</td>\n",
       "      <td>118.765173</td>\n",
       "      <td>102.514759</td>\n",
       "      <td>126.849837</td>\n",
       "      <td>0.0</td>\n",
       "      <td>T</td>\n",
       "      <td>G</td>\n",
       "      <td>G</td>\n",
       "      <td>G</td>\n",
       "      <td>C</td>\n",
       "      <td>modified</td>\n",
       "      <td>0.022861</td>\n",
       "      <td>112.652922</td>\n",
       "      <td>0.006346</td>\n",
       "      <td>100.448388</td>\n",
       "      <td>1</td>\n",
       "      <td>0.012336</td>\n",
       "      <td>24.674007</td>\n",
       "    </tr>\n",
       "    <tr>\n",
       "      <th>3</th>\n",
       "      <td>modified_rep_1.tsv</td>\n",
       "      <td>ref_0000</td>\n",
       "      <td>3</td>\n",
       "      <td>GGGCT</td>\n",
       "      <td>0.006346</td>\n",
       "      <td>0.001938</td>\n",
       "      <td>0.049635</td>\n",
       "      <td>115.110460</td>\n",
       "      <td>97.295992</td>\n",
       "      <td>131.978892</td>\n",
       "      <td>0.0</td>\n",
       "      <td>G</td>\n",
       "      <td>G</td>\n",
       "      <td>G</td>\n",
       "      <td>C</td>\n",
       "      <td>T</td>\n",
       "      <td>modified</td>\n",
       "      <td>0.014807</td>\n",
       "      <td>112.652922</td>\n",
       "      <td>0.006346</td>\n",
       "      <td>76.719371</td>\n",
       "      <td>0</td>\n",
       "      <td>-0.004180</td>\n",
       "      <td>21.019294</td>\n",
       "    </tr>\n",
       "    <tr>\n",
       "      <th>4</th>\n",
       "      <td>modified_rep_1.tsv</td>\n",
       "      <td>ref_0000</td>\n",
       "      <td>4</td>\n",
       "      <td>GGCTT</td>\n",
       "      <td>0.014807</td>\n",
       "      <td>0.002748</td>\n",
       "      <td>0.075328</td>\n",
       "      <td>112.652922</td>\n",
       "      <td>102.709198</td>\n",
       "      <td>120.275825</td>\n",
       "      <td>0.0</td>\n",
       "      <td>G</td>\n",
       "      <td>G</td>\n",
       "      <td>C</td>\n",
       "      <td>T</td>\n",
       "      <td>T</td>\n",
       "      <td>modified</td>\n",
       "      <td>0.008563</td>\n",
       "      <td>112.652922</td>\n",
       "      <td>0.006346</td>\n",
       "      <td>76.719371</td>\n",
       "      <td>0</td>\n",
       "      <td>0.004281</td>\n",
       "      <td>18.561756</td>\n",
       "    </tr>\n",
       "  </tbody>\n",
       "</table>\n",
       "</div>"
      ],
      "text/plain": [
       "            file_name ref_number  ref_pos ref_kmer  dwell_time_median  \\\n",
       "0  modified_rep_1.tsv   ref_0000        0    AATGG           0.049906   \n",
       "1  modified_rep_1.tsv   ref_0000        1    ATGGG           0.023089   \n",
       "2  modified_rep_1.tsv   ref_0000        2    TGGGC           0.022861   \n",
       "3  modified_rep_1.tsv   ref_0000        3    GGGCT           0.006346   \n",
       "4  modified_rep_1.tsv   ref_0000        4    GGCTT           0.014807   \n",
       "\n",
       "   dwell_time_min  dwell_time_max  median_value_median  median_value_min  \\\n",
       "0        0.005113        0.094814           102.017702         87.318945   \n",
       "1        0.008614        0.063580           100.448388         80.185500   \n",
       "2        0.002792        0.089663           118.765173        102.514759   \n",
       "3        0.001938        0.049635           115.110460         97.295992   \n",
       "4        0.002748        0.075328           112.652922        102.709198   \n",
       "\n",
       "   median_value_max modified_status base_1 base_2 base_3 base_4 base_5  \\\n",
       "0        108.891074             1.0      A      A      T      G      G   \n",
       "1        119.615164             0.0      A      T      G      G      G   \n",
       "2        126.849837             0.0      T      G      G      G      C   \n",
       "3        131.978892             0.0      G      G      G      C      T   \n",
       "4        120.275825             0.0      G      G      C      T      T   \n",
       "\n",
       "  file_type  dwell_time_rolling_median  median_value_rolling_median  \\\n",
       "0  modified                   0.023089                   102.017702   \n",
       "1  modified                   0.022975                   108.564081   \n",
       "2  modified                   0.022861                   112.652922   \n",
       "3  modified                   0.014807                   112.652922   \n",
       "4  modified                   0.008563                   112.652922   \n",
       "\n",
       "   dwell_time_rolling_min  median_value_rolling_min  \\\n",
       "0                0.022861                100.448388   \n",
       "1                0.006346                100.448388   \n",
       "2                0.006346                100.448388   \n",
       "3                0.006346                 76.719371   \n",
       "4                0.006346                 76.719371   \n",
       "\n",
       "  modified_status_rolling_max  dwell_time_diff_to_median  \\\n",
       "0                           1                   0.039380   \n",
       "1                           1                   0.012563   \n",
       "2                           1                   0.012336   \n",
       "3                           0                  -0.004180   \n",
       "4                           0                   0.004281   \n",
       "\n",
       "   median_value_diff_to_median  \n",
       "0                     7.926536  \n",
       "1                     6.357222  \n",
       "2                    24.674007  \n",
       "3                    21.019294  \n",
       "4                    18.561756  "
      ]
     },
     "execution_count": 5,
     "metadata": {},
     "output_type": "execute_result"
    }
   ],
   "source": [
    "df_combined.head()"
   ]
  },
  {
   "cell_type": "markdown",
   "metadata": {},
   "source": [
    "# Exploratory Data Analysis"
   ]
  },
  {
   "cell_type": "code",
   "execution_count": 6,
   "metadata": {
    "ExecuteTime": {
     "end_time": "2020-07-24T13:43:24.837757Z",
     "start_time": "2020-07-24T13:43:24.688723Z"
    }
   },
   "outputs": [
    {
     "data": {
      "image/png": "[encoded data removed]",
      "text/plain": [
       "<Figure size 842.4x595.44 with 1 Axes>"
      ]
     },
     "metadata": {},
     "output_type": "display_data"
    }
   ],
   "source": [
    "ax = df_combined.modified_status.value_counts(normalize=True).plot.bar(edgecolor = \"grey\", linewidth = 2.5)\n",
    "ax.set(ylabel = \"Percent\", xticklabels=[\"unmodified\", \"modified\"])\n",
    "plt.xticks(rotation=\"horizontal\")\n",
    "plt.title(\"target value distribution\");"
   ]
  },
  {
   "cell_type": "markdown",
   "metadata": {},
   "source": [
    "## Interactive Plot"
   ]
  },
  {
   "cell_type": "code",
   "execution_count": 7,
   "metadata": {
    "ExecuteTime": {
     "end_time": "2020-07-24T13:43:24.840758Z",
     "start_time": "2020-07-24T13:43:24.838757Z"
    }
   },
   "outputs": [],
   "source": [
    "from ipywidgets import interact, interactive, fixed, interact_manual\n",
    "import ipywidgets as widgets"
   ]
  },
  {
   "cell_type": "code",
   "execution_count": 8,
   "metadata": {
    "ExecuteTime": {
     "end_time": "2020-07-24T13:43:24.846759Z",
     "start_time": "2020-07-24T13:43:24.842758Z"
    }
   },
   "outputs": [],
   "source": [
    "df_dnaviewer = df_combined[[\"ref_number\",\"file_name\",\"base_3\",\"dwell_time_median\",\"dwell_time_rolling_min\",\n",
    "                            \"dwell_time_diff_to_median\",\"modified_status\",\"file_type\"]]"
   ]
  },
  {
   "cell_type": "code",
   "execution_count": 9,
   "metadata": {
    "ExecuteTime": {
     "end_time": "2020-07-24T13:43:24.853761Z",
     "start_time": "2020-07-24T13:43:24.847759Z"
    },
    "code_folding": [
     0
    ]
   },
   "outputs": [],
   "source": [
    "def getIndexes(dfObj, value):\n",
    "    listOfPos = list()\n",
    "    # Get bool dataframe with True at positions where the given value exists\n",
    "    result = dfObj.isin([value])\n",
    "    # Get list of columns that contains the value\n",
    "    seriesObj = result.any()\n",
    "    if seriesObj.any():\n",
    "        columnNames = list(seriesObj[seriesObj == True].index)\n",
    "        # Iterate over list of columns and fetch the rows indexes where value exists\n",
    "        for col in columnNames:\n",
    "            rows = list(result[col][result[col] == True].index)\n",
    "        for row in rows:\n",
    "            listOfPos.append((row))\n",
    "        # Return a list of tuples indicating the positions of value in the dataframe\n",
    "    else:\n",
    "        listOfPos = False\n",
    "    return listOfPos"
   ]
  },
  {
   "cell_type": "code",
   "execution_count": 10,
   "metadata": {
    "ExecuteTime": {
     "end_time": "2020-07-24T13:43:24.885768Z",
     "start_time": "2020-07-24T13:43:24.854761Z"
    },
    "code_folding": [
     0
    ]
   },
   "outputs": [],
   "source": [
    "def plot_dna(i, col, axs, ref, startpos, stoppos, df_temp):\n",
    "    start,stop = 0,15\n",
    "    font =  {'size': 24, \n",
    "             'weight':'bold'}\n",
    "    \n",
    "    \n",
    "    sequence = \"\".join(df_temp.base_3.values)\n",
    "    \n",
    "    modified_positions = getIndexes(df_temp[[\"base_3\",\"modified_status\"]], 1.0)\n",
    "    \n",
    "    if modified_positions:\n",
    "            for elm in modified_positions:\n",
    "\n",
    "                axs[0,col].axvspan(elm-0.5, elm+0.5, color='red', alpha=0.2,zorder=0)\n",
    "                axs[1,col].axvspan(elm-0.5, elm+0.5, color='red', alpha=0.2,zorder=1)\n",
    "                axs[2,col].axvspan(elm-0.5, elm+0.5, color='red', alpha=0.2,zorder=1)\n",
    "                axs[3,col].axvspan(elm-0.5, elm+0.5, color='red', alpha=0.2,zorder=1)\n",
    "\n",
    "\n",
    "            \n",
    "    box1 = patches.Rectangle (xy=(4.5,1), width = 5, height = 2, edgecolor=\"grey\",\n",
    "                             linewidth=2.5, facecolor = \"#FFB482\")\n",
    "    box2 = patches.FancyBboxPatch (xy=(6,5), width = 2, height = 2, edgecolor=\"grey\",\n",
    "                             linewidth=2.5, facecolor = \"#A1C9F4\", boxstyle = \"Round4\")\n",
    "    \n",
    "    axs[0,col].add_patch(box1)\n",
    "    axs[0,col].add_patch(box2)\n",
    "    axs[0,col].set_ylim(0,10)\n",
    "    axs[0,col].text(7,2,s=\"reading frame\", ha=\"center\", va=\"center\")\n",
    "    axs[0,col].text(7,6,s=\"center\", ha=\"center\", va=\"center\")\n",
    "    axs[0,col].text(-0.3,2, va=\"center\", ha=\"center\", s=\"3'\")\n",
    "    axs[0,col].text(14.3,2, va=\"center\", ha=\"center\", s=\"5'\")\n",
    "    temp_title = df_temp.file_type[0]\n",
    "    axs[0,col].text(7,9,s=temp_title, ha=\"center\", va=\"center\")\n",
    "    axs[0,col].plot(np.arange(start,stop),np.full(stop,2), color=\"grey\", zorder=0)\n",
    "    axs[0,col].plot([4.5,6.5],[3,5],color = \"grey\", zorder=0)\n",
    "    axs[0,col].plot([7.5,9.5],[5,3], color=\"grey\", zorder=0)\n",
    "    axs[0,col].axis(\"off\")\n",
    "    axs[0,col].set_yticklabels([\"\"])\n",
    "    \n",
    "    bl = \"#A1C9F4\"\n",
    "    gr = \"#8DE5A1\"\n",
    "    og = \"#FFB482\"\n",
    "    \n",
    "    bar_colors = [gr,gr,gr,gr,gr,og,og,bl,og,og,gr,gr,gr,gr,gr,]\n",
    "    \n",
    "    axs[1,col].bar(x=range(0,stop-start),height=df_temp.dwell_time_diff_to_median, linewidth=2.5,\n",
    "            edgecolor=\"grey\",zorder=2, color = bar_colors)\n",
    "    axs[1,col].set_ylabel(\"Dwell Time\\nDiff to Median\")\n",
    "    axs[1,col].set_ylim(0,0.1)\n",
    "    axs[1,col].set_yticklabels([\"\"])\n",
    "    \n",
    "    axs[2,col].bar(x=range(0,stop-start),height=df_temp.dwell_time_rolling_min, linewidth=2.5,\n",
    "            edgecolor=\"grey\",zorder=2, color = bar_colors)\n",
    "    axs[2,col].set_ylabel(\"Dwell Time\\nRolling Minimum\")\n",
    "    axs[2,col].set_ylim(0,0.03)\n",
    "    axs[2,col].set_yticklabels([\"\"])\n",
    "    \n",
    "    axs[3,col].bar(x=range(0,stop-start),height=df_temp.dwell_time_median, linewidth=2.5, \n",
    "            edgecolor=\"grey\",zorder=2, color = bar_colors)\n",
    "    axs[3,col].set_ylabel(\"Dwell Time\\nMedian\")\n",
    "    axs[3,col].set_ylim(0,0.1)\n",
    "    axs[3,col].set_yticklabels([\"\"])\n",
    "    axs[3,col].set_xticks(np.arange(start,stop))\n",
    "    axs[3,col].set_xticklabels(list(sequence), fontdict=font )\n",
    "    axs[3,col].set_xlim(-0.5,14.5)\n",
    "    \n",
    "    if df_temp.base_3.iloc[7] == \"A\":\n",
    "        img=mpimg.imread('base_img/adenosin.png')\n",
    "    elif df_temp.base_3.iloc[7] == \"C\":\n",
    "        img=mpimg.imread('base_img/cytidin.png')\n",
    "    elif df_temp.base_3.iloc[7] == \"G\":\n",
    "        img=mpimg.imread('base_img/guanosin.png')\n",
    "    elif df_temp.base_3.iloc[7] == \"T\":\n",
    "        img=mpimg.imread('base_img/uridin.png')\n",
    "    axs[1,2].imshow(img)\n",
    "    axs[1,2].set_xlim(-100,1200)\n",
    "    axs[1,2].set_ylim(1100,-100)\n",
    "    axs[1,2].set_yticklabels([\"\"])\n",
    "    axs[1,2].set_xticklabels([\"\"])\n",
    "    axs[1,2].axis(\"off\")\n",
    "    \n",
    "    if modified_positions:\n",
    "            for elm in modified_positions:\n",
    "                if elm == 7:\n",
    "                    img2=mpimg.imread('base_img/1m7.png')\n",
    "                    axs[2,2].imshow(img2)\n",
    "    axs[2,2].set_xlim(-100,1400)\n",
    "    axs[2,2].set_ylim(1100,-100)\n",
    "    axs[2,2].set_yticklabels([\"\"])\n",
    "    axs[2,2].set_xticklabels([\"\"])\n",
    "    axs[2,2].axis(\"off\")"
   ]
  },
  {
   "cell_type": "code",
   "execution_count": 11,
   "metadata": {
    "ExecuteTime": {
     "end_time": "2020-07-24T13:43:26.168063Z",
     "start_time": "2020-07-24T13:43:24.886768Z"
    },
    "code_folding": [
     15
    ]
   },
   "outputs": [
    {
     "data": {
      "application/vnd.jupyter.widget-view+json": {
       "model_id": "226abd20cf054734a35220569886cc37",
       "version_major": 2,
       "version_minor": 0
      },
      "text/plain": [
       "HBox(children=(Play(value=0, description='Press play', interval=2500, max=181), IntText(value=0)))"
      ]
     },
     "metadata": {},
     "output_type": "display_data"
    },
    {
     "data": {
      "application/vnd.jupyter.widget-view+json": {
       "model_id": "7b32cfc80ff24b3d9d88107ce0bff3ed",
       "version_major": 2,
       "version_minor": 0
      },
      "text/plain": [
       "ToggleButtons(options=('0', '1', '2', '3', '4'), value='0')"
      ]
     },
     "metadata": {},
     "output_type": "display_data"
    },
    {
     "data": {
      "application/vnd.jupyter.widget-view+json": {
       "model_id": "45dfa523827e4926aee6d4e6c44647a9",
       "version_major": 2,
       "version_minor": 0
      },
      "text/plain": [
       "Output()"
      ]
     },
     "metadata": {},
     "output_type": "display_data"
    }
   ],
   "source": [
    "play = widgets.Play(\n",
    "    value=0,\n",
    "    min=0,\n",
    "    max=181,\n",
    "    step=1,\n",
    "    interval=2500,\n",
    "    description=\"Press play\",\n",
    "    disabled=False)\n",
    "text = widgets.IntText()\n",
    "toggle = widgets.ToggleButtons(options=[\"0\",\"1\",\"2\",\"3\",\"4\"])\n",
    "\n",
    "playbox = widgets.HBox([play, text])\n",
    "\n",
    "widgets.jslink((play, 'value'), (text, 'value'))\n",
    "\n",
    "def sequencing_show(i,ref):\n",
    "    \n",
    "    start_i = i\n",
    "    stop_i =i+15\n",
    "    \n",
    "    df_temp_mod = df_dnaviewer[(df_dnaviewer[\"file_name\"]==\"modified_rep_1.tsv\") &\n",
    "                (df_dnaviewer[\"ref_number\"]==\"ref_000\"+ref)][start_i:stop_i].reset_index()\n",
    "    df_temp_unmod = df_dnaviewer[(df_dnaviewer[\"file_name\"]==\"unmodified_rep_1.tsv\") &\n",
    "                (df_dnaviewer[\"ref_number\"]==\"ref_000\"+ref)][start_i:stop_i].reset_index()\n",
    "    \n",
    "    fig, axs = plt.subplots(\n",
    "        4, 3,   figsize=(20, 10), \n",
    "        sharex='col', \n",
    "        gridspec_kw={\"width_ratios\": [2,2,1]}\n",
    "    )\n",
    "    \n",
    "   \n",
    "    plot_dna(i,0,axs,ref, start_i, stop_i, df_temp_mod)\n",
    "    plot_dna(i,1,axs,ref, start_i, stop_i, df_temp_unmod)\n",
    "    \n",
    "    \n",
    "    #plt.figure(edgecolor = \"grey\")\n",
    "    plt.suptitle(\"DNA-Nanoporesequencing readout\",weight=\"bold\")\n",
    "    #plt.tight_layout()\n",
    "    plt.subplots_adjust(top=0.95,hspace = 0)\n",
    "    axs[1,1].set_ylabel(\"\")\n",
    "    axs[2,1].set_ylabel(\"\")\n",
    "    axs[3,1].set_ylabel(\"\")\n",
    "    \n",
    "    axs[0,2].set_visible(False)\n",
    "    axs[3,2].bar(x = (400,900), \n",
    "                 height= (df_temp_mod.dwell_time_median.iloc[7],df_temp_unmod.dwell_time_median.iloc[7]),\n",
    "                 edgecolor=\"grey\",\n",
    "                 linewidth=2.5,\n",
    "                 width=400)\n",
    "    #axs[3,2].set_xlim(-0.5,1.5)\n",
    "    axs[3,2].set_xticks([400,900])\n",
    "    axs[3,2].set_xticklabels([\"Mod\",\"Unmod\"] )\n",
    "    axs[3,2].set_ylim(0,0.1)\n",
    "    axs[3,2].set_yticklabels([\"\"])\n",
    "    axs[3,2].set_ylabel(\"Dwell Time\\nMedian\")\n",
    "    \n",
    "out = widgets.interactive_output(sequencing_show, {\"i\":play, \"ref\":toggle})\n",
    "display(playbox,toggle,out)\n"
   ]
  },
  {
   "cell_type": "markdown",
   "metadata": {},
   "source": [
    "# Creating a Classifier"
   ]
  },
  {
   "cell_type": "markdown",
   "metadata": {},
   "source": [
    "![conf_matrix](conf_matrix2.png)"
   ]
  },
  {
   "cell_type": "markdown",
   "metadata": {},
   "source": [
    "## Model Selector Class"
   ]
  },
  {
   "cell_type": "code",
   "execution_count": 12,
   "metadata": {
    "ExecuteTime": {
     "end_time": "2020-07-24T13:43:26.192071Z",
     "start_time": "2020-07-24T13:43:26.169063Z"
    },
    "code_folding": [
     0,
     33,
     66
    ]
   },
   "outputs": [],
   "source": [
    "class ModelSelector():\n",
    "\n",
    "    def __init__(self, preprocessor,cv_state =True, sampler=None, instance_name=None):\n",
    "        # initialise class with predetrmined models and tests, maybe add functions to add/change them afterwards?\n",
    "        # add option to use a sampler (default = none)\n",
    "        self.results = []\n",
    "        self.name = []\n",
    "        self.preprocessor = preprocessor\n",
    "        self.sampler = sampler\n",
    "        self.cv = []\n",
    "        self.labels = []\n",
    "        self.cv_state = cv_state\n",
    "        self.scoring = {#'precision':'precision',\n",
    "                        #'recall': 'recall',\n",
    "                        'f1score':'f1',\n",
    "                        #'roc auc':'roc_auc'\n",
    "                        }\n",
    "        self.models = [\n",
    "                        ('LR', LogisticRegression(random_state=seed, max_iter = 1000, n_jobs=-1)),\n",
    "                        #('KNN', KNeighborsClassifier(n_jobs = -1)),\n",
    "                        #('RF', RandomForestClassifier(random_state=seed, n_jobs = -1)),\n",
    "                        #('ADAB', AdaBoostClassifier(random_state=seed)),\n",
    "                        ('XGB',  XGBClassifier(random_state=seed, n_jobs = -1)),\n",
    "                        #('SVC', SVC(random_state=seed)),\n",
    "                        ('GNB', GaussianNB()),\n",
    "                        #('MLP', MLPClassifier(random_state=seed)),\n",
    "                        ]\n",
    "        self.instance_name = instance_name\n",
    "        self.tests = [\"test_\"+elm for elm in self.scoring.keys()]\n",
    "        self.best_results= []\n",
    "\n",
    "\n",
    "    # function for determining the cvs, if True do cv for each ref_num\n",
    "    def __cv__(self, X):\n",
    "        if self.cv_state == True:\n",
    "            self.labels = X.ref_number.values\n",
    "            self.cv = [(np.where(self.labels != label)[0], np.where(self.labels == label)[0]) for label in np.unique(self.labels)]\n",
    "        else:\n",
    "            self.cv = 5\n",
    "\n",
    "\n",
    "    # fit each model and do cv and record cvs and names\n",
    "    def select_model(self, X, y, state):\n",
    "        self.cv_state = state\n",
    "        self.__cv__(X)\n",
    "        for name, model in self.models:\n",
    "            model_pipe = Pipeline([(self.preprocessor.__class__.__name__,self.preprocessor),\n",
    "                                   (self.sampler.__class__.__name__,self.sampler),(\"name\",model)])\n",
    "            cv_results = cross_validate(model_pipe, X, y, cv=self.cv, scoring=self.scoring, n_jobs=-1, return_train_score=True)\n",
    "            self.results.append(cv_results)\n",
    "            self.name.append(name)\n",
    "\n",
    "    def plot_selection(self):\n",
    "        # plot the test scores for each test and each model\n",
    "        plt.figure(figsize = (15,8))\n",
    "        plt.suptitle('Algorithm Comparison for ' + self.instance_name)\n",
    "        for idx, test in enumerate(self.tests):\n",
    "            temp_results = [self.results[i][test] for i in range(len(self.results))]\n",
    "            plt.subplot(1,len(self.tests),idx+1)\n",
    "            sns.boxplot(y = temp_results, x = self.name)\n",
    "            plt.title(test)\n",
    "            plt.xticks(rotation = 90)\n",
    "            plt.ylim(0,1.05)\n",
    "        plt.tight_layout()\n",
    "        plt.subplots_adjust(top=0.85)\n",
    "\n",
    "    def get_scores(self, top = 3):\n",
    "        # get test scores for top 3 tests for each measure and return them as a dataframe\n",
    "        for idx, test in enumerate(self.tests):\n",
    "            temp_results = [np.mean(self.results[i][test]) for i in range(len(self.results))]\n",
    "            test_name = [test for i in range(len(self.name))]\n",
    "            instance_name = [self.instance_name for i in range (len(self.name))]\n",
    "            temp_best = sorted(zip(temp_results,self.name,test_name, instance_name), reverse = True)[:top]\n",
    "            self.best_results.append(temp_best)\n",
    "\n",
    "        test= pd.DataFrame()\n",
    "        for i in range(np.array(self.best_results).shape[0]):\n",
    "            test= pd.concat([test, pd.DataFrame(np.array(self.best_results)[i])], axis=0)\n",
    "        test.columns = [\"test_result\",\"model\",\"test\", \"instance_name\"]\n",
    "        test.test_result = test.test_result.astype(float)\n",
    "        test.set_index([\"instance_name\",\"test\",\"model\"], inplace = True)\n",
    "        return(test)\n"
   ]
  },
  {
   "cell_type": "markdown",
   "metadata": {},
   "source": [
    "## Manual Train Test Split"
   ]
  },
  {
   "cell_type": "code",
   "execution_count": 13,
   "metadata": {
    "ExecuteTime": {
     "end_time": "2020-07-24T13:43:26.198073Z",
     "start_time": "2020-07-24T13:43:26.193071Z"
    }
   },
   "outputs": [],
   "source": [
    "# manual train test split according to ref_num to preserve sequence sequence identity\n",
    "final_ref = [\"ref_0000\",\"ref_0001\",\"ref_0002\",\"ref_0003\"]\n",
    "val_ref = [\"ref_0004\"]"
   ]
  },
  {
   "cell_type": "code",
   "execution_count": 14,
   "metadata": {
    "ExecuteTime": {
     "end_time": "2020-07-24T13:43:26.202074Z",
     "start_time": "2020-07-24T13:43:26.199073Z"
    }
   },
   "outputs": [],
   "source": [
    "seed = 7"
   ]
  },
  {
   "cell_type": "code",
   "execution_count": 15,
   "metadata": {
    "ExecuteTime": {
     "end_time": "2020-07-24T13:43:26.212076Z",
     "start_time": "2020-07-24T13:43:26.203074Z"
    }
   },
   "outputs": [],
   "source": [
    "X_finaltest_combined = df_combined[df_combined[\"ref_number\"].isin(final_ref)]\n",
    "y_finaltest_combined = X_finaltest_combined.pop(\"modified_status\")\n",
    "X_val_combined = df_combined[df_combined[\"ref_number\"].isin(val_ref)]\n",
    "y_val_combined = X_val_combined.pop(\"modified_status\")"
   ]
  },
  {
   "cell_type": "markdown",
   "metadata": {},
   "source": [
    "## Setup Pipeline"
   ]
  },
  {
   "cell_type": "code",
   "execution_count": 16,
   "metadata": {
    "ExecuteTime": {
     "end_time": "2020-07-24T13:43:26.217077Z",
     "start_time": "2020-07-24T13:43:26.213076Z"
    }
   },
   "outputs": [],
   "source": [
    "numeric_features_combined = list(X_finaltest_combined .columns[X_finaltest_combined .dtypes ==  \"float\"])"
   ]
  },
  {
   "cell_type": "code",
   "execution_count": 17,
   "metadata": {
    "ExecuteTime": {
     "end_time": "2020-07-24T13:43:26.222078Z",
     "start_time": "2020-07-24T13:43:26.218077Z"
    }
   },
   "outputs": [],
   "source": [
    "cat_features_combined = list(X_finaltest_combined.columns[X_finaltest_combined.dtypes ==  \"category\"])"
   ]
  },
  {
   "cell_type": "code",
   "execution_count": 18,
   "metadata": {
    "ExecuteTime": {
     "end_time": "2020-07-24T13:43:26.228080Z",
     "start_time": "2020-07-24T13:43:26.223078Z"
    }
   },
   "outputs": [],
   "source": [
    "#preprocessing pipeline to scale numeric and onehot encode categorical values\n",
    "imputer1_combined = SimpleImputer(strategy=\"median\")\n",
    "scaler1_combined = StandardScaler()\n",
    "numeric_transformer_combined = make_pipeline(imputer1_combined,scaler1_combined)\n",
    "\n",
    "\n",
    "imputer2_combined = SimpleImputer(strategy='constant', fill_value='missing')\n",
    "encoder_combined = OneHotEncoder(handle_unknown='error')\n",
    "cat_transformer_combined = make_pipeline(imputer2_combined,encoder_combined)\n",
    "\n",
    "preprocessor_combined = ColumnTransformer(\n",
    "    transformers=[\n",
    "        ('num', numeric_transformer_combined, numeric_features_combined),\n",
    "        ('cat', cat_transformer_combined, cat_features_combined)\n",
    "    ])"
   ]
  },
  {
   "cell_type": "markdown",
   "metadata": {
    "ExecuteTime": {
     "end_time": "2020-07-20T12:09:41.900041Z",
     "start_time": "2020-07-20T12:09:41.898041Z"
    }
   },
   "source": [
    "## ML models"
   ]
  },
  {
   "cell_type": "markdown",
   "metadata": {},
   "source": [
    "### Baseline"
   ]
  },
  {
   "cell_type": "code",
   "execution_count": 19,
   "metadata": {
    "ExecuteTime": {
     "end_time": "2020-07-24T13:43:26.232080Z",
     "start_time": "2020-07-24T13:43:26.229080Z"
    }
   },
   "outputs": [],
   "source": [
    "# baseline model with all zeros, as data is rather imbalanced\n",
    "y_pred = np.zeros(len(X_val_combined))"
   ]
  },
  {
   "cell_type": "code",
   "execution_count": 20,
   "metadata": {
    "ExecuteTime": {
     "end_time": "2020-07-24T13:43:26.426124Z",
     "start_time": "2020-07-24T13:43:26.233080Z"
    }
   },
   "outputs": [
    {
     "data": {
      "image/png": "[encoded data removed]",
      "text/plain": [
       "<Figure size 720x720 with 2 Axes>"
      ]
     },
     "metadata": {},
     "output_type": "display_data"
    }
   ],
   "source": [
    "skplt.metrics.plot_confusion_matrix(y_val_combined, y_pred, labels=[1,0], figsize=(10,10), text_fontsize=20);"
   ]
  },
  {
   "cell_type": "code",
   "execution_count": 21,
   "metadata": {
    "ExecuteTime": {
     "end_time": "2020-07-24T13:43:26.433126Z",
     "start_time": "2020-07-24T13:43:26.427124Z"
    }
   },
   "outputs": [
    {
     "data": {
      "text/plain": [
       "0.0"
      ]
     },
     "execution_count": 21,
     "metadata": {},
     "output_type": "execute_result"
    }
   ],
   "source": [
    "f1_score(y_val_combined,y_pred)"
   ]
  },
  {
   "cell_type": "markdown",
   "metadata": {},
   "source": [
    "### Full Dataset"
   ]
  },
  {
   "cell_type": "markdown",
   "metadata": {},
   "source": [
    "#### Model Selection"
   ]
  },
  {
   "cell_type": "code",
   "execution_count": 22,
   "metadata": {
    "ExecuteTime": {
     "end_time": "2020-07-24T13:43:26.436126Z",
     "start_time": "2020-07-24T13:43:26.434126Z"
    }
   },
   "outputs": [],
   "source": [
    "# first model selection on whole dataset using model selector class (found in utilities.py)\n",
    "sel_c = ModelSelector(preprocessor_combined, instance_name = \"Combined Dataframe\")"
   ]
  },
  {
   "cell_type": "code",
   "execution_count": 23,
   "metadata": {
    "ExecuteTime": {
     "end_time": "2020-07-24T13:43:39.847895Z",
     "start_time": "2020-07-24T13:43:26.439127Z"
    }
   },
   "outputs": [],
   "source": [
    "sel_c.select_model(X_finaltest_combined, y_finaltest_combined, True)"
   ]
  },
  {
   "cell_type": "code",
   "execution_count": 24,
   "metadata": {
    "ExecuteTime": {
     "end_time": "2020-07-24T13:43:40.092950Z",
     "start_time": "2020-07-24T13:43:39.849894Z"
    }
   },
   "outputs": [
    {
     "data": {
      "image/png": "[encoded data removed]",
      "text/plain": [
       "<Figure size 1080x576 with 1 Axes>"
      ]
     },
     "metadata": {},
     "output_type": "display_data"
    }
   ],
   "source": [
    "sel_c.plot_selection()"
   ]
  },
  {
   "cell_type": "markdown",
   "metadata": {},
   "source": [
    "#### Evaluation"
   ]
  },
  {
   "cell_type": "code",
   "execution_count": 25,
   "metadata": {
    "ExecuteTime": {
     "end_time": "2020-07-24T13:43:40.098950Z",
     "start_time": "2020-07-24T13:43:40.094951Z"
    }
   },
   "outputs": [],
   "source": [
    "xgb = XGBClassifier(n_jobs=4,random_state=seed, gamma= 0, learning_rate = 0.3,\n",
    "                        max_depth= 5, n_estimators = 150)"
   ]
  },
  {
   "cell_type": "code",
   "execution_count": 26,
   "metadata": {
    "ExecuteTime": {
     "end_time": "2020-07-24T13:43:40.221978Z",
     "start_time": "2020-07-24T13:43:40.099951Z"
    }
   },
   "outputs": [],
   "source": [
    "xgb_clf = make_pipeline(preprocessor_combined,xgb)\n",
    "xgb_clf.fit(X_finaltest_combined, y_finaltest_combined)\n",
    "y_pred = xgb_clf.predict(X_val_combined)"
   ]
  },
  {
   "cell_type": "code",
   "execution_count": 27,
   "metadata": {
    "ExecuteTime": {
     "end_time": "2020-07-24T13:43:40.415022Z",
     "start_time": "2020-07-24T13:43:40.222978Z"
    }
   },
   "outputs": [
    {
     "data": {
      "image/png": "[encoded data removed]",
      "text/plain": [
       "<Figure size 720x720 with 2 Axes>"
      ]
     },
     "metadata": {},
     "output_type": "display_data"
    }
   ],
   "source": [
    "skplt.metrics.plot_confusion_matrix(y_val_combined, y_pred, labels=[1,0], figsize=(10,10), text_fontsize=20);"
   ]
  },
  {
   "cell_type": "code",
   "execution_count": 28,
   "metadata": {
    "ExecuteTime": {
     "end_time": "2020-07-24T13:43:40.422023Z",
     "start_time": "2020-07-24T13:43:40.416022Z"
    }
   },
   "outputs": [
    {
     "data": {
      "text/plain": [
       "0.962962962962963"
      ]
     },
     "execution_count": 28,
     "metadata": {},
     "output_type": "execute_result"
    }
   ],
   "source": [
    "f1_score(y_val_combined,y_pred)"
   ]
  },
  {
   "cell_type": "markdown",
   "metadata": {},
   "source": [
    "#### feature importances"
   ]
  },
  {
   "cell_type": "code",
   "execution_count": 31,
   "metadata": {
    "ExecuteTime": {
     "end_time": "2020-07-24T13:44:42.668730Z",
     "start_time": "2020-07-24T13:44:42.665730Z"
    }
   },
   "outputs": [],
   "source": [
    "bases = [\"_A\",\"_C\",\"_T\",\"_G\"]\n",
    "cat_features = [elm + base for elm in cat_features_combined for base in bases]\n",
    "feature_names = numeric_features_combined + cat_features"
   ]
  },
  {
   "cell_type": "code",
   "execution_count": 32,
   "metadata": {
    "ExecuteTime": {
     "end_time": "2020-07-24T13:44:43.309416Z",
     "start_time": "2020-07-24T13:44:43.107783Z"
    }
   },
   "outputs": [
    {
     "data": {
      "image/png": "[encoded data removed]",
      "text/plain": [
       "<Figure size 842.4x595.44 with 1 Axes>"
      ]
     },
     "metadata": {},
     "output_type": "display_data"
    }
   ],
   "source": [
    "skplt.estimators.plot_feature_importances(xgb, feature_names=feature_names,max_num_features=10)\n",
    "plt.xticks(rotation=90);"
   ]
  },
  {
   "cell_type": "code",
   "execution_count": null,
   "metadata": {},
   "outputs": [],
   "source": []
  }
 ],
 "metadata": {
  "kernelspec": {
   "display_name": "Python 3",
   "language": "python",
   "name": "python3"
  },
  "language_info": {
   "codemirror_mode": {
    "name": "ipython",
    "version": 3
   },
   "file_extension": ".py",
   "mimetype": "text/x-python",
   "name": "python",
   "nbconvert_exporter": "python",
   "pygments_lexer": "ipython3",
   "version": "3.7.7"
  },
  "toc": {
   "base_numbering": 1,
   "nav_menu": {},
   "number_sections": true,
   "sideBar": true,
   "skip_h1_title": false,
   "title_cell": "Table of Contents",
   "title_sidebar": "Contents",
   "toc_cell": false,
   "toc_position": {
    "height": "calc(100% - 180px)",
    "left": "10px",
    "top": "150px",
    "width": "384px"
   },
   "toc_section_display": true,
   "toc_window_display": true
  }
 },
 "nbformat": 4,
 "nbformat_minor": 4
}
