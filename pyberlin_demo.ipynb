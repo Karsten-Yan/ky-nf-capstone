{
 "cells": [
  {
   "cell_type": "markdown",
   "metadata": {},
   "source": [
    "# Setup"
   ]
  },
  {
   "cell_type": "code",
   "execution_count": 1,
   "metadata": {
    "ExecuteTime": {
     "end_time": "2020-07-22T12:27:36.851530Z",
     "start_time": "2020-07-22T12:27:35.568976Z"
    }
   },
   "outputs": [],
   "source": [
    "import pandas as pd\n",
    "import numpy as np\n",
    "import seaborn as sns\n",
    "import matplotlib.pyplot as plt\n",
    "import matplotlib as mpl\n",
    "import matplotlib.patches as patches\n",
    "import matplotlib.image as mpimg\n",
    "from IPython.display import display\n",
    "import scikitplot as skplt\n",
    "\n",
    "sns.set(style=\"white\", palette=\"pastel\",font_scale=1.5, rc={\"lines.linewidth\": 2.5,'figure.figsize':(11.7,8.27)})\n",
    "pd.options.display.max_columns = None"
   ]
  },
  {
   "cell_type": "code",
   "execution_count": 2,
   "metadata": {
    "ExecuteTime": {
     "end_time": "2020-07-22T12:27:36.857531Z",
     "start_time": "2020-07-22T12:27:36.853529Z"
    },
    "code_folding": [
     0
    ]
   },
   "outputs": [],
   "source": [
    "# some general parameters for plots\n",
    "mpl.rcParams['axes.linewidth'] = 2.5\n",
    "mpl.rcParams['axes.edgecolor'] = \"grey\"\n",
    "mpl.rcParams['figure.edgecolor'] = \"grey\"\n",
    "mpl.rcParams['lines.linewidth'] = 2.5\n",
    "mpl.rcParams['legend.edgecolor'] = \"grey\"\n",
    "mpl.rcParams['legend.shadow'] = False\n",
    "mpl.rcParams[\"legend.framealpha\"] = 1\n",
    "mpl.rcParams['font.weight'] = \"bold\"\n",
    "mpl.rcParams['axes.labelweight'] = \"bold\"\n",
    "mpl.rcParams['axes.titleweight'] = \"bold\""
   ]
  },
  {
   "cell_type": "code",
   "execution_count": 3,
   "metadata": {
    "ExecuteTime": {
     "end_time": "2020-07-22T12:27:39.731181Z",
     "start_time": "2020-07-22T12:27:36.859531Z"
    }
   },
   "outputs": [],
   "source": [
    "from sklearn.model_selection import GridSearchCV, cross_validate\n",
    "\n",
    "from sklearn.ensemble import AdaBoostClassifier, RandomForestClassifier\n",
    "from sklearn.linear_model import LogisticRegression\n",
    "from sklearn.preprocessing import StandardScaler, OneHotEncoder\n",
    "from sklearn.neighbors import KNeighborsClassifier\n",
    "from sklearn.naive_bayes import GaussianNB\n",
    "from sklearn.neural_network import MLPClassifier\n",
    "from sklearn.svm import SVC\n",
    "from xgboost import XGBClassifier\n",
    "\n",
    "from sklearn.pipeline import make_pipeline\n",
    "from imblearn.pipeline import Pipeline\n",
    "from sklearn.compose import ColumnTransformer\n",
    "from sklearn.impute import SimpleImputer\n",
    "\n",
    "from sklearn.metrics import classification_report"
   ]
  },
  {
   "cell_type": "code",
   "execution_count": 36,
   "metadata": {
    "ExecuteTime": {
     "end_time": "2020-07-22T12:30:22.890635Z",
     "start_time": "2020-07-22T12:30:22.886634Z"
    },
    "code_folding": []
   },
   "outputs": [],
   "source": [
    "def evaluation (model,X, y, thresh = 30):\n",
    "    # for model produce confusion matrix, classification report andmodified ratio\n",
    "    y_pred=model.predict(X)\n",
    "    skplt.metrics.plot_confusion_matrix(y, y_pred, figsize=(10,10), text_fontsize=20)\n",
    "    print(classification_report(y,y_pred))"
   ]
  },
  {
   "cell_type": "code",
   "execution_count": 5,
   "metadata": {
    "ExecuteTime": {
     "end_time": "2020-07-22T12:27:39.748186Z",
     "start_time": "2020-07-22T12:27:39.739184Z"
    },
    "code_folding": [
     0
    ]
   },
   "outputs": [],
   "source": [
    "def feature_importances (model, preprocessor, X, y, debug = False, custom_feature_state = False, custom_feature_list=None):\n",
    "    # plot feature importances with predefined model and preprocessor, get feature names either from input dataframe\n",
    "    # if all are used or define a custom one if subset is used\n",
    "    if custom_feature_state:\n",
    "        feature_names = custom_feature_list\n",
    "    else:\n",
    "        cat_features = list(X.columns[X.dtypes ==  \"category\"])\n",
    "        numeric_features = list(X.columns[X.dtypes ==  \"float\"])\n",
    "        cat = None\n",
    "        if \"base_1\" in X.columns:\n",
    "            bases = [\"_A\",\"_C\",\"_T\",\"_G\"]\n",
    "            cat = [elm + base for elm in cat_features for base in bases ]\n",
    "        feature_names = numeric_features + cat\n",
    "\n",
    "    X_trans = preprocessor.fit_transform(X)\n",
    "\n",
    "    if debug:\n",
    "        print(feature_names)\n",
    "        print(len(feature_names))\n",
    "    model.fit(X_trans, y)\n",
    "\n",
    "    skplt.estimators.plot_feature_importances(model, feature_names=feature_names, max_num_features=10)\n",
    "    plt.xticks(rotation=90);"
   ]
  },
  {
   "cell_type": "markdown",
   "metadata": {},
   "source": [
    "# Load Data"
   ]
  },
  {
   "cell_type": "code",
   "execution_count": 6,
   "metadata": {
    "ExecuteTime": {
     "end_time": "2020-07-22T12:27:39.789194Z",
     "start_time": "2020-07-22T12:27:39.750187Z"
    }
   },
   "outputs": [],
   "source": [
    "df_combined = pd.read_csv(\"data/exported/df_combined.csv\", index_col = 0)\n",
    "df_combined = df_combined.astype({\"base_1\":\"category\",\"base_2\":\"category\",\"base_3\":\"category\",\\\n",
    "                                          \"base_4\":\"category\",\"base_5\":\"category\",\"modified_status\":\"category\",\n",
    "                                  \"modified_status_rolling_max\":\"object\"})\n",
    "df_combined = df_combined.astype({\"ref_number\":\"object\"})"
   ]
  },
  {
   "cell_type": "markdown",
   "metadata": {},
   "source": [
    "# Exploratory Data Analysis"
   ]
  },
  {
   "cell_type": "code",
   "execution_count": 7,
   "metadata": {
    "ExecuteTime": {
     "end_time": "2020-07-22T12:27:39.941229Z",
     "start_time": "2020-07-22T12:27:39.790194Z"
    }
   },
   "outputs": [
    {
     "data": {
      "image/png": "[encoded data removed]",
      "text/plain": [
       "<Figure size 842.4x595.44 with 1 Axes>"
      ]
     },
     "metadata": {},
     "output_type": "display_data"
    }
   ],
   "source": [
    "ax = df_combined.modified_status.value_counts(normalize=True).plot.bar()\n",
    "ax.set(ylabel = \"Percent\", xticklabels=[\"unmodified\", \"modified\"])\n",
    "plt.xticks(rotation=\"horizontal\")\n",
    "plt.title(\"target value distribution\");"
   ]
  },
  {
   "cell_type": "markdown",
   "metadata": {},
   "source": [
    "## Interactive Plot"
   ]
  },
  {
   "cell_type": "code",
   "execution_count": 8,
   "metadata": {
    "ExecuteTime": {
     "end_time": "2020-07-22T12:27:39.946230Z",
     "start_time": "2020-07-22T12:27:39.943229Z"
    }
   },
   "outputs": [],
   "source": [
    "from ipywidgets import interact, interactive, fixed, interact_manual\n",
    "import ipywidgets as widgets"
   ]
  },
  {
   "cell_type": "code",
   "execution_count": 9,
   "metadata": {
    "ExecuteTime": {
     "end_time": "2020-07-22T12:27:39.953231Z",
     "start_time": "2020-07-22T12:27:39.948230Z"
    }
   },
   "outputs": [],
   "source": [
    "df_dnaviewer = df_combined[[\"ref_number\",\"file_name\",\"base_3\",\"dwell_time_median\",\"dwell_time_rolling_min\",\n",
    "                            \"dwell_time_diff_to_median\",\"modified_status\"]]"
   ]
  },
  {
   "cell_type": "code",
   "execution_count": 10,
   "metadata": {
    "ExecuteTime": {
     "end_time": "2020-07-22T12:27:39.960233Z",
     "start_time": "2020-07-22T12:27:39.954231Z"
    },
    "code_folding": [
     0
    ]
   },
   "outputs": [],
   "source": [
    "def getIndexes(dfObj, value):\n",
    "    listOfPos = list()\n",
    "    # Get bool dataframe with True at positions where the given value exists\n",
    "    result = dfObj.isin([value])\n",
    "    # Get list of columns that contains the value\n",
    "    seriesObj = result.any()\n",
    "    if seriesObj.any():\n",
    "        columnNames = list(seriesObj[seriesObj == True].index)\n",
    "        # Iterate over list of columns and fetch the rows indexes where value exists\n",
    "        for col in columnNames:\n",
    "            rows = list(result[col][result[col] == True].index)\n",
    "        for row in rows:\n",
    "            listOfPos.append((row))\n",
    "        # Return a list of tuples indicating the positions of value in the dataframe\n",
    "    else:\n",
    "        listOfPos = False\n",
    "    return listOfPos"
   ]
  },
  {
   "cell_type": "code",
   "execution_count": 11,
   "metadata": {
    "ExecuteTime": {
     "end_time": "2020-07-22T12:27:39.994240Z",
     "start_time": "2020-07-22T12:27:39.961233Z"
    },
    "code_folding": [
     0
    ]
   },
   "outputs": [],
   "source": [
    "def plot_dna(i, col, axs, ref, startpos, stoppos, df_temp):\n",
    "    start,stop = 0,15\n",
    "    font =  {'size': 24, \n",
    "             'weight':'bold'}\n",
    "    \n",
    "    \n",
    "    sequence = \"\".join(df_temp.base_3.values)\n",
    "    \n",
    "    modified_positions = getIndexes(df_temp[[\"base_3\",\"modified_status\"]], 1.0)\n",
    "    \n",
    "    if modified_positions:\n",
    "            for elm in modified_positions:\n",
    "\n",
    "                axs[0,col].axvspan(elm-0.5, elm+0.5, color='red', alpha=0.2,zorder=0)\n",
    "                axs[1,col].axvspan(elm-0.5, elm+0.5, color='red', alpha=0.2,zorder=1)\n",
    "                axs[2,col].axvspan(elm-0.5, elm+0.5, color='red', alpha=0.2,zorder=1)\n",
    "                axs[3,col].axvspan(elm-0.5, elm+0.5, color='red', alpha=0.2,zorder=1)\n",
    "\n",
    "\n",
    "            \n",
    "    box1 = patches.Rectangle (xy=(4.5,1), width = 5, height = 2, edgecolor=\"grey\",\n",
    "                             linewidth=2.5, facecolor = \"#FFB482\")\n",
    "    box2 = patches.FancyBboxPatch (xy=(6.5,5), width = 1, height = 2, edgecolor=\"grey\",\n",
    "                             linewidth=2.5, facecolor = \"#A1C9F4\", boxstyle = \"Round4\")\n",
    "    \n",
    "    axs[0,col].add_patch(box1)\n",
    "    axs[0,col].add_patch(box2)\n",
    "    axs[0,col].set_ylim(0,10)\n",
    "    axs[0,col].text(7,2,s=\"reading frame\", ha=\"center\", va=\"center\")\n",
    "    axs[0,col].text(7,6,s=\"center\", ha=\"center\", va=\"center\")\n",
    "    axs[0,col].text(-0.3,2, va=\"center\", ha=\"center\", s=\"3'\")\n",
    "    axs[0,col].text(14.3,2, va=\"center\", ha=\"center\", s=\"5'\")\n",
    "    axs[0,col].plot(np.arange(start,stop),np.full(stop,2), color=\"grey\", zorder=0)\n",
    "    axs[0,col].plot([4.5,6.5],[3,5],color = \"grey\", zorder=0)\n",
    "    axs[0,col].plot([7.5,9.5],[5,3], color=\"grey\", zorder=0)\n",
    "    axs[0,col].axis(\"off\")\n",
    "    axs[0,col].set_yticklabels([\"\"])\n",
    "    \n",
    "    bl = \"#A1C9F4\"\n",
    "    gr = \"#8DE5A1\"\n",
    "    og = \"#FFB482\"\n",
    "    \n",
    "    bar_colors = [gr,gr,gr,gr,gr,og,og,bl,og,og,gr,gr,gr,gr,gr,]\n",
    "    \n",
    "    axs[1,col].bar(x=range(0,stop-start),height=df_temp.dwell_time_median, linewidth=2.5,\n",
    "            edgecolor=\"grey\",zorder=2, color = bar_colors)\n",
    "    axs[1,col].set_ylabel(\"Dwell Time\\nMedian\")\n",
    "    axs[1,col].set_ylim(0,0.1)\n",
    "    axs[1,col].set_yticklabels([\"\"])\n",
    "    \n",
    "    \n",
    "    axs[2,col].bar(x=range(0,stop-start),height=df_temp.dwell_time_rolling_min, linewidth=2.5,\n",
    "            edgecolor=\"grey\",zorder=2, color = bar_colors)\n",
    "    axs[2,col].set_ylabel(\"Dwell Time\\nRolling Minimum\")\n",
    "    axs[2,col].set_ylim(0,0.03)\n",
    "    axs[2,col].set_yticklabels([\"\"])\n",
    "    \n",
    "    axs[3,col].bar(x=range(0,stop-start),height=df_temp.dwell_time_diff_to_median, linewidth=2.5, \n",
    "            edgecolor=\"grey\",zorder=2, color = bar_colors)\n",
    "    axs[3,col].set_ylabel(\"Dwell Time\\nDiff to Median\")\n",
    "    axs[3,col].set_ylim(0,0.1)\n",
    "    axs[3,col].set_yticklabels([\"\"])\n",
    "    axs[3,col].set_xticks(np.arange(start,stop))\n",
    "    axs[3,col].set_xticklabels(list(sequence), fontdict=font )\n",
    "    axs[3,col].set_xlim(-0.5,14.5)\n",
    "    \n",
    "    if df_temp.base_3.iloc[7] == \"A\":\n",
    "        img=mpimg.imread('base_img/adenosin.png')\n",
    "    elif df_temp.base_3.iloc[7] == \"C\":\n",
    "        img=mpimg.imread('base_img/cytidin.png')\n",
    "    elif df_temp.base_3.iloc[7] == \"G\":\n",
    "        img=mpimg.imread('base_img/guanosin.png')\n",
    "    elif df_temp.base_3.iloc[7] == \"T\":\n",
    "        img=mpimg.imread('base_img/uridin.png')\n",
    "    axs[1,2].imshow(img)\n",
    "    axs[1,2].set_xlim(-100,1200)\n",
    "    axs[1,2].set_ylim(1100,-100)\n",
    "    axs[1,2].set_yticklabels([\"\"])\n",
    "    axs[1,2].set_xticklabels([\"\"])\n",
    "    axs[1,2].axis(\"off\")\n",
    "    \n",
    "    if modified_positions:\n",
    "            for elm in modified_positions:\n",
    "                if elm == 7:\n",
    "                    img2=mpimg.imread('base_img/1m7.png')\n",
    "                    axs[2,2].imshow(img2)\n",
    "    axs[2,2].set_xlim(-100,1400)\n",
    "    axs[2,2].set_ylim(1100,-100)\n",
    "    axs[2,2].set_yticklabels([\"\"])\n",
    "    axs[2,2].set_xticklabels([\"\"])\n",
    "    axs[2,2].axis(\"off\")"
   ]
  },
  {
   "cell_type": "code",
   "execution_count": 12,
   "metadata": {
    "ExecuteTime": {
     "end_time": "2020-07-22T12:27:41.298536Z",
     "start_time": "2020-07-22T12:27:39.995240Z"
    },
    "code_folding": [
     22
    ]
   },
   "outputs": [
    {
     "data": {
      "application/vnd.jupyter.widget-view+json": {
       "model_id": "5324a3ebb1654767bcdbe6a6531a1f26",
       "version_major": 2,
       "version_minor": 0
      },
      "text/plain": [
       "HBox(children=(Play(value=0, description='Press play', interval=2500, max=181), IntText(value=0)))"
      ]
     },
     "metadata": {},
     "output_type": "display_data"
    },
    {
     "data": {
      "application/vnd.jupyter.widget-view+json": {
       "model_id": "1c9d31cc7dda4e6aade5925b3945c61c",
       "version_major": 2,
       "version_minor": 0
      },
      "text/plain": [
       "interactive(children=(Play(value=0, description='Press play', interval=2500, max=181), ToggleButtons(descripti…"
      ]
     },
     "metadata": {},
     "output_type": "display_data"
    }
   ],
   "source": [
    "play = widgets.Play(\n",
    "    value=0,\n",
    "    min=0,\n",
    "    max=181,\n",
    "    step=1,\n",
    "    interval=2500,\n",
    "    description=\"Press play\",\n",
    "    disabled=False)\n",
    "slider = widgets.IntSlider(continuous_update=False)\n",
    "text = widgets.IntText()\n",
    "toggle = widgets.ToggleButtons(options=[\"0\",\"1\",\"2\",\"3\",\"4\"])\n",
    "\n",
    "#display(text)\n",
    "\n",
    "widgets.jslink((slider, 'value'), (text, 'value'))\n",
    "widgets.jslink((play, 'value'), (slider, 'value'))\n",
    "playbox = widgets.HBox([play, text])\n",
    "display(playbox)\n",
    "\n",
    "@interact(i = play,\n",
    "          ref=toggle)\n",
    "\n",
    "def sequencing_show(i,ref):\n",
    "    \n",
    "    start_i = i\n",
    "    stop_i =i+15\n",
    "    \n",
    "    df_temp_mod = df_dnaviewer[(df_dnaviewer[\"file_name\"]==\"modified_rep_1.tsv\") &\n",
    "                (df_dnaviewer[\"ref_number\"]==\"ref_000\"+ref)][start_i:stop_i].reset_index()\n",
    "    df_temp_unmod = df_dnaviewer[(df_dnaviewer[\"file_name\"]==\"unmodified_rep_1.tsv\") &\n",
    "                (df_dnaviewer[\"ref_number\"]==\"ref_000\"+ref)][start_i:stop_i].reset_index()\n",
    "    \n",
    "    fig, axs = plt.subplots(\n",
    "        4, 3,   figsize=(20, 10), \n",
    "        sharex='col', \n",
    "        gridspec_kw={\"width_ratios\": [2,2,1]}\n",
    "    )\n",
    "    \n",
    "   \n",
    "    plot_dna(i,0,axs,ref, start_i, stop_i, df_temp_mod)\n",
    "    plot_dna(i,1,axs,ref, start_i, stop_i, df_temp_unmod)\n",
    "    \n",
    "    \n",
    "    #plt.figure(edgecolor = \"grey\")\n",
    "    plt.suptitle(\"DNA-Nanoporesequencing readout\",weight=\"bold\")\n",
    "    #plt.tight_layout()\n",
    "    plt.subplots_adjust(top=0.95,hspace = 0)\n",
    "    axs[1,1].set_ylabel(\"\")\n",
    "    axs[2,1].set_ylabel(\"\")\n",
    "    axs[3,1].set_ylabel(\"\")\n",
    "    \n",
    "    axs[0,2].set_visible(False)\n",
    "    axs[3,2].bar(x = (400,900), height= (df_temp_mod.dwell_time_median.iloc[7],\n",
    "                                         df_temp_unmod.dwell_time_median.iloc[7]), width=400)\n",
    "    #axs[3,2].set_xlim(-0.5,1.5)\n",
    "    axs[3,2].set_xticks([400,900])\n",
    "    axs[3,2].set_xticklabels([\"Mod\",\"Unmod\"] )\n",
    "    axs[3,2].set_ylim(0,0.1)\n",
    "    axs[3,2].set_yticklabels([\"\"])\n",
    "    axs[3,2].set_ylabel(\"Dwell Time\\nMedian\")\n",
    "    \n",
    "\n"
   ]
  },
  {
   "cell_type": "markdown",
   "metadata": {},
   "source": [
    "# Model Selection"
   ]
  },
  {
   "cell_type": "markdown",
   "metadata": {},
   "source": [
    "## Model Selector Class"
   ]
  },
  {
   "cell_type": "code",
   "execution_count": 13,
   "metadata": {
    "ExecuteTime": {
     "end_time": "2020-07-22T12:27:41.323541Z",
     "start_time": "2020-07-22T12:27:41.299536Z"
    },
    "code_folding": []
   },
   "outputs": [],
   "source": [
    "class ModelSelector():\n",
    "\n",
    "    def __init__(self, preprocessor,cv_state =True, sampler=None, instance_name=None):\n",
    "        # initialise class with predetrmined models and tests, maybe add functions to add/change them afterwards?\n",
    "        # add option to use a sampler (default = none)\n",
    "        self.results = []\n",
    "        self.name = []\n",
    "        self.preprocessor = preprocessor\n",
    "        self.sampler = sampler\n",
    "        self.cv = []\n",
    "        self.labels = []\n",
    "        self.cv_state = cv_state\n",
    "        self.scoring = {'precision':'precision',\n",
    "                        'recall': 'recall',\n",
    "                        'f1score':'f1',\n",
    "                        'roc auc':'roc_auc'}\n",
    "        self.models = [\n",
    "                        ('LR', LogisticRegression(random_state=seed, max_iter = 1000, n_jobs=-1)),\n",
    "                        ('KNN', KNeighborsClassifier(n_jobs = -1)),\n",
    "                        ('RF', RandomForestClassifier(random_state=seed, n_jobs = -1)),\n",
    "                        ('ADAB', AdaBoostClassifier(random_state=seed)),\n",
    "                        ('XGB',  XGBClassifier(random_state=seed, n_jobs = -1)),\n",
    "                        ('SVC', SVC(random_state=seed)),\n",
    "                        ('GNB', GaussianNB()),\n",
    "                        ('MLP', MLPClassifier(random_state=seed))\n",
    "                    ]\n",
    "        self.instance_name = instance_name\n",
    "        self.tests = [\"test_\"+elm for elm in self.scoring.keys()]\n",
    "        self.best_results= []\n",
    "\n",
    "\n",
    "    # function for determining the cvs, if True do cv for each ref_num\n",
    "    def __cv__(self, X):\n",
    "        if self.cv_state == True:\n",
    "            self.labels = X.ref_number.values\n",
    "            self.cv = [(np.where(self.labels != label)[0], np.where(self.labels == label)[0]) for label in np.unique(self.labels)]\n",
    "        else:\n",
    "            self.cv = 5\n",
    "\n",
    "\n",
    "    # fit each model and do cv and record cvs and names\n",
    "    def select_model(self, X, y, state):\n",
    "        self.cv_state = state\n",
    "        self.__cv__(X)\n",
    "        for name, model in self.models:\n",
    "            model_pipe = Pipeline([(self.preprocessor.__class__.__name__,self.preprocessor),\n",
    "                                   (self.sampler.__class__.__name__,self.sampler),(\"name\",model)])\n",
    "            cv_results = cross_validate(model_pipe, X, y, cv=self.cv, scoring=self.scoring, n_jobs=-1, return_train_score=True)\n",
    "            self.results.append(cv_results)\n",
    "            self.name.append(name)\n",
    "\n",
    "    def plot_selection(self):\n",
    "        # plot the test scores for each test and each model\n",
    "        plt.figure(figsize = (15,8))\n",
    "        plt.suptitle('Algorithm Comparison for ' + self.instance_name)\n",
    "        for idx, test in enumerate(self.tests):\n",
    "            temp_results = [self.results[i][test] for i in range(len(self.results))]\n",
    "            plt.subplot(1,len(self.tests),idx+1)\n",
    "            sns.boxplot(y = temp_results, x = self.name)\n",
    "            plt.title(test)\n",
    "            plt.xticks(rotation = 90)\n",
    "            plt.ylim(0,1.05)\n",
    "        plt.tight_layout()\n",
    "        plt.subplots_adjust(top=0.85)\n",
    "\n",
    "    def get_scores(self, top = 3):\n",
    "        # get test scores for top 3 tests for each measure and return them as a dataframe\n",
    "        for idx, test in enumerate(self.tests):\n",
    "            temp_results = [np.mean(self.results[i][test]) for i in range(len(self.results))]\n",
    "            test_name = [test for i in range(len(self.name))]\n",
    "            instance_name = [self.instance_name for i in range (len(self.name))]\n",
    "            temp_best = sorted(zip(temp_results,self.name,test_name, instance_name), reverse = True)[:top]\n",
    "            self.best_results.append(temp_best)\n",
    "\n",
    "        test= pd.DataFrame()\n",
    "        for i in range(np.array(self.best_results).shape[0]):\n",
    "            test= pd.concat([test, pd.DataFrame(np.array(self.best_results)[i])], axis=0)\n",
    "        test.columns = [\"test_result\",\"model\",\"test\", \"instance_name\"]\n",
    "        test.test_result = test.test_result.astype(float)\n",
    "        test.set_index([\"instance_name\",\"test\",\"model\"], inplace = True)\n",
    "        return(test)\n"
   ]
  },
  {
   "cell_type": "markdown",
   "metadata": {},
   "source": [
    "## Manual Train Test Split"
   ]
  },
  {
   "cell_type": "code",
   "execution_count": 14,
   "metadata": {
    "ExecuteTime": {
     "end_time": "2020-07-22T12:27:41.327542Z",
     "start_time": "2020-07-22T12:27:41.324541Z"
    }
   },
   "outputs": [],
   "source": [
    "# manual train test split according to ref_num to preserve sequence sequence identity\n",
    "\n",
    "final_ref = [\"ref_0000\",\"ref_0001\",\"ref_0002\",\"ref_0003\"]\n",
    "val_ref = [\"ref_0004\"]\n",
    "#train_ref = [\"ref_0000\",\"ref_0001\",\"ref_0002\"]\n",
    "#test_ref = [\"ref_0003\"]"
   ]
  },
  {
   "cell_type": "code",
   "execution_count": 15,
   "metadata": {
    "ExecuteTime": {
     "end_time": "2020-07-22T12:27:41.331544Z",
     "start_time": "2020-07-22T12:27:41.328542Z"
    }
   },
   "outputs": [],
   "source": [
    "seed = 7"
   ]
  },
  {
   "cell_type": "code",
   "execution_count": 16,
   "metadata": {
    "ExecuteTime": {
     "end_time": "2020-07-22T12:27:41.341546Z",
     "start_time": "2020-07-22T12:27:41.333544Z"
    }
   },
   "outputs": [],
   "source": [
    "X_finaltest_combined = df_combined[df_combined[\"ref_number\"].isin(final_ref)]\n",
    "y_finaltest_combined = X_finaltest_combined.pop(\"modified_status\")\n",
    "X_val_combined = df_combined[df_combined[\"ref_number\"].isin(val_ref)]\n",
    "y_val_combined = X_val_combined.pop(\"modified_status\")"
   ]
  },
  {
   "cell_type": "code",
   "execution_count": 17,
   "metadata": {
    "ExecuteTime": {
     "end_time": "2020-07-22T12:27:41.349547Z",
     "start_time": "2020-07-22T12:27:41.342546Z"
    }
   },
   "outputs": [],
   "source": [
    "# cv by hand produces 4 fits singling each of the four remaining dna strands out each time, to provide\n",
    "# realistic cross validation\n",
    "labels = X_finaltest_combined.ref_number.values\n",
    "cv_by_hand = [(np.where(labels != label)[0], np.where(labels == label)[0])\n",
    "               for label in np.unique(labels)]"
   ]
  },
  {
   "cell_type": "markdown",
   "metadata": {},
   "source": [
    "## Setup Pipeline"
   ]
  },
  {
   "cell_type": "code",
   "execution_count": 18,
   "metadata": {
    "ExecuteTime": {
     "end_time": "2020-07-22T12:27:41.353549Z",
     "start_time": "2020-07-22T12:27:41.350548Z"
    }
   },
   "outputs": [],
   "source": [
    "numeric_features_combined = list(X_finaltest_combined .columns[X_finaltest_combined .dtypes ==  \"float\"])"
   ]
  },
  {
   "cell_type": "code",
   "execution_count": 19,
   "metadata": {
    "ExecuteTime": {
     "end_time": "2020-07-22T12:27:41.358550Z",
     "start_time": "2020-07-22T12:27:41.355550Z"
    }
   },
   "outputs": [],
   "source": [
    "cat_features_combined = list(X_finaltest_combined.columns[X_finaltest_combined.dtypes ==  \"category\"])"
   ]
  },
  {
   "cell_type": "markdown",
   "metadata": {},
   "source": [
    "### Preprocessing Pipeline all Features"
   ]
  },
  {
   "cell_type": "code",
   "execution_count": 20,
   "metadata": {
    "ExecuteTime": {
     "end_time": "2020-07-22T12:27:41.365551Z",
     "start_time": "2020-07-22T12:27:41.359550Z"
    }
   },
   "outputs": [],
   "source": [
    "#preprocessing pipeline to scale numeric and onehot encode categorical values\n",
    "imputer1_combined = SimpleImputer(strategy=\"median\")\n",
    "scaler1_combined = StandardScaler()\n",
    "numeric_transformer_combined = make_pipeline(imputer1_combined,scaler1_combined)\n",
    "\n",
    "\n",
    "imputer2_combined = SimpleImputer(strategy='constant', fill_value='missing')\n",
    "encoder_combined = OneHotEncoder(handle_unknown='error')\n",
    "cat_transformer_combined = make_pipeline(imputer2_combined,encoder_combined)\n",
    "\n",
    "preprocessor_combined = ColumnTransformer(\n",
    "    transformers=[\n",
    "        ('num', numeric_transformer_combined, numeric_features_combined),\n",
    "        ('cat', cat_transformer_combined, cat_features_combined)\n",
    "    ])"
   ]
  },
  {
   "cell_type": "markdown",
   "metadata": {},
   "source": [
    "### Preprocessing Pipeline Limited Features"
   ]
  },
  {
   "cell_type": "code",
   "execution_count": 21,
   "metadata": {
    "ExecuteTime": {
     "end_time": "2020-07-22T12:27:41.369552Z",
     "start_time": "2020-07-22T12:27:41.366551Z"
    }
   },
   "outputs": [],
   "source": [
    "numeric_features_combined_limited = [\"dwell_time_median\",\"dwell_time_rolling_min\",\"dwell_time_diff_to_median\"]"
   ]
  },
  {
   "cell_type": "code",
   "execution_count": 22,
   "metadata": {
    "ExecuteTime": {
     "end_time": "2020-07-22T12:27:41.375553Z",
     "start_time": "2020-07-22T12:27:41.370552Z"
    }
   },
   "outputs": [],
   "source": [
    "# only select 3 values (most important ones)\n",
    "\n",
    "\n",
    "preprocessor_combined_limited = ColumnTransformer(\n",
    "    transformers=[\n",
    "        ('num', numeric_transformer_combined, numeric_features_combined_limited)\n",
    "    ])"
   ]
  },
  {
   "cell_type": "markdown",
   "metadata": {
    "ExecuteTime": {
     "end_time": "2020-07-20T12:09:41.900041Z",
     "start_time": "2020-07-20T12:09:41.898041Z"
    }
   },
   "source": [
    "## ML models"
   ]
  },
  {
   "cell_type": "markdown",
   "metadata": {},
   "source": [
    "### Baseline"
   ]
  },
  {
   "cell_type": "code",
   "execution_count": 23,
   "metadata": {
    "ExecuteTime": {
     "end_time": "2020-07-22T12:27:41.382555Z",
     "start_time": "2020-07-22T12:27:41.378553Z"
    }
   },
   "outputs": [],
   "source": [
    "# baseline model with all zeros, as data is rather imbalanced\n",
    "y_pred = np.zeros(len(X_val_combined))"
   ]
  },
  {
   "cell_type": "code",
   "execution_count": 24,
   "metadata": {
    "ExecuteTime": {
     "end_time": "2020-07-22T12:27:41.580600Z",
     "start_time": "2020-07-22T12:27:41.384555Z"
    }
   },
   "outputs": [
    {
     "data": {
      "text/plain": [
       "<matplotlib.axes._subplots.AxesSubplot at 0x18b49509288>"
      ]
     },
     "execution_count": 24,
     "metadata": {},
     "output_type": "execute_result"
    },
    {
     "data": {
      "image/png": "[encoded data removed]",
      "text/plain": [
       "<Figure size 720x720 with 2 Axes>"
      ]
     },
     "metadata": {},
     "output_type": "display_data"
    }
   ],
   "source": [
    "skplt.metrics.plot_confusion_matrix(y_val_combined, y_pred, figsize=(10,10), text_fontsize=20);"
   ]
  },
  {
   "cell_type": "code",
   "execution_count": 25,
   "metadata": {
    "ExecuteTime": {
     "end_time": "2020-07-22T12:27:41.594603Z",
     "start_time": "2020-07-22T12:27:41.581599Z"
    }
   },
   "outputs": [
    {
     "name": "stdout",
     "output_type": "stream",
     "text": [
      "              precision    recall  f1-score   support\n",
      "\n",
      "         0.0       0.97      1.00      0.98       758\n",
      "         1.0       0.00      0.00      0.00        26\n",
      "\n",
      "    accuracy                           0.97       784\n",
      "   macro avg       0.48      0.50      0.49       784\n",
      "weighted avg       0.93      0.97      0.95       784\n",
      "\n"
     ]
    },
    {
     "name": "stderr",
     "output_type": "stream",
     "text": [
      "C:\\Users\\neomo\\anaconda3\\lib\\site-packages\\sklearn\\metrics\\_classification.py:1221: UndefinedMetricWarning: Precision and F-score are ill-defined and being set to 0.0 in labels with no predicted samples. Use `zero_division` parameter to control this behavior.\n",
      "  _warn_prf(average, modifier, msg_start, len(result))\n"
     ]
    }
   ],
   "source": [
    "print(classification_report(y_val_combined,y_pred))"
   ]
  },
  {
   "cell_type": "markdown",
   "metadata": {},
   "source": [
    "### Full Dataset"
   ]
  },
  {
   "cell_type": "markdown",
   "metadata": {},
   "source": [
    "#### Model Selection"
   ]
  },
  {
   "cell_type": "code",
   "execution_count": 26,
   "metadata": {
    "ExecuteTime": {
     "end_time": "2020-07-22T12:27:41.598604Z",
     "start_time": "2020-07-22T12:27:41.595603Z"
    }
   },
   "outputs": [],
   "source": [
    "# first model selection on whole dataset using model selector class (found in utilities.py)\n",
    "sel_c = ModelSelector(preprocessor_combined, instance_name = \"Combined Dataframe\")"
   ]
  },
  {
   "cell_type": "code",
   "execution_count": 27,
   "metadata": {
    "ExecuteTime": {
     "end_time": "2020-07-22T12:28:02.407615Z",
     "start_time": "2020-07-22T12:27:41.599605Z"
    }
   },
   "outputs": [],
   "source": [
    "sel_c.select_model(X_finaltest_combined, y_finaltest_combined, True)"
   ]
  },
  {
   "cell_type": "code",
   "execution_count": 28,
   "metadata": {
    "ExecuteTime": {
     "end_time": "2020-07-22T12:28:03.318822Z",
     "start_time": "2020-07-22T12:28:02.408616Z"
    }
   },
   "outputs": [
    {
     "data": {
      "image/png": "[encoded data removed]",
      "text/plain": [
       "<Figure size 1080x576 with 4 Axes>"
      ]
     },
     "metadata": {},
     "output_type": "display_data"
    }
   ],
   "source": [
    "sel_c.plot_selection()"
   ]
  },
  {
   "cell_type": "markdown",
   "metadata": {},
   "source": [
    "#### xgb gridsearch"
   ]
  },
  {
   "cell_type": "code",
   "execution_count": 29,
   "metadata": {
    "ExecuteTime": {
     "end_time": "2020-07-22T12:28:03.322824Z",
     "start_time": "2020-07-22T12:28:03.319822Z"
    }
   },
   "outputs": [],
   "source": [
    "#xgb hast good f1 score and is time efficient , so this one is used in grid search, parameter in grid represent best ones found\n",
    "param_grid_xgb = {'xgbclassifier__max_depth':[5],\n",
    "                 'xgbclassifier__learning_rate':[0.3],\n",
    "                 'xgbclassifier__n_estimators':[150],\n",
    "                 'xgbclassifier__booster':[\"gbtree\"],\n",
    "                 'xgbclassifier__gamma':[0]}"
   ]
  },
  {
   "cell_type": "code",
   "execution_count": 30,
   "metadata": {
    "ExecuteTime": {
     "end_time": "2020-07-22T12:28:03.327824Z",
     "start_time": "2020-07-22T12:28:03.323824Z"
    }
   },
   "outputs": [],
   "source": [
    "xgb_clf = XGBClassifier(n_jobs = -1,random_state=seed)\n",
    "model_xgb = make_pipeline(preprocessor_combined,xgb_clf)"
   ]
  },
  {
   "cell_type": "code",
   "execution_count": 31,
   "metadata": {
    "ExecuteTime": {
     "end_time": "2020-07-22T12:28:03.683906Z",
     "start_time": "2020-07-22T12:28:03.328824Z"
    }
   },
   "outputs": [
    {
     "name": "stdout",
     "output_type": "stream",
     "text": [
      "Fitting 4 folds for each of 1 candidates, totalling 4 fits\n"
     ]
    },
    {
     "name": "stderr",
     "output_type": "stream",
     "text": [
      "[Parallel(n_jobs=-1)]: Using backend LokyBackend with 16 concurrent workers.\n"
     ]
    },
    {
     "name": "stdout",
     "output_type": "stream",
     "text": [
      "{'xgbclassifier__booster': 'gbtree', 'xgbclassifier__gamma': 0, 'xgbclassifier__learning_rate': 0.3, 'xgbclassifier__max_depth': 5, 'xgbclassifier__n_estimators': 150}\n"
     ]
    },
    {
     "name": "stderr",
     "output_type": "stream",
     "text": [
      "[Parallel(n_jobs=-1)]: Done   4 out of   4 | elapsed:    0.1s finished\n"
     ]
    }
   ],
   "source": [
    "grid_xgb = GridSearchCV(model_xgb, param_grid_xgb, scoring = \"f1\", return_train_score=False,n_jobs = -1,cv = cv_by_hand, verbose=3)\n",
    "grid_xgb.fit(X_finaltest_combined, y_finaltest_combined)\n",
    "print(grid_xgb.best_params_)"
   ]
  },
  {
   "cell_type": "code",
   "execution_count": 37,
   "metadata": {
    "ExecuteTime": {
     "end_time": "2020-07-22T12:30:29.251323Z",
     "start_time": "2020-07-22T12:30:29.047277Z"
    }
   },
   "outputs": [
    {
     "name": "stdout",
     "output_type": "stream",
     "text": [
      "              precision    recall  f1-score   support\n",
      "\n",
      "         0.0       1.00      1.00      1.00       758\n",
      "         1.0       0.93      1.00      0.96        26\n",
      "\n",
      "    accuracy                           1.00       784\n",
      "   macro avg       0.96      1.00      0.98       784\n",
      "weighted avg       1.00      1.00      1.00       784\n",
      "\n"
     ]
    },
    {
     "data": {
      "image/png": "[encoded data removed]",
      "text/plain": [
       "<Figure size 720x720 with 2 Axes>"
      ]
     },
     "metadata": {},
     "output_type": "display_data"
    }
   ],
   "source": [
    "evaluation(grid_xgb, X_val_combined, y_val_combined)"
   ]
  },
  {
   "cell_type": "markdown",
   "metadata": {},
   "source": [
    "#### feature importances"
   ]
  },
  {
   "cell_type": "code",
   "execution_count": 33,
   "metadata": {
    "ExecuteTime": {
     "end_time": "2020-07-22T12:28:03.893953Z",
     "start_time": "2020-07-22T12:28:03.890952Z"
    }
   },
   "outputs": [],
   "source": [
    "xgb = XGBClassifier(n_jobs=4,random_state=seed, gamma= 0, learning_rate = 0.3,\n",
    "                        max_depth= 5, n_estimators = 150)"
   ]
  },
  {
   "cell_type": "code",
   "execution_count": 34,
   "metadata": {
    "ExecuteTime": {
     "end_time": "2020-07-22T12:28:04.204024Z",
     "start_time": "2020-07-22T12:28:03.894953Z"
    }
   },
   "outputs": [
    {
     "data": {
      "image/png": "[encoded data removed]",
      "text/plain": [
       "<Figure size 842.4x595.44 with 1 Axes>"
      ]
     },
     "metadata": {},
     "output_type": "display_data"
    }
   ],
   "source": [
    "feature_importances(xgb, preprocessor_combined, X_finaltest_combined, y_finaltest_combined)"
   ]
  },
  {
   "cell_type": "markdown",
   "metadata": {},
   "source": [
    "### Limited Dataset"
   ]
  },
  {
   "cell_type": "markdown",
   "metadata": {},
   "source": [
    "#### Model Selection"
   ]
  },
  {
   "cell_type": "markdown",
   "metadata": {},
   "source": [
    "![alt text](figures/cl_model_selection.png)"
   ]
  },
  {
   "cell_type": "markdown",
   "metadata": {},
   "source": [
    "#### Performance After Gridsearch"
   ]
  },
  {
   "cell_type": "markdown",
   "metadata": {},
   "source": [
    "![alt text](figures/cl_conf_matrix.png)"
   ]
  },
  {
   "cell_type": "markdown",
   "metadata": {},
   "source": [
    "#### Feature importances"
   ]
  },
  {
   "cell_type": "markdown",
   "metadata": {},
   "source": [
    "![alt text](figures/cl_feature_importances.png)"
   ]
  }
 ],
 "metadata": {
  "kernelspec": {
   "display_name": "Python 3",
   "language": "python",
   "name": "python3"
  },
  "language_info": {
   "codemirror_mode": {
    "name": "ipython",
    "version": 3
   },
   "file_extension": ".py",
   "mimetype": "text/x-python",
   "name": "python",
   "nbconvert_exporter": "python",
   "pygments_lexer": "ipython3",
   "version": "3.7.7"
  },
  "toc": {
   "base_numbering": 1,
   "nav_menu": {},
   "number_sections": true,
   "sideBar": true,
   "skip_h1_title": false,
   "title_cell": "Table of Contents",
   "title_sidebar": "Contents",
   "toc_cell": false,
   "toc_position": {
    "height": "calc(100% - 180px)",
    "left": "10px",
    "top": "150px",
    "width": "384px"
   },
   "toc_section_display": true,
   "toc_window_display": true
  }
 },
 "nbformat": 4,
 "nbformat_minor": 4
}
