{
 "cells": [
  {
   "cell_type": "markdown",
   "metadata": {
    "colab_type": "text",
    "id": "A7x7ZELoyUll"
   },
   "source": [
    "# data import"
   ]
  },
  {
   "cell_type": "code",
   "execution_count": 15,
   "metadata": {
    "ExecuteTime": {
     "end_time": "2020-05-19T09:04:30.395486Z",
     "start_time": "2020-05-19T09:04:30.390484Z"
    },
    "colab": {
     "base_uri": "https://localhost:8080/",
     "height": 51
    },
    "colab_type": "code",
    "id": "Thp2SqAunFgd",
    "outputId": "62f2f7de-a38e-4d91-9184-c3b679eaa3ec"
   },
   "outputs": [],
   "source": [
    "import pandas as pd\n",
    "import numpy as np\n",
    "import seaborn as sns\n",
    "import matplotlib.pyplot as plt\n",
    "import math as math\n",
    "import matplotlib as mpl\n",
    "#import s3fs\n",
    "import io\n",
    "import scikitplot as skplt\n",
    "\n",
    "\n",
    "sns.set(style=\"white\", palette=\"pastel\",font_scale=1.5, rc={\"lines.linewidth\": 2.5,'figure.figsize':(11.7,8.27)})\n",
    "#pd.options.display.max_columns = None"
   ]
  },
  {
   "cell_type": "code",
   "execution_count": 16,
   "metadata": {
    "ExecuteTime": {
     "end_time": "2020-05-19T09:04:30.617871Z",
     "start_time": "2020-05-19T09:04:30.613870Z"
    }
   },
   "outputs": [],
   "source": [
    "# some general parameters for plots\n",
    "mpl.rcParams['axes.linewidth'] = 2.5\n",
    "mpl.rcParams['axes.edgecolor'] = \"grey\"\n",
    "mpl.rcParams['figure.edgecolor'] = \"grey\"\n",
    "mpl.rcParams['lines.linewidth'] = 2.5\n",
    "mpl.rcParams['legend.edgecolor'] = \"grey\"\n",
    "mpl.rcParams['legend.shadow'] = False\n",
    "mpl.rcParams[\"legend.framealpha\"] = 1\n",
    "mpl.rcParams['font.weight'] = \"bold\"\n",
    "mpl.rcParams['axes.labelweight'] = \"bold\"\n",
    "mpl.rcParams['axes.titleweight'] = \"bold\""
   ]
  },
  {
   "cell_type": "code",
   "execution_count": 17,
   "metadata": {
    "ExecuteTime": {
     "end_time": "2020-05-19T09:04:34.621785Z",
     "start_time": "2020-05-19T09:04:33.901513Z"
    },
    "colab": {},
    "colab_type": "code",
    "id": "4gZPL98Cnm50"
   },
   "outputs": [],
   "source": [
    "df_combined = pd.read_csv('data/exported/df_combined.csv', index_col = 0)\n",
    "df_not_combined = pd.read_csv('data/exported/df_not_combined.csv', index_col = 0)\n",
    "#df_yeast_not_combined = pd.read_csv(io.BytesIO(uploaded['df_yeast_not_combined.csv']), index_col = 0)\n",
    "#df_yeast_combined = pd.read_csv(io.BytesIO(uploaded['df_yeast_combined.csv']), index_col = 0)"
   ]
  },
  {
   "cell_type": "markdown",
   "metadata": {
    "colab_type": "text",
    "id": "zPJRkXExygAw"
   },
   "source": [
    "# modelling packages"
   ]
  },
  {
   "cell_type": "code",
   "execution_count": 18,
   "metadata": {
    "ExecuteTime": {
     "end_time": "2020-05-19T09:04:34.626785Z",
     "start_time": "2020-05-19T09:04:34.622784Z"
    },
    "colab": {
     "base_uri": "https://localhost:8080/",
     "height": 105
    },
    "colab_type": "code",
    "id": "mQvhYig5tH5b",
    "outputId": "b5e61331-64b8-4e00-8832-ca6f2caa3fc3"
   },
   "outputs": [],
   "source": [
    "from sklearn.metrics import confusion_matrix, classification_report \n",
    "from sklearn.utils.class_weight import compute_class_weight"
   ]
  },
  {
   "cell_type": "code",
   "execution_count": 19,
   "metadata": {
    "ExecuteTime": {
     "end_time": "2020-05-19T09:04:34.772821Z",
     "start_time": "2020-05-19T09:04:34.628786Z"
    },
    "colab": {},
    "colab_type": "code",
    "id": "0s2rA8rWxaln"
   },
   "outputs": [],
   "source": [
    "df_not_combined = df_not_combined.astype({\"base_1\":\"category\",\"base_2\":\"category\",\"base_3\":\"category\",\\\n",
    "                                          \"base_4\":\"category\",\"base_5\":\"category\",\"modified_status\":\"category\"})\n",
    "df_not_combined = df_not_combined.astype({\"ref_number\":\"object\", \"ref_pos\":\"object\"})"
   ]
  },
  {
   "cell_type": "code",
   "execution_count": 20,
   "metadata": {
    "ExecuteTime": {
     "end_time": "2020-05-19T09:04:34.790825Z",
     "start_time": "2020-05-19T09:04:34.773822Z"
    },
    "colab": {
     "base_uri": "https://localhost:8080/",
     "height": 200
    },
    "colab_type": "code",
    "id": "kDm8smoIx4m0",
    "outputId": "fa20e882-44b4-4dd2-e0bf-f7bd3716aeda"
   },
   "outputs": [],
   "source": [
    "df_combined = df_combined.astype({\"base_1\":\"category\",\"base_2\":\"category\",\"base_3\":\"category\",\\\n",
    "                                          \"base_4\":\"category\",\"base_5\":\"category\",\"modified_status\":\"category\"})\n",
    "df_combined = df_combined.astype({\"ref_number\":\"object\", \"ref_pos\":\"object\"})"
   ]
  },
  {
   "cell_type": "code",
   "execution_count": 21,
   "metadata": {
    "ExecuteTime": {
     "end_time": "2020-05-19T09:04:34.794827Z",
     "start_time": "2020-05-19T09:04:34.791827Z"
    },
    "colab": {},
    "colab_type": "code",
    "id": "QjGHeIOwyC7C"
   },
   "outputs": [],
   "source": [
    "seed = 7"
   ]
  },
  {
   "cell_type": "markdown",
   "metadata": {
    "colab_type": "text",
    "id": "eIlCLrYVykLe"
   },
   "source": [
    "## train test split"
   ]
  },
  {
   "cell_type": "code",
   "execution_count": 22,
   "metadata": {
    "ExecuteTime": {
     "end_time": "2020-05-19T09:04:34.961874Z",
     "start_time": "2020-05-19T09:04:34.957872Z"
    }
   },
   "outputs": [],
   "source": [
    "# manual train test split according to ref_num to preserve sequence sequence identity\n",
    "# maybe do it according to read_num to increase variability?\n",
    "\n",
    "final_ref = [\"ref_0000\",\"ref_0001\",\"ref_0002\",\"ref_0003\"]\n",
    "val_ref = [\"ref_0004\"]\n",
    "train_ref = [\"ref_0000\",\"ref_0001\",\"ref_0002\"]\n",
    "test_ref = [\"ref_0003\"]"
   ]
  },
  {
   "cell_type": "code",
   "execution_count": 23,
   "metadata": {
    "ExecuteTime": {
     "end_time": "2020-05-19T09:04:35.204422Z",
     "start_time": "2020-05-19T09:04:35.121404Z"
    }
   },
   "outputs": [],
   "source": [
    "# prepare whole dataframe subsets according to train test split\n",
    "\n",
    "df_finaltest_not_combined = df_not_combined[df_not_combined[\"ref_number\"].isin(final_ref)]\n",
    "df_val_not_combined = df_not_combined[df_not_combined[\"ref_number\"].isin(val_ref)]\n",
    "df_train_not_combined = df_not_combined[df_not_combined[\"ref_number\"].isin(train_ref)]\n",
    "df_test_not_combined = df_not_combined[df_not_combined[\"ref_number\"].isin(test_ref)]"
   ]
  },
  {
   "cell_type": "code",
   "execution_count": 24,
   "metadata": {
    "ExecuteTime": {
     "end_time": "2020-05-19T09:04:35.229431Z",
     "start_time": "2020-05-19T09:04:35.221428Z"
    }
   },
   "outputs": [],
   "source": [
    "# function to get dataframe into x and y array with format (reads, ref_pos, features) to be able use ref_pos\n",
    "# as time step in rnn\n",
    "\n",
    "def prepare_rnn_data (df):\n",
    "     \n",
    "    # dummify base sequence and concatenate into temp dataframe with numeric values from source dataframe\n",
    "    \n",
    "    df_dum = pd.get_dummies(df[[\"base_1\",\"base_2\",\"base_3\",\"base_4\",\"base_5\"]])\n",
    "    df_dum = pd.concat([df, df_dum], axis = 1)\n",
    "    df_dum = df_dum.drop([\"base_1\",\"base_2\",\"base_3\",\"base_4\",\"base_5\"], axis = 1)\n",
    "    \n",
    "    df_dum_num = df_dum[df_dum.select_dtypes(include=[np.number]).columns.values]\n",
    "    \n",
    "    # feature 3d array:\n",
    "    # nested for loop over file name, ref_num and read_num to iterate over every unique possible read and concatenate\n",
    "    # x and y values into a list of lists\n",
    "    \n",
    "    X = []\n",
    "    y= []\n",
    "    \n",
    "    for file_name in df_dum.file_name.unique():\n",
    "        msk1 = df_dum[df_dum.file_name == file_name]\n",
    "        for ref_num in msk1.ref_number.unique():\n",
    "            msk2 = msk1[msk1.ref_number == ref_num]\n",
    "            for read_num in msk2.read_num.unique():\n",
    "                msk3 = (df_dum.file_name == file_name) & (df_dum.ref_number == ref_num) & (df_dum.read_num == read_num)\n",
    "                X.append(df_dum_num[msk3])\n",
    "                y.append(df_dum[msk3].modified_status.astype(int))\n",
    "  \n",
    "    #stack resulting lists into a 3d numpy array\n",
    "    \n",
    "    X = np.stack(X)\n",
    "    y = np.stack(y)\n",
    "    \n",
    "    return X, y"
   ]
  },
  {
   "cell_type": "code",
   "execution_count": 25,
   "metadata": {
    "ExecuteTime": {
     "end_time": "2020-05-19T09:05:28.626606Z",
     "start_time": "2020-05-19T09:04:35.348785Z"
    }
   },
   "outputs": [],
   "source": [
    "# prepare each dataframe combination with function\n",
    "\n",
    "X_3d_train, y_3d_train = prepare_rnn_data(df_train_not_combined)\n",
    "X_3d_test, y_3d_test = prepare_rnn_data(df_test_not_combined)\n",
    "X_3d_finaltest, y_3d_finaltest = prepare_rnn_data(df_finaltest_not_combined)\n",
    "X_3d_val, y_3d_val = prepare_rnn_data(df_val_not_combined)"
   ]
  },
  {
   "cell_type": "code",
   "execution_count": 26,
   "metadata": {
    "ExecuteTime": {
     "end_time": "2020-05-19T09:05:28.657613Z",
     "start_time": "2020-05-19T09:05:28.627607Z"
    }
   },
   "outputs": [
    {
     "data": {
      "text/html": [
       "<div>\n",
       "<style scoped>\n",
       "    .dataframe tbody tr th:only-of-type {\n",
       "        vertical-align: middle;\n",
       "    }\n",
       "\n",
       "    .dataframe tbody tr th {\n",
       "        vertical-align: top;\n",
       "    }\n",
       "\n",
       "    .dataframe thead th {\n",
       "        text-align: right;\n",
       "    }\n",
       "</style>\n",
       "<table border=\"1\" class=\"dataframe\">\n",
       "  <thead>\n",
       "    <tr style=\"text-align: right;\">\n",
       "      <th></th>\n",
       "      <th>ref_pos</th>\n",
       "      <th>ref_kmer</th>\n",
       "      <th>dwell_time</th>\n",
       "      <th>median_value</th>\n",
       "      <th>ref_number</th>\n",
       "      <th>file_name</th>\n",
       "      <th>read_num</th>\n",
       "      <th>modified_status</th>\n",
       "      <th>base_1</th>\n",
       "      <th>base_2</th>\n",
       "      <th>base_3</th>\n",
       "      <th>base_4</th>\n",
       "      <th>base_5</th>\n",
       "      <th>file_type</th>\n",
       "      <th>dwell_time_rolling_median</th>\n",
       "      <th>median_value_rolling_median</th>\n",
       "      <th>dwell_time_rolling_min</th>\n",
       "      <th>median_value_rolling_min</th>\n",
       "      <th>dwell_time_diff_to_median</th>\n",
       "      <th>median_value_diff_to_median</th>\n",
       "    </tr>\n",
       "  </thead>\n",
       "  <tbody>\n",
       "    <tr>\n",
       "      <th>0</th>\n",
       "      <td>0</td>\n",
       "      <td>AATGG</td>\n",
       "      <td>0.074466</td>\n",
       "      <td>108.450395</td>\n",
       "      <td>ref_0000</td>\n",
       "      <td>modified_rep_1.tsv</td>\n",
       "      <td>#0_0</td>\n",
       "      <td>1.0</td>\n",
       "      <td>A</td>\n",
       "      <td>A</td>\n",
       "      <td>T</td>\n",
       "      <td>G</td>\n",
       "      <td>G</td>\n",
       "      <td>modified</td>\n",
       "      <td>0.033993</td>\n",
       "      <td>108.450395</td>\n",
       "      <td>0.021499</td>\n",
       "      <td>108.417694</td>\n",
       "      <td>0.058231</td>\n",
       "      <td>15.712552</td>\n",
       "    </tr>\n",
       "    <tr>\n",
       "      <th>1</th>\n",
       "      <td>1</td>\n",
       "      <td>ATGGG</td>\n",
       "      <td>0.021499</td>\n",
       "      <td>110.385196</td>\n",
       "      <td>ref_0000</td>\n",
       "      <td>modified_rep_1.tsv</td>\n",
       "      <td>#0_0</td>\n",
       "      <td>0.0</td>\n",
       "      <td>A</td>\n",
       "      <td>T</td>\n",
       "      <td>G</td>\n",
       "      <td>G</td>\n",
       "      <td>G</td>\n",
       "      <td>modified</td>\n",
       "      <td>0.027746</td>\n",
       "      <td>109.417796</td>\n",
       "      <td>0.005762</td>\n",
       "      <td>108.417694</td>\n",
       "      <td>0.005264</td>\n",
       "      <td>17.647353</td>\n",
       "    </tr>\n",
       "    <tr>\n",
       "      <th>2</th>\n",
       "      <td>2</td>\n",
       "      <td>TGGGC</td>\n",
       "      <td>0.033993</td>\n",
       "      <td>108.417694</td>\n",
       "      <td>ref_0000</td>\n",
       "      <td>modified_rep_1.tsv</td>\n",
       "      <td>#0_0</td>\n",
       "      <td>0.0</td>\n",
       "      <td>T</td>\n",
       "      <td>G</td>\n",
       "      <td>G</td>\n",
       "      <td>G</td>\n",
       "      <td>C</td>\n",
       "      <td>modified</td>\n",
       "      <td>0.026592</td>\n",
       "      <td>110.385196</td>\n",
       "      <td>0.005762</td>\n",
       "      <td>108.417694</td>\n",
       "      <td>0.017758</td>\n",
       "      <td>15.679852</td>\n",
       "    </tr>\n",
       "    <tr>\n",
       "      <th>3</th>\n",
       "      <td>3</td>\n",
       "      <td>GGGCT</td>\n",
       "      <td>0.005762</td>\n",
       "      <td>110.508778</td>\n",
       "      <td>ref_0000</td>\n",
       "      <td>modified_rep_1.tsv</td>\n",
       "      <td>#0_0</td>\n",
       "      <td>0.0</td>\n",
       "      <td>G</td>\n",
       "      <td>G</td>\n",
       "      <td>G</td>\n",
       "      <td>C</td>\n",
       "      <td>T</td>\n",
       "      <td>modified</td>\n",
       "      <td>0.021499</td>\n",
       "      <td>110.385196</td>\n",
       "      <td>0.005762</td>\n",
       "      <td>79.882353</td>\n",
       "      <td>-0.010473</td>\n",
       "      <td>17.770935</td>\n",
       "    </tr>\n",
       "    <tr>\n",
       "      <th>4</th>\n",
       "      <td>4</td>\n",
       "      <td>GGCTT</td>\n",
       "      <td>0.026592</td>\n",
       "      <td>112.052889</td>\n",
       "      <td>ref_0000</td>\n",
       "      <td>modified_rep_1.tsv</td>\n",
       "      <td>#0_0</td>\n",
       "      <td>0.0</td>\n",
       "      <td>G</td>\n",
       "      <td>G</td>\n",
       "      <td>C</td>\n",
       "      <td>T</td>\n",
       "      <td>T</td>\n",
       "      <td>modified</td>\n",
       "      <td>0.008281</td>\n",
       "      <td>108.417694</td>\n",
       "      <td>0.005762</td>\n",
       "      <td>79.882353</td>\n",
       "      <td>0.010357</td>\n",
       "      <td>19.315046</td>\n",
       "    </tr>\n",
       "    <tr>\n",
       "      <th>5</th>\n",
       "      <td>5</td>\n",
       "      <td>GCTTA</td>\n",
       "      <td>0.006165</td>\n",
       "      <td>79.882353</td>\n",
       "      <td>ref_0000</td>\n",
       "      <td>modified_rep_1.tsv</td>\n",
       "      <td>#0_0</td>\n",
       "      <td>0.0</td>\n",
       "      <td>G</td>\n",
       "      <td>C</td>\n",
       "      <td>T</td>\n",
       "      <td>T</td>\n",
       "      <td>A</td>\n",
       "      <td>modified</td>\n",
       "      <td>0.008281</td>\n",
       "      <td>89.465550</td>\n",
       "      <td>0.005762</td>\n",
       "      <td>79.882353</td>\n",
       "      <td>-0.010070</td>\n",
       "      <td>-12.855489</td>\n",
       "    </tr>\n",
       "    <tr>\n",
       "      <th>6</th>\n",
       "      <td>6</td>\n",
       "      <td>CTTAA</td>\n",
       "      <td>0.008281</td>\n",
       "      <td>81.058003</td>\n",
       "      <td>ref_0000</td>\n",
       "      <td>modified_rep_1.tsv</td>\n",
       "      <td>#0_0</td>\n",
       "      <td>0.0</td>\n",
       "      <td>C</td>\n",
       "      <td>T</td>\n",
       "      <td>T</td>\n",
       "      <td>A</td>\n",
       "      <td>A</td>\n",
       "      <td>modified</td>\n",
       "      <td>0.008281</td>\n",
       "      <td>89.465550</td>\n",
       "      <td>0.006165</td>\n",
       "      <td>79.882353</td>\n",
       "      <td>-0.007954</td>\n",
       "      <td>-11.679839</td>\n",
       "    </tr>\n",
       "    <tr>\n",
       "      <th>7</th>\n",
       "      <td>7</td>\n",
       "      <td>TTAAA</td>\n",
       "      <td>0.011536</td>\n",
       "      <td>89.465550</td>\n",
       "      <td>ref_0000</td>\n",
       "      <td>modified_rep_1.tsv</td>\n",
       "      <td>#0_0</td>\n",
       "      <td>0.0</td>\n",
       "      <td>T</td>\n",
       "      <td>T</td>\n",
       "      <td>A</td>\n",
       "      <td>A</td>\n",
       "      <td>A</td>\n",
       "      <td>modified</td>\n",
       "      <td>0.008281</td>\n",
       "      <td>89.465550</td>\n",
       "      <td>0.006165</td>\n",
       "      <td>79.882353</td>\n",
       "      <td>-0.004700</td>\n",
       "      <td>-3.272293</td>\n",
       "    </tr>\n",
       "    <tr>\n",
       "      <th>8</th>\n",
       "      <td>8</td>\n",
       "      <td>TAAAC</td>\n",
       "      <td>0.006289</td>\n",
       "      <td>101.444887</td>\n",
       "      <td>ref_0000</td>\n",
       "      <td>modified_rep_1.tsv</td>\n",
       "      <td>#0_0</td>\n",
       "      <td>0.0</td>\n",
       "      <td>T</td>\n",
       "      <td>A</td>\n",
       "      <td>A</td>\n",
       "      <td>A</td>\n",
       "      <td>C</td>\n",
       "      <td>modified</td>\n",
       "      <td>0.009593</td>\n",
       "      <td>92.685655</td>\n",
       "      <td>0.006289</td>\n",
       "      <td>81.058003</td>\n",
       "      <td>-0.009946</td>\n",
       "      <td>8.707044</td>\n",
       "    </tr>\n",
       "    <tr>\n",
       "      <th>9</th>\n",
       "      <td>9</td>\n",
       "      <td>AAACT</td>\n",
       "      <td>0.011640</td>\n",
       "      <td>101.641207</td>\n",
       "      <td>ref_0000</td>\n",
       "      <td>modified_rep_1.tsv</td>\n",
       "      <td>#0_0</td>\n",
       "      <td>0.0</td>\n",
       "      <td>A</td>\n",
       "      <td>A</td>\n",
       "      <td>A</td>\n",
       "      <td>C</td>\n",
       "      <td>T</td>\n",
       "      <td>modified</td>\n",
       "      <td>0.009593</td>\n",
       "      <td>92.685655</td>\n",
       "      <td>0.006289</td>\n",
       "      <td>81.002635</td>\n",
       "      <td>-0.004595</td>\n",
       "      <td>8.903364</td>\n",
       "    </tr>\n",
       "    <tr>\n",
       "      <th>10</th>\n",
       "      <td>10</td>\n",
       "      <td>AACTT</td>\n",
       "      <td>0.009593</td>\n",
       "      <td>92.685655</td>\n",
       "      <td>ref_0000</td>\n",
       "      <td>modified_rep_1.tsv</td>\n",
       "      <td>#0_0</td>\n",
       "      <td>0.0</td>\n",
       "      <td>A</td>\n",
       "      <td>A</td>\n",
       "      <td>C</td>\n",
       "      <td>T</td>\n",
       "      <td>T</td>\n",
       "      <td>modified</td>\n",
       "      <td>0.008443</td>\n",
       "      <td>92.685655</td>\n",
       "      <td>0.006083</td>\n",
       "      <td>81.002635</td>\n",
       "      <td>-0.006642</td>\n",
       "      <td>-0.052187</td>\n",
       "    </tr>\n",
       "    <tr>\n",
       "      <th>11</th>\n",
       "      <td>11</td>\n",
       "      <td>ACTTA</td>\n",
       "      <td>0.008443</td>\n",
       "      <td>81.002635</td>\n",
       "      <td>ref_0000</td>\n",
       "      <td>modified_rep_1.tsv</td>\n",
       "      <td>#0_0</td>\n",
       "      <td>0.0</td>\n",
       "      <td>A</td>\n",
       "      <td>C</td>\n",
       "      <td>T</td>\n",
       "      <td>T</td>\n",
       "      <td>A</td>\n",
       "      <td>modified</td>\n",
       "      <td>0.008443</td>\n",
       "      <td>84.365792</td>\n",
       "      <td>0.006071</td>\n",
       "      <td>76.453894</td>\n",
       "      <td>-0.007792</td>\n",
       "      <td>-11.735208</td>\n",
       "    </tr>\n",
       "    <tr>\n",
       "      <th>12</th>\n",
       "      <td>12</td>\n",
       "      <td>CTTAC</td>\n",
       "      <td>0.006083</td>\n",
       "      <td>84.365792</td>\n",
       "      <td>ref_0000</td>\n",
       "      <td>modified_rep_1.tsv</td>\n",
       "      <td>#0_0</td>\n",
       "      <td>0.0</td>\n",
       "      <td>C</td>\n",
       "      <td>T</td>\n",
       "      <td>T</td>\n",
       "      <td>A</td>\n",
       "      <td>C</td>\n",
       "      <td>modified</td>\n",
       "      <td>0.008443</td>\n",
       "      <td>81.002635</td>\n",
       "      <td>0.006071</td>\n",
       "      <td>75.609820</td>\n",
       "      <td>-0.010152</td>\n",
       "      <td>-8.372050</td>\n",
       "    </tr>\n",
       "    <tr>\n",
       "      <th>13</th>\n",
       "      <td>13</td>\n",
       "      <td>TTACC</td>\n",
       "      <td>0.006071</td>\n",
       "      <td>76.453894</td>\n",
       "      <td>ref_0000</td>\n",
       "      <td>modified_rep_1.tsv</td>\n",
       "      <td>#0_0</td>\n",
       "      <td>0.0</td>\n",
       "      <td>T</td>\n",
       "      <td>T</td>\n",
       "      <td>A</td>\n",
       "      <td>C</td>\n",
       "      <td>C</td>\n",
       "      <td>modified</td>\n",
       "      <td>0.008443</td>\n",
       "      <td>76.453894</td>\n",
       "      <td>0.006071</td>\n",
       "      <td>71.973156</td>\n",
       "      <td>-0.010164</td>\n",
       "      <td>-16.283949</td>\n",
       "    </tr>\n",
       "    <tr>\n",
       "      <th>14</th>\n",
       "      <td>14</td>\n",
       "      <td>TACCA</td>\n",
       "      <td>0.024512</td>\n",
       "      <td>75.609820</td>\n",
       "      <td>ref_0000</td>\n",
       "      <td>modified_rep_1.tsv</td>\n",
       "      <td>#0_0</td>\n",
       "      <td>0.0</td>\n",
       "      <td>T</td>\n",
       "      <td>A</td>\n",
       "      <td>C</td>\n",
       "      <td>C</td>\n",
       "      <td>A</td>\n",
       "      <td>modified</td>\n",
       "      <td>0.006203</td>\n",
       "      <td>76.453894</td>\n",
       "      <td>0.006071</td>\n",
       "      <td>71.973156</td>\n",
       "      <td>0.008277</td>\n",
       "      <td>-17.128023</td>\n",
       "    </tr>\n",
       "  </tbody>\n",
       "</table>\n",
       "</div>"
      ],
      "text/plain": [
       "   ref_pos ref_kmer  dwell_time  median_value ref_number           file_name  \\\n",
       "0        0    AATGG    0.074466    108.450395   ref_0000  modified_rep_1.tsv   \n",
       "1        1    ATGGG    0.021499    110.385196   ref_0000  modified_rep_1.tsv   \n",
       "2        2    TGGGC    0.033993    108.417694   ref_0000  modified_rep_1.tsv   \n",
       "3        3    GGGCT    0.005762    110.508778   ref_0000  modified_rep_1.tsv   \n",
       "4        4    GGCTT    0.026592    112.052889   ref_0000  modified_rep_1.tsv   \n",
       "5        5    GCTTA    0.006165     79.882353   ref_0000  modified_rep_1.tsv   \n",
       "6        6    CTTAA    0.008281     81.058003   ref_0000  modified_rep_1.tsv   \n",
       "7        7    TTAAA    0.011536     89.465550   ref_0000  modified_rep_1.tsv   \n",
       "8        8    TAAAC    0.006289    101.444887   ref_0000  modified_rep_1.tsv   \n",
       "9        9    AAACT    0.011640    101.641207   ref_0000  modified_rep_1.tsv   \n",
       "10      10    AACTT    0.009593     92.685655   ref_0000  modified_rep_1.tsv   \n",
       "11      11    ACTTA    0.008443     81.002635   ref_0000  modified_rep_1.tsv   \n",
       "12      12    CTTAC    0.006083     84.365792   ref_0000  modified_rep_1.tsv   \n",
       "13      13    TTACC    0.006071     76.453894   ref_0000  modified_rep_1.tsv   \n",
       "14      14    TACCA    0.024512     75.609820   ref_0000  modified_rep_1.tsv   \n",
       "\n",
       "   read_num modified_status base_1 base_2 base_3 base_4 base_5 file_type  \\\n",
       "0      #0_0             1.0      A      A      T      G      G  modified   \n",
       "1      #0_0             0.0      A      T      G      G      G  modified   \n",
       "2      #0_0             0.0      T      G      G      G      C  modified   \n",
       "3      #0_0             0.0      G      G      G      C      T  modified   \n",
       "4      #0_0             0.0      G      G      C      T      T  modified   \n",
       "5      #0_0             0.0      G      C      T      T      A  modified   \n",
       "6      #0_0             0.0      C      T      T      A      A  modified   \n",
       "7      #0_0             0.0      T      T      A      A      A  modified   \n",
       "8      #0_0             0.0      T      A      A      A      C  modified   \n",
       "9      #0_0             0.0      A      A      A      C      T  modified   \n",
       "10     #0_0             0.0      A      A      C      T      T  modified   \n",
       "11     #0_0             0.0      A      C      T      T      A  modified   \n",
       "12     #0_0             0.0      C      T      T      A      C  modified   \n",
       "13     #0_0             0.0      T      T      A      C      C  modified   \n",
       "14     #0_0             0.0      T      A      C      C      A  modified   \n",
       "\n",
       "    dwell_time_rolling_median  median_value_rolling_median  \\\n",
       "0                    0.033993                   108.450395   \n",
       "1                    0.027746                   109.417796   \n",
       "2                    0.026592                   110.385196   \n",
       "3                    0.021499                   110.385196   \n",
       "4                    0.008281                   108.417694   \n",
       "5                    0.008281                    89.465550   \n",
       "6                    0.008281                    89.465550   \n",
       "7                    0.008281                    89.465550   \n",
       "8                    0.009593                    92.685655   \n",
       "9                    0.009593                    92.685655   \n",
       "10                   0.008443                    92.685655   \n",
       "11                   0.008443                    84.365792   \n",
       "12                   0.008443                    81.002635   \n",
       "13                   0.008443                    76.453894   \n",
       "14                   0.006203                    76.453894   \n",
       "\n",
       "    dwell_time_rolling_min  median_value_rolling_min  \\\n",
       "0                 0.021499                108.417694   \n",
       "1                 0.005762                108.417694   \n",
       "2                 0.005762                108.417694   \n",
       "3                 0.005762                 79.882353   \n",
       "4                 0.005762                 79.882353   \n",
       "5                 0.005762                 79.882353   \n",
       "6                 0.006165                 79.882353   \n",
       "7                 0.006165                 79.882353   \n",
       "8                 0.006289                 81.058003   \n",
       "9                 0.006289                 81.002635   \n",
       "10                0.006083                 81.002635   \n",
       "11                0.006071                 76.453894   \n",
       "12                0.006071                 75.609820   \n",
       "13                0.006071                 71.973156   \n",
       "14                0.006071                 71.973156   \n",
       "\n",
       "    dwell_time_diff_to_median  median_value_diff_to_median  \n",
       "0                    0.058231                    15.712552  \n",
       "1                    0.005264                    17.647353  \n",
       "2                    0.017758                    15.679852  \n",
       "3                   -0.010473                    17.770935  \n",
       "4                    0.010357                    19.315046  \n",
       "5                   -0.010070                   -12.855489  \n",
       "6                   -0.007954                   -11.679839  \n",
       "7                   -0.004700                    -3.272293  \n",
       "8                   -0.009946                     8.707044  \n",
       "9                   -0.004595                     8.903364  \n",
       "10                  -0.006642                    -0.052187  \n",
       "11                  -0.007792                   -11.735208  \n",
       "12                  -0.010152                    -8.372050  \n",
       "13                  -0.010164                   -16.283949  \n",
       "14                   0.008277                   -17.128023  "
      ]
     },
     "execution_count": 26,
     "metadata": {},
     "output_type": "execute_result"
    }
   ],
   "source": [
    "df_train_not_combined.head(15)"
   ]
  },
  {
   "cell_type": "code",
   "execution_count": 27,
   "metadata": {
    "ExecuteTime": {
     "end_time": "2020-05-19T09:05:28.663615Z",
     "start_time": "2020-05-19T09:05:28.658613Z"
    }
   },
   "outputs": [
    {
     "data": {
      "text/plain": [
       "(135240, 20)"
      ]
     },
     "execution_count": 27,
     "metadata": {},
     "output_type": "execute_result"
    }
   ],
   "source": [
    "df_train_not_combined.shape"
   ]
  },
  {
   "cell_type": "code",
   "execution_count": 28,
   "metadata": {
    "ExecuteTime": {
     "end_time": "2020-05-19T09:05:28.669803Z",
     "start_time": "2020-05-19T09:05:28.664816Z"
    }
   },
   "outputs": [
    {
     "data": {
      "text/plain": [
       "(690, 196, 28)"
      ]
     },
     "execution_count": 28,
     "metadata": {},
     "output_type": "execute_result"
    }
   ],
   "source": [
    "X_3d_train.shape"
   ]
  },
  {
   "cell_type": "markdown",
   "metadata": {
    "colab_type": "text",
    "id": "GvD8u7tRy0Z9"
   },
   "source": [
    "# rnn"
   ]
  },
  {
   "cell_type": "code",
   "execution_count": 29,
   "metadata": {
    "ExecuteTime": {
     "end_time": "2020-05-19T09:05:31.597466Z",
     "start_time": "2020-05-19T09:05:28.670804Z"
    },
    "colab": {},
    "colab_type": "code",
    "id": "50C4qwAuy1AG"
   },
   "outputs": [],
   "source": [
    "import tensorflow as tf\n",
    "\n",
    "from tensorflow.keras import layers\n",
    "from tensorflow.keras import regularizers"
   ]
  },
  {
   "cell_type": "code",
   "execution_count": 30,
   "metadata": {
    "ExecuteTime": {
     "end_time": "2020-05-19T09:05:31.767504Z",
     "start_time": "2020-05-19T09:05:31.598465Z"
    },
    "colab": {},
    "colab_type": "code",
    "id": "I6qDItsOy3AN"
   },
   "outputs": [],
   "source": [
    "import tensorflow_docs as tfdocs\n",
    "import tensorflow_docs.modeling\n",
    "import tensorflow_docs.plots"
   ]
  },
  {
   "cell_type": "code",
   "execution_count": 31,
   "metadata": {
    "ExecuteTime": {
     "end_time": "2020-05-19T09:05:31.771505Z",
     "start_time": "2020-05-19T09:05:31.768504Z"
    },
    "colab": {},
    "colab_type": "code",
    "id": "zXSJmX9TzTFN"
   },
   "outputs": [],
   "source": [
    "from  IPython import display\n",
    "from matplotlib import pyplot as plt\n",
    "\n",
    "import numpy as np\n",
    "\n",
    "import pathlib\n",
    "import shutil\n",
    "import tempfile"
   ]
  },
  {
   "cell_type": "code",
   "execution_count": 32,
   "metadata": {
    "ExecuteTime": {
     "end_time": "2020-05-19T09:05:31.778505Z",
     "start_time": "2020-05-19T09:05:31.773505Z"
    }
   },
   "outputs": [],
   "source": [
    "import tensorflow.keras.backend as kb"
   ]
  },
  {
   "cell_type": "code",
   "execution_count": 33,
   "metadata": {
    "ExecuteTime": {
     "end_time": "2020-05-19T09:05:31.804751Z",
     "start_time": "2020-05-19T09:05:31.779507Z"
    }
   },
   "outputs": [],
   "source": [
    "class rnn_constructor():\n",
    "    \n",
    "    def __init__(self, model, instance_name, custom_loss_state = False):\n",
    "       \n",
    "        self.custom_loss_state = custom_loss_state\n",
    "        self.instance_name = instance_name\n",
    "        self.model = model\n",
    "        self.validation_split = 0.2\n",
    "        self.features = 1\n",
    "        self.n_train = 1\n",
    "        self.buffer_size = 1\n",
    "        self.batch_size = 1\n",
    "        self.steps_per_epoch = self.n_train//self.batch_size\n",
    "        self.metrics = [tf.keras.losses.BinaryCrossentropy(from_logits=True, name='binary_crossentropy')]\n",
    "        self.lr_schedule = tf.keras.optimizers.schedules.InverseTimeDecay(\n",
    "                                                                          0.1,\n",
    "                                                                          decay_steps=self.steps_per_epoch*350,\n",
    "                                                                          decay_rate=1,\n",
    "                                                                          staircase=False)\n",
    "        self.history = {}\n",
    "        self.class_weight=None\n",
    "        self.pos_weight = None\n",
    "        self.loss = None\n",
    "        self.classification_report = None\n",
    "   \n",
    "    def __custom_loss__(self, y_actual,y_pred):\n",
    "        y_actual = tf.cast(y_actual, dtype=\"float32\")\n",
    "        custom_loss=tf.nn.weighted_cross_entropy_with_logits(labels=y_actual, logits=y_pred, \n",
    "                                                             pos_weight = self.pos_weight, name=\"loss\")\n",
    "        return custom_loss\n",
    "    \n",
    "\n",
    "    def __get_class_weights__(self, y):\n",
    "        class_weight_list = compute_class_weight(\"balanced\", np.unique(y), y.flatten()) \n",
    "        self.class_weight = dict(zip(np.unique(y), class_weight_list))\n",
    "    \n",
    "        \n",
    "    def __get_callbacks__(self):\n",
    "        return [\n",
    "            tfdocs.modeling.EpochDots(),\n",
    "            tf.keras.callbacks.EarlyStopping(monitor='loss', patience=50),\n",
    "                ]\n",
    "    \n",
    "    def __get_optimizer__(self):\n",
    "        return tf.keras.optimizers.Adam(self.lr_schedule)\n",
    "    \n",
    "    def __model_compile__(self):\n",
    "        if self.custom_loss_state:\n",
    "            self.loss = self.__custom_loss__\n",
    "        else:\n",
    "            self.loss = tf.keras.losses.BinaryCrossentropy(from_logits=True)\n",
    "            \n",
    "        optimizer = self.__get_optimizer__()\n",
    "        self.model.compile(optimizer=optimizer,\n",
    "                    loss=self.loss,\n",
    "                    metrics=self.metrics,\n",
    "                     )\n",
    "\n",
    "        self.model.summary()\n",
    "    \n",
    "    def __model_fit__(self, X, y, batch_size = 20, epochs = 2500, class_weight = True):\n",
    "        \n",
    "        \n",
    "        self.features = X.shape[2]\n",
    "        self.n_train = len(X) * (1-self.validation_split)\n",
    "        self.buffer_size = len(X)\n",
    "        self.batch_size = batch_size\n",
    "        self.steps_per_epoch = self.n_train//self.batch_size\n",
    "        self.history[self.instance_name] = self.model.fit(\n",
    "                                x=X,\n",
    "                                y=y,\n",
    "                                batch_size=self.batch_size,\n",
    "                                steps_per_epoch = self.steps_per_epoch,\n",
    "                                epochs=epochs,\n",
    "                                #validation_data=(X_3d_val, y_3d_val),\n",
    "                                callbacks=self.__get_callbacks__(),\n",
    "                                verbose=0,\n",
    "                                workers = 8,\n",
    "                                class_weight = self.class_weight,\n",
    "                                use_multiprocessing = True,\n",
    "                                shuffle=True,\n",
    "                                validation_split=self.validation_split\n",
    "                                    )\n",
    "    \n",
    "    def compile_and_fit(self, X, y, batch_size = 20, epochs = 2500, class_weight = True):\n",
    "        \n",
    "        if self.custom_loss_state == True:\n",
    "            self.__get_class_weights__(y)\n",
    "            self.pos_weight = self.class_weight[1]\n",
    "            self.class_weight = None\n",
    "        if class_weight == True:\n",
    "            self.__get_class_weights__(y)\n",
    "        \n",
    "        \n",
    "        self.__model_compile__()\n",
    "        self.__model_fit__( X, y, batch_size = 20, epochs = 2500)\n",
    "        return self.history\n",
    "    \n",
    "    def plot_training(self, metric = 'loss'):\n",
    "        \n",
    "        plotter = tfdocs.plots.HistoryPlotter(metric = metric, smoothing_std=10)\n",
    "        plotter.plot(self.history)\n",
    "        \n",
    "    def plot_evaluation(self, x_train, y_train):\n",
    "        y_pred = self.model.predict_classes(x_train)\n",
    "        skplt.metrics.plot_confusion_matrix(y_train.flatten(),y_pred.flatten(), figsize=(10,10), text_fontsize=20)\n",
    "        self.classification_report = classification_report(y_train.flatten(),y_pred.flatten(), output_dict = True)\n",
    "        print(classification_report(y_train.flatten(),y_pred.flatten()))\n",
    "        return {self.instance_name:self.classification_report[\"1\"][\"f1-score\"]}"
   ]
  },
  {
   "cell_type": "code",
   "execution_count": 34,
   "metadata": {
    "ExecuteTime": {
     "end_time": "2020-05-19T09:05:31.809752Z",
     "start_time": "2020-05-19T09:05:31.805750Z"
    }
   },
   "outputs": [],
   "source": [
    "histories = {}\n",
    "f1_scores = {}"
   ]
  },
  {
   "cell_type": "code",
   "execution_count": 38,
   "metadata": {
    "ExecuteTime": {
     "end_time": "2020-05-19T09:05:46.869566Z",
     "start_time": "2020-05-19T09:05:45.997371Z"
    }
   },
   "outputs": [],
   "source": [
    "# rnn model\n",
    "\n",
    "model_class_weight = tf.keras.Sequential([\n",
    "    tf.keras.layers.LSTM(32, input_shape=(196,28),return_sequences=True),\n",
    "    tf.keras.layers.Dropout(0.5,seed = seed),\n",
    "    tf.keras.layers.Bidirectional(tf.keras.layers.LSTM(32,return_sequences=True)),\n",
    "    tf.keras.layers.Dropout(0.5,seed = seed),\n",
    "    tf.keras.layers.Dense(1)\n",
    "])"
   ]
  },
  {
   "cell_type": "code",
   "execution_count": 39,
   "metadata": {
    "ExecuteTime": {
     "end_time": "2020-05-19T09:05:47.416206Z",
     "start_time": "2020-05-19T09:05:47.413205Z"
    }
   },
   "outputs": [],
   "source": [
    "rnn_class_weight = rnn_constructor(model_class_weight, \"rnn_class_weight\", custom_loss_state = False)"
   ]
  },
  {
   "cell_type": "code",
   "execution_count": 40,
   "metadata": {
    "ExecuteTime": {
     "end_time": "2020-05-19T09:09:58.079093Z",
     "start_time": "2020-05-19T09:05:47.910010Z"
    }
   },
   "outputs": [
    {
     "name": "stdout",
     "output_type": "stream",
     "text": [
      "Model: \"sequential_1\"\n",
      "_________________________________________________________________\n",
      "Layer (type)                 Output Shape              Param #   \n",
      "=================================================================\n",
      "lstm_2 (LSTM)                (None, 196, 32)           7808      \n",
      "_________________________________________________________________\n",
      "dropout_2 (Dropout)          (None, 196, 32)           0         \n",
      "_________________________________________________________________\n",
      "bidirectional_1 (Bidirection (None, 196, 64)           16640     \n",
      "_________________________________________________________________\n",
      "dropout_3 (Dropout)          (None, 196, 64)           0         \n",
      "_________________________________________________________________\n",
      "dense_1 (Dense)              (None, 196, 1)            65        \n",
      "=================================================================\n",
      "Total params: 24,513\n",
      "Trainable params: 24,513\n",
      "Non-trainable params: 0\n",
      "_________________________________________________________________\n",
      "WARNING:tensorflow:sample_weight modes were coerced from\n",
      "  ...\n",
      "    to  \n",
      "  ['...']\n",
      "WARNING:tensorflow:sample_weight modes were coerced from\n",
      "  ...\n",
      "    to  \n",
      "  ['...']\n",
      "\n",
      "Epoch: 0, binary_crossentropy:0.2226,  loss:1.8960,  val_binary_crossentropy:0.0718,  val_loss:0.0371,  \n",
      "................................................................"
     ]
    }
   ],
   "source": [
    "hist = rnn_class_weight.compile_and_fit(X_3d_train, y_3d_train, class_weight = True)\n",
    "histories.update(hist)"
   ]
  },
  {
   "cell_type": "code",
   "execution_count": 43,
   "metadata": {
    "ExecuteTime": {
     "end_time": "2020-05-19T09:11:12.018294Z",
     "start_time": "2020-05-19T09:11:12.013294Z"
    }
   },
   "outputs": [
    {
     "data": {
      "text/plain": [
       "{'rnn_class_weight': <tensorflow.python.keras.callbacks.History at 0x1a727a47188>}"
      ]
     },
     "execution_count": 43,
     "metadata": {},
     "output_type": "execute_result"
    }
   ],
   "source": [
    "rnn_class_weight.history"
   ]
  },
  {
   "cell_type": "code",
   "execution_count": 42,
   "metadata": {
    "ExecuteTime": {
     "end_time": "2020-05-19T09:09:58.370254Z",
     "start_time": "2020-05-19T09:09:58.087097Z"
    }
   },
   "outputs": [
    {
     "ename": "ValueError",
     "evalue": "x and y must have same first dimension, but have shapes (64,) and (81,)",
     "output_type": "error",
     "traceback": [
      "\u001b[1;31m---------------------------------------------------------------------------\u001b[0m",
      "\u001b[1;31mValueError\u001b[0m                                Traceback (most recent call last)",
      "\u001b[1;32m<ipython-input-42-204f3967a0d2>\u001b[0m in \u001b[0;36m<module>\u001b[1;34m\u001b[0m\n\u001b[1;32m----> 1\u001b[1;33m \u001b[0mrnn_class_weight\u001b[0m\u001b[1;33m.\u001b[0m\u001b[0mplot_training\u001b[0m\u001b[1;33m(\u001b[0m\u001b[0mmetric\u001b[0m \u001b[1;33m=\u001b[0m \u001b[1;34m\"binary_crossentropy\"\u001b[0m\u001b[1;33m)\u001b[0m\u001b[1;33m\u001b[0m\u001b[1;33m\u001b[0m\u001b[0m\n\u001b[0m\u001b[0;32m      2\u001b[0m \u001b[0mplt\u001b[0m\u001b[1;33m.\u001b[0m\u001b[0msavefig\u001b[0m\u001b[1;33m(\u001b[0m\u001b[1;34m\"figures/data_viz/10.png\"\u001b[0m\u001b[1;33m,\u001b[0m\u001b[0mdpi\u001b[0m\u001b[1;33m=\u001b[0m\u001b[1;36m300\u001b[0m\u001b[1;33m,\u001b[0m\u001b[0mbbox_inches\u001b[0m\u001b[1;33m=\u001b[0m\u001b[1;34m\"tight\"\u001b[0m\u001b[1;33m,\u001b[0m \u001b[0mtransparent\u001b[0m\u001b[1;33m=\u001b[0m \u001b[1;32mTrue\u001b[0m\u001b[1;33m)\u001b[0m\u001b[1;33m;\u001b[0m\u001b[1;33m\u001b[0m\u001b[1;33m\u001b[0m\u001b[0m\n",
      "\u001b[1;32m<ipython-input-33-8e220bfe2054>\u001b[0m in \u001b[0;36mplot_training\u001b[1;34m(self, metric)\u001b[0m\n\u001b[0;32m    100\u001b[0m \u001b[1;33m\u001b[0m\u001b[0m\n\u001b[0;32m    101\u001b[0m         \u001b[0mplotter\u001b[0m \u001b[1;33m=\u001b[0m \u001b[0mtfdocs\u001b[0m\u001b[1;33m.\u001b[0m\u001b[0mplots\u001b[0m\u001b[1;33m.\u001b[0m\u001b[0mHistoryPlotter\u001b[0m\u001b[1;33m(\u001b[0m\u001b[0mmetric\u001b[0m \u001b[1;33m=\u001b[0m \u001b[0mmetric\u001b[0m\u001b[1;33m,\u001b[0m \u001b[0msmoothing_std\u001b[0m\u001b[1;33m=\u001b[0m\u001b[1;36m10\u001b[0m\u001b[1;33m)\u001b[0m\u001b[1;33m\u001b[0m\u001b[1;33m\u001b[0m\u001b[0m\n\u001b[1;32m--> 102\u001b[1;33m         \u001b[0mplotter\u001b[0m\u001b[1;33m.\u001b[0m\u001b[0mplot\u001b[0m\u001b[1;33m(\u001b[0m\u001b[0mself\u001b[0m\u001b[1;33m.\u001b[0m\u001b[0mhistory\u001b[0m\u001b[1;33m)\u001b[0m\u001b[1;33m\u001b[0m\u001b[1;33m\u001b[0m\u001b[0m\n\u001b[0m\u001b[0;32m    103\u001b[0m \u001b[1;33m\u001b[0m\u001b[0m\n\u001b[0;32m    104\u001b[0m     \u001b[1;32mdef\u001b[0m \u001b[0mplot_evaluation\u001b[0m\u001b[1;33m(\u001b[0m\u001b[0mself\u001b[0m\u001b[1;33m,\u001b[0m \u001b[0mx_train\u001b[0m\u001b[1;33m,\u001b[0m \u001b[0my_train\u001b[0m\u001b[1;33m)\u001b[0m\u001b[1;33m:\u001b[0m\u001b[1;33m\u001b[0m\u001b[1;33m\u001b[0m\u001b[0m\n",
      "\u001b[1;32m~\\anaconda3\\lib\\site-packages\\tensorflow_docs\\plots\\__init__.py\u001b[0m in \u001b[0;36mplot\u001b[1;34m(self, histories, metric, smoothing_std)\u001b[0m\n\u001b[0;32m     96\u001b[0m           \u001b[0mtrain_value\u001b[0m\u001b[1;33m,\u001b[0m\u001b[1;33m\u001b[0m\u001b[1;33m\u001b[0m\u001b[0m\n\u001b[0;32m     97\u001b[0m           \u001b[0mcolor\u001b[0m\u001b[1;33m=\u001b[0m\u001b[0mcolor\u001b[0m\u001b[1;33m,\u001b[0m\u001b[1;33m\u001b[0m\u001b[1;33m\u001b[0m\u001b[0m\n\u001b[1;32m---> 98\u001b[1;33m           label=name.title() + ' Train')\n\u001b[0m\u001b[0;32m     99\u001b[0m       plt.plot(\n\u001b[0;32m    100\u001b[0m           \u001b[0mhistory\u001b[0m\u001b[1;33m.\u001b[0m\u001b[0mepoch\u001b[0m\u001b[1;33m,\u001b[0m\u001b[1;33m\u001b[0m\u001b[1;33m\u001b[0m\u001b[0m\n",
      "\u001b[1;32m~\\anaconda3\\lib\\site-packages\\matplotlib\\pyplot.py\u001b[0m in \u001b[0;36mplot\u001b[1;34m(scalex, scaley, data, *args, **kwargs)\u001b[0m\n\u001b[0;32m   2794\u001b[0m     return gca().plot(\n\u001b[0;32m   2795\u001b[0m         *args, scalex=scalex, scaley=scaley, **({\"data\": data} if data\n\u001b[1;32m-> 2796\u001b[1;33m         is not None else {}), **kwargs)\n\u001b[0m\u001b[0;32m   2797\u001b[0m \u001b[1;33m\u001b[0m\u001b[0m\n\u001b[0;32m   2798\u001b[0m \u001b[1;33m\u001b[0m\u001b[0m\n",
      "\u001b[1;32m~\\anaconda3\\lib\\site-packages\\matplotlib\\axes\\_axes.py\u001b[0m in \u001b[0;36mplot\u001b[1;34m(self, scalex, scaley, data, *args, **kwargs)\u001b[0m\n\u001b[0;32m   1663\u001b[0m         \"\"\"\n\u001b[0;32m   1664\u001b[0m         \u001b[0mkwargs\u001b[0m \u001b[1;33m=\u001b[0m \u001b[0mcbook\u001b[0m\u001b[1;33m.\u001b[0m\u001b[0mnormalize_kwargs\u001b[0m\u001b[1;33m(\u001b[0m\u001b[0mkwargs\u001b[0m\u001b[1;33m,\u001b[0m \u001b[0mmlines\u001b[0m\u001b[1;33m.\u001b[0m\u001b[0mLine2D\u001b[0m\u001b[1;33m.\u001b[0m\u001b[0m_alias_map\u001b[0m\u001b[1;33m)\u001b[0m\u001b[1;33m\u001b[0m\u001b[1;33m\u001b[0m\u001b[0m\n\u001b[1;32m-> 1665\u001b[1;33m         \u001b[0mlines\u001b[0m \u001b[1;33m=\u001b[0m \u001b[1;33m[\u001b[0m\u001b[1;33m*\u001b[0m\u001b[0mself\u001b[0m\u001b[1;33m.\u001b[0m\u001b[0m_get_lines\u001b[0m\u001b[1;33m(\u001b[0m\u001b[1;33m*\u001b[0m\u001b[0margs\u001b[0m\u001b[1;33m,\u001b[0m \u001b[0mdata\u001b[0m\u001b[1;33m=\u001b[0m\u001b[0mdata\u001b[0m\u001b[1;33m,\u001b[0m \u001b[1;33m**\u001b[0m\u001b[0mkwargs\u001b[0m\u001b[1;33m)\u001b[0m\u001b[1;33m]\u001b[0m\u001b[1;33m\u001b[0m\u001b[1;33m\u001b[0m\u001b[0m\n\u001b[0m\u001b[0;32m   1666\u001b[0m         \u001b[1;32mfor\u001b[0m \u001b[0mline\u001b[0m \u001b[1;32min\u001b[0m \u001b[0mlines\u001b[0m\u001b[1;33m:\u001b[0m\u001b[1;33m\u001b[0m\u001b[1;33m\u001b[0m\u001b[0m\n\u001b[0;32m   1667\u001b[0m             \u001b[0mself\u001b[0m\u001b[1;33m.\u001b[0m\u001b[0madd_line\u001b[0m\u001b[1;33m(\u001b[0m\u001b[0mline\u001b[0m\u001b[1;33m)\u001b[0m\u001b[1;33m\u001b[0m\u001b[1;33m\u001b[0m\u001b[0m\n",
      "\u001b[1;32m~\\anaconda3\\lib\\site-packages\\matplotlib\\axes\\_base.py\u001b[0m in \u001b[0;36m__call__\u001b[1;34m(self, *args, **kwargs)\u001b[0m\n\u001b[0;32m    223\u001b[0m                 \u001b[0mthis\u001b[0m \u001b[1;33m+=\u001b[0m \u001b[0margs\u001b[0m\u001b[1;33m[\u001b[0m\u001b[1;36m0\u001b[0m\u001b[1;33m]\u001b[0m\u001b[1;33m,\u001b[0m\u001b[1;33m\u001b[0m\u001b[1;33m\u001b[0m\u001b[0m\n\u001b[0;32m    224\u001b[0m                 \u001b[0margs\u001b[0m \u001b[1;33m=\u001b[0m \u001b[0margs\u001b[0m\u001b[1;33m[\u001b[0m\u001b[1;36m1\u001b[0m\u001b[1;33m:\u001b[0m\u001b[1;33m]\u001b[0m\u001b[1;33m\u001b[0m\u001b[1;33m\u001b[0m\u001b[0m\n\u001b[1;32m--> 225\u001b[1;33m             \u001b[1;32myield\u001b[0m \u001b[1;32mfrom\u001b[0m \u001b[0mself\u001b[0m\u001b[1;33m.\u001b[0m\u001b[0m_plot_args\u001b[0m\u001b[1;33m(\u001b[0m\u001b[0mthis\u001b[0m\u001b[1;33m,\u001b[0m \u001b[0mkwargs\u001b[0m\u001b[1;33m)\u001b[0m\u001b[1;33m\u001b[0m\u001b[1;33m\u001b[0m\u001b[0m\n\u001b[0m\u001b[0;32m    226\u001b[0m \u001b[1;33m\u001b[0m\u001b[0m\n\u001b[0;32m    227\u001b[0m     \u001b[1;32mdef\u001b[0m \u001b[0mget_next_color\u001b[0m\u001b[1;33m(\u001b[0m\u001b[0mself\u001b[0m\u001b[1;33m)\u001b[0m\u001b[1;33m:\u001b[0m\u001b[1;33m\u001b[0m\u001b[1;33m\u001b[0m\u001b[0m\n",
      "\u001b[1;32m~\\anaconda3\\lib\\site-packages\\matplotlib\\axes\\_base.py\u001b[0m in \u001b[0;36m_plot_args\u001b[1;34m(self, tup, kwargs)\u001b[0m\n\u001b[0;32m    389\u001b[0m             \u001b[0mx\u001b[0m\u001b[1;33m,\u001b[0m \u001b[0my\u001b[0m \u001b[1;33m=\u001b[0m \u001b[0mindex_of\u001b[0m\u001b[1;33m(\u001b[0m\u001b[0mtup\u001b[0m\u001b[1;33m[\u001b[0m\u001b[1;33m-\u001b[0m\u001b[1;36m1\u001b[0m\u001b[1;33m]\u001b[0m\u001b[1;33m)\u001b[0m\u001b[1;33m\u001b[0m\u001b[1;33m\u001b[0m\u001b[0m\n\u001b[0;32m    390\u001b[0m \u001b[1;33m\u001b[0m\u001b[0m\n\u001b[1;32m--> 391\u001b[1;33m         \u001b[0mx\u001b[0m\u001b[1;33m,\u001b[0m \u001b[0my\u001b[0m \u001b[1;33m=\u001b[0m \u001b[0mself\u001b[0m\u001b[1;33m.\u001b[0m\u001b[0m_xy_from_xy\u001b[0m\u001b[1;33m(\u001b[0m\u001b[0mx\u001b[0m\u001b[1;33m,\u001b[0m \u001b[0my\u001b[0m\u001b[1;33m)\u001b[0m\u001b[1;33m\u001b[0m\u001b[1;33m\u001b[0m\u001b[0m\n\u001b[0m\u001b[0;32m    392\u001b[0m \u001b[1;33m\u001b[0m\u001b[0m\n\u001b[0;32m    393\u001b[0m         \u001b[1;32mif\u001b[0m \u001b[0mself\u001b[0m\u001b[1;33m.\u001b[0m\u001b[0mcommand\u001b[0m \u001b[1;33m==\u001b[0m \u001b[1;34m'plot'\u001b[0m\u001b[1;33m:\u001b[0m\u001b[1;33m\u001b[0m\u001b[1;33m\u001b[0m\u001b[0m\n",
      "\u001b[1;32m~\\anaconda3\\lib\\site-packages\\matplotlib\\axes\\_base.py\u001b[0m in \u001b[0;36m_xy_from_xy\u001b[1;34m(self, x, y)\u001b[0m\n\u001b[0;32m    268\u001b[0m         \u001b[1;32mif\u001b[0m \u001b[0mx\u001b[0m\u001b[1;33m.\u001b[0m\u001b[0mshape\u001b[0m\u001b[1;33m[\u001b[0m\u001b[1;36m0\u001b[0m\u001b[1;33m]\u001b[0m \u001b[1;33m!=\u001b[0m \u001b[0my\u001b[0m\u001b[1;33m.\u001b[0m\u001b[0mshape\u001b[0m\u001b[1;33m[\u001b[0m\u001b[1;36m0\u001b[0m\u001b[1;33m]\u001b[0m\u001b[1;33m:\u001b[0m\u001b[1;33m\u001b[0m\u001b[1;33m\u001b[0m\u001b[0m\n\u001b[0;32m    269\u001b[0m             raise ValueError(\"x and y must have same first dimension, but \"\n\u001b[1;32m--> 270\u001b[1;33m                              \"have shapes {} and {}\".format(x.shape, y.shape))\n\u001b[0m\u001b[0;32m    271\u001b[0m         \u001b[1;32mif\u001b[0m \u001b[0mx\u001b[0m\u001b[1;33m.\u001b[0m\u001b[0mndim\u001b[0m \u001b[1;33m>\u001b[0m \u001b[1;36m2\u001b[0m \u001b[1;32mor\u001b[0m \u001b[0my\u001b[0m\u001b[1;33m.\u001b[0m\u001b[0mndim\u001b[0m \u001b[1;33m>\u001b[0m \u001b[1;36m2\u001b[0m\u001b[1;33m:\u001b[0m\u001b[1;33m\u001b[0m\u001b[1;33m\u001b[0m\u001b[0m\n\u001b[0;32m    272\u001b[0m             raise ValueError(\"x and y can be no greater than 2-D, but have \"\n",
      "\u001b[1;31mValueError\u001b[0m: x and y must have same first dimension, but have shapes (64,) and (81,)"
     ]
    },
    {
     "data": {
      "image/png": "[encoded data removed]",
      "text/plain": [
       "<Figure size 842.4x595.44 with 1 Axes>"
      ]
     },
     "metadata": {},
     "output_type": "display_data"
    }
   ],
   "source": [
    "rnn_class_weight.plot_training(metric = \"binary_crossentropy\")\n",
    "plt.savefig(\"figures/data_viz/10.png\",dpi=300,bbox_inches=\"tight\", transparent= True);"
   ]
  },
  {
   "cell_type": "code",
   "execution_count": 44,
   "metadata": {
    "ExecuteTime": {
     "end_time": "2020-05-19T09:11:40.323399Z",
     "start_time": "2020-05-19T09:11:38.396783Z"
    }
   },
   "outputs": [
    {
     "name": "stderr",
     "output_type": "stream",
     "text": [
      "C:\\Users\\neomo\\anaconda3\\lib\\site-packages\\sklearn\\metrics\\_classification.py:1272: UndefinedMetricWarning: Precision and F-score are ill-defined and being set to 0.0 in labels with no predicted samples. Use `zero_division` parameter to control this behavior.\n",
      "  _warn_prf(average, modifier, msg_start, len(result))\n"
     ]
    },
    {
     "name": "stdout",
     "output_type": "stream",
     "text": [
      "              precision    recall  f1-score   support\n",
      "\n",
      "           0       0.96      1.00      0.98     43470\n",
      "           1       0.00      0.00      0.00      1610\n",
      "\n",
      "    accuracy                           0.96     45080\n",
      "   macro avg       0.48      0.50      0.49     45080\n",
      "weighted avg       0.93      0.96      0.95     45080\n",
      "\n"
     ]
    },
    {
     "data": {
      "image/png": "[encoded data removed]",
      "text/plain": [
       "<Figure size 720x720 with 2 Axes>"
      ]
     },
     "metadata": {},
     "output_type": "display_data"
    }
   ],
   "source": [
    "f1 = rnn_class_weight.plot_evaluation(X_3d_test, y_3d_test)\n",
    "f1_scores.update(f1)"
   ]
  },
  {
   "cell_type": "code",
   "execution_count": null,
   "metadata": {},
   "outputs": [],
   "source": []
  }
 ],
 "metadata": {
  "accelerator": "GPU",
  "colab": {
   "name": "3_RNN.ipynb",
   "provenance": [],
   "toc_visible": true
  },
  "kernelspec": {
   "display_name": "Python 3",
   "language": "python",
   "name": "python3"
  },
  "language_info": {
   "codemirror_mode": {
    "name": "ipython",
    "version": 3
   },
   "file_extension": ".py",
   "mimetype": "text/x-python",
   "name": "python",
   "nbconvert_exporter": "python",
   "pygments_lexer": "ipython3",
   "version": "3.7.7"
  },
  "toc": {
   "base_numbering": 1,
   "nav_menu": {},
   "number_sections": true,
   "sideBar": true,
   "skip_h1_title": false,
   "title_cell": "Table of Contents",
   "title_sidebar": "Contents",
   "toc_cell": false,
   "toc_position": {
    "height": "calc(100% - 180px)",
    "left": "10px",
    "top": "150px",
    "width": "384px"
   },
   "toc_section_display": true,
   "toc_window_display": true
  }
 },
 "nbformat": 4,
 "nbformat_minor": 1
}
