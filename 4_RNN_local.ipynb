{
 "cells": [
  {
   "cell_type": "markdown",
   "metadata": {
    "colab_type": "text",
    "id": "A7x7ZELoyUll"
   },
   "source": [
    "# data import"
   ]
  },
  {
   "cell_type": "code",
   "execution_count": 1,
   "metadata": {
    "ExecuteTime": {
     "end_time": "2020-05-02T14:00:37.512930Z",
     "start_time": "2020-05-02T14:00:35.224805Z"
    },
    "colab": {
     "base_uri": "https://localhost:8080/",
     "height": 51
    },
    "colab_type": "code",
    "id": "Thp2SqAunFgd",
    "outputId": "62f2f7de-a38e-4d91-9184-c3b679eaa3ec"
   },
   "outputs": [],
   "source": [
    "import pandas as pd\n",
    "import numpy as np\n",
    "import seaborn as sns\n",
    "import matplotlib.pyplot as plt\n",
    "import math as math\n",
    "#import s3fs\n",
    "import io\n",
    "import scikitplot as skplt\n",
    "\n",
    "\n",
    "sns.set(style=\"white\", palette=\"pastel\",font_scale=1.5, rc={\"lines.linewidth\": 2.5,'figure.figsize':(11.7,8.27)})\n",
    "pd.options.display.max_columns = None"
   ]
  },
  {
   "cell_type": "code",
   "execution_count": 2,
   "metadata": {
    "ExecuteTime": {
     "end_time": "2020-05-02T14:00:38.133023Z",
     "start_time": "2020-05-02T14:00:37.513930Z"
    },
    "colab": {},
    "colab_type": "code",
    "id": "4gZPL98Cnm50"
   },
   "outputs": [],
   "source": [
    "df_combined = pd.read_csv('data/exported/df_combined.csv', index_col = 0)\n",
    "df_not_combined = pd.read_csv('data/exported/df_not_combined.csv', index_col = 0)\n",
    "#df_yeast_not_combined = pd.read_csv(io.BytesIO(uploaded['df_yeast_not_combined.csv']), index_col = 0)\n",
    "#df_yeast_combined = pd.read_csv(io.BytesIO(uploaded['df_yeast_combined.csv']), index_col = 0)"
   ]
  },
  {
   "cell_type": "markdown",
   "metadata": {
    "colab_type": "text",
    "id": "zPJRkXExygAw"
   },
   "source": [
    "# modelling packages"
   ]
  },
  {
   "cell_type": "code",
   "execution_count": 3,
   "metadata": {
    "ExecuteTime": {
     "end_time": "2020-05-02T14:00:38.137023Z",
     "start_time": "2020-05-02T14:00:38.134022Z"
    },
    "colab": {
     "base_uri": "https://localhost:8080/",
     "height": 105
    },
    "colab_type": "code",
    "id": "mQvhYig5tH5b",
    "outputId": "b5e61331-64b8-4e00-8832-ca6f2caa3fc3"
   },
   "outputs": [],
   "source": [
    "from sklearn.metrics import confusion_matrix, classification_report \n",
    "from sklearn.utils.class_weight import compute_class_weight"
   ]
  },
  {
   "cell_type": "code",
   "execution_count": 4,
   "metadata": {
    "ExecuteTime": {
     "end_time": "2020-05-02T14:00:38.279038Z",
     "start_time": "2020-05-02T14:00:38.139024Z"
    },
    "colab": {},
    "colab_type": "code",
    "id": "0s2rA8rWxaln"
   },
   "outputs": [],
   "source": [
    "df_not_combined = df_not_combined.astype({\"base_1\":\"category\",\"base_2\":\"category\",\"base_3\":\"category\",\\\n",
    "                                          \"base_4\":\"category\",\"base_5\":\"category\",\"modified_status\":\"category\"})\n",
    "df_not_combined = df_not_combined.astype({\"ref_number\":\"object\", \"ref_pos\":\"object\"})"
   ]
  },
  {
   "cell_type": "code",
   "execution_count": 5,
   "metadata": {
    "ExecuteTime": {
     "end_time": "2020-05-02T14:00:38.297042Z",
     "start_time": "2020-05-02T14:00:38.280038Z"
    },
    "colab": {
     "base_uri": "https://localhost:8080/",
     "height": 200
    },
    "colab_type": "code",
    "id": "kDm8smoIx4m0",
    "outputId": "fa20e882-44b4-4dd2-e0bf-f7bd3716aeda"
   },
   "outputs": [],
   "source": [
    "df_combined = df_combined.astype({\"base_1\":\"category\",\"base_2\":\"category\",\"base_3\":\"category\",\\\n",
    "                                          \"base_4\":\"category\",\"base_5\":\"category\",\"modified_status\":\"category\"})\n",
    "df_combined = df_combined.astype({\"ref_number\":\"object\", \"ref_pos\":\"object\"})"
   ]
  },
  {
   "cell_type": "code",
   "execution_count": 6,
   "metadata": {
    "ExecuteTime": {
     "end_time": "2020-05-02T14:00:38.301043Z",
     "start_time": "2020-05-02T14:00:38.298042Z"
    },
    "colab": {},
    "colab_type": "code",
    "id": "QjGHeIOwyC7C"
   },
   "outputs": [],
   "source": [
    "seed = 7"
   ]
  },
  {
   "cell_type": "markdown",
   "metadata": {
    "colab_type": "text",
    "id": "eIlCLrYVykLe"
   },
   "source": [
    "## train test split"
   ]
  },
  {
   "cell_type": "code",
   "execution_count": 7,
   "metadata": {
    "ExecuteTime": {
     "end_time": "2020-05-02T14:00:38.305044Z",
     "start_time": "2020-05-02T14:00:38.302043Z"
    }
   },
   "outputs": [],
   "source": [
    "# manual train test split according to ref_num to preserve sequence sequence identity\n",
    "# maybe do it according to read_num to increase variability?\n",
    "\n",
    "final_ref = [\"ref_0000\",\"ref_0001\",\"ref_0002\",\"ref_0003\"]\n",
    "val_ref = [\"ref_0004\"]\n",
    "train_ref = [\"ref_0000\",\"ref_0001\",\"ref_0002\"]\n",
    "test_ref = [\"ref_0003\"]"
   ]
  },
  {
   "cell_type": "code",
   "execution_count": 8,
   "metadata": {
    "ExecuteTime": {
     "end_time": "2020-05-02T14:00:38.387063Z",
     "start_time": "2020-05-02T14:00:38.307045Z"
    }
   },
   "outputs": [],
   "source": [
    "# prepare whole dataframe subsets according to train test split\n",
    "\n",
    "df_finaltest_not_combined = df_not_combined[df_not_combined[\"ref_number\"].isin(final_ref)]\n",
    "df_val_not_combined = df_not_combined[df_not_combined[\"ref_number\"].isin(val_ref)]\n",
    "df_train_not_combined = df_not_combined[df_not_combined[\"ref_number\"].isin(train_ref)]\n",
    "df_test_not_combined = df_not_combined[df_not_combined[\"ref_number\"].isin(test_ref)]"
   ]
  },
  {
   "cell_type": "code",
   "execution_count": 9,
   "metadata": {
    "ExecuteTime": {
     "end_time": "2020-05-02T14:00:38.398065Z",
     "start_time": "2020-05-02T14:00:38.388062Z"
    }
   },
   "outputs": [],
   "source": [
    "# function to get dataframe into x and y array with format (reads, ref_pos, features) to be able use ref_pos\n",
    "# as time step in rnn\n",
    "\n",
    "def prepare_rnn_data (df):\n",
    "     \n",
    "    # dummify base sequence and concatenate into temp dataframe with numeric values from source dataframe\n",
    "    \n",
    "    df_dum = pd.get_dummies(df[[\"base_1\",\"base_2\",\"base_3\",\"base_4\",\"base_5\"]])\n",
    "    df_dum = pd.concat([df, df_dum], axis = 1)\n",
    "    df_dum = df_dum.drop([\"base_1\",\"base_2\",\"base_3\",\"base_4\",\"base_5\"], axis = 1)\n",
    "    \n",
    "    df_dum_num = df_dum[df_dum.select_dtypes(include=[np.number]).columns.values]\n",
    "    \n",
    "    # feature 3d array:\n",
    "    # nested for loop over file name, ref_num and read_num to iterate over every unique possible read and concatenate\n",
    "    # x and y values into a list of lists\n",
    "    \n",
    "    X = []\n",
    "    y= []\n",
    "    \n",
    "    for file_name in df_dum.file_name.unique():\n",
    "        msk1 = df_dum[df_dum.file_name == file_name]\n",
    "        for ref_num in msk1.ref_number.unique():\n",
    "            msk2 = msk1[msk1.ref_number == ref_num]\n",
    "            for read_num in msk2.read_num.unique():\n",
    "                msk3 = (df_dum.file_name == file_name) & (df_dum.ref_number == ref_num) & (df_dum.read_num == read_num)\n",
    "                X.append(df_dum_num[msk3])\n",
    "                y.append(df_dum[msk3].modified_status.astype(int))\n",
    "  \n",
    "    #stack resulting lists into a 3d numpy array\n",
    "    \n",
    "    X = np.stack(X)\n",
    "    y = np.stack(y)\n",
    "    \n",
    "    return X, y"
   ]
  },
  {
   "cell_type": "code",
   "execution_count": 10,
   "metadata": {
    "ExecuteTime": {
     "end_time": "2020-05-02T14:01:34.169299Z",
     "start_time": "2020-05-02T14:00:38.399065Z"
    }
   },
   "outputs": [],
   "source": [
    "# prepare each dataframe combination with function\n",
    "\n",
    "X_3d_train, y_3d_train = prepare_rnn_data(df_train_not_combined)\n",
    "X_3d_test, y_3d_test = prepare_rnn_data(df_test_not_combined)\n",
    "X_3d_finaltest, y_3d_finaltest = prepare_rnn_data(df_finaltest_not_combined)\n",
    "X_3d_val, y_3d_val = prepare_rnn_data(df_val_not_combined)"
   ]
  },
  {
   "cell_type": "markdown",
   "metadata": {
    "colab_type": "text",
    "id": "GvD8u7tRy0Z9"
   },
   "source": [
    "# rnn"
   ]
  },
  {
   "cell_type": "code",
   "execution_count": 11,
   "metadata": {
    "ExecuteTime": {
     "end_time": "2020-05-02T14:01:38.442836Z",
     "start_time": "2020-05-02T14:01:34.170299Z"
    },
    "colab": {},
    "colab_type": "code",
    "id": "50C4qwAuy1AG"
   },
   "outputs": [],
   "source": [
    "import tensorflow as tf\n",
    "\n",
    "from tensorflow.keras import layers\n",
    "from tensorflow.keras import regularizers"
   ]
  },
  {
   "cell_type": "code",
   "execution_count": 12,
   "metadata": {
    "ExecuteTime": {
     "end_time": "2020-05-02T14:01:38.614875Z",
     "start_time": "2020-05-02T14:01:38.443836Z"
    },
    "colab": {},
    "colab_type": "code",
    "id": "I6qDItsOy3AN"
   },
   "outputs": [],
   "source": [
    "import tensorflow_docs as tfdocs\n",
    "import tensorflow_docs.modeling\n",
    "import tensorflow_docs.plots"
   ]
  },
  {
   "cell_type": "code",
   "execution_count": 13,
   "metadata": {
    "ExecuteTime": {
     "end_time": "2020-05-02T14:01:38.619877Z",
     "start_time": "2020-05-02T14:01:38.615875Z"
    },
    "colab": {},
    "colab_type": "code",
    "id": "zXSJmX9TzTFN"
   },
   "outputs": [],
   "source": [
    "from  IPython import display\n",
    "from matplotlib import pyplot as plt\n",
    "\n",
    "import numpy as np\n",
    "\n",
    "import pathlib\n",
    "import shutil\n",
    "import tempfile"
   ]
  },
  {
   "cell_type": "code",
   "execution_count": 14,
   "metadata": {
    "ExecuteTime": {
     "end_time": "2020-05-02T14:01:38.626877Z",
     "start_time": "2020-05-02T14:01:38.621877Z"
    }
   },
   "outputs": [],
   "source": [
    "import tensorflow.keras.backend as kb"
   ]
  },
  {
   "cell_type": "code",
   "execution_count": 15,
   "metadata": {
    "ExecuteTime": {
     "end_time": "2020-05-02T14:01:38.651884Z",
     "start_time": "2020-05-02T14:01:38.628878Z"
    }
   },
   "outputs": [],
   "source": [
    "class rnn_constructor():\n",
    "    \n",
    "    def __init__(self, model, instance_name, custom_loss_state = False):\n",
    "       \n",
    "        self.custom_loss_state = custom_loss_state\n",
    "        self.instance_name = instance_name\n",
    "        self.model = model\n",
    "        self.validation_split = 0.2\n",
    "        self.features = 1\n",
    "        self.n_train = 1\n",
    "        self.buffer_size = 1\n",
    "        self.batch_size = 1\n",
    "        self.steps_per_epoch = self.n_train//self.batch_size\n",
    "        self.metrics = [tf.keras.losses.BinaryCrossentropy(from_logits=True, name='binary_crossentropy')]\n",
    "        self.lr_schedule = tf.keras.optimizers.schedules.InverseTimeDecay(\n",
    "                                                                          0.1,\n",
    "                                                                          decay_steps=self.steps_per_epoch*350,\n",
    "                                                                          decay_rate=1,\n",
    "                                                                          staircase=False)\n",
    "        self.history = {}\n",
    "        self.class_weight=None\n",
    "        self.pos_weight = None\n",
    "        self.loss = None\n",
    "        self.classification_report = None\n",
    "   \n",
    "    def __custom_loss__(self, y_actual,y_pred):\n",
    "        y_actual = tf.cast(y_actual, dtype=\"float32\")\n",
    "        custom_loss=tf.nn.weighted_cross_entropy_with_logits(labels=y_actual, logits=y_pred, \n",
    "                                                             pos_weight = self.pos_weight, name=\"loss\")\n",
    "        return custom_loss\n",
    "    \n",
    "\n",
    "    def __get_class_weights__(self, y):\n",
    "        class_weight_list = compute_class_weight(\"balanced\", np.unique(y), y.flatten()) \n",
    "        self.class_weight = dict(zip(np.unique(y), class_weight_list))\n",
    "    \n",
    "        \n",
    "    def __get_callbacks__(self):\n",
    "        return [\n",
    "            tfdocs.modeling.EpochDots(),\n",
    "            tf.keras.callbacks.EarlyStopping(monitor='loss', patience=50),\n",
    "                ]\n",
    "    \n",
    "    def __get_optimizer__(self):\n",
    "        return tf.keras.optimizers.Adam(self.lr_schedule)\n",
    "    \n",
    "    def __model_compile__(self):\n",
    "        if self.custom_loss_state:\n",
    "            self.loss = self.__custom_loss__\n",
    "        else:\n",
    "            self.loss = tf.keras.losses.BinaryCrossentropy(from_logits=True)\n",
    "            \n",
    "        optimizer = self.__get_optimizer__()\n",
    "        self.model.compile(optimizer=optimizer,\n",
    "                    loss=self.loss,\n",
    "                    metrics=self.metrics,\n",
    "                     )\n",
    "\n",
    "        self.model.summary()\n",
    "    \n",
    "    def __model_fit__(self, X, y, batch_size = 20, epochs = 2500, class_weight = True):\n",
    "        \n",
    "        \n",
    "        self.features = X.shape[2]\n",
    "        self.n_train = len(X) * (1-self.validation_split)\n",
    "        self.buffer_size = len(X)\n",
    "        self.batch_size = batch_size\n",
    "        self.steps_per_epoch = self.n_train//self.batch_size\n",
    "        self.history[self.instance_name] = self.model.fit(\n",
    "                                x=X,\n",
    "                                y=y,\n",
    "                                batch_size=self.batch_size,\n",
    "                                steps_per_epoch = self.steps_per_epoch,\n",
    "                                epochs=epochs,\n",
    "                                #validation_data=(X_3d_val, y_3d_val),\n",
    "                                callbacks=self.__get_callbacks__(),\n",
    "                                verbose=0,\n",
    "                                workers = 8,\n",
    "                                class_weight = self.class_weight,\n",
    "                                use_multiprocessing = True,\n",
    "                                shuffle=True,\n",
    "                                validation_split=self.validation_split\n",
    "                                    )\n",
    "    \n",
    "    def compile_and_fit(self, X, y, batch_size = 20, epochs = 2500, class_weight = True):\n",
    "        \n",
    "        if self.custom_loss_state == True:\n",
    "            self.__get_class_weights__(y)\n",
    "            self.pos_weight = self.class_weight[1]\n",
    "            self.class_weight = None\n",
    "        if class_weight == True:\n",
    "            self.__get_class_weights__(y)\n",
    "        \n",
    "        \n",
    "        self.__model_compile__()\n",
    "        self.__model_fit__( X, y, batch_size = 20, epochs = 2500)\n",
    "        return self.history\n",
    "    \n",
    "    def plot_training(self, metric = 'loss'):\n",
    "        \n",
    "        plotter = tfdocs.plots.HistoryPlotter(metric = metric, smoothing_std=10)\n",
    "        plotter.plot(self.history)\n",
    "        \n",
    "    def plot_evaluation(self, x_train, y_train):\n",
    "        y_pred = self.model.predict_classes(x_train)\n",
    "        skplt.metrics.plot_confusion_matrix(y_train.flatten(),y_pred.flatten(), figsize=(10,10), text_fontsize=20)\n",
    "        self.classification_report = classification_report(y_train.flatten(),y_pred.flatten(), output_dict = True)\n",
    "        print(classification_report(y_train.flatten(),y_pred.flatten()))\n",
    "        return {self.instance_name:self.classification_report[\"1\"][\"f1-score\"]}"
   ]
  },
  {
   "cell_type": "code",
   "execution_count": 16,
   "metadata": {
    "ExecuteTime": {
     "end_time": "2020-05-02T14:01:38.657888Z",
     "start_time": "2020-05-02T14:01:38.653885Z"
    }
   },
   "outputs": [],
   "source": [
    "histories = {}\n",
    "f1_scores = {}"
   ]
  },
  {
   "cell_type": "code",
   "execution_count": 17,
   "metadata": {
    "ExecuteTime": {
     "end_time": "2020-05-02T14:01:39.732577Z",
     "start_time": "2020-05-02T14:01:38.660886Z"
    }
   },
   "outputs": [],
   "source": [
    "# rnn model\n",
    "\n",
    "model_class_weight = tf.keras.Sequential([\n",
    "    tf.keras.layers.LSTM(32, input_shape=(196,26),return_sequences=True),\n",
    "    tf.keras.layers.Dropout(0.5,seed = seed),\n",
    "    tf.keras.layers.Bidirectional(tf.keras.layers.LSTM(32,return_sequences=True)),\n",
    "    tf.keras.layers.Dropout(0.5,seed = seed),\n",
    "    tf.keras.layers.Dense(1)\n",
    "])"
   ]
  },
  {
   "cell_type": "code",
   "execution_count": 18,
   "metadata": {
    "ExecuteTime": {
     "end_time": "2020-05-02T14:01:39.736579Z",
     "start_time": "2020-05-02T14:01:39.733577Z"
    }
   },
   "outputs": [],
   "source": [
    "rnn_class_weight = rnn_constructor(model_class_weight, \"rnn_class_weight\", custom_loss_state = False)"
   ]
  },
  {
   "cell_type": "code",
   "execution_count": 19,
   "metadata": {
    "ExecuteTime": {
     "end_time": "2020-05-02T14:09:51.984196Z",
     "start_time": "2020-05-02T14:01:39.738579Z"
    }
   },
   "outputs": [
    {
     "name": "stdout",
     "output_type": "stream",
     "text": [
      "Model: \"sequential\"\n",
      "_________________________________________________________________\n",
      "Layer (type)                 Output Shape              Param #   \n",
      "=================================================================\n",
      "lstm (LSTM)                  (None, 196, 32)           7552      \n",
      "_________________________________________________________________\n",
      "dropout (Dropout)            (None, 196, 32)           0         \n",
      "_________________________________________________________________\n",
      "bidirectional (Bidirectional (None, 196, 64)           16640     \n",
      "_________________________________________________________________\n",
      "dropout_1 (Dropout)          (None, 196, 64)           0         \n",
      "_________________________________________________________________\n",
      "dense (Dense)                (None, 196, 1)            65        \n",
      "=================================================================\n",
      "Total params: 24,257\n",
      "Trainable params: 24,257\n",
      "Non-trainable params: 0\n",
      "_________________________________________________________________\n",
      "WARNING:tensorflow:sample_weight modes were coerced from\n",
      "  ...\n",
      "    to  \n",
      "  ['...']\n",
      "WARNING:tensorflow:sample_weight modes were coerced from\n",
      "  ...\n",
      "    to  \n",
      "  ['...']\n",
      "\n",
      "Epoch: 0, binary_crossentropy:0.2559,  loss:2.2437,  val_binary_crossentropy:0.0780,  val_loss:0.0403,  \n",
      "....................................................................................................\n",
      "Epoch: 100, binary_crossentropy:0.1811,  loss:1.3383,  val_binary_crossentropy:0.0788,  val_loss:0.0407,  \n",
      ".........................."
     ]
    }
   ],
   "source": [
    "hist = rnn_class_weight.compile_and_fit(X_3d_train, y_3d_train, class_weight = True)\n",
    "histories.update(hist)"
   ]
  },
  {
   "cell_type": "code",
   "execution_count": 197,
   "metadata": {
    "ExecuteTime": {
     "end_time": "2020-04-30T12:01:19.926870Z",
     "start_time": "2020-04-30T12:01:19.922869Z"
    }
   },
   "outputs": [
    {
     "data": {
      "text/plain": [
       "{0: 0.5166959578207382, 1: 15.473684210526315}"
      ]
     },
     "execution_count": 197,
     "metadata": {},
     "output_type": "execute_result"
    }
   ],
   "source": [
    "rnn_class_weight.class_weight"
   ]
  },
  {
   "cell_type": "code",
   "execution_count": 198,
   "metadata": {
    "ExecuteTime": {
     "end_time": "2020-04-30T12:01:20.803090Z",
     "start_time": "2020-04-30T12:01:20.537031Z"
    }
   },
   "outputs": [
    {
     "data": {
      "image/png": "[encoded data removed]",
      "text/plain": [
       "<Figure size 842.4x595.44 with 1 Axes>"
      ]
     },
     "metadata": {},
     "output_type": "display_data"
    }
   ],
   "source": [
    "rnn_class_weight.plot_training(metric = \"binary_crossentropy\")"
   ]
  },
  {
   "cell_type": "code",
   "execution_count": 199,
   "metadata": {
    "ExecuteTime": {
     "end_time": "2020-04-30T12:01:25.747710Z",
     "start_time": "2020-04-30T12:01:24.129032Z"
    }
   },
   "outputs": [
    {
     "name": "stdout",
     "output_type": "stream",
     "text": [
      "              precision    recall  f1-score   support\n",
      "\n",
      "           0       0.96      0.99      0.98     43470\n",
      "           1       0.00      0.00      0.00      1610\n",
      "\n",
      "    accuracy                           0.96     45080\n",
      "   macro avg       0.48      0.50      0.49     45080\n",
      "weighted avg       0.93      0.96      0.94     45080\n",
      "\n"
     ]
    },
    {
     "data": {
      "image/png": "[encoded data removed]",
      "text/plain": [
       "<Figure size 720x720 with 2 Axes>"
      ]
     },
     "metadata": {},
     "output_type": "display_data"
    }
   ],
   "source": [
    "f1 = rnn_class_weight.plot_evaluation(X_3d_test, y_3d_test)\n",
    "f1_scores.update(f1)"
   ]
  },
  {
   "cell_type": "code",
   "execution_count": null,
   "metadata": {},
   "outputs": [],
   "source": []
  }
 ],
 "metadata": {
  "accelerator": "GPU",
  "colab": {
   "name": "3_RNN.ipynb",
   "provenance": [],
   "toc_visible": true
  },
  "kernelspec": {
   "display_name": "Python 3",
   "language": "python",
   "name": "python3"
  },
  "language_info": {
   "codemirror_mode": {
    "name": "ipython",
    "version": 3
   },
   "file_extension": ".py",
   "mimetype": "text/x-python",
   "name": "python",
   "nbconvert_exporter": "python",
   "pygments_lexer": "ipython3",
   "version": "3.7.7"
  },
  "toc": {
   "base_numbering": 1,
   "nav_menu": {},
   "number_sections": true,
   "sideBar": true,
   "skip_h1_title": false,
   "title_cell": "Table of Contents",
   "title_sidebar": "Contents",
   "toc_cell": false,
   "toc_position": {
    "height": "calc(100% - 180px)",
    "left": "10px",
    "top": "150px",
    "width": "384px"
   },
   "toc_section_display": true,
   "toc_window_display": true
  }
 },
 "nbformat": 4,
 "nbformat_minor": 1
}
